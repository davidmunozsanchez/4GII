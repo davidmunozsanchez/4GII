{
  "nbformat": 4,
  "nbformat_minor": 0,
  "metadata": {
    "colab": {
      "provenance": [],
      "toc_visible": true
    },
    "kernelspec": {
      "name": "python3",
      "display_name": "Python 3"
    },
    "language_info": {
      "name": "python"
    },
    "accelerator": "GPU",
    "gpuClass": "standard"
  },
  "cells": [
    {
      "cell_type": "markdown",
      "source": [
        "# Computer Vision - Assignment 2 - Deep Learning for Computer Vision\n",
        "\n",
        "#### 10 points   |   Due date: November 26, 23:59   |   Submission site: https://pradogrado2324.ugr.es/\n",
        "\n",
        "### Student's Full Name: <mark>PLEASE, INSERT YOUR NAME HERE</mark>\n",
        "\n",
        "The goal of this assignment is to learn how to implement and use Convolutional Neural Networks using the fastai library (https://docs.fast.ai/)."
      ],
      "metadata": {
        "id": "t-13yGjHolvW"
      }
    },
    {
      "cell_type": "code",
      "source": [
        "# The first thing we should do is to apply hardware acceleration via GPU. So, we have to go to Editar - Configuracion del Cuaderno - Acelerador por Hardware GPU\n",
        "\n",
        "# Now we SET UP Fastai\n",
        "!pip install -Uqq fastbook\n",
        "!pip install nbdev\n",
        "import fastbook\n",
        "fastbook.setup_book()\n",
        "import fastai\n",
        "import fastcore\n",
        "print(f'fastcore version {fastcore.__version__} installed')\n",
        "print(f'fastai version {fastai.__version__} installed')\n",
        "from nbdev.showdoc import *\n",
        "from fastai.vision.all import *"
      ],
      "metadata": {
        "id": "6alnPBjskD2B"
      },
      "execution_count": null,
      "outputs": []
    },
    {
      "cell_type": "code",
      "source": [
        "# Function to display evaluation metrics\n",
        "\n",
        "@patch\n",
        "@delegates(subplots)\n",
        "def plot_metrics(self: Recorder, nrows=None, ncols=None, figsize=None, **kwargs):\n",
        "    metrics = np.stack(self.values)\n",
        "    names = self.metric_names[1:-1]\n",
        "    n = len(names) - 1\n",
        "    if nrows is None and ncols is None:\n",
        "        nrows = int(math.sqrt(n))\n",
        "        ncols = int(np.ceil(n / nrows))\n",
        "    elif nrows is None: nrows = int(np.ceil(n / ncols))\n",
        "    elif ncols is None: ncols = int(np.ceil(n / nrows))\n",
        "    figsize = figsize or (ncols * 6, nrows * 4)\n",
        "    fig, axs = subplots(nrows, ncols, figsize=figsize, **kwargs)\n",
        "    axs = [ax if i < n else ax.set_axis_off() for i, ax in enumerate(axs.flatten())][:n]\n",
        "    for i, (name, ax) in enumerate(zip(names, [axs[0]] + axs)):\n",
        "        ax.plot(metrics[:, i], color='#1f77b4' if i == 0 else '#ff7f0e', label='valid' if i > 0 else 'train')\n",
        "        ax.set_title(name if i > 1 else 'losses')\n",
        "        ax.legend(loc='best')\n",
        "    plt.show()"
      ],
      "metadata": {
        "id": "UITQoM_ikrOY"
      },
      "execution_count": null,
      "outputs": []
    },
    {
      "cell_type": "markdown",
      "source": [
        "\n",
        "\n",
        "---\n",
        "\n",
        "\n",
        "\n",
        "---\n",
        "\n",
        "\n",
        "\n",
        "---\n",
        "\n"
      ],
      "metadata": {
        "id": "XUkX8l1uIh0R"
      }
    },
    {
      "cell_type": "markdown",
      "source": [
        "# <font color='blue'>**Exercise  3: Model transfer and fine-tuning with ResNet18 for the Caltech-UCSD Birds-200-2011 database (3.5 points)**\n",
        "<font color='blue'>In this exercise we will work with the Caltech-UCSD Birds-200-2011 dataset (https://www.vision.caltech.edu/datasets/cub_200_2011/). This dataset consists of 11,788 images of 200 bird species. It has 200 classes, with 5,994 for training and 5,794 for testing. Again, 10% of the training set will be left for validation. Read the dataset using the provided functions.\n",
        "\n",
        "<font color='blue'>We will use the ResNet18 network model already pre-trained with ImageNet, it can be downloaded from the fastai Model repository. You have to compare the performance of the following models and training strategies:\n",
        "\n",
        "<font color='blue'>1. Use ResNet18 as a feature extractor for the Caltech-UCSD Birds-200-2011 dataset under three different scenarios:\n",
        "\n",
        ">  <font color='blue'>1.1. Remove the final fully-connected (FC) layer of ResNet18, replace it by a FC layer of the dimensionality of the new problem, and train the new weights of this FC layer (while keeping frozen the remaining weights in the network).\n",
        "\n",
        "> <font color='blue'>1.2. Instead of a single FC layer, employ the head introduced by default in fastai (see https://wandb.ai/capecape/imagenette_timm/reports/Checking-Out-the-New-fastai-timm-Integration--VmlldzoxOTMzNzMw and https://docs.fast.ai/vision.learner.html#head-and-model). Train these new weights (while keeping frozen the remaining weights in the network).\n",
        "\n",
        "> <font color='blue'>1.3. Create your own head, combining all types of blocks you want (convolutional, FC layers,...). Train all these new weights (while keeping frozen the remaining weight in the network).\n",
        "\n",
        "<font color='blue'>2. Make a fine-tuning of the entire ResNet18 network. Remember that the number of epochs for fine-tuning must be small.\n",
        "\n",
        "<font color='blue'>3. Train from scratch the entire ResNet18 network. Remember that the number of epochs for fine-tuning must be VERY small.\n",
        "\n",
        "\n",
        "\n"
      ],
      "metadata": {
        "id": "Mo3kg1dGqpO9"
      }
    },
    {
      "cell_type": "markdown",
      "source": [
        "---\n",
        "\n",
        "\n",
        "\n",
        "---\n",
        "\n",
        "\n",
        "\n",
        "---"
      ],
      "metadata": {
        "id": "JW8Sb045R1RI"
      }
    },
    {
      "cell_type": "markdown",
      "source": [
        "First, we need to read the data from the URL"
      ],
      "metadata": {
        "id": "DTGDBpf3Phwm"
      }
    },
    {
      "cell_type": "code",
      "source": [
        "# https://docs.fast.ai/data.external.html\n",
        "path = untar_data(URLs.CUB_200_2011)"
      ],
      "metadata": {
        "id": "FtXVNEFUPhOu"
      },
      "execution_count": null,
      "outputs": []
    },
    {
      "cell_type": "code",
      "source": [
        "print(path)\n",
        "print(path.ls())\n",
        "print((path/'CUB_200_2011/').ls())\n",
        "train_test_split = np.loadtxt('/root/.fastai/data/CUB_200_2011/CUB_200_2011/train_test_split.txt',dtype=int)\n",
        "# !cat /root/.fastai/data/CUB_200_2011/CUB_200_2011/train_test_split.txt\n",
        "\n",
        "print('Number of testing examples: ', (train_test_split[:,1]== 0).sum())\n",
        "print('Number of training examples: ', (train_test_split[:,1]== 1).sum())\n",
        "print(train_test_split)\n"
      ],
      "metadata": {
        "id": "cUOAc7WkSC22"
      },
      "execution_count": null,
      "outputs": []
    },
    {
      "cell_type": "code",
      "source": [
        "with open('/root/.fastai/data/CUB_200_2011/CUB_200_2011/images.txt') as file:\n",
        "    images_list = file.readlines()\n",
        "    images_list = [line.rstrip() for line in images_list]\n",
        "print(images_list)"
      ],
      "metadata": {
        "id": "yxIJ9Mg3UoGk"
      },
      "execution_count": null,
      "outputs": []
    },
    {
      "cell_type": "code",
      "source": [
        "classes = (path/'CUB_200_2011/images/').ls()\n",
        "print('Number of examples per class')\n",
        "for i in range(len(classes)):\n",
        "  print(len(classes[i].ls()), end=\" \")\n"
      ],
      "metadata": {
        "id": "h4PpPhBGaqaj"
      },
      "execution_count": null,
      "outputs": []
    },
    {
      "cell_type": "code",
      "source": [
        "# Now we have in images_list the list with all the images, and in train_test_split which ones belong to training (1) or test (0)\n",
        "# We are going to create two folders: one train and another test, and we are going to put the corresponding images inside\n",
        "print(path)\n",
        "import shutil, os\n",
        "if os.path.isdir('/root/.fastai/data/CUB_200_2011/train'):\n",
        "  shutil.rmtree('/root/.fastai/data/CUB_200_2011/train')\n",
        "if os.path.isdir('/root/.fastai/data/CUB_200_2011/test'):\n",
        "  shutil.rmtree('/root/.fastai/data/CUB_200_2011/test')\n",
        "\n",
        "shutil.copytree('/root/.fastai/data/CUB_200_2011/CUB_200_2011/images','/root/.fastai/data/CUB_200_2011/train')\n",
        "shutil.copytree('/root/.fastai/data/CUB_200_2011/CUB_200_2011/images','/root/.fastai/data/CUB_200_2011/test')\n"
      ],
      "metadata": {
        "id": "Eo4ELpQXXZB-"
      },
      "execution_count": null,
      "outputs": []
    },
    {
      "cell_type": "code",
      "source": [
        "print((path/'train').ls())\n",
        "print(len((path/'train').ls()))"
      ],
      "metadata": {
        "id": "il9ZkDNoe42B"
      },
      "execution_count": null,
      "outputs": []
    },
    {
      "cell_type": "code",
      "source": [
        "import os\n",
        "for i in range(len(train_test_split)):\n",
        "    if train_test_split[i,1]==0: #test image\n",
        "       os.remove(path/'train'/images_list[i].rsplit(' ')[1]) #we remove it from train\n",
        "    if train_test_split[i,1]==1: #train image\n",
        "      os.remove(path/'test'/images_list[i].rsplit(' ')[1]) #we remove it from test"
      ],
      "metadata": {
        "id": "43Bw7eHqgx5g"
      },
      "execution_count": null,
      "outputs": []
    },
    {
      "cell_type": "code",
      "source": [
        "files_train = get_image_files(path/'train')\n",
        "files_test = get_image_files(path/'test')\n",
        "print('Total training images: ', len(files_train))\n",
        "print('Total test images: ', len(files_test))\n"
      ],
      "metadata": {
        "id": "i_Pdl_R-g3Yw"
      },
      "execution_count": null,
      "outputs": []
    },
    {
      "cell_type": "code",
      "source": [
        "# To be completed by the students"
      ],
      "metadata": {
        "id": "SIbaPv7D2ztG"
      },
      "execution_count": null,
      "outputs": []
    },
    {
      "cell_type": "markdown",
      "source": [
        "## <font color='blue'> 3.1.1 Train single FC layer included in the head"
      ],
      "metadata": {
        "id": "dqF-3L5t9_xP"
      }
    },
    {
      "cell_type": "code",
      "source": [
        "# To be completed by the students\n"
      ],
      "metadata": {
        "id": "1PI1RVb5Ps_2"
      },
      "execution_count": null,
      "outputs": []
    },
    {
      "cell_type": "markdown",
      "source": [
        "## <font color='blue'> 3.1.2 Train head included by default in fastai"
      ],
      "metadata": {
        "id": "Q_h-eLzQALGM"
      }
    },
    {
      "cell_type": "code",
      "source": [
        "# To be completed by the students"
      ],
      "metadata": {
        "id": "YVX2mC8IIfJH"
      },
      "execution_count": null,
      "outputs": []
    },
    {
      "cell_type": "markdown",
      "source": [
        "## <font color='blue'> 3.1.3. Train new custom head (including convolutional layers, FC layers, etc.)"
      ],
      "metadata": {
        "id": "4sKvnvIzCtrB"
      }
    },
    {
      "cell_type": "code",
      "source": [
        "# To be completed by the students"
      ],
      "metadata": {
        "id": "EWoGNW8kIkRG"
      },
      "execution_count": null,
      "outputs": []
    },
    {
      "cell_type": "markdown",
      "source": [
        "## <font color='blue'> 3.2. Fine-tuning of all ResNet18 (including the suitable FC layer as output/head)"
      ],
      "metadata": {
        "id": "E-yBuVc5K108"
      }
    },
    {
      "cell_type": "code",
      "source": [
        "# To be completed by the students"
      ],
      "metadata": {
        "id": "nW98mIu0Nbqa"
      },
      "execution_count": null,
      "outputs": []
    },
    {
      "cell_type": "markdown",
      "source": [
        "## <font color='blue'>  3.3. Train from scratch the entire ResNet18 (including the suitable FC layer as output/head)"
      ],
      "metadata": {
        "id": "yedInJNHO7L9"
      }
    },
    {
      "cell_type": "code",
      "source": [
        "# To be completed by the students"
      ],
      "metadata": {
        "id": "0Ei2HwWuaVZ4"
      },
      "execution_count": null,
      "outputs": []
    }
  ]
}