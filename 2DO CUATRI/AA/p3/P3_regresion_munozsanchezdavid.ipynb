{
  "nbformat": 4,
  "nbformat_minor": 0,
  "metadata": {
    "colab": {
      "provenance": [],
      "toc_visible": true
    },
    "kernelspec": {
      "name": "python3",
      "display_name": "Python 3"
    },
    "language_info": {
      "name": "python"
    }
  },
  "cells": [
    {
      "cell_type": "markdown",
      "source": [
        "# Aprendizaje Automático - Práctica 3 - Ajuste de Modelos Lineales\n",
        "\n",
        "# Problema de Regresión\n",
        "\n",
        "#### Valoración máxima: 6 puntos \n",
        "\n",
        "#### Fecha límite de entrega: 4 de Junio de 2023 a las 23:59\n",
        "\n",
        "#### Entrega a través de https://pradogrado2223.ugr.es/\n",
        "\n",
        "### Nombre completo: <mark>DAVID MUÑOZ SÁNCHEZ</mark>\n",
        "\n",
        "\n",
        "\n",
        "---"
      ],
      "metadata": {
        "id": "VvcaSf5uskbO"
      }
    },
    {
      "cell_type": "markdown",
      "source": [
        "**Normas de desarrollo y entrega de trabajos**\n",
        "\n",
        "- Única y exclusivamente se debe entregar este Notebook de Colab (fichero .ipynb). No es necesario entregar ninguna memoria externa, pero el código debe estar bien comentado, y todas las decisiones tomadas y el trabajo desarrollado deben documentarse suficientemente en celdas de texto. \n",
        "\n",
        "- La entrega en PRADO está configurada para permitir sucesivas entregas de la práctica. Desde este punto de vista, se recomienda subir versiones de la práctica a medida que se van realizando los distintos ejercicios propuestos, y no dejarlo todo para el final, dado que es altamente improbable que se extienda la fecha de entrega.  \n",
        "\n",
        "- Reiterar que es obligatorio documentar las valoraciones y decisiones adoptadas en el desarrollo de cada uno de los apartados. Debe incluirse también una valoración razonada sobre la calidad de los\n",
        "resultados obtenidos. Sin esta documentación, se considera que el trabajo NO ha sido presentado. \n",
        "\n",
        "- Se debe respetar la estructura y secciones del Notebook. Esto servirá para agilizar las correcciones, así como para identificar con facilidad qué ejercicio/apartado se está respondiendo. \n",
        "\n",
        "- El codigo NO puede escribir nada a disco.\n",
        "\n",
        "- Se espera que el código siempre lea de un directorio llamado 'drive/MyDrive/Colab Notebooks/datos/', situado dentro del directorio donde se desarrolla y ejecuta la práctica. No se admiten excepciones a esta ruta de acceso a los datos. \n",
        "\n",
        "- Una entrega es apta para ser corregida si se puede ejecutar de principio a fin sin errores.\n",
        "\n",
        "- No es válido usar opciones en las entradas (es decir, utilizar el comando `input`, por ejemplo, para que el usuario escoja el valor de las variables para ejecutar el programa). Para ello, se deben fijar al comienzo los valores\n",
        "por defecto que se consideren óptimos o que se soliciten en el enunciado.\n",
        "\n",
        "- El código debe estar obligatoriamente comentado explicando lo que realizan los distintos apartados y/o bloques.\n",
        "\n",
        "- Se entrega solamente este Notebook, y no los datos empleados.\n",
        "\n",
        "\n",
        "---"
      ],
      "metadata": {
        "id": "rqJiCKQ2s84e"
      }
    },
    {
      "cell_type": "markdown",
      "source": [
        "<font color='blue'>Este trabajo  se centra en el ajuste y selección del mejor predictor lineal para un conjunto de datos dado. Para ello, se recomienda el uso de la librería Scikit-Learn (https://scikit-learn.org/). Esta librería contiene funciones de alto nivel que pueden ser muy útiles para el desarrollo de la práctica. En cualquier caso, para cada función de Scikit-Learn que se use, debe explicar por qué es necesario su uso, así como explicar su funcionamiento y el significado de todos sus parámetros. En relación con este punto, los valores por defecto en la librería no se consideran elecciones justificadas $\\textit{a priori}$ y, al igual que en el resto de la práctica, decisiones sin justificación y resultados sin interpretación no serán considerados válidos. \n",
        "\n"
      ],
      "metadata": {
        "id": "oVNyPZGSwKCF"
      }
    },
    {
      "cell_type": "markdown",
      "source": [
        "#### <font color='blue'>1)  Analizar y describir adecuadamente el problema a resolver. Identificar los elementos $X$, $Y$ and $f$ del problema, y describirlos en detalle. 0.5 puntos. "
      ],
      "metadata": {
        "id": "Y2HSMffMUP10"
      }
    },
    {
      "cell_type": "code",
      "source": [
        "#Para acceder a nuestros ficheros de Google Drive\n",
        "import pandas as pd\n",
        "import numpy as np\n",
        "from google.colab import drive\n",
        "import matplotlib.pyplot as plt\n",
        "drive.mount('/content/drive')\n",
        "# La carpeta datos (que contiene X_train.npy, y_train.npy, X_test.npy y y_test.npy) \n",
        "# debe estar en vuestro Drive, dentro de la carpeta 'Colab Notebooks'\n",
        "# Funcion para leer los datos\n",
        "inicial = pd.read_csv('drive/MyDrive/Colab Notebooks/datos/OnlineNewsPopularity.csv',sep=',', low_memory=False, header=None)\n",
        "\n",
        "#Se quitan las dos primeras columnas que son no predictivas según la información que se proporciona del datasetcha\n",
        "\n",
        "df = inicial.iloc[1:, 2:]\n",
        "\n",
        "#Obtener el nombre de las columnas que deseas convertir\n",
        "columnas_a_convertir = df.columns\n",
        "\n",
        "# Convertir las columnas a tipo float #Pone en la doc que son todas numéricas, así que se puede hacer esto\n",
        "df[columnas_a_convertir] = df[columnas_a_convertir].astype(float)\n",
        "df = df.select_dtypes(include='number')\n",
        "df"
      ],
      "metadata": {
        "id": "XlFg2waKWdHo",
        "colab": {
          "base_uri": "https://localhost:8080/",
          "height": 505
        },
        "outputId": "338f90fa-e94b-4a2e-c80a-f3c973dc7367"
      },
      "execution_count": 246,
      "outputs": [
        {
          "output_type": "stream",
          "name": "stdout",
          "text": [
            "Drive already mounted at /content/drive; to attempt to forcibly remount, call drive.mount(\"/content/drive\", force_remount=True).\n"
          ]
        },
        {
          "output_type": "execute_result",
          "data": {
            "text/plain": [
              "         2       3         4    5         6     7     8     9     10  \\\n",
              "1      12.0   219.0  0.663594  1.0  0.815385   4.0   2.0   1.0   0.0   \n",
              "2       9.0   255.0  0.604743  1.0  0.791946   3.0   1.0   1.0   0.0   \n",
              "3       9.0   211.0  0.575130  1.0  0.663866   3.0   1.0   1.0   0.0   \n",
              "4       9.0   531.0  0.503788  1.0  0.665635   9.0   0.0   1.0   0.0   \n",
              "5      13.0  1072.0  0.415646  1.0  0.540890  19.0  19.0  20.0   0.0   \n",
              "...     ...     ...       ...  ...       ...   ...   ...   ...   ...   \n",
              "39640  11.0   346.0  0.529052  1.0  0.684783   9.0   7.0   1.0   1.0   \n",
              "39641  12.0   328.0  0.696296  1.0  0.885057   9.0   7.0   3.0  48.0   \n",
              "39642  10.0   442.0  0.516355  1.0  0.644128  24.0   1.0  12.0   1.0   \n",
              "39643   6.0   682.0  0.539493  1.0  0.692661  10.0   1.0   1.0   0.0   \n",
              "39644  10.0   157.0  0.701987  1.0  0.846154   1.0   1.0   0.0   2.0   \n",
              "\n",
              "             11  ...        51    52        53     54        55        56  \\\n",
              "1      4.680365  ...  0.100000  0.70 -0.350000 -0.600 -0.200000  0.500000   \n",
              "2      4.913725  ...  0.033333  0.70 -0.118750 -0.125 -0.100000  0.000000   \n",
              "3      4.393365  ...  0.100000  1.00 -0.466667 -0.800 -0.133333  0.000000   \n",
              "4      4.404896  ...  0.136364  0.80 -0.369697 -0.600 -0.166667  0.000000   \n",
              "5      4.682836  ...  0.033333  1.00 -0.220192 -0.500 -0.050000  0.454545   \n",
              "...         ...  ...       ...   ...       ...    ...       ...       ...   \n",
              "39640  4.523121  ...  0.100000  0.75 -0.260000 -0.500 -0.125000  0.100000   \n",
              "39641  4.405488  ...  0.136364  0.70 -0.211111 -0.400 -0.100000  0.300000   \n",
              "39642  5.076923  ...  0.136364  0.50 -0.356439 -0.800 -0.166667  0.454545   \n",
              "39643  4.975073  ...  0.062500  0.50 -0.205246 -0.500 -0.012500  0.000000   \n",
              "39644  4.471338  ...  0.100000  0.50 -0.200000 -0.200 -0.200000  0.333333   \n",
              "\n",
              "             57        58        59      60  \n",
              "1     -0.187500  0.000000  0.187500   593.0  \n",
              "2      0.000000  0.500000  0.000000   711.0  \n",
              "3      0.000000  0.500000  0.000000  1500.0  \n",
              "4      0.000000  0.500000  0.000000  1200.0  \n",
              "5      0.136364  0.045455  0.136364   505.0  \n",
              "...         ...       ...       ...     ...  \n",
              "39640  0.000000  0.400000  0.000000  1800.0  \n",
              "39641  1.000000  0.200000  1.000000  1900.0  \n",
              "39642  0.136364  0.045455  0.136364  1900.0  \n",
              "39643  0.000000  0.500000  0.000000  1100.0  \n",
              "39644  0.250000  0.166667  0.250000  1300.0  \n",
              "\n",
              "[39644 rows x 59 columns]"
            ],
            "text/html": [
              "\n",
              "  <div id=\"df-9e00801f-eccd-40ff-8cd7-7417d039dd4e\">\n",
              "    <div class=\"colab-df-container\">\n",
              "      <div>\n",
              "<style scoped>\n",
              "    .dataframe tbody tr th:only-of-type {\n",
              "        vertical-align: middle;\n",
              "    }\n",
              "\n",
              "    .dataframe tbody tr th {\n",
              "        vertical-align: top;\n",
              "    }\n",
              "\n",
              "    .dataframe thead th {\n",
              "        text-align: right;\n",
              "    }\n",
              "</style>\n",
              "<table border=\"1\" class=\"dataframe\">\n",
              "  <thead>\n",
              "    <tr style=\"text-align: right;\">\n",
              "      <th></th>\n",
              "      <th>2</th>\n",
              "      <th>3</th>\n",
              "      <th>4</th>\n",
              "      <th>5</th>\n",
              "      <th>6</th>\n",
              "      <th>7</th>\n",
              "      <th>8</th>\n",
              "      <th>9</th>\n",
              "      <th>10</th>\n",
              "      <th>11</th>\n",
              "      <th>...</th>\n",
              "      <th>51</th>\n",
              "      <th>52</th>\n",
              "      <th>53</th>\n",
              "      <th>54</th>\n",
              "      <th>55</th>\n",
              "      <th>56</th>\n",
              "      <th>57</th>\n",
              "      <th>58</th>\n",
              "      <th>59</th>\n",
              "      <th>60</th>\n",
              "    </tr>\n",
              "  </thead>\n",
              "  <tbody>\n",
              "    <tr>\n",
              "      <th>1</th>\n",
              "      <td>12.0</td>\n",
              "      <td>219.0</td>\n",
              "      <td>0.663594</td>\n",
              "      <td>1.0</td>\n",
              "      <td>0.815385</td>\n",
              "      <td>4.0</td>\n",
              "      <td>2.0</td>\n",
              "      <td>1.0</td>\n",
              "      <td>0.0</td>\n",
              "      <td>4.680365</td>\n",
              "      <td>...</td>\n",
              "      <td>0.100000</td>\n",
              "      <td>0.70</td>\n",
              "      <td>-0.350000</td>\n",
              "      <td>-0.600</td>\n",
              "      <td>-0.200000</td>\n",
              "      <td>0.500000</td>\n",
              "      <td>-0.187500</td>\n",
              "      <td>0.000000</td>\n",
              "      <td>0.187500</td>\n",
              "      <td>593.0</td>\n",
              "    </tr>\n",
              "    <tr>\n",
              "      <th>2</th>\n",
              "      <td>9.0</td>\n",
              "      <td>255.0</td>\n",
              "      <td>0.604743</td>\n",
              "      <td>1.0</td>\n",
              "      <td>0.791946</td>\n",
              "      <td>3.0</td>\n",
              "      <td>1.0</td>\n",
              "      <td>1.0</td>\n",
              "      <td>0.0</td>\n",
              "      <td>4.913725</td>\n",
              "      <td>...</td>\n",
              "      <td>0.033333</td>\n",
              "      <td>0.70</td>\n",
              "      <td>-0.118750</td>\n",
              "      <td>-0.125</td>\n",
              "      <td>-0.100000</td>\n",
              "      <td>0.000000</td>\n",
              "      <td>0.000000</td>\n",
              "      <td>0.500000</td>\n",
              "      <td>0.000000</td>\n",
              "      <td>711.0</td>\n",
              "    </tr>\n",
              "    <tr>\n",
              "      <th>3</th>\n",
              "      <td>9.0</td>\n",
              "      <td>211.0</td>\n",
              "      <td>0.575130</td>\n",
              "      <td>1.0</td>\n",
              "      <td>0.663866</td>\n",
              "      <td>3.0</td>\n",
              "      <td>1.0</td>\n",
              "      <td>1.0</td>\n",
              "      <td>0.0</td>\n",
              "      <td>4.393365</td>\n",
              "      <td>...</td>\n",
              "      <td>0.100000</td>\n",
              "      <td>1.00</td>\n",
              "      <td>-0.466667</td>\n",
              "      <td>-0.800</td>\n",
              "      <td>-0.133333</td>\n",
              "      <td>0.000000</td>\n",
              "      <td>0.000000</td>\n",
              "      <td>0.500000</td>\n",
              "      <td>0.000000</td>\n",
              "      <td>1500.0</td>\n",
              "    </tr>\n",
              "    <tr>\n",
              "      <th>4</th>\n",
              "      <td>9.0</td>\n",
              "      <td>531.0</td>\n",
              "      <td>0.503788</td>\n",
              "      <td>1.0</td>\n",
              "      <td>0.665635</td>\n",
              "      <td>9.0</td>\n",
              "      <td>0.0</td>\n",
              "      <td>1.0</td>\n",
              "      <td>0.0</td>\n",
              "      <td>4.404896</td>\n",
              "      <td>...</td>\n",
              "      <td>0.136364</td>\n",
              "      <td>0.80</td>\n",
              "      <td>-0.369697</td>\n",
              "      <td>-0.600</td>\n",
              "      <td>-0.166667</td>\n",
              "      <td>0.000000</td>\n",
              "      <td>0.000000</td>\n",
              "      <td>0.500000</td>\n",
              "      <td>0.000000</td>\n",
              "      <td>1200.0</td>\n",
              "    </tr>\n",
              "    <tr>\n",
              "      <th>5</th>\n",
              "      <td>13.0</td>\n",
              "      <td>1072.0</td>\n",
              "      <td>0.415646</td>\n",
              "      <td>1.0</td>\n",
              "      <td>0.540890</td>\n",
              "      <td>19.0</td>\n",
              "      <td>19.0</td>\n",
              "      <td>20.0</td>\n",
              "      <td>0.0</td>\n",
              "      <td>4.682836</td>\n",
              "      <td>...</td>\n",
              "      <td>0.033333</td>\n",
              "      <td>1.00</td>\n",
              "      <td>-0.220192</td>\n",
              "      <td>-0.500</td>\n",
              "      <td>-0.050000</td>\n",
              "      <td>0.454545</td>\n",
              "      <td>0.136364</td>\n",
              "      <td>0.045455</td>\n",
              "      <td>0.136364</td>\n",
              "      <td>505.0</td>\n",
              "    </tr>\n",
              "    <tr>\n",
              "      <th>...</th>\n",
              "      <td>...</td>\n",
              "      <td>...</td>\n",
              "      <td>...</td>\n",
              "      <td>...</td>\n",
              "      <td>...</td>\n",
              "      <td>...</td>\n",
              "      <td>...</td>\n",
              "      <td>...</td>\n",
              "      <td>...</td>\n",
              "      <td>...</td>\n",
              "      <td>...</td>\n",
              "      <td>...</td>\n",
              "      <td>...</td>\n",
              "      <td>...</td>\n",
              "      <td>...</td>\n",
              "      <td>...</td>\n",
              "      <td>...</td>\n",
              "      <td>...</td>\n",
              "      <td>...</td>\n",
              "      <td>...</td>\n",
              "      <td>...</td>\n",
              "    </tr>\n",
              "    <tr>\n",
              "      <th>39640</th>\n",
              "      <td>11.0</td>\n",
              "      <td>346.0</td>\n",
              "      <td>0.529052</td>\n",
              "      <td>1.0</td>\n",
              "      <td>0.684783</td>\n",
              "      <td>9.0</td>\n",
              "      <td>7.0</td>\n",
              "      <td>1.0</td>\n",
              "      <td>1.0</td>\n",
              "      <td>4.523121</td>\n",
              "      <td>...</td>\n",
              "      <td>0.100000</td>\n",
              "      <td>0.75</td>\n",
              "      <td>-0.260000</td>\n",
              "      <td>-0.500</td>\n",
              "      <td>-0.125000</td>\n",
              "      <td>0.100000</td>\n",
              "      <td>0.000000</td>\n",
              "      <td>0.400000</td>\n",
              "      <td>0.000000</td>\n",
              "      <td>1800.0</td>\n",
              "    </tr>\n",
              "    <tr>\n",
              "      <th>39641</th>\n",
              "      <td>12.0</td>\n",
              "      <td>328.0</td>\n",
              "      <td>0.696296</td>\n",
              "      <td>1.0</td>\n",
              "      <td>0.885057</td>\n",
              "      <td>9.0</td>\n",
              "      <td>7.0</td>\n",
              "      <td>3.0</td>\n",
              "      <td>48.0</td>\n",
              "      <td>4.405488</td>\n",
              "      <td>...</td>\n",
              "      <td>0.136364</td>\n",
              "      <td>0.70</td>\n",
              "      <td>-0.211111</td>\n",
              "      <td>-0.400</td>\n",
              "      <td>-0.100000</td>\n",
              "      <td>0.300000</td>\n",
              "      <td>1.000000</td>\n",
              "      <td>0.200000</td>\n",
              "      <td>1.000000</td>\n",
              "      <td>1900.0</td>\n",
              "    </tr>\n",
              "    <tr>\n",
              "      <th>39642</th>\n",
              "      <td>10.0</td>\n",
              "      <td>442.0</td>\n",
              "      <td>0.516355</td>\n",
              "      <td>1.0</td>\n",
              "      <td>0.644128</td>\n",
              "      <td>24.0</td>\n",
              "      <td>1.0</td>\n",
              "      <td>12.0</td>\n",
              "      <td>1.0</td>\n",
              "      <td>5.076923</td>\n",
              "      <td>...</td>\n",
              "      <td>0.136364</td>\n",
              "      <td>0.50</td>\n",
              "      <td>-0.356439</td>\n",
              "      <td>-0.800</td>\n",
              "      <td>-0.166667</td>\n",
              "      <td>0.454545</td>\n",
              "      <td>0.136364</td>\n",
              "      <td>0.045455</td>\n",
              "      <td>0.136364</td>\n",
              "      <td>1900.0</td>\n",
              "    </tr>\n",
              "    <tr>\n",
              "      <th>39643</th>\n",
              "      <td>6.0</td>\n",
              "      <td>682.0</td>\n",
              "      <td>0.539493</td>\n",
              "      <td>1.0</td>\n",
              "      <td>0.692661</td>\n",
              "      <td>10.0</td>\n",
              "      <td>1.0</td>\n",
              "      <td>1.0</td>\n",
              "      <td>0.0</td>\n",
              "      <td>4.975073</td>\n",
              "      <td>...</td>\n",
              "      <td>0.062500</td>\n",
              "      <td>0.50</td>\n",
              "      <td>-0.205246</td>\n",
              "      <td>-0.500</td>\n",
              "      <td>-0.012500</td>\n",
              "      <td>0.000000</td>\n",
              "      <td>0.000000</td>\n",
              "      <td>0.500000</td>\n",
              "      <td>0.000000</td>\n",
              "      <td>1100.0</td>\n",
              "    </tr>\n",
              "    <tr>\n",
              "      <th>39644</th>\n",
              "      <td>10.0</td>\n",
              "      <td>157.0</td>\n",
              "      <td>0.701987</td>\n",
              "      <td>1.0</td>\n",
              "      <td>0.846154</td>\n",
              "      <td>1.0</td>\n",
              "      <td>1.0</td>\n",
              "      <td>0.0</td>\n",
              "      <td>2.0</td>\n",
              "      <td>4.471338</td>\n",
              "      <td>...</td>\n",
              "      <td>0.100000</td>\n",
              "      <td>0.50</td>\n",
              "      <td>-0.200000</td>\n",
              "      <td>-0.200</td>\n",
              "      <td>-0.200000</td>\n",
              "      <td>0.333333</td>\n",
              "      <td>0.250000</td>\n",
              "      <td>0.166667</td>\n",
              "      <td>0.250000</td>\n",
              "      <td>1300.0</td>\n",
              "    </tr>\n",
              "  </tbody>\n",
              "</table>\n",
              "<p>39644 rows × 59 columns</p>\n",
              "</div>\n",
              "      <button class=\"colab-df-convert\" onclick=\"convertToInteractive('df-9e00801f-eccd-40ff-8cd7-7417d039dd4e')\"\n",
              "              title=\"Convert this dataframe to an interactive table.\"\n",
              "              style=\"display:none;\">\n",
              "        \n",
              "  <svg xmlns=\"http://www.w3.org/2000/svg\" height=\"24px\"viewBox=\"0 0 24 24\"\n",
              "       width=\"24px\">\n",
              "    <path d=\"M0 0h24v24H0V0z\" fill=\"none\"/>\n",
              "    <path d=\"M18.56 5.44l.94 2.06.94-2.06 2.06-.94-2.06-.94-.94-2.06-.94 2.06-2.06.94zm-11 1L8.5 8.5l.94-2.06 2.06-.94-2.06-.94L8.5 2.5l-.94 2.06-2.06.94zm10 10l.94 2.06.94-2.06 2.06-.94-2.06-.94-.94-2.06-.94 2.06-2.06.94z\"/><path d=\"M17.41 7.96l-1.37-1.37c-.4-.4-.92-.59-1.43-.59-.52 0-1.04.2-1.43.59L10.3 9.45l-7.72 7.72c-.78.78-.78 2.05 0 2.83L4 21.41c.39.39.9.59 1.41.59.51 0 1.02-.2 1.41-.59l7.78-7.78 2.81-2.81c.8-.78.8-2.07 0-2.86zM5.41 20L4 18.59l7.72-7.72 1.47 1.35L5.41 20z\"/>\n",
              "  </svg>\n",
              "      </button>\n",
              "      \n",
              "  <style>\n",
              "    .colab-df-container {\n",
              "      display:flex;\n",
              "      flex-wrap:wrap;\n",
              "      gap: 12px;\n",
              "    }\n",
              "\n",
              "    .colab-df-convert {\n",
              "      background-color: #E8F0FE;\n",
              "      border: none;\n",
              "      border-radius: 50%;\n",
              "      cursor: pointer;\n",
              "      display: none;\n",
              "      fill: #1967D2;\n",
              "      height: 32px;\n",
              "      padding: 0 0 0 0;\n",
              "      width: 32px;\n",
              "    }\n",
              "\n",
              "    .colab-df-convert:hover {\n",
              "      background-color: #E2EBFA;\n",
              "      box-shadow: 0px 1px 2px rgba(60, 64, 67, 0.3), 0px 1px 3px 1px rgba(60, 64, 67, 0.15);\n",
              "      fill: #174EA6;\n",
              "    }\n",
              "\n",
              "    [theme=dark] .colab-df-convert {\n",
              "      background-color: #3B4455;\n",
              "      fill: #D2E3FC;\n",
              "    }\n",
              "\n",
              "    [theme=dark] .colab-df-convert:hover {\n",
              "      background-color: #434B5C;\n",
              "      box-shadow: 0px 1px 3px 1px rgba(0, 0, 0, 0.15);\n",
              "      filter: drop-shadow(0px 1px 2px rgba(0, 0, 0, 0.3));\n",
              "      fill: #FFFFFF;\n",
              "    }\n",
              "  </style>\n",
              "\n",
              "      <script>\n",
              "        const buttonEl =\n",
              "          document.querySelector('#df-9e00801f-eccd-40ff-8cd7-7417d039dd4e button.colab-df-convert');\n",
              "        buttonEl.style.display =\n",
              "          google.colab.kernel.accessAllowed ? 'block' : 'none';\n",
              "\n",
              "        async function convertToInteractive(key) {\n",
              "          const element = document.querySelector('#df-9e00801f-eccd-40ff-8cd7-7417d039dd4e');\n",
              "          const dataTable =\n",
              "            await google.colab.kernel.invokeFunction('convertToInteractive',\n",
              "                                                     [key], {});\n",
              "          if (!dataTable) return;\n",
              "\n",
              "          const docLinkHtml = 'Like what you see? Visit the ' +\n",
              "            '<a target=\"_blank\" href=https://colab.research.google.com/notebooks/data_table.ipynb>data table notebook</a>'\n",
              "            + ' to learn more about interactive tables.';\n",
              "          element.innerHTML = '';\n",
              "          dataTable['output_type'] = 'display_data';\n",
              "          await google.colab.output.renderOutput(dataTable, element);\n",
              "          const docLink = document.createElement('div');\n",
              "          docLink.innerHTML = docLinkHtml;\n",
              "          element.appendChild(docLink);\n",
              "        }\n",
              "      </script>\n",
              "    </div>\n",
              "  </div>\n",
              "  "
            ]
          },
          "metadata": {},
          "execution_count": 246
        }
      ]
    },
    {
      "cell_type": "code",
      "source": [
        "print(df.columns,\"\\n\\n\", 'Número de características:', len(df.columns))"
      ],
      "metadata": {
        "colab": {
          "base_uri": "https://localhost:8080/"
        },
        "id": "45EcA9bPtCEz",
        "outputId": "f60a3d3d-bdc5-4550-d834-51072b465712"
      },
      "execution_count": 247,
      "outputs": [
        {
          "output_type": "stream",
          "name": "stdout",
          "text": [
            "Int64Index([ 2,  3,  4,  5,  6,  7,  8,  9, 10, 11, 12, 13, 14, 15, 16, 17, 18,\n",
            "            19, 20, 21, 22, 23, 24, 25, 26, 27, 28, 29, 30, 31, 32, 33, 34, 35,\n",
            "            36, 37, 38, 39, 40, 41, 42, 43, 44, 45, 46, 47, 48, 49, 50, 51, 52,\n",
            "            53, 54, 55, 56, 57, 58, 59, 60],\n",
            "           dtype='int64') \n",
            "\n",
            " Número de características: 59\n"
          ]
        }
      ]
    },
    {
      "cell_type": "markdown",
      "source": [
        "Echando un vistazo a la información proporcionada por Pandas acerca del Dataset leído desde Google Drive y tras quitar las dos columnas del dataset que no son predictivas (la primera y la segunda), podemos identificar los elementos del problema.\n",
        "\n",
        "Nos encontramos ante un problema de regresión (la salida es continua), donde:\n",
        "\n",
        "\n",
        "*   y es la popularidad de cierta noticia online.\n",
        "*   X sería los parámetros medidos acerca de cierta noticia.\n",
        "*   f sería la función que asignaría a cada vector de características X un valor de popularidad en y\n",
        "\n",
        "Hablando más claro, nuestro **X** será una matriz donde cada fila tiene 58 columnas y nuestro **y** será un vector con tantas posiciones como filas tenga **X**, donde se representa la popularidad de cada noticia.\n",
        "\n"
      ],
      "metadata": {
        "id": "p09rZm6h380L"
      }
    },
    {
      "cell_type": "markdown",
      "source": [
        "Antes de comenzar a analizar los datos, se divide el dataset en train y test, con objetivo de evitar prácticas como el data snooping.\n",
        "\n",
        "El conjunto de test no se tocará en toda la práctica hasta que sea necesario estimar Eout.\n",
        "\n",
        "La división se ha hecho con la función que ya tiene preparada sklearn y que devuelve directamente los conjunto de train y test para la X y para la y.\n",
        "\n",
        "Se ha decidido que test cuente con el 25% de elementos presentes en el dataset, dado que este, a pesar de ser cuantioso, no es extremadamente grande y se suele optar por un 20% o un 30% para test, así se asegura un valor confiable de Eout.\n",
        "\n",
        "La función usada de sklearn dvuelve la división en X_train, X_test y sus correspondientes conjuntos de etiquetas. Como parámetro, se pasan las características, las etiquetas, el tamaño que deseamos para test (como porcentaje del total de elementos en X), y un random state, que es algo así como una semilla random para garantizar la reproducibilidad de la práctica."
      ],
      "metadata": {
        "id": "OUA3Tpy64FHw"
      }
    },
    {
      "cell_type": "code",
      "source": [
        "from sklearn.model_selection import train_test_split\n",
        "pd_data = df.drop(df.columns[-1], axis=1)\n",
        "pd_labels = df[[60]]\n",
        "\n",
        "X_train, X_test, y_train, y_test = train_test_split(pd_data, pd_labels, test_size=0.25, random_state=33)\n",
        "\n",
        "\n",
        "# X_train = X_train.to_numpy()\n",
        "# y_train = y_train.to_numpy()\n",
        "# X_test = X_test.to_numpy()\n",
        "# y_test = y_test.to_numpy()\n",
        "pre_outliers = X_train.shape[0]\n",
        "print('Train: ', X_train.shape, y_train.shape)\n",
        "print('Test: ', X_test.shape, y_test.shape)"
      ],
      "metadata": {
        "colab": {
          "base_uri": "https://localhost:8080/"
        },
        "id": "3yxiQQ2ntdy3",
        "outputId": "027f4401-ecf0-402b-e9c8-31e65bd28e62"
      },
      "execution_count": 248,
      "outputs": [
        {
          "output_type": "stream",
          "name": "stdout",
          "text": [
            "Train:  (29733, 58) (29733, 1)\n",
            "Test:  (9911, 58) (9911, 1)\n"
          ]
        }
      ]
    },
    {
      "cell_type": "markdown",
      "source": [
        "Una vez ya está hecha la partición, se puede iniciar el análisis de nuestro conjunto de entrenamiento (test no se va a mirar para nada, solo al final de la práctica para estimar el desempeño Eout del modelo)."
      ],
      "metadata": {
        "id": "_4fdBF9lb8s4"
      }
    },
    {
      "cell_type": "markdown",
      "source": [
        "\n",
        "\n",
        "Empezando con las etiquetas, nos interesa saber si hay datos faltantes, valores atípicos (outliers) o desbalanceo de datos.\n",
        "\n",
        "Para los datos faltantes, se puede usar\n"
      ],
      "metadata": {
        "id": "m5Q9ip7KviEV"
      }
    },
    {
      "cell_type": "code",
      "source": [
        "print(y_train.to_numpy().dtype)"
      ],
      "metadata": {
        "colab": {
          "base_uri": "https://localhost:8080/"
        },
        "id": "TuTsuVOWvjtr",
        "outputId": "0a18a276-3aa5-4c79-d596-fe7c7b22b214"
      },
      "execution_count": 249,
      "outputs": [
        {
          "output_type": "stream",
          "name": "stdout",
          "text": [
            "float64\n"
          ]
        }
      ]
    },
    {
      "cell_type": "code",
      "source": [
        "print(X_train.to_numpy().dtype)"
      ],
      "metadata": {
        "colab": {
          "base_uri": "https://localhost:8080/"
        },
        "id": "S6q38vhaulW8",
        "outputId": "0241360a-1e1d-4786-fea8-38cbaf258940"
      },
      "execution_count": 250,
      "outputs": [
        {
          "output_type": "stream",
          "name": "stdout",
          "text": [
            "float64\n"
          ]
        }
      ]
    },
    {
      "cell_type": "markdown",
      "source": [
        "Numpy permite averiguar el tipo de dato que almacena un array concreto. Todos los valores de los que disponemos son float. Esto puede parecer lógico, puesto que se a forzado a que Pandas lea las columnas del dataset usando este tipo de dato.\n",
        "\n",
        "Pero se puede asegurar que no se ha tratado ninguna columna que no es numérica como numérica, porque:\n",
        "\n",
        "\n",
        "*   Al forzar el tipo en la lectura de Pandas no ha aparecido ningún error.\n",
        "*   En la web del dataset se nos decía que todas las columnas eran numéricas.\n",
        "\n",
        "Además, ninguna columna tiene valores Nan, o algo parecido que indique desconocimiento.\n"
      ],
      "metadata": {
        "id": "Od8Aci1h473H"
      }
    },
    {
      "cell_type": "code",
      "source": [
        "\n",
        "shares = np.unique(y_train)\n",
        "repe_shares = np.zeros(shares.shape)\n",
        "\n",
        "for i in range(shares.shape[0]):\n",
        "  repe_shares[i] = np.count_nonzero(y_train.to_numpy() == shares[i])\n",
        "porcentaje_shares = repe_shares * 100 / y_train.shape[0]\n",
        "print('Rango de shares: [', shares.min(), ', ', shares.max(), ']. En total: ', shares.max()-shares.min())\n",
        "print('menor número de repeticiones: ', repe_shares.min(), ' mayor número de repeticiones: ', repe_shares.max())\n",
        "print('menor porcentaje de repeticiones: ', porcentaje_shares.min(), ' mayor porcentaje de repeticiones: ', porcentaje_shares.max())\n",
        "print()\n",
        "\n",
        "\n",
        "fig, ax = plt.subplots()\n",
        "\n",
        "ax.plot(shares, porcentaje_shares, 'o')\n",
        "ax.set_title('Porcentaje de ejemplos que hay de cada valor de share')\n",
        "ax.set_xlabel('Share')\n",
        "ax.set_ylabel('Porcentaje');\n",
        "\n",
        "fig.set_figwidth(20)  \n",
        "fig.show()"
      ],
      "metadata": {
        "id": "31nntkOl5rz3",
        "colab": {
          "base_uri": "https://localhost:8080/",
          "height": 400
        },
        "outputId": "073c13a2-1fa8-4c8b-a733-90d7242e9bd0"
      },
      "execution_count": 251,
      "outputs": [
        {
          "output_type": "stream",
          "name": "stdout",
          "text": [
            "Rango de shares: [ 1.0 ,  843300.0 ]. En total:  843299.0\n",
            "menor número de repeticiones:  1.0  mayor número de repeticiones:  1738.0\n",
            "menor porcentaje de repeticiones:  0.003363266404331887  mayor porcentaje de repeticiones:  5.8453570107288195\n",
            "\n"
          ]
        },
        {
          "output_type": "display_data",
          "data": {
            "text/plain": [
              "<Figure size 2000x480 with 1 Axes>"
            ],
            "image/png": "[encoded data removed]"
          },
          "metadata": {}
        }
      ]
    },
    {
      "cell_type": "markdown",
      "source": [
        "Esta gráfica comienza a ser más interesante, como se puede observar, hay un claro desbalanceo, puesto que la mayoría de artículos tiene un share cercano a 0 mientras que si el share se hace más grande, ya comienza a haber menos artículos.\n",
        "\n",
        "No obstante, antes de pensar en elminar las que están menos representadas, no se puede olvidar que estamos midiendo con share la popularidad de un artículo, y que como es natural, hay artículos \"virales\", que son de interés general y a la orden de el día, y artículos con muy poco impacto o un impacto normal, que son la mayoría de artículos.\n",
        "\n",
        "Se va a optar por dejar todas las etiquetas y a continuación se explicará una técnica que si puede ser de mucho interés aplicarla para el problema que nos compete."
      ],
      "metadata": {
        "id": "apECsh5keMmv"
      }
    },
    {
      "cell_type": "code",
      "source": [
        "import matplotlib.pyplot as plt\n",
        "from sklearn.model_selection import train_test_split\n",
        "\n",
        "f, (ax0, ax1) = plt.subplots(1, 2)\n",
        "\n",
        "ax0.hist(y_train, bins=100, density=True)\n",
        "ax0.set_xlim([0, 100000])\n",
        "ax0.set_ylabel(\"Probability\")\n",
        "ax0.set_xlabel(\"Target\")\n",
        "ax0.set_title(\"Target distribution\")\n",
        "\n",
        "ax1.hist(np.log2(y_train), bins=100, density=True)\n",
        "ax1.set_ylabel(\"Probability\")\n",
        "ax1.set_xlabel(\"Target\")\n",
        "ax1.set_title(\"Transformed target distribution with log2\")\n",
        "\n",
        "plt.tight_layout()\n",
        "\n"
      ],
      "metadata": {
        "colab": {
          "base_uri": "https://localhost:8080/",
          "height": 487
        },
        "id": "HPyH03_i4A2o",
        "outputId": "0b282491-81d6-4855-b411-92dda4234b4d"
      },
      "execution_count": 252,
      "outputs": [
        {
          "output_type": "display_data",
          "data": {
            "text/plain": [
              "<Figure size 640x480 with 2 Axes>"
            ],
            "image/png": "[encoded data removed]"
          },
          "metadata": {}
        }
      ]
    },
    {
      "cell_type": "markdown",
      "source": [
        "Las etiquetas, como se puede observar en la gráfica de la izquierda, siguen una distribución logarítmica normal. Una forma de eliminar esta asimetría de los datos y hacerlo una distribución normal es aplicando logaritmo (en este caso, se ha aplicado logaritmo en base 2, pero se podría haber aplicado cualquier otro). Como se puede ver en la derecha, al aplicar logaritmo, la distribución de las etiquetas se volvería más normal, siguiendo una curva de campana. Considero que con esta transformación, no estaría adaptando mi problema a los datos de train, dado que lo más lógico es que para cualquier conjunto aleatorio de shares, haya muchos más artículos con valores bajos que altos (los más virales). Además, echando un vistazo rápido por internet, hay bastantes casos donde se aplica esto.\n",
        "\n",
        "No obstante, tampoco se aplicará esta técnica, ya que en cross validation, cuando se aplicaba, se daban bastantes errores de desbordamiento. Por razones de tiempo, me veo obligado a seguir con las etiquetas como están, aunque se podría haber probado esta técnica con otros tipos de normalizaciones en los datos, por ejemplo."
      ],
      "metadata": {
        "id": "M040MH7oWgvm"
      }
    },
    {
      "cell_type": "code",
      "source": [
        "shares = np.unique(np.log2(y_train))\n",
        "repe_shares = np.zeros(shares.shape)\n",
        "\n",
        "for i in range(shares.shape[0]):\n",
        "  repe_shares[i] = np.count_nonzero(y_train.to_numpy() == shares[i])\n",
        "porcentaje_shares = repe_shares * 100 / y_train.shape[0]\n",
        "print('Rango de shares: [', shares.min(), ', ', shares.max(), ']. En total: ', shares.max()-shares.min())\n",
        "print('menor número de repeticiones: ', repe_shares.min(), ' mayor número de repeticiones: ', repe_shares.max())\n",
        "print('menor porcentaje de repeticiones: ', porcentaje_shares.min(), ' mayor porcentaje de repeticiones: ', porcentaje_shares.max())\n",
        "print()\n",
        "\n",
        "\n",
        "fig, ax = plt.subplots()\n",
        "\n",
        "ax.plot(shares, porcentaje_shares, 'o')\n",
        "ax.set_title('Porcentaje de ejemplos que hay de cada valor de share')\n",
        "ax.set_xlabel('log2(Share)')\n",
        "ax.set_ylabel('Porcentaje');\n",
        "\n",
        "fig.set_figwidth(20)  \n",
        "fig.show()"
      ],
      "metadata": {
        "colab": {
          "base_uri": "https://localhost:8080/",
          "height": 393
        },
        "id": "sS9vGcMkZlp_",
        "outputId": "78ad2321-ccb9-4be3-bc72-a7b0eef0d549"
      },
      "execution_count": 253,
      "outputs": [
        {
          "output_type": "stream",
          "name": "stdout",
          "text": [
            "Rango de shares: [ 0.0 ,  19.685686428876224 ]. En total:  19.685686428876224\n",
            "menor número de repeticiones:  0.0  mayor número de repeticiones:  1.0\n",
            "menor porcentaje de repeticiones:  0.0  mayor porcentaje de repeticiones:  0.003363266404331887\n",
            "\n"
          ]
        },
        {
          "output_type": "display_data",
          "data": {
            "text/plain": [
              "<Figure size 2000x480 with 1 Axes>"
            ],
            "image/png": "[encoded data removed]"
          },
          "metadata": {}
        }
      ]
    },
    {
      "cell_type": "markdown",
      "source": [
        "Tras la transformación de las etiquetas, se puede observar claramente como hay menos desbalanceo y todo parece indicar que los datos son mejores ahora que antes para abordar un problema de regresión. No obstante, recalco lo que ya he dicho antes, se probó, y se presentaban numerosos errores de desbordamiento al deshacer el cambio con las etiquetas predichas en cross_validation."
      ],
      "metadata": {
        "id": "mqKrS8BKaBVd"
      }
    },
    {
      "cell_type": "markdown",
      "source": [
        "A continuación, se graficará la media y la desviación de cada uno de los atributos."
      ],
      "metadata": {
        "id": "UUigaRIjQkKj"
      }
    },
    {
      "cell_type": "code",
      "source": [
        "means = np.empty(X_train.shape[1])\n",
        "mins = np.empty(X_train.shape[1])\n",
        "maxs = np.empty(X_train.shape[1])\n",
        "desvs = np.empty(X_train.shape[1])\n",
        "for i in range(X_train.shape[1]):\n",
        "  means[i] = X_train.iloc[:,i].mean()\n",
        "  mins[i] = X_train.iloc[:,i].min()\n",
        "  maxs[i] = X_train.iloc[:,i].max()\n",
        "  desvs[i] = X_train.iloc[:,i].std()\n",
        "x = np.arange(1,X_train.shape[1]+1)"
      ],
      "metadata": {
        "id": "9FxHo6jXsn_y"
      },
      "execution_count": 254,
      "outputs": []
    },
    {
      "cell_type": "code",
      "source": [
        "fig, ax = plt.subplots()\n",
        "\n",
        "ax.bar(x,means)\n",
        "ax.set_title('Medias de los atributos')\n",
        "ax.set_xlabel('Valor')\n",
        "ax.set_ylabel('Atributo');\n",
        "\n",
        "fig.show()"
      ],
      "metadata": {
        "colab": {
          "base_uri": "https://localhost:8080/",
          "height": 472
        },
        "id": "moHq6ERptOdF",
        "outputId": "689501c1-70ff-404d-88b0-40081b33342c"
      },
      "execution_count": 255,
      "outputs": [
        {
          "output_type": "display_data",
          "data": {
            "text/plain": [
              "<Figure size 640x480 with 1 Axes>"
            ],
            "image/png": "[encoded data removed]"
          },
          "metadata": {}
        }
      ]
    },
    {
      "cell_type": "code",
      "source": [
        "np.abs(means).min()"
      ],
      "metadata": {
        "colab": {
          "base_uri": "https://localhost:8080/"
        },
        "id": "Sykn8YG4tbC6",
        "outputId": "8e962bff-eaba-4ebc-f782-6c0763870851"
      },
      "execution_count": 256,
      "outputs": [
        {
          "output_type": "execute_result",
          "data": {
            "text/plain": [
              "0.01656106330014327"
            ]
          },
          "metadata": {},
          "execution_count": 256
        }
      ]
    },
    {
      "cell_type": "code",
      "source": [
        "fig, ax = plt.subplots()\n",
        "\n",
        "ax.bar(x,desvs)\n",
        "ax.set_title('Desviaciones típicas de los atributos')\n",
        "ax.set_xlabel('Valor')\n",
        "ax.set_ylabel('Atributo');\n",
        "\n",
        "fig.show()"
      ],
      "metadata": {
        "colab": {
          "base_uri": "https://localhost:8080/",
          "height": 472
        },
        "id": "EmbixInYtbIL",
        "outputId": "2504c982-4c56-4e7a-f061-9188c5b77049"
      },
      "execution_count": 257,
      "outputs": [
        {
          "output_type": "display_data",
          "data": {
            "text/plain": [
              "<Figure size 640x480 with 1 Axes>"
            ],
            "image/png": "[encoded data removed]"
          },
          "metadata": {}
        }
      ]
    },
    {
      "cell_type": "code",
      "source": [
        "desvs.min()"
      ],
      "metadata": {
        "colab": {
          "base_uri": "https://localhost:8080/"
        },
        "id": "vbdI4l5-tnAF",
        "outputId": "1d6ebcc4-310c-49d2-e096-5a22650513cb"
      },
      "execution_count": 258,
      "outputs": [
        {
          "output_type": "execute_result",
          "data": {
            "text/plain": [
              "0.010678507387580196"
            ]
          },
          "metadata": {},
          "execution_count": 258
        }
      ]
    },
    {
      "cell_type": "markdown",
      "source": [
        "Se puede observar que en algunos de los atributos, las medias y las desviaciones típicas son bastante bajas. Esto nos puede hacer pensar, que hay muchas características que no va a ser necesario normalizar. En parte sí y en parte no.\n",
        "\n",
        "El dataset se compone de características numéricas, pero hay algunas que vienen ya acotadas entre 0 y 1. En este caso, como aunque eso pase, la media puede no ser exactamente 0 y la desviación no estar tan cerca de 1, se normalizarán también.\n",
        "\n",
        "Pero hay otras características que son binarias. En este caso, no tiene mucho sentido normalizarlas, ya que estamos indicando la presencia o no de algo. Por tanto, a la hora de normalizar, se dejarán las columnas representadas únicamente por 0 y 1 y se normalizarán las demás para que tengan desviación típica 1 y media 0 y dejaremos a PCA hacer el trabajo de quitar las columnas que considere."
      ],
      "metadata": {
        "id": "NgD9Spf6Q9sQ"
      }
    },
    {
      "cell_type": "code",
      "source": [
        "fig, ax = plt.subplots()\n",
        "\n",
        "ax.bar(x , maxs, label='Máximos')\n",
        "ax.bar(x , mins, label='Mínimos')\n",
        "ax.set_title('Máximos y mínimos de los atributos')\n",
        "ax.set_xlabel('Valor')\n",
        "ax.set_ylabel('Atributo');\n",
        "\n",
        "fig.legend()\n",
        "fig.show()"
      ],
      "metadata": {
        "colab": {
          "base_uri": "https://localhost:8080/",
          "height": 500
        },
        "id": "bgWEWTvEt6cY",
        "outputId": "c61d5fb0-6301-45ff-f214-210401691835"
      },
      "execution_count": 259,
      "outputs": [
        {
          "output_type": "display_data",
          "data": {
            "text/plain": [
              "<Figure size 640x480 with 1 Axes>"
            ],
            "image/png": "[encoded data removed]"
          },
          "metadata": {}
        }
      ]
    },
    {
      "cell_type": "code",
      "source": [
        "(maxs - mins).min()"
      ],
      "metadata": {
        "colab": {
          "base_uri": "https://localhost:8080/"
        },
        "id": "XurZ0R-TuLIm",
        "outputId": "a7e88180-5b5f-49eb-cba7-559aaced4b0a"
      },
      "execution_count": 260,
      "outputs": [
        {
          "output_type": "execute_result",
          "data": {
            "text/plain": [
              "0.136929460581"
            ]
          },
          "metadata": {},
          "execution_count": 260
        }
      ]
    },
    {
      "cell_type": "markdown",
      "source": [
        "Hay valores que parece que tienen un rango muy pequeño en la gráfica. Esto es porque hay muchas de las características que están acotadas entre 0 y 1 o que son binarias. Además hay que recordar que el rango de valores es algo relativo a las unidades de la propia variable, es decir, que aunque todos los valores sean cercanos a 0, no significa que la calidad de lo que están mostrando sea más baja."
      ],
      "metadata": {
        "id": "5FGFc7JMRrCR"
      }
    },
    {
      "cell_type": "code",
      "source": [
        "corr = X_train.corr()\n",
        "\n",
        "fig, ax = plt.subplots()\n",
        "\n",
        "s = ax.imshow(corr, cmap =\"coolwarm\")\n",
        "ax.set_title('Matriz de correlación de Pearson')\n",
        "ax.set_xlabel('Atributo')\n",
        "ax.set_ylabel('Atributo');\n",
        "\n",
        "fig.colorbar(s)\n",
        "plt.show()"
      ],
      "metadata": {
        "colab": {
          "base_uri": "https://localhost:8080/",
          "height": 472
        },
        "id": "8mefJHZjuSPd",
        "outputId": "c7706924-b532-469f-9aad-812378d26e7d"
      },
      "execution_count": 261,
      "outputs": [
        {
          "output_type": "display_data",
          "data": {
            "text/plain": [
              "<Figure size 640x480 with 2 Axes>"
            ],
            "image/png": "[encoded data removed]"
          },
          "metadata": {}
        }
      ]
    },
    {
      "cell_type": "markdown",
      "source": [
        "Se muestra la matriz de correlación de Pearson (que es la que viene con Pandas), aunque serviría cualquier matriz de correlación.\n",
        "\n",
        "Como se puede observar, hay zonas con color rojizo intenso donde ser ve que las características están correlacionadas. \n",
        "\n",
        "Sería intersante eliminar alguno de estos atributos correlacionados, pues está altamente representado por otro. No obstante, de eso se encargará PCA."
      ],
      "metadata": {
        "id": "kJM7Qd8TUYBq"
      }
    },
    {
      "cell_type": "markdown",
      "source": [
        "#### <font color='blue'>2)  Identificar qué conjuntos de hipótesis se emplearán y justificar dicha elección. 0.25 puntos. "
      ],
      "metadata": {
        "id": "9Ozk6Bf-fid4"
      }
    },
    {
      "cell_type": "markdown",
      "source": [
        "Para esta práctica, solo tenemos para elegir entre los 4 modelos lineales que hemos visto: Regresión Lineal, Regresión Logística, PLA y PLA+Pocket. Se podrían usar otros como SVM, pero por cuestiones de tiempo la práctica se centrará en el uso de un modelo lineal.\n",
        "\n",
        "  Estamos ante un problema de regresión, por lo que es automático descartar la Regresión Logística, PLA y PLA+Pocket, pues son todos algoritmos de clasificación.\n",
        "  Por otra parte, la Regresión Lineal, como su nombre indica, es un buen algoritmo de regresión, que nos da lo que necesitamos para este problema: un algoritmo que pueda estimar una salida numérica en función de los datos.\n",
        "  \n",
        "Así que nos quedamos con Regresión Lineal."
      ],
      "metadata": {
        "id": "_1Mo1H0Xui8Z"
      }
    },
    {
      "cell_type": "markdown",
      "source": [
        "#### <font color='blue'>3)  Si la base de datos define conjuntos de training y test, únalos en un solo conjunto y genere sus propios conjuntos. Describa y justifique el mecanismo de partición. 0.75 puntos. "
      ],
      "metadata": {
        "id": "4LiijYn4fw_y"
      }
    },
    {
      "cell_type": "markdown",
      "source": [
        "Ya he dividido los conjuntos de entrenamiento y prueba por motivos de seguridad. Ahora me dispongo a preparar mi conjunto de entrenamiento utilizando un enfoque de validación cruzada de 5 pliegues.\n",
        "\n",
        "En este enfoque, dividiré el conjunto de ejemplos en 5 grupos y realizaré 5 pruebas de entrenamiento, utilizando 4 de los 5 conjuntos, y validación con el conjunto restante. Además, para evitar un desequilibrio aleatorio, distribuiré las clases de manera equitativa entre los pliegues.\n",
        "\n",
        "Al emplear este método, obtendré 5 medidas de error para cada algoritmo utilizado, lo cual me permitirá estimar la calidad de dicho algoritmo en la clasificación.\n",
        "\n",
        "La validación es importante debido a que existe la posibilidad de que algún algoritmo tenga mucha suerte y encuentre una forma muy efectiva de clasificar los datos de entrenamiento, pero que, en realidad, sea ineficiente para el conjunto de prueba. ¿Por qué utilizamos 5 validaciones?\n",
        "\n",
        "La razón es que, como mencioné anteriormente, el azar puede ser impredecible y proporcionarnos resultados de validación que no reflejen el verdadero potencial del algoritmo. Para aumentar nuestra confianza en los resultados del algoritmo, realizamos múltiples divisiones y entrenamos en cada una de ellas. De esta manera, en lugar de obtener un único resultado de validación, obtenemos un promedio de varios resultados, lo cual es mucho más confiable.\n",
        "\n",
        "El principal inconveniente de este sistema es que reduce el tamaño del conjunto de datos utilizado para el entrenamiento y validación, pero dado que tenemos un conjunto de datos enorme, podemos permitirnos este sacrificio sin problemas."
      ],
      "metadata": {
        "id": "BqtBRvCmjEBd"
      }
    },
    {
      "cell_type": "code",
      "source": [
        "#5-fold cross validation\n",
        "particiones = np.empty((5),list)\n",
        "\n",
        "train_data = X_train.to_numpy()\n",
        "train_labels = y_train.to_numpy()\n",
        "\n",
        "index_train = np.arange(len(train_labels))\n",
        "\n",
        "for i in range(5):\n",
        "  particiones[i] = []\n",
        "\n",
        "#En vez de tener varios conjuntos de datos, usaremos conjuntos de índices, que son mucho más cómodos de manejar\n",
        "for i in range(index_train.shape[0]):\n",
        "  particiones[i%5].append(index_train[i])\n",
        "  \n",
        "for i in range(5):\n",
        "  particiones[i] = np.asarray(particiones[i])\n",
        "  np.random.shuffle(particiones[i])\n",
        "\n",
        "training1 = np.concatenate((particiones[0],particiones[1],particiones[2],particiones[3]))\n",
        "test1 = particiones[4]\n",
        "\n",
        "training2 = np.concatenate((particiones[4],particiones[0],particiones[1],particiones[2]))\n",
        "test2 = particiones[3]\n",
        "\n",
        "training3 = np.concatenate((particiones[3],particiones[4],particiones[0],particiones[1]))\n",
        "test3 = particiones[2]\n",
        "\n",
        "training4 = np.concatenate((particiones[2],particiones[3],particiones[4],particiones[0]))\n",
        "test4 = particiones[1]\n",
        "\n",
        "training5 = np.concatenate((particiones[1],particiones[2],particiones[3],particiones[4]))\n",
        "test5 = particiones[0]\n",
        "\n",
        "cv_trains = [training1,training2,training3,training4,training5]\n",
        "cv_tests = [test1,test2,test3,test4,test5]\n"
      ],
      "metadata": {
        "id": "Lm9cT0xof1-D"
      },
      "execution_count": 262,
      "outputs": []
    },
    {
      "cell_type": "markdown",
      "source": [
        "#### <font color='blue'>4)  Justifique todos los detalles del preprocesado de los datos (codificación, transformación, normalización, etc). Es decir, todas las manipulaciones sobre los datos iniciales que nos permitan fijar el conjunto de vectores de características que se usarán en el entrenamiento. 1 punto.  \n",
        "\n",
        "<font color='blue'>Nota: Las transformaciones no-lineales de las variables pueden definirse a partir de las potencias y\n",
        "productos de potencias de las variables originales, conjuntos de polinomios ortogonales, etc. Si se\n",
        "usan transformaciones no polinómicas de las variable como $log$, $\\sqrt{()}$, $sin$, etc, debe justificar el\n",
        "interés de las mismas. "
      ],
      "metadata": {
        "id": "qJykJiQxf30a"
      }
    },
    {
      "cell_type": "markdown",
      "source": [
        "Aunque lo idóneo sería hacer el preprocesado antes de dividir el conjunto de train con Cross Validation (para evitar tener que hacerlo múltiples veces), he preferido hacerlo a continuación para mantenerme en linea con los enunciados de la práctica. Por otra parte, como he decidido hacer la partición por índices (en vez de crear distintos conjuntos de ejemplos para cada particion), puedo modificar directamente el conjunto train y se modificarán las correspondientes particiones sin problemas."
      ],
      "metadata": {
        "id": "fMUqiWinjmNL"
      }
    },
    {
      "cell_type": "markdown",
      "source": [
        "NORMALIZACIÓN"
      ],
      "metadata": {
        "id": "S_HqSPJIvJo0"
      }
    },
    {
      "cell_type": "markdown",
      "source": [
        "\n",
        "\n",
        "Los datos serán normalizados. Esto suele ser una buena práctica para acelerar el entrenamiento (es más facil operar con valores pequeños y semejantes que con valores muy extremos e indistintos en función de la variable). Además de que hay técnicas que se ven influenciadas por la escala de las variables, por lo que en general es buena idea mantenerlas en la misma escala todas.\n",
        "\n",
        "Además, almacenaré estos valores en variables para poder volver a normalizar luego los datos del conjunto Test respecto a estos mismos valores. Esto último es necesario pues, si hemos entrenado nuestro modelo con una escala concreta, también deberíamos clasificar con una escala. Al fin y al cabo, esa es la escala en la que el algoritmo ha aprendido a clasificar, y que no sea exactamente la misma podría empeorar la clasificación.\n",
        "\n",
        "Normalizaré respecto a la media y la desviación típica, de forma que todos los valores tengan misma media (de 0) y desviación típica (de 1)\n",
        "\n",
        "Para facilitar la normalización, voy a almacenar las medias y desviaciones de los datos numéricos, aunque no sepa aún si los voy a terminar usando o no.\n",
        "\n",
        "Las columnas binarias no se normalizan, ya que indican la presencia o no de algo y ya están en un rango acotado. Las columnas que son un rango, entre 0 y 1, si se van a normalizar para que tengan la misma desviación típica que las demás. Como se podrá observar tras normalizar, las únicas desviaciones típicas que no serán 1 serán las de las variables binarias. Pero esto no es perjudicial, se normaliza para que todas las variables estén en los mismos rangos y para agilizar el entrenamiento.\n"
      ],
      "metadata": {
        "id": "vEqBUaUmjqUE"
      }
    },
    {
      "cell_type": "code",
      "source": [
        "pd_means = X_train.mean()\n",
        "pd_stds = X_train.std()\n",
        "print('\\tMedias:\\n', pd_means)\n",
        "print('\\tDesviaciones típicas:\\n', pd_stds)"
      ],
      "metadata": {
        "id": "XUXvx9_5gMlM",
        "colab": {
          "base_uri": "https://localhost:8080/"
        },
        "outputId": "514619b9-57d1-4b2d-f547-82d676d738fd"
      },
      "execution_count": 263,
      "outputs": [
        {
          "output_type": "stream",
          "name": "stdout",
          "text": [
            "\tMedias:\n",
            " 2         10.395991\n",
            "3        545.086369\n",
            "4          0.553978\n",
            "5          1.004675\n",
            "6          0.694197\n",
            "7         10.889651\n",
            "8          3.302459\n",
            "9          4.559547\n",
            "10         1.242626\n",
            "11         4.546375\n",
            "12         7.232200\n",
            "13         0.053207\n",
            "14         0.178892\n",
            "15         0.156661\n",
            "16         0.059160\n",
            "17         0.184879\n",
            "18         0.211684\n",
            "19        25.874315\n",
            "20      1147.380484\n",
            "21       311.920104\n",
            "22     13581.755188\n",
            "23    752734.244779\n",
            "24    259242.373681\n",
            "25      1115.815671\n",
            "26      5662.495969\n",
            "27      3138.259500\n",
            "28      4031.395087\n",
            "29     10422.915770\n",
            "30      6472.944252\n",
            "31         0.169710\n",
            "32         0.187132\n",
            "33         0.186762\n",
            "34         0.182524\n",
            "35         0.142569\n",
            "36         0.061682\n",
            "37         0.069620\n",
            "38         0.131302\n",
            "39         0.184819\n",
            "40         0.141478\n",
            "41         0.216059\n",
            "42         0.223622\n",
            "43         0.233988\n",
            "44         0.443180\n",
            "45         0.119242\n",
            "46         0.039550\n",
            "47         0.016561\n",
            "48         0.681530\n",
            "49         0.287999\n",
            "50         0.353716\n",
            "51         0.095590\n",
            "52         0.755820\n",
            "53        -0.259244\n",
            "54        -0.520656\n",
            "55        -0.107370\n",
            "56         0.280506\n",
            "57         0.070856\n",
            "58         0.341878\n",
            "59         0.155168\n",
            "dtype: float64\n",
            "\tDesviaciones típicas:\n",
            " 2          2.115459\n",
            "3        467.044525\n",
            "4          4.064614\n",
            "5          6.039753\n",
            "6          3.768873\n",
            "7         11.255336\n",
            "8          3.884927\n",
            "9          8.314046\n",
            "10         4.083325\n",
            "11         0.851323\n",
            "12         1.910525\n",
            "13         0.224450\n",
            "14         0.383268\n",
            "15         0.363487\n",
            "16         0.235928\n",
            "17         0.388206\n",
            "18         0.408509\n",
            "19        69.315070\n",
            "20      3976.670948\n",
            "21       647.679434\n",
            "22     57885.808843\n",
            "23    213482.443196\n",
            "24    135089.577052\n",
            "25      1134.656180\n",
            "26      6202.290151\n",
            "27      1335.152022\n",
            "28     20205.604828\n",
            "29     41562.640171\n",
            "30     24897.597924\n",
            "31         0.375385\n",
            "32         0.390024\n",
            "33         0.389727\n",
            "34         0.386283\n",
            "35         0.349639\n",
            "36         0.240582\n",
            "37         0.254509\n",
            "38         0.337736\n",
            "39         0.263412\n",
            "40         0.220291\n",
            "41         0.282563\n",
            "42         0.295025\n",
            "43         0.289110\n",
            "44         0.117301\n",
            "45         0.096526\n",
            "46         0.017438\n",
            "47         0.010679\n",
            "48         0.190749\n",
            "49         0.156184\n",
            "50         0.105059\n",
            "51         0.072122\n",
            "52         0.248328\n",
            "53         0.127696\n",
            "54         0.290239\n",
            "55         0.095060\n",
            "56         0.323105\n",
            "57         0.263799\n",
            "58         0.188900\n",
            "59         0.224795\n",
            "dtype: float64\n"
          ]
        }
      ]
    },
    {
      "cell_type": "markdown",
      "source": [
        "Como no hay ninguna varianza que sea 0 (es decir, una colunmna con un dato constante), eliminar columnas con valor cercano a 0 significaría perder información en algunos casos, puesto que no podemos saber a ciencia cierta que umbral de decisión escoger."
      ],
      "metadata": {
        "id": "8E4LvqfDXEUZ"
      }
    },
    {
      "cell_type": "code",
      "source": [
        "# from sklearn import datasets\n",
        "# from sklearn.feature_selection import VarianceThreshold\n",
        "\n",
        "# thresholder = VarianceThreshold(threshold=1000)\n",
        "\n",
        "# X_train = thresholder.fit_transform(X_train)\n",
        "# X_train = pd.DataFrame(X_train)\n",
        "# print(X_train)\n",
        "# pd_means = X_train.mean()\n",
        "# pd_stds = X_train.std()\n",
        "for i in X_train.columns:\n",
        "  #Si la columna es binaria, no se hace nada\n",
        "  if all(elem in [0, 1] for elem in X_train[i]):\n",
        "    pass\n",
        "  else:\n",
        "    X_train[i] = (X_train[i]-pd_means[i])/pd_stds[i]\n",
        "  # X_train[i] = (X_train[i]-pd_means[i])/pd_stds[i]\n",
        "\n",
        "# for i in X_train.columns:\n",
        "#   if all(elem in [0, 1] for elem in X_train[i]):\n",
        "#     pass\n",
        "#   else:\n",
        "#     X_train[i] = (X_train[i]-X_train[i].min())/(X_train[i].max() - X_train[i].min())\n",
        "#     X_train[i] = X_train[i] * (1-0)+0\n",
        "#   # X_train[i] = (X_train[i]-pd_means[i])/pd_stds[i]\n",
        "X_train"
      ],
      "metadata": {
        "colab": {
          "base_uri": "https://localhost:8080/",
          "height": 488
        },
        "id": "K5kuRwsWvb1_",
        "outputId": "6e663136-95c3-4585-cdfe-dfbdf3a5520f"
      },
      "execution_count": 264,
      "outputs": [
        {
          "output_type": "execute_result",
          "data": {
            "text/plain": [
              "             2         3         4         5         6         7         8   \\\n",
              "4131  -0.659900 -0.481938  0.002967 -0.000774 -0.006458 -0.612123 -0.335259   \n",
              "32028  1.703654 -0.126511 -0.007689 -0.000774  0.004203 -0.523276  0.179551   \n",
              "30762  1.230943 -0.612546  0.010358 -0.000774  0.024019 -0.612123 -0.335259   \n",
              "10452 -1.605321 -0.426268  0.003576 -0.000774  0.006045  0.098651 -0.335259   \n",
              "13037 -1.132611 -0.811671  0.032456 -0.000774  0.031572 -0.523276 -0.592665   \n",
              "...         ...       ...       ...       ...       ...       ...       ...   \n",
              "27283  0.285522  0.789890 -0.018190 -0.000774 -0.017655  4.540988  0.436956   \n",
              "579   -0.187189 -0.848070  0.042034 -0.000774  0.050988 -0.878663 -0.850070   \n",
              "38617  0.285522 -0.261402 -0.013572 -0.000774 -0.015069 -0.612123 -0.592665   \n",
              "2440   1.230943 -0.518337  0.009314 -0.000774 -0.014886  0.542885  0.179551   \n",
              "23573 -0.659900 -0.248555 -0.005592 -0.000774 -0.001433 -0.079043 -0.850070   \n",
              "\n",
              "             9         10        11  ...        50        51        52  \\\n",
              "4131  -0.428137 -0.304317  0.830179  ... -0.225743  0.893072 -1.030171   \n",
              "32028 -0.428137 -0.304317  0.030120  ... -0.190621  0.061143  0.580604   \n",
              "30762 -0.428137 -0.304317  0.619018  ...  1.451889  0.061143  0.580604   \n",
              "10452 -0.428137 -0.304317  0.600746  ... -0.489417  0.061143  0.580604   \n",
              "13037 -0.548415 -0.304317 -0.012017  ...  0.753300  0.061143 -0.023437   \n",
              "...         ...       ...       ...  ...       ...       ...       ...   \n",
              "27283  5.706061 -0.304317  0.589395  ... -0.007674 -0.632131  0.983298   \n",
              "579   -0.548415 -0.304317  0.256925  ...  0.529786  1.447691 -0.627478   \n",
              "38617 -0.187580 -0.304317  0.507855  ... -0.639549 -0.458813 -0.627478   \n",
              "2440  -0.428137 -0.304317  0.718930  ... -0.205231  0.061143 -0.023437   \n",
              "23573 -0.428137 -0.304317  0.149514  ...  0.058325  0.061143 -0.224784   \n",
              "\n",
              "             53        54        55        56        57        58        59  \n",
              "4131   0.161382  0.415712  0.077525  2.226810 -0.268599  0.837064 -0.690264  \n",
              "32028 -1.409921 -1.651549  0.077525 -0.868155 -0.268599  0.837064 -0.690264  \n",
              "30762  1.149168  1.363206  0.077525  0.404219  1.689960 -1.339275  1.608123  \n",
              "10452  0.249525  0.415712 -0.185466  0.538647  0.248323 -1.569208 -0.083652  \n",
              "13037  2.030166  1.793886  1.129489 -0.868155 -0.268599  0.837064 -0.690264  \n",
              "...         ...       ...       ...       ...       ...       ...       ...  \n",
              "27283 -0.881720 -1.651549  0.603507  0.369831 -1.784902 -1.280455  1.089132  \n",
              "579    0.811996  1.104799  0.077525  0.060334 -0.268599 -0.751076 -0.690264  \n",
              "38617  0.463947  0.071168  0.603507 -0.868155 -0.268599  0.837064 -0.690264  \n",
              "2440  -1.885381  0.071168 -4.130332  0.988824  1.247705 -1.280455  1.089132  \n",
              "23573  0.199803 -0.962462  0.603507  0.215082 -0.363368 -1.015765 -0.579052  \n",
              "\n",
              "[29733 rows x 58 columns]"
            ],
            "text/html": [
              "\n",
              "  <div id=\"df-6f2b553f-0e93-40e6-8766-8ea1195d6d1a\">\n",
              "    <div class=\"colab-df-container\">\n",
              "      <div>\n",
              "<style scoped>\n",
              "    .dataframe tbody tr th:only-of-type {\n",
              "        vertical-align: middle;\n",
              "    }\n",
              "\n",
              "    .dataframe tbody tr th {\n",
              "        vertical-align: top;\n",
              "    }\n",
              "\n",
              "    .dataframe thead th {\n",
              "        text-align: right;\n",
              "    }\n",
              "</style>\n",
              "<table border=\"1\" class=\"dataframe\">\n",
              "  <thead>\n",
              "    <tr style=\"text-align: right;\">\n",
              "      <th></th>\n",
              "      <th>2</th>\n",
              "      <th>3</th>\n",
              "      <th>4</th>\n",
              "      <th>5</th>\n",
              "      <th>6</th>\n",
              "      <th>7</th>\n",
              "      <th>8</th>\n",
              "      <th>9</th>\n",
              "      <th>10</th>\n",
              "      <th>11</th>\n",
              "      <th>...</th>\n",
              "      <th>50</th>\n",
              "      <th>51</th>\n",
              "      <th>52</th>\n",
              "      <th>53</th>\n",
              "      <th>54</th>\n",
              "      <th>55</th>\n",
              "      <th>56</th>\n",
              "      <th>57</th>\n",
              "      <th>58</th>\n",
              "      <th>59</th>\n",
              "    </tr>\n",
              "  </thead>\n",
              "  <tbody>\n",
              "    <tr>\n",
              "      <th>4131</th>\n",
              "      <td>-0.659900</td>\n",
              "      <td>-0.481938</td>\n",
              "      <td>0.002967</td>\n",
              "      <td>-0.000774</td>\n",
              "      <td>-0.006458</td>\n",
              "      <td>-0.612123</td>\n",
              "      <td>-0.335259</td>\n",
              "      <td>-0.428137</td>\n",
              "      <td>-0.304317</td>\n",
              "      <td>0.830179</td>\n",
              "      <td>...</td>\n",
              "      <td>-0.225743</td>\n",
              "      <td>0.893072</td>\n",
              "      <td>-1.030171</td>\n",
              "      <td>0.161382</td>\n",
              "      <td>0.415712</td>\n",
              "      <td>0.077525</td>\n",
              "      <td>2.226810</td>\n",
              "      <td>-0.268599</td>\n",
              "      <td>0.837064</td>\n",
              "      <td>-0.690264</td>\n",
              "    </tr>\n",
              "    <tr>\n",
              "      <th>32028</th>\n",
              "      <td>1.703654</td>\n",
              "      <td>-0.126511</td>\n",
              "      <td>-0.007689</td>\n",
              "      <td>-0.000774</td>\n",
              "      <td>0.004203</td>\n",
              "      <td>-0.523276</td>\n",
              "      <td>0.179551</td>\n",
              "      <td>-0.428137</td>\n",
              "      <td>-0.304317</td>\n",
              "      <td>0.030120</td>\n",
              "      <td>...</td>\n",
              "      <td>-0.190621</td>\n",
              "      <td>0.061143</td>\n",
              "      <td>0.580604</td>\n",
              "      <td>-1.409921</td>\n",
              "      <td>-1.651549</td>\n",
              "      <td>0.077525</td>\n",
              "      <td>-0.868155</td>\n",
              "      <td>-0.268599</td>\n",
              "      <td>0.837064</td>\n",
              "      <td>-0.690264</td>\n",
              "    </tr>\n",
              "    <tr>\n",
              "      <th>30762</th>\n",
              "      <td>1.230943</td>\n",
              "      <td>-0.612546</td>\n",
              "      <td>0.010358</td>\n",
              "      <td>-0.000774</td>\n",
              "      <td>0.024019</td>\n",
              "      <td>-0.612123</td>\n",
              "      <td>-0.335259</td>\n",
              "      <td>-0.428137</td>\n",
              "      <td>-0.304317</td>\n",
              "      <td>0.619018</td>\n",
              "      <td>...</td>\n",
              "      <td>1.451889</td>\n",
              "      <td>0.061143</td>\n",
              "      <td>0.580604</td>\n",
              "      <td>1.149168</td>\n",
              "      <td>1.363206</td>\n",
              "      <td>0.077525</td>\n",
              "      <td>0.404219</td>\n",
              "      <td>1.689960</td>\n",
              "      <td>-1.339275</td>\n",
              "      <td>1.608123</td>\n",
              "    </tr>\n",
              "    <tr>\n",
              "      <th>10452</th>\n",
              "      <td>-1.605321</td>\n",
              "      <td>-0.426268</td>\n",
              "      <td>0.003576</td>\n",
              "      <td>-0.000774</td>\n",
              "      <td>0.006045</td>\n",
              "      <td>0.098651</td>\n",
              "      <td>-0.335259</td>\n",
              "      <td>-0.428137</td>\n",
              "      <td>-0.304317</td>\n",
              "      <td>0.600746</td>\n",
              "      <td>...</td>\n",
              "      <td>-0.489417</td>\n",
              "      <td>0.061143</td>\n",
              "      <td>0.580604</td>\n",
              "      <td>0.249525</td>\n",
              "      <td>0.415712</td>\n",
              "      <td>-0.185466</td>\n",
              "      <td>0.538647</td>\n",
              "      <td>0.248323</td>\n",
              "      <td>-1.569208</td>\n",
              "      <td>-0.083652</td>\n",
              "    </tr>\n",
              "    <tr>\n",
              "      <th>13037</th>\n",
              "      <td>-1.132611</td>\n",
              "      <td>-0.811671</td>\n",
              "      <td>0.032456</td>\n",
              "      <td>-0.000774</td>\n",
              "      <td>0.031572</td>\n",
              "      <td>-0.523276</td>\n",
              "      <td>-0.592665</td>\n",
              "      <td>-0.548415</td>\n",
              "      <td>-0.304317</td>\n",
              "      <td>-0.012017</td>\n",
              "      <td>...</td>\n",
              "      <td>0.753300</td>\n",
              "      <td>0.061143</td>\n",
              "      <td>-0.023437</td>\n",
              "      <td>2.030166</td>\n",
              "      <td>1.793886</td>\n",
              "      <td>1.129489</td>\n",
              "      <td>-0.868155</td>\n",
              "      <td>-0.268599</td>\n",
              "      <td>0.837064</td>\n",
              "      <td>-0.690264</td>\n",
              "    </tr>\n",
              "    <tr>\n",
              "      <th>...</th>\n",
              "      <td>...</td>\n",
              "      <td>...</td>\n",
              "      <td>...</td>\n",
              "      <td>...</td>\n",
              "      <td>...</td>\n",
              "      <td>...</td>\n",
              "      <td>...</td>\n",
              "      <td>...</td>\n",
              "      <td>...</td>\n",
              "      <td>...</td>\n",
              "      <td>...</td>\n",
              "      <td>...</td>\n",
              "      <td>...</td>\n",
              "      <td>...</td>\n",
              "      <td>...</td>\n",
              "      <td>...</td>\n",
              "      <td>...</td>\n",
              "      <td>...</td>\n",
              "      <td>...</td>\n",
              "      <td>...</td>\n",
              "      <td>...</td>\n",
              "    </tr>\n",
              "    <tr>\n",
              "      <th>27283</th>\n",
              "      <td>0.285522</td>\n",
              "      <td>0.789890</td>\n",
              "      <td>-0.018190</td>\n",
              "      <td>-0.000774</td>\n",
              "      <td>-0.017655</td>\n",
              "      <td>4.540988</td>\n",
              "      <td>0.436956</td>\n",
              "      <td>5.706061</td>\n",
              "      <td>-0.304317</td>\n",
              "      <td>0.589395</td>\n",
              "      <td>...</td>\n",
              "      <td>-0.007674</td>\n",
              "      <td>-0.632131</td>\n",
              "      <td>0.983298</td>\n",
              "      <td>-0.881720</td>\n",
              "      <td>-1.651549</td>\n",
              "      <td>0.603507</td>\n",
              "      <td>0.369831</td>\n",
              "      <td>-1.784902</td>\n",
              "      <td>-1.280455</td>\n",
              "      <td>1.089132</td>\n",
              "    </tr>\n",
              "    <tr>\n",
              "      <th>579</th>\n",
              "      <td>-0.187189</td>\n",
              "      <td>-0.848070</td>\n",
              "      <td>0.042034</td>\n",
              "      <td>-0.000774</td>\n",
              "      <td>0.050988</td>\n",
              "      <td>-0.878663</td>\n",
              "      <td>-0.850070</td>\n",
              "      <td>-0.548415</td>\n",
              "      <td>-0.304317</td>\n",
              "      <td>0.256925</td>\n",
              "      <td>...</td>\n",
              "      <td>0.529786</td>\n",
              "      <td>1.447691</td>\n",
              "      <td>-0.627478</td>\n",
              "      <td>0.811996</td>\n",
              "      <td>1.104799</td>\n",
              "      <td>0.077525</td>\n",
              "      <td>0.060334</td>\n",
              "      <td>-0.268599</td>\n",
              "      <td>-0.751076</td>\n",
              "      <td>-0.690264</td>\n",
              "    </tr>\n",
              "    <tr>\n",
              "      <th>38617</th>\n",
              "      <td>0.285522</td>\n",
              "      <td>-0.261402</td>\n",
              "      <td>-0.013572</td>\n",
              "      <td>-0.000774</td>\n",
              "      <td>-0.015069</td>\n",
              "      <td>-0.612123</td>\n",
              "      <td>-0.592665</td>\n",
              "      <td>-0.187580</td>\n",
              "      <td>-0.304317</td>\n",
              "      <td>0.507855</td>\n",
              "      <td>...</td>\n",
              "      <td>-0.639549</td>\n",
              "      <td>-0.458813</td>\n",
              "      <td>-0.627478</td>\n",
              "      <td>0.463947</td>\n",
              "      <td>0.071168</td>\n",
              "      <td>0.603507</td>\n",
              "      <td>-0.868155</td>\n",
              "      <td>-0.268599</td>\n",
              "      <td>0.837064</td>\n",
              "      <td>-0.690264</td>\n",
              "    </tr>\n",
              "    <tr>\n",
              "      <th>2440</th>\n",
              "      <td>1.230943</td>\n",
              "      <td>-0.518337</td>\n",
              "      <td>0.009314</td>\n",
              "      <td>-0.000774</td>\n",
              "      <td>-0.014886</td>\n",
              "      <td>0.542885</td>\n",
              "      <td>0.179551</td>\n",
              "      <td>-0.428137</td>\n",
              "      <td>-0.304317</td>\n",
              "      <td>0.718930</td>\n",
              "      <td>...</td>\n",
              "      <td>-0.205231</td>\n",
              "      <td>0.061143</td>\n",
              "      <td>-0.023437</td>\n",
              "      <td>-1.885381</td>\n",
              "      <td>0.071168</td>\n",
              "      <td>-4.130332</td>\n",
              "      <td>0.988824</td>\n",
              "      <td>1.247705</td>\n",
              "      <td>-1.280455</td>\n",
              "      <td>1.089132</td>\n",
              "    </tr>\n",
              "    <tr>\n",
              "      <th>23573</th>\n",
              "      <td>-0.659900</td>\n",
              "      <td>-0.248555</td>\n",
              "      <td>-0.005592</td>\n",
              "      <td>-0.000774</td>\n",
              "      <td>-0.001433</td>\n",
              "      <td>-0.079043</td>\n",
              "      <td>-0.850070</td>\n",
              "      <td>-0.428137</td>\n",
              "      <td>-0.304317</td>\n",
              "      <td>0.149514</td>\n",
              "      <td>...</td>\n",
              "      <td>0.058325</td>\n",
              "      <td>0.061143</td>\n",
              "      <td>-0.224784</td>\n",
              "      <td>0.199803</td>\n",
              "      <td>-0.962462</td>\n",
              "      <td>0.603507</td>\n",
              "      <td>0.215082</td>\n",
              "      <td>-0.363368</td>\n",
              "      <td>-1.015765</td>\n",
              "      <td>-0.579052</td>\n",
              "    </tr>\n",
              "  </tbody>\n",
              "</table>\n",
              "<p>29733 rows × 58 columns</p>\n",
              "</div>\n",
              "      <button class=\"colab-df-convert\" onclick=\"convertToInteractive('df-6f2b553f-0e93-40e6-8766-8ea1195d6d1a')\"\n",
              "              title=\"Convert this dataframe to an interactive table.\"\n",
              "              style=\"display:none;\">\n",
              "        \n",
              "  <svg xmlns=\"http://www.w3.org/2000/svg\" height=\"24px\"viewBox=\"0 0 24 24\"\n",
              "       width=\"24px\">\n",
              "    <path d=\"M0 0h24v24H0V0z\" fill=\"none\"/>\n",
              "    <path d=\"M18.56 5.44l.94 2.06.94-2.06 2.06-.94-2.06-.94-.94-2.06-.94 2.06-2.06.94zm-11 1L8.5 8.5l.94-2.06 2.06-.94-2.06-.94L8.5 2.5l-.94 2.06-2.06.94zm10 10l.94 2.06.94-2.06 2.06-.94-2.06-.94-.94-2.06-.94 2.06-2.06.94z\"/><path d=\"M17.41 7.96l-1.37-1.37c-.4-.4-.92-.59-1.43-.59-.52 0-1.04.2-1.43.59L10.3 9.45l-7.72 7.72c-.78.78-.78 2.05 0 2.83L4 21.41c.39.39.9.59 1.41.59.51 0 1.02-.2 1.41-.59l7.78-7.78 2.81-2.81c.8-.78.8-2.07 0-2.86zM5.41 20L4 18.59l7.72-7.72 1.47 1.35L5.41 20z\"/>\n",
              "  </svg>\n",
              "      </button>\n",
              "      \n",
              "  <style>\n",
              "    .colab-df-container {\n",
              "      display:flex;\n",
              "      flex-wrap:wrap;\n",
              "      gap: 12px;\n",
              "    }\n",
              "\n",
              "    .colab-df-convert {\n",
              "      background-color: #E8F0FE;\n",
              "      border: none;\n",
              "      border-radius: 50%;\n",
              "      cursor: pointer;\n",
              "      display: none;\n",
              "      fill: #1967D2;\n",
              "      height: 32px;\n",
              "      padding: 0 0 0 0;\n",
              "      width: 32px;\n",
              "    }\n",
              "\n",
              "    .colab-df-convert:hover {\n",
              "      background-color: #E2EBFA;\n",
              "      box-shadow: 0px 1px 2px rgba(60, 64, 67, 0.3), 0px 1px 3px 1px rgba(60, 64, 67, 0.15);\n",
              "      fill: #174EA6;\n",
              "    }\n",
              "\n",
              "    [theme=dark] .colab-df-convert {\n",
              "      background-color: #3B4455;\n",
              "      fill: #D2E3FC;\n",
              "    }\n",
              "\n",
              "    [theme=dark] .colab-df-convert:hover {\n",
              "      background-color: #434B5C;\n",
              "      box-shadow: 0px 1px 3px 1px rgba(0, 0, 0, 0.15);\n",
              "      filter: drop-shadow(0px 1px 2px rgba(0, 0, 0, 0.3));\n",
              "      fill: #FFFFFF;\n",
              "    }\n",
              "  </style>\n",
              "\n",
              "      <script>\n",
              "        const buttonEl =\n",
              "          document.querySelector('#df-6f2b553f-0e93-40e6-8766-8ea1195d6d1a button.colab-df-convert');\n",
              "        buttonEl.style.display =\n",
              "          google.colab.kernel.accessAllowed ? 'block' : 'none';\n",
              "\n",
              "        async function convertToInteractive(key) {\n",
              "          const element = document.querySelector('#df-6f2b553f-0e93-40e6-8766-8ea1195d6d1a');\n",
              "          const dataTable =\n",
              "            await google.colab.kernel.invokeFunction('convertToInteractive',\n",
              "                                                     [key], {});\n",
              "          if (!dataTable) return;\n",
              "\n",
              "          const docLinkHtml = 'Like what you see? Visit the ' +\n",
              "            '<a target=\"_blank\" href=https://colab.research.google.com/notebooks/data_table.ipynb>data table notebook</a>'\n",
              "            + ' to learn more about interactive tables.';\n",
              "          element.innerHTML = '';\n",
              "          dataTable['output_type'] = 'display_data';\n",
              "          await google.colab.output.renderOutput(dataTable, element);\n",
              "          const docLink = document.createElement('div');\n",
              "          docLink.innerHTML = docLinkHtml;\n",
              "          element.appendChild(docLink);\n",
              "        }\n",
              "      </script>\n",
              "    </div>\n",
              "  </div>\n",
              "  "
            ]
          },
          "metadata": {},
          "execution_count": 264
        }
      ]
    },
    {
      "cell_type": "code",
      "source": [
        "pd_means = X_train.mean()\n",
        "pd_stds = X_train.std()\n",
        "print('\\tMedias:\\n', pd_means)\n",
        "print('\\tDesviaciones típicas:\\n', pd_stds)"
      ],
      "metadata": {
        "colab": {
          "base_uri": "https://localhost:8080/"
        },
        "id": "ozOkah60ymf8",
        "outputId": "c5c30510-7894-42d1-b712-89443fee9669"
      },
      "execution_count": 265,
      "outputs": [
        {
          "output_type": "stream",
          "name": "stdout",
          "text": [
            "\tMedias:\n",
            " 2    -3.637191e-16\n",
            "3    -1.433847e-17\n",
            "4    -1.027590e-17\n",
            "5     4.540515e-18\n",
            "6     1.421898e-17\n",
            "7    -9.989132e-17\n",
            "8     4.946771e-17\n",
            "9    -2.915488e-17\n",
            "10    1.481642e-17\n",
            "11   -6.889633e-16\n",
            "12   -1.634585e-16\n",
            "13    5.320687e-02\n",
            "14    1.788921e-01\n",
            "15    1.566609e-01\n",
            "16    5.915986e-02\n",
            "17    1.848788e-01\n",
            "18    2.116840e-01\n",
            "19    1.911796e-18\n",
            "20   -4.122309e-18\n",
            "21   -3.584617e-18\n",
            "22   -1.672821e-17\n",
            "23   -1.211600e-16\n",
            "24    1.873560e-16\n",
            "25    2.724309e-17\n",
            "26    1.558113e-16\n",
            "27   -1.644144e-16\n",
            "28   -3.345642e-18\n",
            "29   -4.468822e-17\n",
            "30    4.779489e-19\n",
            "31    1.697104e-01\n",
            "32    1.871321e-01\n",
            "33    1.867622e-01\n",
            "34    1.825245e-01\n",
            "35    1.425689e-01\n",
            "36    6.168231e-02\n",
            "37    6.961961e-02\n",
            "38    1.313019e-01\n",
            "39   -1.386052e-17\n",
            "40   -9.272209e-17\n",
            "41    1.046708e-16\n",
            "42   -9.081029e-18\n",
            "43   -6.500105e-17\n",
            "44   -4.038668e-17\n",
            "45    5.448617e-17\n",
            "46   -1.092113e-16\n",
            "47   -5.496412e-18\n",
            "48   -7.981747e-17\n",
            "49    1.271344e-16\n",
            "50   -1.889093e-16\n",
            "51   -1.749293e-16\n",
            "52    2.024114e-16\n",
            "53   -1.657288e-16\n",
            "54    1.194872e-16\n",
            "55   -7.025849e-17\n",
            "56   -4.014771e-17\n",
            "57   -2.676514e-17\n",
            "58   -1.156636e-16\n",
            "59    8.364106e-17\n",
            "dtype: float64\n",
            "\tDesviaciones típicas:\n",
            " 2     1.000000\n",
            "3     1.000000\n",
            "4     1.000000\n",
            "5     1.000000\n",
            "6     1.000000\n",
            "7     1.000000\n",
            "8     1.000000\n",
            "9     1.000000\n",
            "10    1.000000\n",
            "11    1.000000\n",
            "12    1.000000\n",
            "13    0.224450\n",
            "14    0.383268\n",
            "15    0.363487\n",
            "16    0.235928\n",
            "17    0.388206\n",
            "18    0.408509\n",
            "19    1.000000\n",
            "20    1.000000\n",
            "21    1.000000\n",
            "22    1.000000\n",
            "23    1.000000\n",
            "24    1.000000\n",
            "25    1.000000\n",
            "26    1.000000\n",
            "27    1.000000\n",
            "28    1.000000\n",
            "29    1.000000\n",
            "30    1.000000\n",
            "31    0.375385\n",
            "32    0.390024\n",
            "33    0.389727\n",
            "34    0.386283\n",
            "35    0.349639\n",
            "36    0.240582\n",
            "37    0.254509\n",
            "38    0.337736\n",
            "39    1.000000\n",
            "40    1.000000\n",
            "41    1.000000\n",
            "42    1.000000\n",
            "43    1.000000\n",
            "44    1.000000\n",
            "45    1.000000\n",
            "46    1.000000\n",
            "47    1.000000\n",
            "48    1.000000\n",
            "49    1.000000\n",
            "50    1.000000\n",
            "51    1.000000\n",
            "52    1.000000\n",
            "53    1.000000\n",
            "54    1.000000\n",
            "55    1.000000\n",
            "56    1.000000\n",
            "57    1.000000\n",
            "58    1.000000\n",
            "59    1.000000\n",
            "dtype: float64\n"
          ]
        }
      ]
    },
    {
      "cell_type": "markdown",
      "source": [
        "Ahora seria el momento de aplicar alguna técnica de eliminación de Outliers, y para ello se usará LocalOutlierFactor.\n",
        "\n",
        "LocalOutlierFactor (LOF) es un algoritmo de detección de anomalías utilizado en aprendizaje automático. Su objetivo principal es identificar puntos de datos atípicos o \"anómalos\" en un conjunto de datos. LOF se basa en la suposición de que los puntos anómalos tienen una densidad de vecinos significativamente menor en comparación con los puntos normales en su vecindario local.\n",
        "\n",
        "En esta práctica, se ha decidido no aplicar ningún método de eliminación de outliers por el hecho de que no existen como tal. Al estar representándose la popularidad de ciertos artículos de una página web no podemos prescindir de datos anómalos, ya que, pueden ser no anómalos."
      ],
      "metadata": {
        "id": "Ti2Gh_SsbvR6"
      }
    },
    {
      "cell_type": "code",
      "source": [
        "# ###OUTLIERS\n",
        "# from sklearn.neighbors import LocalOutlierFactor\n",
        "# # # identify outliers in the training dataset\n",
        "# datos_antes = X_train.shape[0]\n",
        "\n",
        "# X_train = X_train.to_numpy()\n",
        "# y_train = y_train.to_numpy()\n",
        "# lof = LocalOutlierFactor(n_neighbors=20, contamination=0.1)\n",
        "# yhat = lof.fit_predict(X_train)\n",
        "# mask = yhat != -1\n",
        "# X_train, y_train = X_train[mask, :], y_train[mask]\n",
        "\n",
        "# X_train = pd.DataFrame(X_train)\n",
        "# y_train = pd.DataFrame(y_train)\n",
        "\n",
        "# datos_despues = X_train.shape[0]\n",
        "\n",
        "# print(datos_antes-datos_despues, datos_antes, datos_despues)\n",
        "# print(\"Datos eliminados por LOF: \", (datos_antes-datos_despues)/datos_antes*100, \"%\")\n",
        "# ##Se repite CV-5\n",
        "# #5-fold cross validation\n",
        "# particiones = np.empty((5),list)\n",
        "\n",
        "# train_data = X_train.to_numpy()\n",
        "# train_labels = y_train.to_numpy()\n",
        "\n",
        "# index_train = np.arange(len(train_labels))\n",
        "\n",
        "# for i in range(5):\n",
        "#   particiones[i] = []\n",
        "\n",
        "# #En vez de tener varios conjuntos de datos, usaremos conjuntos de índices, que son mucho más cómodos de manejar\n",
        "# for i in range(index_train.shape[0]):\n",
        "#   particiones[i%5].append(index_train[i])\n",
        "  \n",
        "# for i in range(5):\n",
        "#   particiones[i] = np.asarray(particiones[i])\n",
        "#   np.random.shuffle(particiones[i])\n",
        "\n",
        "# training1 = np.concatenate((particiones[0],particiones[1],particiones[2],particiones[3]))\n",
        "# test1 = particiones[4]\n",
        "\n",
        "# training2 = np.concatenate((particiones[4],particiones[0],particiones[1],particiones[2]))\n",
        "# test2 = particiones[3]\n",
        "\n",
        "# training3 = np.concatenate((particiones[3],particiones[4],particiones[0],particiones[1]))\n",
        "# test3 = particiones[2]\n",
        "\n",
        "# training4 = np.concatenate((particiones[2],particiones[3],particiones[4],particiones[0]))\n",
        "# test4 = particiones[1]\n",
        "\n",
        "# training5 = np.concatenate((particiones[1],particiones[2],particiones[3],particiones[4]))\n",
        "# test5 = particiones[0]\n",
        "\n",
        "# cv_trains = [training1,training2,training3,training4,training5]\n",
        "# cv_tests = [test1,test2,test3,test4,test5]"
      ],
      "metadata": {
        "id": "JrClLopMv2PB"
      },
      "execution_count": 266,
      "outputs": []
    },
    {
      "cell_type": "markdown",
      "source": [
        "PCA"
      ],
      "metadata": {
        "id": "_yRsienHw9Hd"
      }
    },
    {
      "cell_type": "markdown",
      "source": [
        "PCA (Principal Component Analysis) es un algoritmo estadístico ampliamente utilizado para reducir la dimensionalidad de un conjunto de datos mientras se conserva la mayor cantidad posible de información. Su objetivo es encontrar nuevas variables, llamadas componentes principales, que sean combinaciones lineales de las variables originales.\n",
        "\n",
        "En la implementación de PCA en la biblioteca scikit-learn (sklearn), se considera como un algoritmo de aprendizaje, pero en realidad no realiza un aprendizaje en el sentido tradicional. En su lugar, se utiliza el conjunto de datos de entrenamiento para calcular los componentes principales, y luego se puede aplicar la misma transformación a otros conjuntos de datos, como los conjuntos de datos de prueba.\n",
        "\n",
        "Al aplicar PCA, obtenemos un nuevo conjunto de datos que tiene menos dimensiones que el conjunto de datos original. Esto se logra al eliminar las dimensiones que tienen menos variabilidad o contribuyen menos a la estructura global de los datos. Sin embargo, es importante destacar que PCA no garantiza que no se pierda información en el proceso de reducción de dimensionalidad, pero intenta minimizar dicha pérdida.\n",
        "\n",
        "Si deseamos especificar cuántas dimensiones queremos en el conjunto de datos transformado, podemos indicar el número deseado al aplicar PCA. De lo contrario, PCA calculará automáticamente el número de dimensiones necesarias para mantener la mayor cantidad de información posible.\n",
        "\n",
        "Además, PCA también permite realizar una transformación inversa, lo que significa que podemos recuperar los datos originales (o al menos una aproximación cercana) a partir del conjunto de datos transformado. Esto es útil si queremos interpretar o visualizar los datos en su forma original después de reducir la dimensionalidad.\n",
        "\n",
        "En resumen, PCA es un algoritmo que reduce la dimensionalidad de un conjunto de datos al encontrar combinaciones lineales de las variables originales. Aunque intenta minimizar la pérdida de información, es importante tener en cuenta que existe una pérdida inherente al reducir las dimensiones. Sin embargo, PCA proporciona una herramienta útil para explorar y analizar conjuntos de datos complejos."
      ],
      "metadata": {
        "id": "QvKpTzFhevAp"
      }
    },
    {
      "cell_type": "code",
      "source": [
        "from sklearn.decomposition import PCA\n",
        "\n",
        "modelo_pca = PCA().fit(X_train)\n",
        "datos = X_train"
      ],
      "metadata": {
        "id": "dxp5z-DRw8gW"
      },
      "execution_count": 267,
      "outputs": []
    },
    {
      "cell_type": "markdown",
      "source": [
        "Al entrenar el modelo PCA, aseguramos que se conserve la mayor cantidad posible de información del conjunto de datos original. Luego, podemos examinar los componentes resultantes y clasificarlos según su contribución al total de la información contenida en los datos. Esta contribución se representa mediante el concepto de \"porcentaje de varianza explicada acumulada\".\n",
        "\n",
        "El porcentaje de varianza explicada acumulada es una medida que indica el porcentaje de información que se conserva si utilizamos los 'n' componentes más importantes en lugar de todas las variables originales. En otras palabras, representa qué proporción de la variabilidad de los datos se captura al considerar solo los 'n' componentes más significativos.\n",
        "\n",
        "Al observar la curva de porcentaje de varianza explicada acumulada, podemos evaluar cómo se reduce la pérdida de información a medida que aumentamos el número de componentes considerados. Si seleccionamos un número suficiente de componentes con alta varianza explicada, podemos mantener una gran cantidad de información mientras reducimos la dimensionalidad del conjunto de datos."
      ],
      "metadata": {
        "id": "ByHtpGbwe78D"
      }
    },
    {
      "cell_type": "code",
      "source": [
        "prop_varianza_acum = modelo_pca.explained_variance_ratio_.cumsum()\n",
        "\n",
        "fig, ax = plt.subplots()\n",
        "ax.plot(np.arange(len(datos.columns)),prop_varianza_acum,'-o')\n",
        "\n",
        "fig.set_figwidth(20)  \n",
        "ax.set_yticks([0,0.1,0.2,0.3,0.4,0.5,0.6,0.7,0.8,0.9,1])\n",
        "ax.set_title('Porcentaje de varianza explicada acumulada')\n",
        "ax.set_xlabel('Componente principal')\n",
        "ax.set_ylabel('Por. varianza acumulada');"
      ],
      "metadata": {
        "colab": {
          "base_uri": "https://localhost:8080/",
          "height": 328
        },
        "id": "ojHvoBDAxJdr",
        "outputId": "760160af-a655-4f98-cb0d-f017b088a7a5"
      },
      "execution_count": 268,
      "outputs": [
        {
          "output_type": "display_data",
          "data": {
            "text/plain": [
              "<Figure size 2000x480 with 1 Axes>"
            ],
            "image/png": "[encoded data removed]"
          },
          "metadata": {}
        }
      ]
    },
    {
      "cell_type": "markdown",
      "source": [
        "A continuación, se muestran distintos percentiles, para ver que configuración interesa más."
      ],
      "metadata": {
        "id": "hRUOlE3yfA7R"
      }
    },
    {
      "cell_type": "code",
      "source": [
        "percentil90 = np.where(prop_varianza_acum >= 0.90)[0][0]\n",
        "print('90% de la información mantenida con ', percentil90, ' componentes')\n",
        "percentil95 = np.where(prop_varianza_acum >= 0.95)[0][0]\n",
        "print('95% de la información mantenida con ', percentil95, ' componentes')\n",
        "percentil99 = np.where(prop_varianza_acum >= 0.99)[0][0]\n",
        "print('99% de la información mantenida con ', percentil99, ' componentes')"
      ],
      "metadata": {
        "colab": {
          "base_uri": "https://localhost:8080/"
        },
        "id": "TOHfjMZWxPp6",
        "outputId": "5c8e8113-d5cf-4534-cc72-310622cc9158"
      },
      "execution_count": 269,
      "outputs": [
        {
          "output_type": "stream",
          "name": "stdout",
          "text": [
            "90% de la información mantenida con  24  componentes\n",
            "95% de la información mantenida con  30  componentes\n",
            "99% de la información mantenida con  42  componentes\n"
          ]
        }
      ]
    },
    {
      "cell_type": "markdown",
      "source": [
        "Tras esta información, lo más lógico parece decantarse por los 30 componentes, ya que mantienen un porcentaje alto de información y se eliminan casi la mitad de las columnas con respecto al DataSet original. Sería interesante también rehacer el problema manteniendo el 99% de la información, pero se va a optar por mantener un 95%."
      ],
      "metadata": {
        "id": "5VvnVitRfQjQ"
      }
    },
    {
      "cell_type": "code",
      "source": [
        "modelo_pca = PCA(n_components=percentil95).fit(X_train)\n",
        "X_train = pd.DataFrame(modelo_pca.transform(X_train))"
      ],
      "metadata": {
        "id": "87SgU3C6xXOa"
      },
      "execution_count": 270,
      "outputs": []
    },
    {
      "cell_type": "code",
      "source": [
        "X_train"
      ],
      "metadata": {
        "colab": {
          "base_uri": "https://localhost:8080/",
          "height": 488
        },
        "id": "tuOka3SPxee5",
        "outputId": "9959c734-128d-4dc5-d802-c776eeb5bc0c"
      },
      "execution_count": 271,
      "outputs": [
        {
          "output_type": "execute_result",
          "data": {
            "text/plain": [
              "             0         1         2         3         4         5         6   \\\n",
              "0      2.331075  1.182834 -4.106678 -0.107553  2.086526 -0.484677 -1.832388   \n",
              "1     -0.348492  0.928838 -1.313558 -0.038562 -0.569808  1.104517 -0.077718   \n",
              "2     -1.182872 -2.566010  1.183731 -0.002983 -1.180329 -0.658450 -0.349300   \n",
              "3     -0.670387 -1.115316  0.398299 -0.005223 -0.010261 -0.536795 -0.233857   \n",
              "4      0.961438 -3.548333  1.145949  0.075139 -0.529414  1.622505  0.282581   \n",
              "...         ...       ...       ...       ...       ...       ...       ...   \n",
              "29728 -1.950705  3.281302 -1.169537  0.138843 -1.569225 -1.691277  3.290997   \n",
              "29729 -0.428043 -3.685124 -0.881136 -0.041807  2.826057 -0.309560 -2.252661   \n",
              "29730  0.988973 -0.624467  0.079432  0.018250  0.054102  2.350588  0.542562   \n",
              "29731 -1.643801 -2.746467 -0.576575 -0.104655  2.135830 -1.531976 -2.287580   \n",
              "29732 -0.270475  0.071773 -0.999617 -0.057817  0.901856 -0.424200 -0.016741   \n",
              "\n",
              "             7         8         9   ...        20        21        22  \\\n",
              "0      1.513909  0.336655  0.248827  ...  0.004634  0.671750  0.494315   \n",
              "1     -1.195198  0.703213  0.054394  ... -1.110868  0.660056  0.103645   \n",
              "2      1.244004  2.671810 -0.506605  ...  0.216659  0.434540 -0.382617   \n",
              "3      0.232793  1.258828  0.957807  ...  1.069032 -0.873465 -0.888824   \n",
              "4     -1.152940  0.425711 -1.143925  ...  0.138470  0.202287  0.480518   \n",
              "...         ...       ...       ...  ...       ...       ...       ...   \n",
              "29728 -0.196763 -1.726780  0.213148  ... -0.339410 -1.832468  1.136887   \n",
              "29729  1.581127 -1.206392 -0.958367  ...  0.443618 -0.881796 -0.049581   \n",
              "29730 -0.199882  0.918089 -0.372232  ...  0.107769  0.070864  1.281579   \n",
              "29731  2.807664 -0.376482 -0.226844  ...  0.202944 -0.619589  0.136810   \n",
              "29732  0.097480  1.129436 -0.077800  ...  0.872540 -0.771715 -0.309273   \n",
              "\n",
              "             23        24        25        26        27        28        29  \n",
              "0      0.313768 -0.718728  0.406209  0.536392  0.101942  0.479580  0.741230  \n",
              "1      0.329549  0.457847 -0.819831 -0.281971 -0.092971 -1.048903  0.030761  \n",
              "2      0.711519 -0.136448  0.636701  0.214942  0.482686 -0.208280 -0.138031  \n",
              "3      0.205898  0.223953  0.141799  0.250346  0.453882  0.593511 -0.819601  \n",
              "4      0.621386  0.530783  0.204433  0.107058 -0.462536 -0.462700 -0.023012  \n",
              "...         ...       ...       ...       ...       ...       ...       ...  \n",
              "29728 -0.399590 -0.244157  0.857233 -0.380691  1.918195 -2.084528 -1.121296  \n",
              "29729  0.316428  0.034018 -0.266732  0.096451  0.621535  0.281380  0.100642  \n",
              "29730  0.521411  0.411959 -0.571072  0.510025 -0.381211 -0.735919  0.375197  \n",
              "29731 -0.357891  0.010710  1.331406  0.104935 -0.208520  0.592987 -0.125815  \n",
              "29732 -0.223105  0.460071 -0.304411 -0.333923  0.627511 -0.100538 -0.301577  \n",
              "\n",
              "[29733 rows x 30 columns]"
            ],
            "text/html": [
              "\n",
              "  <div id=\"df-da101a56-e3f8-4939-8205-547bcaf54299\">\n",
              "    <div class=\"colab-df-container\">\n",
              "      <div>\n",
              "<style scoped>\n",
              "    .dataframe tbody tr th:only-of-type {\n",
              "        vertical-align: middle;\n",
              "    }\n",
              "\n",
              "    .dataframe tbody tr th {\n",
              "        vertical-align: top;\n",
              "    }\n",
              "\n",
              "    .dataframe thead th {\n",
              "        text-align: right;\n",
              "    }\n",
              "</style>\n",
              "<table border=\"1\" class=\"dataframe\">\n",
              "  <thead>\n",
              "    <tr style=\"text-align: right;\">\n",
              "      <th></th>\n",
              "      <th>0</th>\n",
              "      <th>1</th>\n",
              "      <th>2</th>\n",
              "      <th>3</th>\n",
              "      <th>4</th>\n",
              "      <th>5</th>\n",
              "      <th>6</th>\n",
              "      <th>7</th>\n",
              "      <th>8</th>\n",
              "      <th>9</th>\n",
              "      <th>...</th>\n",
              "      <th>20</th>\n",
              "      <th>21</th>\n",
              "      <th>22</th>\n",
              "      <th>23</th>\n",
              "      <th>24</th>\n",
              "      <th>25</th>\n",
              "      <th>26</th>\n",
              "      <th>27</th>\n",
              "      <th>28</th>\n",
              "      <th>29</th>\n",
              "    </tr>\n",
              "  </thead>\n",
              "  <tbody>\n",
              "    <tr>\n",
              "      <th>0</th>\n",
              "      <td>2.331075</td>\n",
              "      <td>1.182834</td>\n",
              "      <td>-4.106678</td>\n",
              "      <td>-0.107553</td>\n",
              "      <td>2.086526</td>\n",
              "      <td>-0.484677</td>\n",
              "      <td>-1.832388</td>\n",
              "      <td>1.513909</td>\n",
              "      <td>0.336655</td>\n",
              "      <td>0.248827</td>\n",
              "      <td>...</td>\n",
              "      <td>0.004634</td>\n",
              "      <td>0.671750</td>\n",
              "      <td>0.494315</td>\n",
              "      <td>0.313768</td>\n",
              "      <td>-0.718728</td>\n",
              "      <td>0.406209</td>\n",
              "      <td>0.536392</td>\n",
              "      <td>0.101942</td>\n",
              "      <td>0.479580</td>\n",
              "      <td>0.741230</td>\n",
              "    </tr>\n",
              "    <tr>\n",
              "      <th>1</th>\n",
              "      <td>-0.348492</td>\n",
              "      <td>0.928838</td>\n",
              "      <td>-1.313558</td>\n",
              "      <td>-0.038562</td>\n",
              "      <td>-0.569808</td>\n",
              "      <td>1.104517</td>\n",
              "      <td>-0.077718</td>\n",
              "      <td>-1.195198</td>\n",
              "      <td>0.703213</td>\n",
              "      <td>0.054394</td>\n",
              "      <td>...</td>\n",
              "      <td>-1.110868</td>\n",
              "      <td>0.660056</td>\n",
              "      <td>0.103645</td>\n",
              "      <td>0.329549</td>\n",
              "      <td>0.457847</td>\n",
              "      <td>-0.819831</td>\n",
              "      <td>-0.281971</td>\n",
              "      <td>-0.092971</td>\n",
              "      <td>-1.048903</td>\n",
              "      <td>0.030761</td>\n",
              "    </tr>\n",
              "    <tr>\n",
              "      <th>2</th>\n",
              "      <td>-1.182872</td>\n",
              "      <td>-2.566010</td>\n",
              "      <td>1.183731</td>\n",
              "      <td>-0.002983</td>\n",
              "      <td>-1.180329</td>\n",
              "      <td>-0.658450</td>\n",
              "      <td>-0.349300</td>\n",
              "      <td>1.244004</td>\n",
              "      <td>2.671810</td>\n",
              "      <td>-0.506605</td>\n",
              "      <td>...</td>\n",
              "      <td>0.216659</td>\n",
              "      <td>0.434540</td>\n",
              "      <td>-0.382617</td>\n",
              "      <td>0.711519</td>\n",
              "      <td>-0.136448</td>\n",
              "      <td>0.636701</td>\n",
              "      <td>0.214942</td>\n",
              "      <td>0.482686</td>\n",
              "      <td>-0.208280</td>\n",
              "      <td>-0.138031</td>\n",
              "    </tr>\n",
              "    <tr>\n",
              "      <th>3</th>\n",
              "      <td>-0.670387</td>\n",
              "      <td>-1.115316</td>\n",
              "      <td>0.398299</td>\n",
              "      <td>-0.005223</td>\n",
              "      <td>-0.010261</td>\n",
              "      <td>-0.536795</td>\n",
              "      <td>-0.233857</td>\n",
              "      <td>0.232793</td>\n",
              "      <td>1.258828</td>\n",
              "      <td>0.957807</td>\n",
              "      <td>...</td>\n",
              "      <td>1.069032</td>\n",
              "      <td>-0.873465</td>\n",
              "      <td>-0.888824</td>\n",
              "      <td>0.205898</td>\n",
              "      <td>0.223953</td>\n",
              "      <td>0.141799</td>\n",
              "      <td>0.250346</td>\n",
              "      <td>0.453882</td>\n",
              "      <td>0.593511</td>\n",
              "      <td>-0.819601</td>\n",
              "    </tr>\n",
              "    <tr>\n",
              "      <th>4</th>\n",
              "      <td>0.961438</td>\n",
              "      <td>-3.548333</td>\n",
              "      <td>1.145949</td>\n",
              "      <td>0.075139</td>\n",
              "      <td>-0.529414</td>\n",
              "      <td>1.622505</td>\n",
              "      <td>0.282581</td>\n",
              "      <td>-1.152940</td>\n",
              "      <td>0.425711</td>\n",
              "      <td>-1.143925</td>\n",
              "      <td>...</td>\n",
              "      <td>0.138470</td>\n",
              "      <td>0.202287</td>\n",
              "      <td>0.480518</td>\n",
              "      <td>0.621386</td>\n",
              "      <td>0.530783</td>\n",
              "      <td>0.204433</td>\n",
              "      <td>0.107058</td>\n",
              "      <td>-0.462536</td>\n",
              "      <td>-0.462700</td>\n",
              "      <td>-0.023012</td>\n",
              "    </tr>\n",
              "    <tr>\n",
              "      <th>...</th>\n",
              "      <td>...</td>\n",
              "      <td>...</td>\n",
              "      <td>...</td>\n",
              "      <td>...</td>\n",
              "      <td>...</td>\n",
              "      <td>...</td>\n",
              "      <td>...</td>\n",
              "      <td>...</td>\n",
              "      <td>...</td>\n",
              "      <td>...</td>\n",
              "      <td>...</td>\n",
              "      <td>...</td>\n",
              "      <td>...</td>\n",
              "      <td>...</td>\n",
              "      <td>...</td>\n",
              "      <td>...</td>\n",
              "      <td>...</td>\n",
              "      <td>...</td>\n",
              "      <td>...</td>\n",
              "      <td>...</td>\n",
              "      <td>...</td>\n",
              "    </tr>\n",
              "    <tr>\n",
              "      <th>29728</th>\n",
              "      <td>-1.950705</td>\n",
              "      <td>3.281302</td>\n",
              "      <td>-1.169537</td>\n",
              "      <td>0.138843</td>\n",
              "      <td>-1.569225</td>\n",
              "      <td>-1.691277</td>\n",
              "      <td>3.290997</td>\n",
              "      <td>-0.196763</td>\n",
              "      <td>-1.726780</td>\n",
              "      <td>0.213148</td>\n",
              "      <td>...</td>\n",
              "      <td>-0.339410</td>\n",
              "      <td>-1.832468</td>\n",
              "      <td>1.136887</td>\n",
              "      <td>-0.399590</td>\n",
              "      <td>-0.244157</td>\n",
              "      <td>0.857233</td>\n",
              "      <td>-0.380691</td>\n",
              "      <td>1.918195</td>\n",
              "      <td>-2.084528</td>\n",
              "      <td>-1.121296</td>\n",
              "    </tr>\n",
              "    <tr>\n",
              "      <th>29729</th>\n",
              "      <td>-0.428043</td>\n",
              "      <td>-3.685124</td>\n",
              "      <td>-0.881136</td>\n",
              "      <td>-0.041807</td>\n",
              "      <td>2.826057</td>\n",
              "      <td>-0.309560</td>\n",
              "      <td>-2.252661</td>\n",
              "      <td>1.581127</td>\n",
              "      <td>-1.206392</td>\n",
              "      <td>-0.958367</td>\n",
              "      <td>...</td>\n",
              "      <td>0.443618</td>\n",
              "      <td>-0.881796</td>\n",
              "      <td>-0.049581</td>\n",
              "      <td>0.316428</td>\n",
              "      <td>0.034018</td>\n",
              "      <td>-0.266732</td>\n",
              "      <td>0.096451</td>\n",
              "      <td>0.621535</td>\n",
              "      <td>0.281380</td>\n",
              "      <td>0.100642</td>\n",
              "    </tr>\n",
              "    <tr>\n",
              "      <th>29730</th>\n",
              "      <td>0.988973</td>\n",
              "      <td>-0.624467</td>\n",
              "      <td>0.079432</td>\n",
              "      <td>0.018250</td>\n",
              "      <td>0.054102</td>\n",
              "      <td>2.350588</td>\n",
              "      <td>0.542562</td>\n",
              "      <td>-0.199882</td>\n",
              "      <td>0.918089</td>\n",
              "      <td>-0.372232</td>\n",
              "      <td>...</td>\n",
              "      <td>0.107769</td>\n",
              "      <td>0.070864</td>\n",
              "      <td>1.281579</td>\n",
              "      <td>0.521411</td>\n",
              "      <td>0.411959</td>\n",
              "      <td>-0.571072</td>\n",
              "      <td>0.510025</td>\n",
              "      <td>-0.381211</td>\n",
              "      <td>-0.735919</td>\n",
              "      <td>0.375197</td>\n",
              "    </tr>\n",
              "    <tr>\n",
              "      <th>29731</th>\n",
              "      <td>-1.643801</td>\n",
              "      <td>-2.746467</td>\n",
              "      <td>-0.576575</td>\n",
              "      <td>-0.104655</td>\n",
              "      <td>2.135830</td>\n",
              "      <td>-1.531976</td>\n",
              "      <td>-2.287580</td>\n",
              "      <td>2.807664</td>\n",
              "      <td>-0.376482</td>\n",
              "      <td>-0.226844</td>\n",
              "      <td>...</td>\n",
              "      <td>0.202944</td>\n",
              "      <td>-0.619589</td>\n",
              "      <td>0.136810</td>\n",
              "      <td>-0.357891</td>\n",
              "      <td>0.010710</td>\n",
              "      <td>1.331406</td>\n",
              "      <td>0.104935</td>\n",
              "      <td>-0.208520</td>\n",
              "      <td>0.592987</td>\n",
              "      <td>-0.125815</td>\n",
              "    </tr>\n",
              "    <tr>\n",
              "      <th>29732</th>\n",
              "      <td>-0.270475</td>\n",
              "      <td>0.071773</td>\n",
              "      <td>-0.999617</td>\n",
              "      <td>-0.057817</td>\n",
              "      <td>0.901856</td>\n",
              "      <td>-0.424200</td>\n",
              "      <td>-0.016741</td>\n",
              "      <td>0.097480</td>\n",
              "      <td>1.129436</td>\n",
              "      <td>-0.077800</td>\n",
              "      <td>...</td>\n",
              "      <td>0.872540</td>\n",
              "      <td>-0.771715</td>\n",
              "      <td>-0.309273</td>\n",
              "      <td>-0.223105</td>\n",
              "      <td>0.460071</td>\n",
              "      <td>-0.304411</td>\n",
              "      <td>-0.333923</td>\n",
              "      <td>0.627511</td>\n",
              "      <td>-0.100538</td>\n",
              "      <td>-0.301577</td>\n",
              "    </tr>\n",
              "  </tbody>\n",
              "</table>\n",
              "<p>29733 rows × 30 columns</p>\n",
              "</div>\n",
              "      <button class=\"colab-df-convert\" onclick=\"convertToInteractive('df-da101a56-e3f8-4939-8205-547bcaf54299')\"\n",
              "              title=\"Convert this dataframe to an interactive table.\"\n",
              "              style=\"display:none;\">\n",
              "        \n",
              "  <svg xmlns=\"http://www.w3.org/2000/svg\" height=\"24px\"viewBox=\"0 0 24 24\"\n",
              "       width=\"24px\">\n",
              "    <path d=\"M0 0h24v24H0V0z\" fill=\"none\"/>\n",
              "    <path d=\"M18.56 5.44l.94 2.06.94-2.06 2.06-.94-2.06-.94-.94-2.06-.94 2.06-2.06.94zm-11 1L8.5 8.5l.94-2.06 2.06-.94-2.06-.94L8.5 2.5l-.94 2.06-2.06.94zm10 10l.94 2.06.94-2.06 2.06-.94-2.06-.94-.94-2.06-.94 2.06-2.06.94z\"/><path d=\"M17.41 7.96l-1.37-1.37c-.4-.4-.92-.59-1.43-.59-.52 0-1.04.2-1.43.59L10.3 9.45l-7.72 7.72c-.78.78-.78 2.05 0 2.83L4 21.41c.39.39.9.59 1.41.59.51 0 1.02-.2 1.41-.59l7.78-7.78 2.81-2.81c.8-.78.8-2.07 0-2.86zM5.41 20L4 18.59l7.72-7.72 1.47 1.35L5.41 20z\"/>\n",
              "  </svg>\n",
              "      </button>\n",
              "      \n",
              "  <style>\n",
              "    .colab-df-container {\n",
              "      display:flex;\n",
              "      flex-wrap:wrap;\n",
              "      gap: 12px;\n",
              "    }\n",
              "\n",
              "    .colab-df-convert {\n",
              "      background-color: #E8F0FE;\n",
              "      border: none;\n",
              "      border-radius: 50%;\n",
              "      cursor: pointer;\n",
              "      display: none;\n",
              "      fill: #1967D2;\n",
              "      height: 32px;\n",
              "      padding: 0 0 0 0;\n",
              "      width: 32px;\n",
              "    }\n",
              "\n",
              "    .colab-df-convert:hover {\n",
              "      background-color: #E2EBFA;\n",
              "      box-shadow: 0px 1px 2px rgba(60, 64, 67, 0.3), 0px 1px 3px 1px rgba(60, 64, 67, 0.15);\n",
              "      fill: #174EA6;\n",
              "    }\n",
              "\n",
              "    [theme=dark] .colab-df-convert {\n",
              "      background-color: #3B4455;\n",
              "      fill: #D2E3FC;\n",
              "    }\n",
              "\n",
              "    [theme=dark] .colab-df-convert:hover {\n",
              "      background-color: #434B5C;\n",
              "      box-shadow: 0px 1px 3px 1px rgba(0, 0, 0, 0.15);\n",
              "      filter: drop-shadow(0px 1px 2px rgba(0, 0, 0, 0.3));\n",
              "      fill: #FFFFFF;\n",
              "    }\n",
              "  </style>\n",
              "\n",
              "      <script>\n",
              "        const buttonEl =\n",
              "          document.querySelector('#df-da101a56-e3f8-4939-8205-547bcaf54299 button.colab-df-convert');\n",
              "        buttonEl.style.display =\n",
              "          google.colab.kernel.accessAllowed ? 'block' : 'none';\n",
              "\n",
              "        async function convertToInteractive(key) {\n",
              "          const element = document.querySelector('#df-da101a56-e3f8-4939-8205-547bcaf54299');\n",
              "          const dataTable =\n",
              "            await google.colab.kernel.invokeFunction('convertToInteractive',\n",
              "                                                     [key], {});\n",
              "          if (!dataTable) return;\n",
              "\n",
              "          const docLinkHtml = 'Like what you see? Visit the ' +\n",
              "            '<a target=\"_blank\" href=https://colab.research.google.com/notebooks/data_table.ipynb>data table notebook</a>'\n",
              "            + ' to learn more about interactive tables.';\n",
              "          element.innerHTML = '';\n",
              "          dataTable['output_type'] = 'display_data';\n",
              "          await google.colab.output.renderOutput(dataTable, element);\n",
              "          const docLink = document.createElement('div');\n",
              "          docLink.innerHTML = docLinkHtml;\n",
              "          element.appendChild(docLink);\n",
              "        }\n",
              "      </script>\n",
              "    </div>\n",
              "  </div>\n",
              "  "
            ]
          },
          "metadata": {},
          "execution_count": 271
        }
      ]
    },
    {
      "cell_type": "markdown",
      "source": [
        "A continuación, y ya para terminar con la manipulación de los datos originales, se aplicará logaritmo en base 2 a las etiquetas, tanto de train como de test (para que se pueda comparar todo). Hay que tener en cuenta, que en adelante, para mostrar las distintas métricas de error, habrá que hacer todo con la potencia de 2 de las etiquetas que tengamos o las que se hayan predicho, con objetivo de que sean las que había antes de la transformación. SE HA DESESTIMADO"
      ],
      "metadata": {
        "id": "LTi_jsYegkpT"
      }
    },
    {
      "cell_type": "code",
      "source": [
        "# y_train = np.log2(y_train)\n",
        "# y_train = pd.DataFrame(y_train)\n",
        "\n",
        "# y_test = np.log2(y_test)\n",
        "# y_test = pd.DataFrame(y_test)"
      ],
      "metadata": {
        "id": "B-usAP4wgivP"
      },
      "execution_count": 272,
      "outputs": []
    },
    {
      "cell_type": "markdown",
      "source": [
        "#### <font color='blue'>5)  Justifique las métricas de error y la función de pérdida a usar. Discutir su idoneidad para el problema. 0.5 puntos. "
      ],
      "metadata": {
        "id": "3QXdZX5DgM0c"
      }
    },
    {
      "cell_type": "markdown",
      "source": [
        "Como estamos ante un problema de regresión, queremos maximizar lo cerca que se ha estado de clasificar correctamente. Para ello, en este tipo de casos estadísticos la metrica que da mejores resultados es el error cuadrático medio."
      ],
      "metadata": {
        "id": "pCfamxyr0KEd"
      }
    },
    {
      "cell_type": "code",
      "source": [
        "from sklearn.metrics import mean_squared_error"
      ],
      "metadata": {
        "id": "lJOzrzg9g56_"
      },
      "execution_count": 273,
      "outputs": []
    },
    {
      "cell_type": "markdown",
      "source": [
        "Adicionalmente usaremos el accuracy, pero fácilmente podremos darnos de que \n",
        "esta medida no es muy buena para regresión y por qué."
      ],
      "metadata": {
        "id": "hGJmD1YM0NUa"
      }
    },
    {
      "cell_type": "code",
      "source": [
        "from sklearn.metrics import accuracy_score"
      ],
      "metadata": {
        "id": "MgLA0KXz0Npi"
      },
      "execution_count": 274,
      "outputs": []
    },
    {
      "cell_type": "markdown",
      "source": [
        "Todos los algoritmos consiguen un porcentaje de acierto pésimo. Esto tiene sentido, pues el accierto solo ocurre si el algoritmo atina exactamente con el valor de share. No obstante, aunque sería ideal, este no es el objetivo en los algoritmos de regresión. Nos interesa valorar, no solo si ha acertado o no (de hecho, esto no es muy importante), sino también valorar cómo de cerca han estado de acertar. Por ello, esta métrica no nos dice realmente nada útil sobre el algoritmo y no se usará.\n",
        "\n",
        "El error cuadrático es útil como 'selector'. Es el más recomendado y usado para estos problemas, a nivel estadístico; y es el que se usa como función de pérdida en regresión. \n",
        "\n",
        "Por otra parte, no es muy intuitivo para nosotros. Una persona, por lo general, no es es capaz de interpretar intuitivamente qué nos está diciendo el error cuadrático medio.\n",
        "\n",
        "Por ello, el error absoluto es una útil medida a añadir, para interpretar cómodamente los datos. Esta medida nos indicará de media, cuanto se aleja el algoritmo de acertar."
      ],
      "metadata": {
        "id": "rQ5qx6Gk0XRw"
      }
    },
    {
      "cell_type": "code",
      "source": [
        "from sklearn.metrics import mean_absolute_error\n"
      ],
      "metadata": {
        "id": "lNiA5yLx0Z3x"
      },
      "execution_count": 275,
      "outputs": []
    },
    {
      "cell_type": "markdown",
      "source": [
        "#### <font color='blue'>6)  Discuta todos los parámetros y el tipo de regularización usada en el ajuste de los modelos seleccionados. Justificar la idoneidad de la regularización elegida. 1 punto. "
      ],
      "metadata": {
        "id": "S4Lo3fC0g6Cv"
      }
    },
    {
      "cell_type": "markdown",
      "source": [
        "Para utilizar Regresión Lineal en sklearn, se ofrecen dos opciones: la implementación directa llamada \"LinearRegression\" y \"SGDRegressor\", que permite utilizar el algoritmo SGD (Descenso de Gradiente Estocástico). Estos modelos requieren ajustar los hiperparámetros para obtener el mejor rendimiento. La selección de los hiperparámetros puede realizarse mediante teoría o mediante una técnica llamada GridSearch.\n",
        "\n",
        "En el caso de GridSearch, se prueban diferentes combinaciones de hiperparámetros y se selecciona la que proporciona el mejor desempeño. Sin embargo, aplicar GridSearch a todos los hiperparámetros es computacionalmente inviable debido al crecimiento exponencial del número de combinaciones posibles.\n",
        "\n",
        "Como alternativa, existen dos enfoques adicionales. Uno consiste en seleccionar previamente ciertos hiperparámetros que se mantendrán iguales para todos los algoritmos en el GridSearch. Esto se basa en una pequeña batería experimental y permite mantener ciertos valores constantes en todas las pruebas. El segundo enfoque implica seleccionar los hiperparámetros después de realizar el GridSearch. Esto puede deberse a que los parámetros seleccionados no son significativos o porque hay demasiadas opciones para probar y sería inviable probarlas todas. Estos parámetros seleccionados posteriormente solo se aplicarán al algoritmo que se determine como el \"mejor modelo\".\n",
        "\n",
        "Es importante tener en cuenta que los resultados pueden variar entre diferentes ejecuciones debido a la aleatoriedad inherente en el aprendizaje automático y a la proximidad de los resultados entre sí. Estas variaciones podrían no ser drásticas, pero pueden hacer que los resultados no sean completamente consistentes con los análisis previos realizados."
      ],
      "metadata": {
        "id": "QBFpwjN2p6xg"
      }
    },
    {
      "cell_type": "markdown",
      "source": [
        "REGRESIÓN LINEAL\n",
        "\n",
        "Antes de realizar el GridSearch, se prefijarán ciertos hiperparámetros en el algoritmo de Regresión Lineal. Estos hiperparámetros son los siguientes:\n",
        "\n",
        "+ fit_intercept: Este hiperparámetro indica si se permite añadir una constante a la función de decisión. En la mayoría de los casos, es una buena práctica incluir esta constante, ya que brinda más flexibilidad al algoritmo. Es poco probable que sea perjudicial, ya que el algoritmo puede determinar que la constante es igual a cero si no es necesaria. Por lo tanto, se mantendrá el valor predeterminado, que es True.\n",
        "\n",
        "+ normalize: Este hiperparámetro indica si el algoritmo normalizará los datos antes de entrenar. Sin embargo, dado que los datos ya se han normalizado previamente, no es necesario aplicar esta normalización nuevamente. Por lo tanto, se mantendrá el valor predeterminado, que es False.\n",
        "\n",
        "+ copy_X: Este hiperparámetro indica si la matriz de características X se sobrescribirá (False) o se copiará en una nueva variable (True). En este caso, no es necesario sobrescribir X, por lo que se mantendrá el valor predeterminado (True).\n",
        "\n",
        "+ n_jobs: Este hiperparámetro especifica el número de núcleos de la CPU que se utilizarán para paralelizar la ejecución del algoritmo. Establecerlo en -1 permitirá utilizar todos los núcleos disponibles en el sistema. Aunque en un problema de regresión lineal esto puede tener un impacto limitado en el rendimiento, no tiene efectos negativos y puede acelerar el proceso de entrenamiento.\n",
        "\n",
        "+ positive: Este hiperparámetro indica si se fuerza a los coeficientes a ser positivos. En este caso, no hay ninguna razón para imponer esta restricción, por lo que se mantendrá el valor predeterminado, que es False.\n",
        "\n",
        "Es importante destacar que el algoritmo de Regresión Lineal no tiene la mayoría de los atributos característicos de los algoritmos iterativos. Esto se debe a que utiliza la pseudoinversa para el entrenamiento, lo que simplifica su implementación y reduce la cantidad de hiperparámetros necesarios.\n",
        "\n",
        "Además de la implementación básica de Regresión Lineal, existen otras variantes que añaden funcionalidad adicional, como Ridge (que agrega una regularización L2) y Lasso (que agrega una regularización L1). Explorar estas opciones y otras variantes puede ser interesante para ampliar las posibilidades y ajustar el modelo a diferentes necesidades."
      ],
      "metadata": {
        "id": "-lIO7Ky3qASa"
      }
    },
    {
      "cell_type": "code",
      "source": [
        "from sklearn.linear_model import LinearRegression"
      ],
      "metadata": {
        "id": "bRSP-PlkotMi"
      },
      "execution_count": 276,
      "outputs": []
    },
    {
      "cell_type": "markdown",
      "source": [
        "REGRESIÓN LINEAL SGD\n",
        "\n",
        "Antes de realizar el GridSearch, se prefijarán ciertos hiperparámetros en el algoritmo de Regresión Lineal utilizando SGD (Stochastic Gradient Descent). Estos hiperparámetros son los siguientes:\n",
        "\n",
        "+ loss: Este hiperparámetro especifica la función de pérdida utilizada en el algoritmo. En nuestro caso, para realizar una regresión lineal, utilizaremos el error cuadrático (squared_error). Este es el valor predeterminado.\n",
        "\n",
        "+ warm_start: Esta técnica consiste en reutilizar la solución de la llamada anterior como inicialización para la siguiente. Sin embargo, en nuestro caso, solo entrenaremos el modelo una vez, por lo que no es relevante. Se mantendrá el valor predeterminado, que es False.\n",
        "\n",
        "+ shuffle: Indica si los datos deben ser reordenados después de cada época. Esta es una práctica común, y hemos utilizado esta técnica en implementaciones anteriores de SGD. Por lo tanto, se mantendrá en True, que es el valor predeterminado.\n",
        "\n",
        "+ random_state: En caso de que shuffle sea True, este hiperparámetro indica la semilla utilizada para las reordenaciones aleatorias. En este caso, no nos importa la semilla específica, por lo que se mantendrá el valor predeterminado, que es None (generación aleatoria de la semilla).\n",
        "\n",
        "+ verbose: Este hiperparámetro controla la cantidad de información que se muestra en el registro durante el entrenamiento. Como es principalmente informativo, se dejará en el valor predeterminado, que es 0.\n",
        "\n",
        "+ epsilon: Este hiperparámetro se utiliza en funciones de pérdida epsilon-insensibles, que no es el caso en nuestro escenario de regresión lineal. Por lo tanto, no es relevante y se mantendrá en el valor predeterminado.\n",
        "\n",
        "+ l1_ratio: Este hiperparámetro se refiere a la mezcla de regularización L1 y L2 en caso de utilizar la regularización \"Elastic-Net\". Como no vamos a utilizar esta regularización (no vista en teoría), se mantendrá en el valor predeterminado, que es 0.15.\n",
        "\n",
        "+ fit_intercept: Indica si se permite añadir una constante a la función de decisión. En la mayoría de los casos, es una buena práctica incluir esta constante, ya que amplía las posibilidades del algoritmo. Se mantendrá en True, que es el valor predeterminado.\n",
        "\n",
        "+ early_stopping: Este hiperparámetro se utiliza para detener el entrenamiento antes si la solución no mejora durante cierto número de épocas consecutivas. En nuestro caso, no necesitamos reducir el número de ejecuciones, ya que el entrenamiento no lleva mucho tiempo. Por lo tanto, se dejará en False, que es el valor predeterminado.\n",
        "\n",
        "+ validation_fraction: Este hiperparámetro determina el porcentaje de datos que se utilizará para validación en caso de usar early_stopping. Como no utilizamos early_stopping, este valor no es relevante y se mantendrá en el valor predeterminado.\n",
        "\n",
        "+ average: Indica si se debe almacenar la media de los pesos de todas las actualizaciones. No utilizaremos este valor en nuestro estudio, por lo que se mantendrá en el valor predeterminado.\n",
        "\n",
        "Antes de realizar el GridSearch, se realizarán experimentos para elegir los siguientes hiperparámetros:\n",
        "\n",
        "+ Tolerancia (tol): Este hiperparámetro establece el nivel de tolerancia en el cual se considera que la solución no ha empeorado. Se probarán diferentes valores para encontrar un punto en el que todos los modelos converjan y tengan un desempeño similar.\n",
        "\n",
        "+ Número de iteraciones sin cambio (n_iter_no_change): Este hiperparámetro determina cuántas veces consecutivas la solución no debe mejorar para detener la ejecución. Se buscará un valor que permita que los modelos converjan adecuadamente sin detenerse prematuramente.\n",
        "\n",
        "+ Número máximo de iteraciones (max_iter): Este hiperparámetro establece el número máximo de épocas o iteraciones que el algoritmo realizará durante el entrenamiento. Se explorarán diferentes valores para asegurarse de que todos los modelos tengan suficiente tiempo para converger.\n",
        "\n",
        "Una vez completados estos experimentos, se realizará el GridSearch para explorar otros hiperparámetros:\n",
        "\n",
        "+ Regularización (Penalty): Se probarán dos opciones, 'l1' y 'l2', para la regularización del modelo. La regularización 'elasticnet', que combina 'l1' y 'l2', no se considerará en esta práctica.\n",
        "\n",
        "+ Factor de regularización (alpha): Este hiperparámetro controla la fuerza de la regularización. Se probarán tres valores: 10 (regularización alta), 0.01 (regularización baja) y posiblemente otros valores para explorar más opciones si se observa una diferencia notable en el desempeño.\n",
        "\n",
        "+ Tasa de aprendizaje (Learning Rate): En este caso, se explorará la opción de mantener la tasa de aprendizaje constante (constant). Esto se debe a que explorar todas las combinaciones posibles de tasas de aprendizaje llevaría mucho tiempo. Sin embargo, después del GridSearch, se podrán probar diferentes combinaciones de tipos y valores de tasa de aprendizaje para mejorar aún más el rendimiento del modelo.\n",
        "\n",
        "+ Eta0: Este parámetro específico de la tasa de aprendizaje constante indica el valor de la tasa de aprendizaje. Se probarán tres valores: 0.001 (bajo) y 1 (alto), y se puede realizar una exploración más detallada en ese rango si se observa una mejora significativa.\n",
        "\n",
        "Después del GridSearch, se pueden realizar experimentos adicionales para explorar hiperparámetros relacionados con la tasa de aprendizaje, como los parámetros asociados al Learning Rate (eta0 y power_t), con el fin de mejorar aún más los resultados obtenidos.\n"
      ],
      "metadata": {
        "id": "Lq_dMoicqPPx"
      }
    },
    {
      "cell_type": "code",
      "source": [
        "from sklearn.linear_model import SGDRegressor"
      ],
      "metadata": {
        "id": "TWz5jPyHg77H"
      },
      "execution_count": 277,
      "outputs": []
    },
    {
      "cell_type": "markdown",
      "source": [
        "ANTES DEL GRIDSEARCH"
      ],
      "metadata": {
        "id": "dg11lbCdrP-G"
      }
    },
    {
      "cell_type": "code",
      "source": [
        "#SE USA UNA PEQUEÑA BATERÍA EXPERIMENTAL PARA HACER LAS ELECCIONES\n",
        "aux_train_data = X_train[:int(X_train.shape[0]*0.1)]\n",
        "aux_train_labels = y_train[:int(X_train.shape[0]*0.1)]\n",
        "aux_test_data = X_train[-int(X_train.shape[0]*0.1):-1]\n",
        "aux_test_labels = y_train[-int(X_train.shape[0]*0.1):-1]"
      ],
      "metadata": {
        "id": "InoOFDD_oyID"
      },
      "execution_count": 278,
      "outputs": []
    },
    {
      "cell_type": "markdown",
      "source": [
        "max_iter"
      ],
      "metadata": {
        "id": "AwN8jwhWrYZx"
      }
    },
    {
      "cell_type": "code",
      "source": [
        "w = SGDRegressor(max_iter=10000).fit(aux_train_data,aux_train_labels)\n",
        "print(w.n_iter_)"
      ],
      "metadata": {
        "colab": {
          "base_uri": "https://localhost:8080/"
        },
        "id": "9ZtoVSLWpIun",
        "outputId": "0e04f3ae-60c2-4a5c-d334-64e53d043fac"
      },
      "execution_count": 279,
      "outputs": [
        {
          "output_type": "stream",
          "name": "stdout",
          "text": [
            "6\n"
          ]
        },
        {
          "output_type": "stream",
          "name": "stderr",
          "text": [
            "/usr/local/lib/python3.10/dist-packages/sklearn/utils/validation.py:1143: DataConversionWarning: A column-vector y was passed when a 1d array was expected. Please change the shape of y to (n_samples, ), for example using ravel().\n",
            "  y = column_or_1d(y, warn=True)\n"
          ]
        }
      ]
    },
    {
      "cell_type": "markdown",
      "source": [
        "Converge en unas pocas iteraciones, así que el máximo en adelante se fijará a 100, lo cual parece suficiente."
      ],
      "metadata": {
        "id": "VQ8jUPtargn3"
      }
    },
    {
      "cell_type": "code",
      "source": [
        "max_iter = 100"
      ],
      "metadata": {
        "id": "J4TPqs_kpPNB"
      },
      "execution_count": 280,
      "outputs": []
    },
    {
      "cell_type": "markdown",
      "source": [
        "tol"
      ],
      "metadata": {
        "id": "CGbR6WBJro5C"
      }
    },
    {
      "cell_type": "markdown",
      "source": [
        "Ahora procederemos a encontrar el valor óptimo de tolerancia. Por lo general, a medida que disminuimos la tolerancia, es posible obtener mejores resultados, pero esto puede requerir más iteraciones del algoritmo. Sin embargo, existe un punto en el que reducir aún más la tolerancia no proporciona una mejora significativa en el desempeño del modelo. Nuestro objetivo es identificar ese punto óptimo de tolerancia en el que obtengamos un equilibrio entre el rendimiento del modelo y el número de iteraciones necesarias."
      ],
      "metadata": {
        "id": "TVKSOtRgrsTp"
      }
    },
    {
      "cell_type": "code",
      "source": [
        "w = SGDRegressor(max_iter=max_iter, tol=0.001).fit(aux_train_data,aux_train_labels)\n",
        "\n",
        "y_predicted = w.predict(aux_test_data)\n",
        "print(aux_train_labels)\n",
        "print(\"MSE: \", mean_squared_error(aux_test_labels, y_predicted))\n",
        "print(\"MAE: \", mean_absolute_error(aux_test_labels,y_predicted))\n",
        "# print(\"Accuracy: \", accuracy_score(aux_test_labels, np.round(y_predicted)))\n"
      ],
      "metadata": {
        "colab": {
          "base_uri": "https://localhost:8080/"
        },
        "id": "HcvbdSuRpW1N",
        "outputId": "d18f8acf-790c-4e84-d0c5-d7aebc099a0f"
      },
      "execution_count": 281,
      "outputs": [
        {
          "output_type": "stream",
          "name": "stdout",
          "text": [
            "           60\n",
            "4131   1700.0\n",
            "32028  1100.0\n",
            "30762  1700.0\n",
            "10452  1200.0\n",
            "13037   447.0\n",
            "...       ...\n",
            "38139  4600.0\n",
            "8748   4300.0\n",
            "11760   960.0\n",
            "27171  2700.0\n",
            "5652   2700.0\n",
            "\n",
            "[2973 rows x 1 columns]\n",
            "MSE:  9.565587895967068e+18\n",
            "MAE:  2379475477.470834\n"
          ]
        },
        {
          "output_type": "stream",
          "name": "stderr",
          "text": [
            "/usr/local/lib/python3.10/dist-packages/sklearn/utils/validation.py:1143: DataConversionWarning: A column-vector y was passed when a 1d array was expected. Please change the shape of y to (n_samples, ), for example using ravel().\n",
            "  y = column_or_1d(y, warn=True)\n"
          ]
        }
      ]
    },
    {
      "cell_type": "markdown",
      "source": [
        "Esta tolerancia anterior es la predeterminada por sklearn."
      ],
      "metadata": {
        "id": "8ucS0UM9p3J6"
      }
    },
    {
      "cell_type": "code",
      "source": [
        "w = SGDRegressor(max_iter=max_iter, tol=100).fit(aux_train_data,aux_train_labels)\n",
        "y_predicted = w.predict(aux_test_data)\n",
        "print(\"MSE: \", mean_squared_error(aux_test_labels, y_predicted))\n",
        "print(\"MAE: \", mean_absolute_error(aux_test_labels,y_predicted))\n",
        "# print(\"Accuracy: \", accuracy_score(aux_test_labels, np.round(y_predicted)))"
      ],
      "metadata": {
        "colab": {
          "base_uri": "https://localhost:8080/"
        },
        "id": "gcZhW9WQrags",
        "outputId": "c2ff4951-6d86-483a-dd0c-2485bb23a24f"
      },
      "execution_count": 282,
      "outputs": [
        {
          "output_type": "stream",
          "name": "stdout",
          "text": [
            "MSE:  1.878012518614532e+19\n",
            "MAE:  3416843857.6857567\n"
          ]
        },
        {
          "output_type": "stream",
          "name": "stderr",
          "text": [
            "/usr/local/lib/python3.10/dist-packages/sklearn/utils/validation.py:1143: DataConversionWarning: A column-vector y was passed when a 1d array was expected. Please change the shape of y to (n_samples, ), for example using ravel().\n",
            "  y = column_or_1d(y, warn=True)\n"
          ]
        }
      ]
    },
    {
      "cell_type": "markdown",
      "source": [
        "Como se puede observar anteriormente, incluso con una tolerancia extremadamente alta, los resultados obtenidos son prácticamente idénticos. Esto sugiere que nuestro problema de regresión converge muy rápidamente durante el entrenamiento del modelo. Hay varias posibilidades para esta rápida convergencia: podría ser debido a que la solución óptima es muy mala y se encuentra rápidamente, o puede ser que el problema en sí mismo sea relativamente fácil y la solución se encuentre fácilmente. La convergencia rápida puede ser una indicación tanto de la simplicidad del problema como de la eficacia del algoritmo de regresión lineal en este caso específico."
      ],
      "metadata": {
        "id": "F7cd0wrzp-OB"
      }
    },
    {
      "cell_type": "code",
      "source": [
        "w = SGDRegressor(max_iter=max_iter, tol=0.00001).fit(aux_train_data,aux_train_labels)\n",
        "y_predicted = w.predict(aux_test_data)\n",
        "print(\"MSE: \", mean_squared_error(aux_test_labels, y_predicted))\n",
        "print(\"MAE: \", mean_absolute_error(aux_test_labels,y_predicted))\n",
        "# print(\"Accuracy: \", accuracy_score(aux_test_labels, np.round(y_predicted)))"
      ],
      "metadata": {
        "colab": {
          "base_uri": "https://localhost:8080/"
        },
        "id": "qh_bCxwarg7g",
        "outputId": "d9267b3d-9f20-4a29-9c09-d3e733fa064c"
      },
      "execution_count": 283,
      "outputs": [
        {
          "output_type": "stream",
          "name": "stdout",
          "text": [
            "MSE:  4.180693240748557e+18\n",
            "MAE:  1558327714.5012126\n"
          ]
        },
        {
          "output_type": "stream",
          "name": "stderr",
          "text": [
            "/usr/local/lib/python3.10/dist-packages/sklearn/utils/validation.py:1143: DataConversionWarning: A column-vector y was passed when a 1d array was expected. Please change the shape of y to (n_samples, ), for example using ravel().\n",
            "  y = column_or_1d(y, warn=True)\n"
          ]
        }
      ]
    },
    {
      "cell_type": "markdown",
      "source": [
        "Al reducir drásticamente la tolerancia se ha determinado que el mejor valor posible ha sido 0.00001, así que en adelante se usará ese valor con SGDRegressor."
      ],
      "metadata": {
        "id": "lP_SVMnfqK8w"
      }
    },
    {
      "cell_type": "markdown",
      "source": [
        "n_iter_no_change"
      ],
      "metadata": {
        "id": "tyjKBIg4sIuG"
      }
    },
    {
      "cell_type": "markdown",
      "source": [
        "Por último, vamos a modificar el número de iteraciones seguidas sin mejorar que necesita el algoritmo antes de detenerse. Al igual que con tolerancia, mientras mayor sea el valor mejores serán los resultados."
      ],
      "metadata": {
        "id": "-mn9f2RKqrSS"
      }
    },
    {
      "cell_type": "code",
      "source": [
        "w = SGDRegressor(max_iter=max_iter, tol=0.00001, n_iter_no_change=5).fit(aux_train_data,aux_train_labels)\n",
        "y_predicted = w.predict(aux_test_data)\n",
        "print(\"MSE: \", mean_squared_error(aux_test_labels, y_predicted))\n",
        "print(\"MAE: \", mean_absolute_error(aux_test_labels,y_predicted))\n",
        "# print(\"Accuracy: \", accuracy_score(aux_test_labels, np.round(y_predicted)))"
      ],
      "metadata": {
        "colab": {
          "base_uri": "https://localhost:8080/"
        },
        "id": "zvAlRoq_roK3",
        "outputId": "a74ae9a0-c0d5-4a04-b0bf-9045b1cae3ca"
      },
      "execution_count": 284,
      "outputs": [
        {
          "output_type": "stream",
          "name": "stdout",
          "text": [
            "MSE:  3.141895218068177e+19\n",
            "MAE:  4285974346.2870345\n"
          ]
        },
        {
          "output_type": "stream",
          "name": "stderr",
          "text": [
            "/usr/local/lib/python3.10/dist-packages/sklearn/utils/validation.py:1143: DataConversionWarning: A column-vector y was passed when a 1d array was expected. Please change the shape of y to (n_samples, ), for example using ravel().\n",
            "  y = column_or_1d(y, warn=True)\n"
          ]
        }
      ]
    },
    {
      "cell_type": "markdown",
      "source": [
        "El anterior sería el predeterminado, que se toma como referencia."
      ],
      "metadata": {
        "id": "TIuIN-XsqvyC"
      }
    },
    {
      "cell_type": "code",
      "source": [
        "w = SGDRegressor(max_iter=max_iter, tol=0.00001, n_iter_no_change=1).fit(aux_train_data,aux_train_labels)\n",
        "y_predicted = w.predict(aux_test_data)\n",
        "print(\"MSE: \", mean_squared_error(aux_test_labels, y_predicted))\n",
        "print(\"MAE: \", mean_absolute_error(aux_test_labels,y_predicted))\n",
        "# print(\"Accuracy: \", accuracy_score(aux_test_labels, np.round(y_predicted)))"
      ],
      "metadata": {
        "colab": {
          "base_uri": "https://localhost:8080/"
        },
        "id": "9qmFdEbKT8SW",
        "outputId": "a86acf47-e9de-4ac5-ca6a-8d8cd0ac501a"
      },
      "execution_count": 285,
      "outputs": [
        {
          "output_type": "stream",
          "name": "stderr",
          "text": [
            "/usr/local/lib/python3.10/dist-packages/sklearn/utils/validation.py:1143: DataConversionWarning: A column-vector y was passed when a 1d array was expected. Please change the shape of y to (n_samples, ), for example using ravel().\n",
            "  y = column_or_1d(y, warn=True)\n"
          ]
        },
        {
          "output_type": "stream",
          "name": "stdout",
          "text": [
            "MSE:  243614171.0837953\n",
            "MAE:  4475.278406376338\n"
          ]
        }
      ]
    },
    {
      "cell_type": "code",
      "source": [
        "w = SGDRegressor(max_iter=max_iter, tol=0.00001, n_iter_no_change=100).fit(aux_train_data,aux_train_labels)\n",
        "y_predicted = w.predict(aux_test_data)\n",
        "print(\"MSE: \", mean_squared_error(aux_test_labels, y_predicted))\n",
        "print(\"MAE: \", mean_absolute_error(aux_test_labels,y_predicted))\n",
        "# print(\"Accuracy: \", accuracy_score(aux_test_labels, np.round(y_predicted)))"
      ],
      "metadata": {
        "colab": {
          "base_uri": "https://localhost:8080/"
        },
        "id": "lATl6OeTT8i0",
        "outputId": "85905367-6f2a-40a7-a746-31a250f8b795"
      },
      "execution_count": 286,
      "outputs": [
        {
          "output_type": "stream",
          "name": "stderr",
          "text": [
            "/usr/local/lib/python3.10/dist-packages/sklearn/utils/validation.py:1143: DataConversionWarning: A column-vector y was passed when a 1d array was expected. Please change the shape of y to (n_samples, ), for example using ravel().\n",
            "  y = column_or_1d(y, warn=True)\n",
            "/usr/local/lib/python3.10/dist-packages/sklearn/linear_model/_stochastic_gradient.py:1548: ConvergenceWarning: Maximum number of iteration reached before convergence. Consider increasing max_iter to improve the fit.\n",
            "  warnings.warn(\n"
          ]
        },
        {
          "output_type": "stream",
          "name": "stdout",
          "text": [
            "MSE:  1.813262010832432e+19\n",
            "MAE:  3331145872.882326\n"
          ]
        }
      ]
    },
    {
      "cell_type": "markdown",
      "source": [
        "El mejor resultado con diferencia se ha logrado al disminuir a 1 el parámetro, así que, en adelante, se usará este valor."
      ],
      "metadata": {
        "id": "eSYtVLCMq5wZ"
      }
    },
    {
      "cell_type": "markdown",
      "source": [
        "GRID SEARCH"
      ],
      "metadata": {
        "id": "VjhwWsecUR0v"
      }
    },
    {
      "cell_type": "markdown",
      "source": [
        "Realizaré la ejecución de un 5CV (validación cruzada con 5 divisiones) para cada una de las combinaciones de hiperparámetros que hemos considerado. Sin embargo, en lugar de comparar uno a uno todos los algoritmos, optaré por seleccionar automáticamente el mejor modelo.\n",
        "\n",
        "Es importante destacar que me habría gustado probar con más opciones de hiperparámetros, ya que explorar solo un par de valores para el learning rate y el factor de regularización limita la variedad de opciones. No obstante, debido a restricciones de tiempo y capacidad de cómputo, no ha sido posible ampliar el grid de búsqueda. En un escenario real, sería recomendable realizar un Gridsearch más exhaustivo.\n",
        "\n",
        "El criterio de selección que utilizaré será el Mejor Error Absoluto Medio (MAE, por sus siglas en inglés). La justificación para elegir este criterio se explicará en el siguiente apartado."
      ],
      "metadata": {
        "id": "bAwNS5vPrK85"
      }
    },
    {
      "cell_type": "code",
      "source": [
        "best_MAE = np.inf\n",
        "best_algoritmo = 'ERROR'\n",
        "\n",
        "for num_algoritmo in range(9):\n",
        "  MSE = 0\n",
        "  accuracy = 0\n",
        "  MAE = 0\n",
        "  for i in range(5):\n",
        "    train_x = X_train.iloc[cv_trains[i]].to_numpy()\n",
        "    train_y = y_train.iloc[cv_trains[i]].to_numpy().flatten()\n",
        "    test_x = X_train.iloc[cv_tests[i]].to_numpy()\n",
        "    test_y = y_train.iloc[cv_tests[i]].to_numpy().flatten()\n",
        "\n",
        "    if(num_algoritmo == 0): \n",
        "      w = LinearRegression(n_jobs=-1)\n",
        "      algoritmo = 'LinearRegression'\n",
        "    if(num_algoritmo == 1): \n",
        "      w = SGDRegressor(max_iter=100, penalty='l1', alpha=10, eta0=1, tol=0.00001, n_iter_no_change=1)\n",
        "      algoritmo = 'SGDRegressor con l1, alpha=10, eta0=1'\n",
        "    if(num_algoritmo == 2): \n",
        "      w = SGDRegressor(max_iter=100, penalty='l1', alpha=10, eta0=0.001, tol=0.00001, n_iter_no_change=1)\n",
        "      algoritmo = 'SGDRegressor con l1, alpha=10, eta0=0.001'\n",
        "    if(num_algoritmo == 3): \n",
        "      w = SGDRegressor(max_iter=100, penalty='l1', alpha=0.01, eta0=1, tol=0.00001, n_iter_no_change=1)\n",
        "      algoritmo = 'SGDRegressor con l1, alpha=10, eta0=1'\n",
        "    if(num_algoritmo == 4): \n",
        "      w = SGDRegressor(max_iter=100, penalty='l1', alpha=0.01, eta0=0.001, tol=0.00001, n_iter_no_change=1)\n",
        "      algoritmo = 'SGDRegressor con l1, alpha=0.01, eta0=0.001'\n",
        "    if(num_algoritmo == 5): \n",
        "      w = SGDRegressor(max_iter=100, penalty='l2', alpha=10, eta0=1, tol=0.00001, n_iter_no_change=1)\n",
        "      algoritmo = 'SGDRegressor con l2, alpha=10, eta0=1'\n",
        "    if(num_algoritmo == 6): \n",
        "      w = SGDRegressor(max_iter=100, penalty='l2', alpha=10, eta0=0.001, tol=0.00001, n_iter_no_change=1)\n",
        "      algoritmo = 'SGDRegressor con l2, alpha=10, eta0=1'\n",
        "    if(num_algoritmo == 7): \n",
        "      w = SGDRegressor(max_iter=100, penalty='l2', alpha=0.01, eta0=1, tol=0.00001, n_iter_no_change=1)\n",
        "      algoritmo = 'SGDRegressor con l2, alpha=0.01, eta0=1'\n",
        "    if(num_algoritmo == 8): \n",
        "      w = SGDRegressor(max_iter=100, penalty='l2', alpha=0.01, eta0=0.001, tol=0.00001, n_iter_no_change=1)\n",
        "      algoritmo = 'SGDRegressor con l2, alpha=0.01, eta0=0.001'\n",
        "\n",
        "    w = w.fit(train_x, train_y)\n",
        "    y_predicted = w.predict(test_x)\n",
        "\n",
        "  \n",
        "    MSE += mean_squared_error(test_y,y_predicted)\n",
        "    MAE += mean_absolute_error(test_y,y_predicted)\n",
        "  \n",
        "    \n",
        "    # accuracy += accuracy_score(test_y, np.round(y_predicted))\n",
        "  print('Algoritmo ', num_algoritmo, ' : ', algoritmo, '----------------')\n",
        "  print(\"MSE medio: \", MSE/5)\n",
        "  print(\"MAE medio: \", MAE/5)\n",
        "  # print(\"Accuracy medio: \", accuracy/5)\n",
        "  print()\n",
        "  if  (MAE/5 < best_MAE):\n",
        "      best_MAE = MAE/5\n",
        "      best_algoritmo = algoritmo\n",
        "print('El algoritmo que mejores resultados ha obtenido es el ', best_algoritmo, ', con un MAE de ', best_MAE)"
      ],
      "metadata": {
        "id": "qN7qVN3Eg9R_",
        "colab": {
          "base_uri": "https://localhost:8080/"
        },
        "outputId": "210c6efb-1e04-44b4-e643-8dd9a9ef7ea4"
      },
      "execution_count": 287,
      "outputs": [
        {
          "output_type": "stream",
          "name": "stdout",
          "text": [
            "Algoritmo  0  :  LinearRegression ----------------\n",
            "MSE medio:  175291652.28869748\n",
            "MAE medio:  3155.3115217612562\n",
            "\n",
            "Algoritmo  1  :  SGDRegressor con l1, alpha=10, eta0=1 ----------------\n",
            "MSE medio:  5.182198399458852e+24\n",
            "MAE medio:  1033346629188.7542\n",
            "\n",
            "Algoritmo  2  :  SGDRegressor con l1, alpha=10, eta0=0.001 ----------------\n",
            "MSE medio:  141876223.99140057\n",
            "MAE medio:  3114.8072758198214\n",
            "\n",
            "Algoritmo  3  :  SGDRegressor con l1, alpha=10, eta0=1 ----------------\n",
            "MSE medio:  2.786149642367774e+24\n",
            "MAE medio:  918797199230.5238\n",
            "\n",
            "Algoritmo  4  :  SGDRegressor con l1, alpha=0.01, eta0=0.001 ----------------\n",
            "MSE medio:  142529815.305139\n",
            "MAE medio:  3125.9338023333776\n",
            "\n",
            "Algoritmo  5  :  SGDRegressor con l2, alpha=10, eta0=1 ----------------\n",
            "MSE medio:  149873281.26092315\n",
            "MAE medio:  3252.907384262555\n",
            "\n",
            "Algoritmo  6  :  SGDRegressor con l2, alpha=10, eta0=1 ----------------\n",
            "MSE medio:  143119526.2789718\n",
            "MAE medio:  3183.9360177894637\n",
            "\n",
            "Algoritmo  7  :  SGDRegressor con l2, alpha=0.01, eta0=1 ----------------\n",
            "MSE medio:  1.0139182949905321e+24\n",
            "MAE medio:  635378133549.6134\n",
            "\n",
            "Algoritmo  8  :  SGDRegressor con l2, alpha=0.01, eta0=0.001 ----------------\n",
            "MSE medio:  141937656.78469902\n",
            "MAE medio:  3097.677914702212\n",
            "\n",
            "El algoritmo que mejores resultados ha obtenido es el  SGDRegressor con l2, alpha=0.01, eta0=0.001 , con un MAE de  3097.677914702212\n"
          ]
        }
      ]
    },
    {
      "cell_type": "markdown",
      "source": [
        "Efectivamente, al analizar los resultados obtenidos, podemos observar una gran variabilidad en función de los hiperparámetros elegidos. Encontramos resultados tanto muy malos como muy buenos.\n",
        "\n",
        "En última instancia, el mejor desempeño lo ha brindado el modelo SGDRegressor, aunque su mejora respecto a los mejores resultados de LinearRegression es mínima.\n",
        "\n",
        "Así que, por simplicidad del modelo, y por sus resultados prácticamente idénticos a SGD, se usará Regresión Lineal como hipótesis.\n",
        "\n",
        "También es interesante notar que el tipo de regularización no ha tenido un impacto significativo en los resultados de este problema en particular.\n",
        "\n",
        "Sin embargo, lo que parece ser determinante es el factor de regularización y el valor seleccionado para el learning rate. Por lo tanto, si decidimos continuar explorando con el SGDRegressor, sería recomendable experimentar con diferentes variaciones de estos parámetros para obtener un mejor rendimiento."
      ],
      "metadata": {
        "id": "6Mzo3VjevmmK"
      }
    },
    {
      "cell_type": "markdown",
      "source": [
        "Procesado Post-Gridsearch\n",
        "\n",
        "Como el algoritmo ganador, LinearRegression, no tiene parámetros a explorar en Post-Gridsearch, no será necesario hacer nada"
      ],
      "metadata": {
        "id": "YqkTRU-yVgP9"
      }
    },
    {
      "cell_type": "markdown",
      "source": [
        "#### <font color='blue'>7)  Selección de la mejor hipótesis para el problema. Discuta el enfoque seguido y el criterio de selección usado. ¿Cúal es su error $E_{out}$? 1 punto."
      ],
      "metadata": {
        "id": "wUknqHBtg8DP"
      }
    },
    {
      "cell_type": "markdown",
      "source": [
        "\n",
        "\n",
        "Para seleccionar la mejor hipótesis de entre todas las obtenidas, escogeré el que obtenga el mejor MAE promedio. Está claro que el MSE es una métrica importante, es la que se usa como función de pérdida. Pero si en última instancia lo que yo quiero es que el algoritmo acierte con la mayor precisión posible la fecha, la métrica que me interesa es cómo de lejos, de media, suele quedarse.\n",
        "\n",
        "Además, el MSE, al ser cuadrático, está altamente influenciado por el desbalanceo y por los extremos con pocos ejemplos que, como ya hemos visto, abundan en este problema.\n",
        "\n",
        "Así pues, usando MAE como criterio de selección, nos deberíamos quedar con SGD, pero dada la similitud con Regresión Lineal, se opta por esta última por el hecho de que hay mucha más simplicidad en los parámetros y en el algoritmo que implementa internamente..\n",
        "\n",
        "Y ahora deberíamos de clasificar el conjunto de entrenamiento. No obstante, antes de eso no se nos debe olvidar que tenemos que hacerle las transformaciones que le hemos hecho anteriormente al conjunto test, para que nuestro algoritmo pueda actuar correctamente.\n"
      ],
      "metadata": {
        "id": "GmhrOcqrVmqU"
      }
    },
    {
      "cell_type": "code",
      "source": [
        "g = LinearRegression(n_jobs=-1)\n",
        "g = g.fit(X_train, y_train)\n",
        "\n",
        "\n",
        "for i in X_test.columns:\n",
        "  X_test[i] = (X_test[i]-X_test[i].min())/(X_test[i].max() - X_test[i].min())\n",
        "pd_final_test_data = pd.DataFrame(modelo_pca.transform(X_test))"
      ],
      "metadata": {
        "id": "tch9k4mFg_KH"
      },
      "execution_count": 288,
      "outputs": []
    },
    {
      "cell_type": "code",
      "source": [
        "labels_predicted = g.predict(pd_final_test_data)\n",
        "\n",
        "MSE = mean_squared_error(y_test, labels_predicted)\n",
        "MAE = mean_absolute_error(y_test, labels_predicted)\n",
        "\n",
        "# accuracy = accuracy_score(y_test, np.round(labels_predicted))\n",
        "\n",
        "print(\"-------------Resultados obtenidos:----------------\")\n",
        "print()\n",
        "print(\"Error Cuadratico Medio: \", MSE)\n",
        "print(\"Error Absoluto Medio: \", MAE)"
      ],
      "metadata": {
        "colab": {
          "base_uri": "https://localhost:8080/"
        },
        "id": "5-HevDI6vcWM",
        "outputId": "e8529b75-c2cf-434f-b79b-8a6160b3d263"
      },
      "execution_count": 289,
      "outputs": [
        {
          "output_type": "stream",
          "name": "stdout",
          "text": [
            "-------------Resultados obtenidos:----------------\n",
            "\n",
            "Error Cuadratico Medio:  108178335.00214256\n",
            "Error Absoluto Medio:  3157.6925519238816\n"
          ]
        }
      ]
    },
    {
      "cell_type": "markdown",
      "source": [
        "\n",
        "\n",
        "\n",
        "El Eout estimado con test es Eout = **108178347.67336743**.\n",
        "\n",
        "Tenemos nuestros resultados finales y ahora nos interesa evaluar qué tan buenos son en comparación con los baselines. Los baselines son estimadores que utilizan heurísticas básicas para determinar cuán bien podríamos clasificar sin necesidad de entrenamiento. Dado que buscamos una referencia sencilla, no nos enfocaremos en heurísticas complejas, sino que optaremos por estimadores ingenuos. Estos estimadores utilizan métricas no muy complejas para proporcionar una estimación aceptable, como la media, la mediana y la moda.\n",
        "\n",
        "Vamos a calcular los valores de MSE (Mean Squared Error) y MAE (Mean Absolute Error) para cada uno de estos estimadores y compararlos con nuestros resultados finales.\n"
      ],
      "metadata": {
        "id": "9iSykQyYV5zo"
      }
    },
    {
      "cell_type": "code",
      "source": [
        "print(\"-------------Resultados obtenidos por nuestro clasificador:----------------\")\n",
        "print(\"Error Cuadratico Medio: \", MSE)\n",
        "print(\"Error Absoluto Medio: \", MAE)\n",
        "print()\n",
        "\n",
        "labels_predicted = np.full(y_test.shape[0], y_train.mean())\n",
        "\n",
        "MSE = mean_squared_error(y_test, labels_predicted)\n",
        "MAE = mean_absolute_error(y_test, labels_predicted)\n",
        "\n",
        "print(\"-------------Resultados obtenidos al clasificar con la media:----------------\")\n",
        "print(\"Error Cuadratico Medio: \", MSE)\n",
        "print(\"Error Absoluto Medio: \", MAE)\n",
        "print()\n",
        "\n",
        "\n",
        "labels_predicted = np.full(y_test.shape[0], y_train.median())\n",
        "\n",
        "MSE = mean_squared_error(y_test, labels_predicted)\n",
        "MAE = mean_absolute_error(y_test, labels_predicted)\n",
        "\n",
        "print(\"-------------Resultados obtenidos al clasificar con la mediana:----------------\")\n",
        "print(\"Error Cuadratico Medio: \", MSE)\n",
        "print(\"Error Absoluto Medio: \", MAE)\n",
        "print()\n",
        "\n",
        "from scipy.stats import mode #La moda deberemos importarla de scipy porque numpy no la tiene implementada\n",
        "labels_predicted = np.full(y_test.shape[0],mode(y_train)[0])\n",
        "\n",
        "MSE = mean_squared_error(y_test, labels_predicted)\n",
        "MAE = mean_absolute_error(y_test, labels_predicted)\n",
        "\n",
        "print(\"-------------Resultados obtenidos al clasificar con la moda:----------------\")\n",
        "print(\"Error Cuadratico Medio: \", MSE)\n",
        "print(\"Error Absoluto Medio: \", MAE)"
      ],
      "metadata": {
        "colab": {
          "base_uri": "https://localhost:8080/"
        },
        "id": "thZCTvAtV6-Q",
        "outputId": "c3fe0f3f-820a-43dd-bc8d-69d32f0887e6"
      },
      "execution_count": 290,
      "outputs": [
        {
          "output_type": "stream",
          "name": "stdout",
          "text": [
            "-------------Resultados obtenidos por nuestro clasificador:----------------\n",
            "Error Cuadratico Medio:  108178335.00214256\n",
            "Error Absoluto Medio:  3157.6925519238816\n",
            "\n",
            "-------------Resultados obtenidos al clasificar con la media:----------------\n",
            "Error Cuadratico Medio:  108721491.93551712\n",
            "Error Absoluto Medio:  3163.6282452521828\n",
            "\n",
            "-------------Resultados obtenidos al clasificar con la mediana:----------------\n",
            "Error Cuadratico Medio:  112533396.89143376\n",
            "Error Absoluto Medio:  2411.5466653213603\n",
            "\n",
            "-------------Resultados obtenidos al clasificar con la moda:----------------\n",
            "Error Cuadratico Medio:  113795328.3816971\n",
            "Error Absoluto Medio:  2458.7971950358187\n"
          ]
        },
        {
          "output_type": "stream",
          "name": "stderr",
          "text": [
            "<ipython-input-290-62958fcd00fd>:28: FutureWarning: Unlike other reduction functions (e.g. `skew`, `kurtosis`), the default behavior of `mode` typically preserves the axis it acts along. In SciPy 1.11.0, this behavior will change: the default value of `keepdims` will become False, the `axis` over which the statistic is taken will be eliminated, and the value None will no longer be accepted. Set `keepdims` to True or False to avoid this warning.\n",
            "  labels_predicted = np.full(y_test.shape[0],mode(y_train)[0])\n"
          ]
        }
      ]
    },
    {
      "cell_type": "markdown",
      "source": [
        "Nuestro modelo es peor que todos los baselines en términos de MAE pero mejor en términos de MSE, lo que parece lógico, puesto que Regresión Lineal entrena buscando minimizar este.\n",
        "\n",
        "Sin embargo, todo parece apuntar a que se ha ajustado un modelo pobre. La cuestión estaría en si los datos se han transformado adecuadamente o el dataset para este problema tiene la suficiente calidad. Además, tampoco se sabe si un MAE de 3000 dada la escala que presentan las etiquetas y lo dispersas que están (en el sentido de que la mayoría de artículos no tienen valores desmesurados de share) sería tan grave."
      ],
      "metadata": {
        "id": "ftDv3oOIcFN3"
      }
    },
    {
      "cell_type": "markdown",
      "source": [
        "#### <font color='blue'>8)  Construya las curvas de aprendizaje del modelo, y discuta la calidad del ajuste obtenido a la vista de la conducta de dichas curvas. 0.5 puntos. "
      ],
      "metadata": {
        "id": "3R044TTvg9Zf"
      }
    },
    {
      "cell_type": "markdown",
      "source": [
        "Para los errores se considera MSE no MAE. Esto es más correcto a nivel teórico."
      ],
      "metadata": {
        "id": "SJenFMaRdouW"
      }
    },
    {
      "cell_type": "code",
      "source": [
        "train_data = X_train.to_numpy()\n",
        "train_labels = y_train.to_numpy().flatten()\n",
        "indices = np.arange(train_data.shape[0])\n",
        "np.random.shuffle(indices)\n",
        "\n",
        "index_train = indices[int(len(indices)*0.1):]\n",
        "index_test = indices[:int(len(indices)*0.1)]\n",
        "\n",
        "curva_validacion_data = train_data[index_test]\n",
        "curva_validacion_labels = train_labels[index_test]\n",
        "curva_data = train_data[index_train]\n",
        "curva_labels = train_labels[index_train]\n",
        "\n",
        "eins = []\n",
        "eouts = []\n",
        "x = np.linspace(1, curva_data.shape[0],100)\n",
        "\n",
        "indices = np.arange(curva_data.shape[0])\n",
        "for num_datos in x:\n",
        "  np.random.shuffle(indices)\n",
        "  index_train = indices[:int(num_datos)]\n",
        "  train_x = curva_data[index_train]\n",
        "  train_y = curva_labels[index_train]\n",
        "\n",
        "  w = LinearRegression(n_jobs=-1).fit(train_x, train_y)\n",
        "\n",
        "  ein = mean_squared_error(train_y, w.predict(train_x))\n",
        "  eout = mean_squared_error(curva_validacion_labels, w.predict(curva_validacion_data))\n",
        "\n",
        "  eins.append(ein)\n",
        "  eouts.append(eout)\n",
        "  \n",
        "fig, ax = plt.subplots()\n",
        "\n",
        "ax.plot(x, eins, 'b-', label='Ein')\n",
        "ax.plot(x, eouts, 'r-', label='Eout')\n",
        "ax.set_title('Curvas de Aprendizaje')\n",
        "ax.set_xlabel('Número de datos')\n",
        "ax.set_ylabel('Error (MSE)');\n",
        "\n",
        "fig.legend()\n",
        "fig.show()"
      ],
      "metadata": {
        "id": "LeG_u0vmhA5P",
        "colab": {
          "base_uri": "https://localhost:8080/",
          "height": 500
        },
        "outputId": "36866b85-289c-44f9-a6c7-c5ea2e112f5f"
      },
      "execution_count": 291,
      "outputs": [
        {
          "output_type": "display_data",
          "data": {
            "text/plain": [
              "<Figure size 640x480 with 1 Axes>"
            ],
            "image/png": "[encoded data removed]"
          },
          "metadata": {}
        }
      ]
    },
    {
      "cell_type": "markdown",
      "source": [
        "El ajuste tarda en converger, si se le puede considerar así, ya que hay una diferencia notable entre los MSE.\n",
        "\n",
        "Lo que está claro, es que el modelo es de baja calidad y, claramente, en un problema donde se están manejando unos altos valores de share, un error en términos de MSE penaliza mucho. Además, todo parece indicar en que, según el análisis hecho, harían falta más datos para mejorar la calidad.\n",
        "\n",
        "Lo que está claro es que en el artículo asociado a la web del dataset, se presenta este problema como una clasificación en distintas categorías de share según ciertos umbrales, por lo que parecería lógico abordar esta práctica como un problema de clasificación y una vez estuvieran claros las pretensiones de la empresa que nos lo haya encargado, emplear uno u otro y en caso de emplear regresión, intentar dar otro enfoque para mejorar."
      ],
      "metadata": {
        "id": "bIRm2HYVd7HH"
      }
    },
    {
      "cell_type": "markdown",
      "source": [
        "#### <font color='blue'>9)  Suponga ahora que Ud. debe realizar este ajuste para una empresa que le ha proporcionado los datos, sin distinción entre training y test. ¿Cúal sería el mejor modelo que les propondría, y qué error  $E_{out}$ les diría que tiene? Justifique todas las decisiones. 0.5 puntos. "
      ],
      "metadata": {
        "id": "E_x9IPmEg_RX"
      }
    },
    {
      "cell_type": "markdown",
      "source": [
        "Basándonos en el enfoque seguido en esta práctica, se ha realizado la selección del modelo considerado más apropiado. Para evaluar la capacidad de generalización de dicho modelo, se ha empleado la aproximación de Eout utilizando Etest, lo cual brinda una medida confiable. A pesar de que esta aproximación implica una reducción en el tamaño del conjunto de entrenamiento, no ha supuesto un problema debido a la abundancia de ejemplos disponibles.\n",
        "\n",
        "Asimismo, se han considerado otras alternativas para obtener Eout, como emplear el conjunto de datos de entrenamiento (Ein) o calcular un promedio de los errores de validación (Ecv). Sin embargo, estas opciones no se acercan tanto a la obtención de Eout a partir de un conjunto de prueba lo suficientemente amplio. Estas prácticas suelen emplearse cuando los datos son escasos o valiosos, y no es factible destinar una parte del conjunto de entrenamiento para pruebas. En nuestro caso, esto no ha sido necesario.\n",
        "\n",
        "Por otro lado, la validación cruzada nos permite probar y evaluar la calidad del modelo seleccionado, lo que resulta conveniente en la mayoría de los casos. Solo se puede obviar en situaciones en las que los tiempos de ejecución sean extremadamente largos, como horas o días, especialmente si los conjuntos de datos son lo suficientemente grandes como para obtener resultados confiables. A esto se le conoce como \"hold-out\".\n",
        "\n",
        "La elección de cómo realizar la validación generalmente se reduce a seleccionar el número de particiones a utilizar. En general, la validación cruzada de 5 particiones (5-CV) es comúnmente utilizada debido a su fiabilidad demostrada a lo largo del tiempo y la experiencia acumulada. No obstante, siempre depende del conjunto de datos en cuestión, por lo que es necesario tener en cuenta algunos aspectos:\n",
        "\n",
        "+ Menos particiones implican una menor seguridad obtenida y validaciones con conjuntos más pequeños. Por lo tanto, en conjuntos de datos relativamente grandes y costosos en términos de tiempo, a veces se opta por utilizar un 3-CV o incluso un 1-CV.\n",
        "\n",
        "+ Por otro lado, utilizar más particiones aumenta la seguridad de que la calidad del modelo sea real y no simplemente producto de la aleatoriedad. Sin embargo, también se incrementa el tiempo de ejecución debido al mayor número de validaciones requeridas. Este enfoque suele emplearse cuando los conjuntos de datos son pequeños o cuando no se va a utilizar un conjunto de prueba, por lo que el cálculo de Eout se basará en Ecv. En casos extremos, se puede utilizar la técnica de \"leave-one-out\", donde se realizan tantas particiones como datos disponibles, entrenando en cada iteración con casi todos los datos y validando con un solo dato. Esta técnica se utiliza cuando hay muy pocos datos y no se puede destinar una partición para el conjunto de prueba, y se requiere la máxima precisión posible.\n",
        "\n",
        "Dado que no tenemos restricciones de tiempo y disponemos de una cantidad generosa de ejemplos, no es necesario disminuir ni aumentar el número de particiones. La validación cruzada de 5 particiones será una elección adecuada en nuestro caso.\n",
        "\n",
        "Después de seguir el proceso en esta práctica, se ha obtenido una solución con un Eout de 108178347.67336743, en términos de MSE. Sin embargo, es importante mencionar que también se debe tener en cuenta el MAE y considerar que las etiquetas se encuentran en un rango muy amplio, lo cual penaliza significativamente el error cuadrático.\n",
        "\n",
        "La cuestión estaría en si 3000 de MSE es suficiente para la empresa y para el significado del dato que se está prediciendo."
      ],
      "metadata": {
        "id": "djbcObsg6OWi"
      }
    },
    {
      "cell_type": "markdown",
      "source": [
        "# REFLEXIONES FINALES\n"
      ],
      "metadata": {
        "id": "d-qwrvZht9Ww"
      }
    },
    {
      "cell_type": "markdown",
      "source": [
        "El proceso de selección, ajuste y entrenamiento de un modelo se presenta como un desafío de naturaleza compleja y prolongada, sin garantía de obtener resultados óptimos. Existen numerosos factores a considerar y decisiones a tomar, lo que conduce a la imposibilidad de explorar exhaustivamente todas las opciones disponibles. Frecuentemente, nuestras decisiones carecen de respaldo empírico, requiriendo el equilibrio entre tiempo, pruebas, conocimiento e incluso intuición.\n",
        "\n",
        "Si se dispusiera de un mayor período de tiempo, se podrían llevar a cabo mejoras y pruebas adicionales. Entre las posibilidades se encuentra la implementación de mecanismos destinados a abordar los valores atípicos, los cuales pueden tener un impacto negativo en el análisis de componentes principales (PCA) y en el error cuadrático medio (MSE). Asimismo, sería valioso explorar otros valores para PCA, ampliar los parámetros de los algoritmos (particularmente las tasas de aprendizaje y las ponderaciones para SGDRegressor), así como aplicar transformaciones polinomiales.\n",
        "\n",
        "En última instancia, este problema se caracteriza por su complejidad infinita y la ausencia de una única forma correcta de abordarlo."
      ],
      "metadata": {
        "id": "Q22S1IenuAsm"
      }
    },
    {
      "cell_type": "markdown",
      "source": [
        "# APÉNDICE\n",
        "\n",
        "Me gustaría comentar brevemente un problema que se tuvo con la realización de la práctica.\n",
        "\n",
        "Al principio, se hizo la transformación logarítmica de las etiquetas de la cual se ha hablado en este cuaderno. No obstante, la transformación inversa para mostrar las métricas se estaba realizando de manera errónea, ya que, no se en que momento pensé que si aplico $log(x)$ y resulta $y$, podría obtener la $x$ haciendo $y^e$, lo cual es un error flagrante fácilmente detectable con lo siguiente: $log(e) = 1$ y $1^e \\neq e$. Claramente, la transformación sería hacer $e^y$.\n",
        "\n",
        "Al cambiar la práctica para contemplar este hecho, se produjeron numerosos errores de desbordamiento al hacer la exponencial de las etiquetas predichas en cv y experimentos anteriores, por lo que se optó por no hacer la transformación pero al menos discutirla en el cuaderno, porque es algo acerca de lo que indagué bastante y al menos me hubiera gustado emplearlo, pero por falta de tiempo, no va a ser posible."
      ],
      "metadata": {
        "id": "pLT2NuAoTSzi"
      }
    }
  ]
}