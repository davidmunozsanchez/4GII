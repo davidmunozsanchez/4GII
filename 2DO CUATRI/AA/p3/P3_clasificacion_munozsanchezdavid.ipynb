{
  "nbformat": 4,
  "nbformat_minor": 0,
  "metadata": {
    "colab": {
      "provenance": []
    },
    "kernelspec": {
      "name": "python3",
      "display_name": "Python 3"
    },
    "language_info": {
      "name": "python"
    }
  },
  "cells": [
    {
      "cell_type": "markdown",
      "source": [
        "# Aprendizaje Automático - Práctica 3 - Ajuste de Modelos Lineales\n",
        "\n",
        "# Problema de Clasificación\n",
        "\n",
        "#### Valoración máxima: 6 puntos \n",
        "\n",
        "#### Fecha límite de entrega: 4 de Junio de 2023 a las 23:59\n",
        "\n",
        "#### Entrega a través de https://pradogrado2223.ugr.es/\n",
        "\n",
        "### Nombre completo: <mark>DAVID MUÑOZ SÁNCHEZ</mark>\n",
        "\n",
        "\n",
        "\n",
        "---"
      ],
      "metadata": {
        "id": "VvcaSf5uskbO"
      }
    },
    {
      "cell_type": "markdown",
      "source": [
        "**Normas de desarrollo y entrega de trabajos**\n",
        "\n",
        "- Única y exclusivamente se debe entregar este Notebook de Colab (fichero .ipynb). No es necesario entregar ninguna memoria externa, pero el código debe estar bien comentado, y todas las decisiones tomadas y el trabajo desarrollado deben documentarse suficientemente en celdas de texto. \n",
        "\n",
        "- La entrega en PRADO está configurada para permitir sucesivas entregas de la práctica. Desde este punto de vista, se recomienda subir versiones de la práctica a medida que se van realizando los distintos ejercicios propuestos, y no dejarlo todo para el final, dado que es altamente improbable que se extienda la fecha de entrega.  \n",
        "\n",
        "- Reiterar que es obligatorio documentar las valoraciones y decisiones adoptadas en el desarrollo de cada uno de los apartados. Debe incluirse también una valoración razonada sobre la calidad de los\n",
        "resultados obtenidos. Sin esta documentación, se considera que el trabajo NO ha sido presentado. \n",
        "\n",
        "- Se debe respetar la estructura y secciones del Notebook. Esto servirá para agilizar las correcciones, así como para identificar con facilidad qué ejercicio/apartado se está respondiendo. \n",
        "\n",
        "- El codigo NO puede escribir nada a disco.\n",
        "\n",
        "- Se espera que el código siempre lea de un directorio llamado 'drive/MyDrive/Colab Notebooks/datos/', situado dentro del directorio donde se desarrolla y ejecuta la práctica. No se admiten excepciones a esta ruta de acceso a los datos. \n",
        "\n",
        "- Una entrega es apta para ser corregida si se puede ejecutar de principio a fin sin errores.\n",
        "\n",
        "- No es válido usar opciones en las entradas (es decir, utilizar el comando `input`, por ejemplo, para que el usuario escoja el valor de las variables para ejecutar el programa). Para ello, se deben fijar al comienzo los valores\n",
        "por defecto que se consideren óptimos o que se soliciten en el enunciado.\n",
        "\n",
        "- El código debe estar obligatoriamente comentado explicando lo que realizan los distintos apartados y/o bloques.\n",
        "\n",
        "- Se entrega solamente este Notebook, y no los datos empleados.\n",
        "\n",
        "\n",
        "---"
      ],
      "metadata": {
        "id": "rqJiCKQ2s84e"
      }
    },
    {
      "cell_type": "markdown",
      "source": [
        "<font color='blue'>Este trabajo  se centra en el ajuste y selección del mejor predictor lineal para un conjunto de datos dado. Para ello, se recomienda el uso de la librería Scikit-Learn (https://scikit-learn.org/). Esta librería contiene funciones de alto nivel que pueden ser muy útiles para el desarrollo de la práctica. En cualquier caso, para cada función de Scikit-Learn que se use, debe explicar por qué es necesario su uso, así como explicar su funcionamiento y el significado de todos sus parámetros. En relación con este punto, los valores por defecto en la librería no se consideran elecciones justificadas $\\textit{a priori}$ y, al igual que en el resto de la práctica, decisiones sin justificación y resultados sin interpretación no serán considerados válidos. \n",
        "\n"
      ],
      "metadata": {
        "id": "oVNyPZGSwKCF"
      }
    },
    {
      "cell_type": "markdown",
      "source": [
        "Lo primero a tener en cuenta: se nos da el DataSet en varias partes. Por así decirlo, hay uno completo, y otro para el cuál las etiquetas vienen separadas. Estos dos últimos se uniran por columnas y el conjunto resultante se unirá por filas al primero."
      ],
      "metadata": {
        "id": "_Qzio5CyfAmX"
      }
    },
    {
      "cell_type": "code",
      "source": [
        "import pandas as pd\n",
        "import numpy as np\n",
        "from google.colab import drive\n",
        "import matplotlib.pyplot as plt\n",
        "drive.mount('/content/drive')\n",
        "\n",
        "etiq_data2 = pd.read_csv(\"drive/MyDrive/Colab Notebooks/datos/tictgts2000.txt\", sep=' ', low_memory=False, header=None)\n",
        "data2 = pd.read_csv(\"drive/MyDrive/Colab Notebooks/datos/ticeval2000.txt\", sep='\\t', low_memory=False, header=None)\n",
        "data1 = pd.read_csv(\"drive/MyDrive/Colab Notebooks/datos/ticdata2000.txt\", sep='\\t', low_memory=False, header=None)\n",
        "\n",
        "etiq_data2[85] = etiq_data2[0]\n",
        "del etiq_data2[0]\n",
        "\n",
        "resultado1 = pd.concat([data2, etiq_data2], axis=1)\n",
        "\n",
        "resultado = pd.concat([data1,resultado1],axis=0)\n",
        "\n",
        "resultado\n"
      ],
      "metadata": {
        "colab": {
          "base_uri": "https://localhost:8080/",
          "height": 505
        },
        "id": "euPEH-FVfOuE",
        "outputId": "1474555f-28ae-4a8e-df28-9a1cee63ae33"
      },
      "execution_count": 98,
      "outputs": [
        {
          "output_type": "stream",
          "name": "stdout",
          "text": [
            "Drive already mounted at /content/drive; to attempt to forcibly remount, call drive.mount(\"/content/drive\", force_remount=True).\n"
          ]
        },
        {
          "output_type": "execute_result",
          "data": {
            "text/plain": [
              "      0   1   2   3   4   5   6   7   8   9   ...  76  77  78  79  80  81  82  \\\n",
              "0     33   1   3   2   8   0   5   1   3   7  ...   0   0   0   1   0   0   0   \n",
              "1     37   1   2   2   8   1   4   1   4   6  ...   0   0   0   1   0   0   0   \n",
              "2     37   1   2   2   8   0   4   2   4   3  ...   0   0   0   1   0   0   0   \n",
              "3      9   1   3   3   3   2   3   2   4   5  ...   0   0   0   1   0   0   0   \n",
              "4     40   1   4   2  10   1   4   1   4   7  ...   0   0   0   1   0   0   0   \n",
              "...   ..  ..  ..  ..  ..  ..  ..  ..  ..  ..  ...  ..  ..  ..  ..  ..  ..  ..   \n",
              "3995  33   1   2   4   8   0   7   2   0   5  ...   0   0   0   1   0   0   0   \n",
              "3996  24   1   2   3   5   1   5   1   3   4  ...   0   0   0   1   0   0   0   \n",
              "3997  36   1   2   3   8   1   5   1   3   7  ...   0   0   0   1   0   0   0   \n",
              "3998  33   1   3   3   8   1   4   2   3   7  ...   0   0   0   0   0   0   0   \n",
              "3999   8   1   2   3   2   4   3   0   3   5  ...   0   0   0   1   0   0   0   \n",
              "\n",
              "      83  84  85  \n",
              "0      0   0   0  \n",
              "1      0   0   0  \n",
              "2      0   0   0  \n",
              "3      0   0   0  \n",
              "4      0   0   0  \n",
              "...   ..  ..  ..  \n",
              "3995   0   0   0  \n",
              "3996   0   0   1  \n",
              "3997   1   0   0  \n",
              "3998   0   0   0  \n",
              "3999   0   0   0  \n",
              "\n",
              "[9822 rows x 86 columns]"
            ],
            "text/html": [
              "\n",
              "  <div id=\"df-fd502e1b-8632-4f7a-bdf5-2aac86154aa9\">\n",
              "    <div class=\"colab-df-container\">\n",
              "      <div>\n",
              "<style scoped>\n",
              "    .dataframe tbody tr th:only-of-type {\n",
              "        vertical-align: middle;\n",
              "    }\n",
              "\n",
              "    .dataframe tbody tr th {\n",
              "        vertical-align: top;\n",
              "    }\n",
              "\n",
              "    .dataframe thead th {\n",
              "        text-align: right;\n",
              "    }\n",
              "</style>\n",
              "<table border=\"1\" class=\"dataframe\">\n",
              "  <thead>\n",
              "    <tr style=\"text-align: right;\">\n",
              "      <th></th>\n",
              "      <th>0</th>\n",
              "      <th>1</th>\n",
              "      <th>2</th>\n",
              "      <th>3</th>\n",
              "      <th>4</th>\n",
              "      <th>5</th>\n",
              "      <th>6</th>\n",
              "      <th>7</th>\n",
              "      <th>8</th>\n",
              "      <th>9</th>\n",
              "      <th>...</th>\n",
              "      <th>76</th>\n",
              "      <th>77</th>\n",
              "      <th>78</th>\n",
              "      <th>79</th>\n",
              "      <th>80</th>\n",
              "      <th>81</th>\n",
              "      <th>82</th>\n",
              "      <th>83</th>\n",
              "      <th>84</th>\n",
              "      <th>85</th>\n",
              "    </tr>\n",
              "  </thead>\n",
              "  <tbody>\n",
              "    <tr>\n",
              "      <th>0</th>\n",
              "      <td>33</td>\n",
              "      <td>1</td>\n",
              "      <td>3</td>\n",
              "      <td>2</td>\n",
              "      <td>8</td>\n",
              "      <td>0</td>\n",
              "      <td>5</td>\n",
              "      <td>1</td>\n",
              "      <td>3</td>\n",
              "      <td>7</td>\n",
              "      <td>...</td>\n",
              "      <td>0</td>\n",
              "      <td>0</td>\n",
              "      <td>0</td>\n",
              "      <td>1</td>\n",
              "      <td>0</td>\n",
              "      <td>0</td>\n",
              "      <td>0</td>\n",
              "      <td>0</td>\n",
              "      <td>0</td>\n",
              "      <td>0</td>\n",
              "    </tr>\n",
              "    <tr>\n",
              "      <th>1</th>\n",
              "      <td>37</td>\n",
              "      <td>1</td>\n",
              "      <td>2</td>\n",
              "      <td>2</td>\n",
              "      <td>8</td>\n",
              "      <td>1</td>\n",
              "      <td>4</td>\n",
              "      <td>1</td>\n",
              "      <td>4</td>\n",
              "      <td>6</td>\n",
              "      <td>...</td>\n",
              "      <td>0</td>\n",
              "      <td>0</td>\n",
              "      <td>0</td>\n",
              "      <td>1</td>\n",
              "      <td>0</td>\n",
              "      <td>0</td>\n",
              "      <td>0</td>\n",
              "      <td>0</td>\n",
              "      <td>0</td>\n",
              "      <td>0</td>\n",
              "    </tr>\n",
              "    <tr>\n",
              "      <th>2</th>\n",
              "      <td>37</td>\n",
              "      <td>1</td>\n",
              "      <td>2</td>\n",
              "      <td>2</td>\n",
              "      <td>8</td>\n",
              "      <td>0</td>\n",
              "      <td>4</td>\n",
              "      <td>2</td>\n",
              "      <td>4</td>\n",
              "      <td>3</td>\n",
              "      <td>...</td>\n",
              "      <td>0</td>\n",
              "      <td>0</td>\n",
              "      <td>0</td>\n",
              "      <td>1</td>\n",
              "      <td>0</td>\n",
              "      <td>0</td>\n",
              "      <td>0</td>\n",
              "      <td>0</td>\n",
              "      <td>0</td>\n",
              "      <td>0</td>\n",
              "    </tr>\n",
              "    <tr>\n",
              "      <th>3</th>\n",
              "      <td>9</td>\n",
              "      <td>1</td>\n",
              "      <td>3</td>\n",
              "      <td>3</td>\n",
              "      <td>3</td>\n",
              "      <td>2</td>\n",
              "      <td>3</td>\n",
              "      <td>2</td>\n",
              "      <td>4</td>\n",
              "      <td>5</td>\n",
              "      <td>...</td>\n",
              "      <td>0</td>\n",
              "      <td>0</td>\n",
              "      <td>0</td>\n",
              "      <td>1</td>\n",
              "      <td>0</td>\n",
              "      <td>0</td>\n",
              "      <td>0</td>\n",
              "      <td>0</td>\n",
              "      <td>0</td>\n",
              "      <td>0</td>\n",
              "    </tr>\n",
              "    <tr>\n",
              "      <th>4</th>\n",
              "      <td>40</td>\n",
              "      <td>1</td>\n",
              "      <td>4</td>\n",
              "      <td>2</td>\n",
              "      <td>10</td>\n",
              "      <td>1</td>\n",
              "      <td>4</td>\n",
              "      <td>1</td>\n",
              "      <td>4</td>\n",
              "      <td>7</td>\n",
              "      <td>...</td>\n",
              "      <td>0</td>\n",
              "      <td>0</td>\n",
              "      <td>0</td>\n",
              "      <td>1</td>\n",
              "      <td>0</td>\n",
              "      <td>0</td>\n",
              "      <td>0</td>\n",
              "      <td>0</td>\n",
              "      <td>0</td>\n",
              "      <td>0</td>\n",
              "    </tr>\n",
              "    <tr>\n",
              "      <th>...</th>\n",
              "      <td>...</td>\n",
              "      <td>...</td>\n",
              "      <td>...</td>\n",
              "      <td>...</td>\n",
              "      <td>...</td>\n",
              "      <td>...</td>\n",
              "      <td>...</td>\n",
              "      <td>...</td>\n",
              "      <td>...</td>\n",
              "      <td>...</td>\n",
              "      <td>...</td>\n",
              "      <td>...</td>\n",
              "      <td>...</td>\n",
              "      <td>...</td>\n",
              "      <td>...</td>\n",
              "      <td>...</td>\n",
              "      <td>...</td>\n",
              "      <td>...</td>\n",
              "      <td>...</td>\n",
              "      <td>...</td>\n",
              "      <td>...</td>\n",
              "    </tr>\n",
              "    <tr>\n",
              "      <th>3995</th>\n",
              "      <td>33</td>\n",
              "      <td>1</td>\n",
              "      <td>2</td>\n",
              "      <td>4</td>\n",
              "      <td>8</td>\n",
              "      <td>0</td>\n",
              "      <td>7</td>\n",
              "      <td>2</td>\n",
              "      <td>0</td>\n",
              "      <td>5</td>\n",
              "      <td>...</td>\n",
              "      <td>0</td>\n",
              "      <td>0</td>\n",
              "      <td>0</td>\n",
              "      <td>1</td>\n",
              "      <td>0</td>\n",
              "      <td>0</td>\n",
              "      <td>0</td>\n",
              "      <td>0</td>\n",
              "      <td>0</td>\n",
              "      <td>0</td>\n",
              "    </tr>\n",
              "    <tr>\n",
              "      <th>3996</th>\n",
              "      <td>24</td>\n",
              "      <td>1</td>\n",
              "      <td>2</td>\n",
              "      <td>3</td>\n",
              "      <td>5</td>\n",
              "      <td>1</td>\n",
              "      <td>5</td>\n",
              "      <td>1</td>\n",
              "      <td>3</td>\n",
              "      <td>4</td>\n",
              "      <td>...</td>\n",
              "      <td>0</td>\n",
              "      <td>0</td>\n",
              "      <td>0</td>\n",
              "      <td>1</td>\n",
              "      <td>0</td>\n",
              "      <td>0</td>\n",
              "      <td>0</td>\n",
              "      <td>0</td>\n",
              "      <td>0</td>\n",
              "      <td>1</td>\n",
              "    </tr>\n",
              "    <tr>\n",
              "      <th>3997</th>\n",
              "      <td>36</td>\n",
              "      <td>1</td>\n",
              "      <td>2</td>\n",
              "      <td>3</td>\n",
              "      <td>8</td>\n",
              "      <td>1</td>\n",
              "      <td>5</td>\n",
              "      <td>1</td>\n",
              "      <td>3</td>\n",
              "      <td>7</td>\n",
              "      <td>...</td>\n",
              "      <td>0</td>\n",
              "      <td>0</td>\n",
              "      <td>0</td>\n",
              "      <td>1</td>\n",
              "      <td>0</td>\n",
              "      <td>0</td>\n",
              "      <td>0</td>\n",
              "      <td>1</td>\n",
              "      <td>0</td>\n",
              "      <td>0</td>\n",
              "    </tr>\n",
              "    <tr>\n",
              "      <th>3998</th>\n",
              "      <td>33</td>\n",
              "      <td>1</td>\n",
              "      <td>3</td>\n",
              "      <td>3</td>\n",
              "      <td>8</td>\n",
              "      <td>1</td>\n",
              "      <td>4</td>\n",
              "      <td>2</td>\n",
              "      <td>3</td>\n",
              "      <td>7</td>\n",
              "      <td>...</td>\n",
              "      <td>0</td>\n",
              "      <td>0</td>\n",
              "      <td>0</td>\n",
              "      <td>0</td>\n",
              "      <td>0</td>\n",
              "      <td>0</td>\n",
              "      <td>0</td>\n",
              "      <td>0</td>\n",
              "      <td>0</td>\n",
              "      <td>0</td>\n",
              "    </tr>\n",
              "    <tr>\n",
              "      <th>3999</th>\n",
              "      <td>8</td>\n",
              "      <td>1</td>\n",
              "      <td>2</td>\n",
              "      <td>3</td>\n",
              "      <td>2</td>\n",
              "      <td>4</td>\n",
              "      <td>3</td>\n",
              "      <td>0</td>\n",
              "      <td>3</td>\n",
              "      <td>5</td>\n",
              "      <td>...</td>\n",
              "      <td>0</td>\n",
              "      <td>0</td>\n",
              "      <td>0</td>\n",
              "      <td>1</td>\n",
              "      <td>0</td>\n",
              "      <td>0</td>\n",
              "      <td>0</td>\n",
              "      <td>0</td>\n",
              "      <td>0</td>\n",
              "      <td>0</td>\n",
              "    </tr>\n",
              "  </tbody>\n",
              "</table>\n",
              "<p>9822 rows × 86 columns</p>\n",
              "</div>\n",
              "      <button class=\"colab-df-convert\" onclick=\"convertToInteractive('df-fd502e1b-8632-4f7a-bdf5-2aac86154aa9')\"\n",
              "              title=\"Convert this dataframe to an interactive table.\"\n",
              "              style=\"display:none;\">\n",
              "        \n",
              "  <svg xmlns=\"http://www.w3.org/2000/svg\" height=\"24px\"viewBox=\"0 0 24 24\"\n",
              "       width=\"24px\">\n",
              "    <path d=\"M0 0h24v24H0V0z\" fill=\"none\"/>\n",
              "    <path d=\"M18.56 5.44l.94 2.06.94-2.06 2.06-.94-2.06-.94-.94-2.06-.94 2.06-2.06.94zm-11 1L8.5 8.5l.94-2.06 2.06-.94-2.06-.94L8.5 2.5l-.94 2.06-2.06.94zm10 10l.94 2.06.94-2.06 2.06-.94-2.06-.94-.94-2.06-.94 2.06-2.06.94z\"/><path d=\"M17.41 7.96l-1.37-1.37c-.4-.4-.92-.59-1.43-.59-.52 0-1.04.2-1.43.59L10.3 9.45l-7.72 7.72c-.78.78-.78 2.05 0 2.83L4 21.41c.39.39.9.59 1.41.59.51 0 1.02-.2 1.41-.59l7.78-7.78 2.81-2.81c.8-.78.8-2.07 0-2.86zM5.41 20L4 18.59l7.72-7.72 1.47 1.35L5.41 20z\"/>\n",
              "  </svg>\n",
              "      </button>\n",
              "      \n",
              "  <style>\n",
              "    .colab-df-container {\n",
              "      display:flex;\n",
              "      flex-wrap:wrap;\n",
              "      gap: 12px;\n",
              "    }\n",
              "\n",
              "    .colab-df-convert {\n",
              "      background-color: #E8F0FE;\n",
              "      border: none;\n",
              "      border-radius: 50%;\n",
              "      cursor: pointer;\n",
              "      display: none;\n",
              "      fill: #1967D2;\n",
              "      height: 32px;\n",
              "      padding: 0 0 0 0;\n",
              "      width: 32px;\n",
              "    }\n",
              "\n",
              "    .colab-df-convert:hover {\n",
              "      background-color: #E2EBFA;\n",
              "      box-shadow: 0px 1px 2px rgba(60, 64, 67, 0.3), 0px 1px 3px 1px rgba(60, 64, 67, 0.15);\n",
              "      fill: #174EA6;\n",
              "    }\n",
              "\n",
              "    [theme=dark] .colab-df-convert {\n",
              "      background-color: #3B4455;\n",
              "      fill: #D2E3FC;\n",
              "    }\n",
              "\n",
              "    [theme=dark] .colab-df-convert:hover {\n",
              "      background-color: #434B5C;\n",
              "      box-shadow: 0px 1px 3px 1px rgba(0, 0, 0, 0.15);\n",
              "      filter: drop-shadow(0px 1px 2px rgba(0, 0, 0, 0.3));\n",
              "      fill: #FFFFFF;\n",
              "    }\n",
              "  </style>\n",
              "\n",
              "      <script>\n",
              "        const buttonEl =\n",
              "          document.querySelector('#df-fd502e1b-8632-4f7a-bdf5-2aac86154aa9 button.colab-df-convert');\n",
              "        buttonEl.style.display =\n",
              "          google.colab.kernel.accessAllowed ? 'block' : 'none';\n",
              "\n",
              "        async function convertToInteractive(key) {\n",
              "          const element = document.querySelector('#df-fd502e1b-8632-4f7a-bdf5-2aac86154aa9');\n",
              "          const dataTable =\n",
              "            await google.colab.kernel.invokeFunction('convertToInteractive',\n",
              "                                                     [key], {});\n",
              "          if (!dataTable) return;\n",
              "\n",
              "          const docLinkHtml = 'Like what you see? Visit the ' +\n",
              "            '<a target=\"_blank\" href=https://colab.research.google.com/notebooks/data_table.ipynb>data table notebook</a>'\n",
              "            + ' to learn more about interactive tables.';\n",
              "          element.innerHTML = '';\n",
              "          dataTable['output_type'] = 'display_data';\n",
              "          await google.colab.output.renderOutput(dataTable, element);\n",
              "          const docLink = document.createElement('div');\n",
              "          docLink.innerHTML = docLinkHtml;\n",
              "          element.appendChild(docLink);\n",
              "        }\n",
              "      </script>\n",
              "    </div>\n",
              "  </div>\n",
              "  "
            ]
          },
          "metadata": {},
          "execution_count": 98
        }
      ]
    },
    {
      "cell_type": "code",
      "source": [
        "#ahora hay que ver valores faltantes\n",
        "\n",
        "print(resultado.to_numpy().dtype)\n",
        "\n",
        "def verificar_nan(dataset):\n",
        "    if dataset.isnull().values.any():\n",
        "        print(\"El dataset contiene valores NaN\")\n",
        "    else:\n",
        "        print(\"El dataset no contiene valores NaN\")\n",
        "def verificar_inf(dataset):\n",
        "    if dataset.isin([float('inf'), float('-inf')]).any().any():\n",
        "        print(\"El dataset contiene valores infinitos\")\n",
        "    else:\n",
        "        print(\"El dataset no contiene valores infinitos\")\n",
        "verificar_inf(resultado)\n",
        "verificar_nan(resultado)"
      ],
      "metadata": {
        "colab": {
          "base_uri": "https://localhost:8080/"
        },
        "id": "8nCi2LmAkdE4",
        "outputId": "7d984b58-0889-4c34-f9ef-fc0f4b76ffce"
      },
      "execution_count": 99,
      "outputs": [
        {
          "output_type": "stream",
          "name": "stdout",
          "text": [
            "int64\n",
            "El dataset no contiene valores infinitos\n",
            "El dataset no contiene valores NaN\n"
          ]
        }
      ]
    },
    {
      "cell_type": "markdown",
      "source": [
        "Todas son numéricas en el sentido del formato y se puede asegurar que no hay ningún valor faltante, porque lo dice la documentación, y por la prueba del tipo que se acaba de hacer.\n",
        "\n",
        "A continuación, se indica, una a una, que significa cada columna del dataset, con objeto de transformarlas si son categóricas usando alguna técnica acorde a la información que muestren.\n"
      ],
      "metadata": {
        "id": "pN9MQfeT0Ak0"
      }
    },
    {
      "cell_type": "markdown",
      "source": [
        "DATA DICTIONARY\n",
        "\n",
        "Nr Name Description Domain\n",
        "+ 1 MOSTYPE Customer Subtype see **L0**\n",
        "+ 2 MAANTHUI Number of houses 1 – 10 \n",
        "+ 3 MGEMOMV Avg size household 1 – 6 \n",
        "+ 4 MGEMLEEF Avg age see **L1**\n",
        "+ 5 MOSHOOFD Customer main type see **L2**\n",
        "+ 6 MGODRK Roman catholic see **L3**\n",
        "+ 7 MGODPR Protestant ... \n",
        "+ 8 MGODOV Other religion \n",
        "+ 9 MGODGE No religion \n",
        "+ 10 MRELGE Married \n",
        "+ 11 MRELSA Living together \n",
        "+ 12 MRELOV Other relation \n",
        "+ 13 MFALLEEN Singles\n",
        "+ 14 MFGEKIND Household without children \n",
        "+ 15 MFWEKIND Household with children \n",
        "+ 16 MOPLHOOG High level education \n",
        "+ 17 MOPLMIDD Medium level education \n",
        "+ 18 MOPLLAAG Lower level education \n",
        "+ 19 MBERHOOG High status \n",
        "+ 20 MBERZELF Entrepreneur \n",
        "+ 21 MBERBOER Farmer \n",
        "+ 22 MBERMIDD Middle management \n",
        "+ 23 MBERARBG Skilled labourers \n",
        "+ 24 MBERARBO Unskilled labourers \n",
        "+ 25 MSKA Social class A \n",
        "+ 26 MSKB1 Social class B1 \n",
        "+ 27 MSKB2 Social class B2 \n",
        "+ 28 MSKC Social class C\n",
        "+ 29 MSKD Social class D\n",
        "+ 30 MHHUUR Rented house\n",
        "+ 31 MHKOOP Home owners \n",
        "+ 32 MAUT1 1 car \n",
        "+ 33 MAUT2 2 cars \n",
        "+ 34 MAUT0 No car \n",
        "+ 35 MZFONDS National Health Service \n",
        "+ 36 MZPART Private health insurance \n",
        "+ 37 MINKM30 Income < 30.000 \n",
        "+ 38 MINK3045 Income 30-45.000\n",
        "+ 39 MINK4575 Income 45-75.000 \n",
        "+ 40 MINK7512 Income 75-122.000 \n",
        "+ 41 MINK123M Income >123.000 \n",
        "+ 42 MINKGEM Average income \n",
        "+ 43 MKOOPKLA Purchasing power class\n",
        "+ 44 PWAPART Contribution private third party insurance see L4\n",
        "+ 45 PWABEDR Contribution third party insurance (firms) ... \n",
        "+ 46 PWALAND Contribution third party insurane (agriculture) \n",
        "+ 47 PPERSAUT Contribution car policies \n",
        "+ 48 PBESAUT Contribution delivery van policies \n",
        "+ 49 PMOTSCO Contribution motorcycle/scooter policies \n",
        "+ 50 PVRAAUT Contribution lorry policies \n",
        "+ 51 PAANHANG Contribution trailer policies \n",
        "+ 52 PTRACTOR Contribution tractor policies \n",
        "+ 53 PWERKT Contribution agricultural machines policies \n",
        "+ 54 PBROM Contribution moped policies \n",
        "+ 55 PLEVEN Contribution life insurances \n",
        "+ 56 PPERSONG Contribution private accident insurance policies \n",
        "+ 57 PGEZONG Contribution family accidents insurance policies \n",
        "+ 58 PWAOREG Contribution disability insurance policies \n",
        "+ 59 PBRAND Contribution fire policies\n",
        "+ 60 PZEILPL Contribution surfboard policies \n",
        "+ 61 PPLEZIER Contribution boat policies\n",
        "+ 62 PFIETS Contribution bicycle policies \n",
        "+ 63 PINBOED Contribution property insurance policies \n",
        "+ 64 PBYSTAND Contribution social security insurance policies \n",
        "+ 65 AWAPART Number of private third party insurance 1 - 12 \n",
        "+ 66 AWABEDR Number of third party insurance (firms) ... \n",
        "+ 67 AWALAND Number of third party insurane (agriculture) \n",
        "+ 68 APERSAUT Number of car policies \n",
        "+ 69 ABESAUT Number of delivery van policies \n",
        "+ 70 AMOTSCO Number of motorcycle/scooter policies \n",
        "+ 71 AVRAAUT Number of lorry policies \n",
        "+ 72 AAANHANG Number of trailer policies \n",
        "+ 73 ATRACTOR Number of tractor policies \n",
        "+ 74 AWERKT Number of agricultural machines policies \n",
        "+ 75 ABROM Number of moped policies \n",
        "+ 76 ALEVEN Number of life insurances \n",
        "+ 77 APERSONG Number of private accident insurance policies \n",
        "+ 78 AGEZONG Number of family accidents insurance policies\n",
        "+ 79 AWAOREG Number of disability insurance policies \n",
        "+ 80 ABRAND Number of fire policies \n",
        "+ 81 AZEILPL Number of surfboard policies \n",
        "+ 82 APLEZIER Number of boat policies \n",
        "+ 83 AFIETS Number of bicycle policies \n",
        "+ 84 AINBOED Number of property insurance policies \n",
        "+ 85 ABYSTAND Number of social security insurance policies\n",
        "+ 86 CARAVAN Number of mobile home policies 0 - 1 \n",
        "\n",
        "L0:\n",
        "\n",
        "Value Label\n",
        "+ 1 High Income, expensive child\n",
        "+ 2 Very Important Provincials\n",
        "+ 3 High status seniors\n",
        "+ 4 Affluent senior apartments\n",
        "+ 5 Mixed seniors\n",
        "+ 6 Career and childcare\n",
        "+ 7 Dinki's (double income no kids)\n",
        "+ 8 Middle class families\n",
        "+ 9 Modern, complete families\n",
        "+ 10 Stable family\n",
        "+ 11 Family starters\n",
        "+ 12 Affluent young families\n",
        "+ 13 Young all american family\n",
        "+ 14 Junior cosmopolitan\n",
        "+ 15 Senior cosmopolitans\n",
        "+ 16 Students in apartments\n",
        "+ 17 Fresh masters in the city\n",
        "+ 18 Single youth\n",
        "+ 19 Suburban youth\n",
        "+ 20 Etnically diverse\n",
        "+ 21 Young urban have-nots\n",
        "+ 22 Mixed apartment dwellers\n",
        "+ 23 Young and rising\n",
        "+ 24 Young, low educated \n",
        "+ 25 Young seniors in the city\n",
        "+ 26 Own home elderly\n",
        "+ 27 Seniors in apartments\n",
        "+ 28 Residential elderly\n",
        "+ 29 Porchless seniors: no front yard\n",
        "+ 30 Religious elderly singles\n",
        "+ 31 Low income catholics\n",
        "+ 32 Mixed seniors\n",
        "+ 33 Lower class large families\n",
        "+ 34 Large family, employed child\n",
        "+ 35 Village families\n",
        "+ 36 Couples with teens 'Married with children'\n",
        "+ 37 Mixed small town dwellers\n",
        "+ 38 Traditional families\n",
        "+ 39 Large religous families\n",
        "+ 40 Large family farms\n",
        "+ 41 Mixed rurals\n",
        "\n",
        "L1:\n",
        "\n",
        "+ 1 20-30 years\n",
        "+ 2 30-40 years\n",
        "+ 3 40-50 years\n",
        "+ 4 50-60 years\n",
        "+ 5 60-70 years\n",
        "+ 6 70-80 years\n",
        "\n",
        "\n",
        "L2:\n",
        "\n",
        "+ 1 Successful hedonists\n",
        "+ 2 Driven Growers\n",
        "+ 3 Average Family\n",
        "+ 4 Career Loners\n",
        "+ 5 Living well\n",
        "+ 6 Cruising Seniors\n",
        "+ 7 Retired and Religeous\n",
        "+ 8 Family with grown ups\n",
        "+ 9 Conservative families\n",
        "+ 10 Farmers\n",
        "\n",
        "\n",
        "L3:\n",
        "\n",
        "+ 0 0%\n",
        "+ 1 1 - 10%\n",
        "+ 2 11 - 23%\n",
        "+ 3 24 - 36%\n",
        "+ 4 37 - 49%\n",
        "+ 5 50 - 62%\n",
        "+ 6 63 - 75%\n",
        "+ 7 76 - 88%\n",
        "+ 8 89 - 99%\n",
        "+ 9 100%\n",
        "\n",
        "\n",
        "L4:\n",
        "\n",
        "+ 0 f 0\n",
        "+ 1 f 1 – 49\n",
        "+ 2 f 50 – 99\n",
        "+ 3 f 100 – 199\n",
        "+ 4 f 200 – 499\n",
        "+ 5 f 500 – 999\n",
        "+ 6 f 1000 – 4999\n",
        "+ 7 f 5000 – 9999\n",
        "+ 8 f 10.000 - 19.999\n",
        "+ 9 f 20.000 - ?\n",
        "\n",
        "\n",
        "\n",
        "FUENTE DE ESTA INFORMACIÓN: https://github.com/tezzytezzy/caravan-insurance-policy/blob/master/dictionary.txt"
      ],
      "metadata": {
        "id": "CiAFtYnOQl3-"
      }
    },
    {
      "cell_type": "code",
      "source": [
        "for i in resultado.columns:\n",
        "  print(\"Columna: \", i, \", Enteros que la conforman: \", np.unique(resultado[i]))"
      ],
      "metadata": {
        "colab": {
          "base_uri": "https://localhost:8080/"
        },
        "id": "GaUpeh1fFtiB",
        "outputId": "c7a858ef-57b3-4129-e9ab-9fc32c3582e4"
      },
      "execution_count": 100,
      "outputs": [
        {
          "output_type": "stream",
          "name": "stdout",
          "text": [
            "Columna:  0 , Enteros que la conforman:  [ 1  2  3  4  5  6  7  8  9 10 11 12 13 15 16 17 18 19 20 21 22 23 24 25\n",
            " 26 27 28 29 30 31 32 33 34 35 36 37 38 39 40 41]\n",
            "Columna:  1 , Enteros que la conforman:  [ 1  2  3  4  5  6  7  8 10]\n",
            "Columna:  2 , Enteros que la conforman:  [1 2 3 4 5 6]\n",
            "Columna:  3 , Enteros que la conforman:  [1 2 3 4 5 6]\n",
            "Columna:  4 , Enteros que la conforman:  [ 1  2  3  4  5  6  7  8  9 10]\n",
            "Columna:  5 , Enteros que la conforman:  [0 1 2 3 4 5 6 7 8 9]\n",
            "Columna:  6 , Enteros que la conforman:  [0 1 2 3 4 5 6 7 8 9]\n",
            "Columna:  7 , Enteros que la conforman:  [0 1 2 3 4 5]\n",
            "Columna:  8 , Enteros que la conforman:  [0 1 2 3 4 5 6 7 8 9]\n",
            "Columna:  9 , Enteros que la conforman:  [0 1 2 3 4 5 6 7 8 9]\n",
            "Columna:  10 , Enteros que la conforman:  [0 1 2 3 4 5 6 7]\n",
            "Columna:  11 , Enteros que la conforman:  [0 1 2 3 4 5 6 7 8 9]\n",
            "Columna:  12 , Enteros que la conforman:  [0 1 2 3 4 5 6 7 8 9]\n",
            "Columna:  13 , Enteros que la conforman:  [0 1 2 3 4 5 6 7 8 9]\n",
            "Columna:  14 , Enteros que la conforman:  [0 1 2 3 4 5 6 7 8 9]\n",
            "Columna:  15 , Enteros que la conforman:  [0 1 2 3 4 5 6 7 8 9]\n",
            "Columna:  16 , Enteros que la conforman:  [0 1 2 3 4 5 6 7 8 9]\n",
            "Columna:  17 , Enteros que la conforman:  [0 1 2 3 4 5 6 7 8 9]\n",
            "Columna:  18 , Enteros que la conforman:  [0 1 2 3 4 5 6 7 8 9]\n",
            "Columna:  19 , Enteros que la conforman:  [0 1 2 3 4 5]\n",
            "Columna:  20 , Enteros que la conforman:  [0 1 2 3 4 5 6 7 8 9]\n",
            "Columna:  21 , Enteros que la conforman:  [0 1 2 3 4 5 6 7 8 9]\n",
            "Columna:  22 , Enteros que la conforman:  [0 1 2 3 4 5 6 7 8 9]\n",
            "Columna:  23 , Enteros que la conforman:  [0 1 2 3 4 5 6 7 8 9]\n",
            "Columna:  24 , Enteros que la conforman:  [0 1 2 3 4 5 6 7 8 9]\n",
            "Columna:  25 , Enteros que la conforman:  [0 1 2 3 4 5 6 7 8 9]\n",
            "Columna:  26 , Enteros que la conforman:  [0 1 2 3 4 5 6 7 8 9]\n",
            "Columna:  27 , Enteros que la conforman:  [0 1 2 3 4 5 6 7 8 9]\n",
            "Columna:  28 , Enteros que la conforman:  [0 1 2 3 4 5 6 7 8 9]\n",
            "Columna:  29 , Enteros que la conforman:  [0 1 2 3 4 5 6 7 8 9]\n",
            "Columna:  30 , Enteros que la conforman:  [0 1 2 3 4 5 6 7 8 9]\n",
            "Columna:  31 , Enteros que la conforman:  [0 1 2 3 4 5 6 7 8 9]\n",
            "Columna:  32 , Enteros que la conforman:  [0 1 2 3 4 5 6 7 9]\n",
            "Columna:  33 , Enteros que la conforman:  [0 1 2 3 4 5 6 7 8 9]\n",
            "Columna:  34 , Enteros que la conforman:  [0 1 2 3 4 5 6 7 8 9]\n",
            "Columna:  35 , Enteros que la conforman:  [0 1 2 3 4 5 6 7 8 9]\n",
            "Columna:  36 , Enteros que la conforman:  [0 1 2 3 4 5 6 7 8 9]\n",
            "Columna:  37 , Enteros que la conforman:  [0 1 2 3 4 5 6 7 8 9]\n",
            "Columna:  38 , Enteros que la conforman:  [0 1 2 3 4 5 6 7 8 9]\n",
            "Columna:  39 , Enteros que la conforman:  [0 1 2 3 4 5 6 7 8 9]\n",
            "Columna:  40 , Enteros que la conforman:  [0 1 2 3 4 5 6 7 9]\n",
            "Columna:  41 , Enteros que la conforman:  [0 1 2 3 4 5 6 7 8 9]\n",
            "Columna:  42 , Enteros que la conforman:  [1 2 3 4 5 6 7 8]\n",
            "Columna:  43 , Enteros que la conforman:  [0 1 2 3]\n",
            "Columna:  44 , Enteros que la conforman:  [0 1 2 3 4 5 6]\n",
            "Columna:  45 , Enteros que la conforman:  [0 1 2 3 4]\n",
            "Columna:  46 , Enteros que la conforman:  [0 4 5 6 7 8 9]\n",
            "Columna:  47 , Enteros que la conforman:  [0 5 6 7]\n",
            "Columna:  48 , Enteros que la conforman:  [0 3 4 5 6 7]\n",
            "Columna:  49 , Enteros que la conforman:  [0 4 6 7 9]\n",
            "Columna:  50 , Enteros que la conforman:  [0 1 2 3 4 5]\n",
            "Columna:  51 , Enteros que la conforman:  [0 3 4 5 6 7]\n",
            "Columna:  52 , Enteros que la conforman:  [0 1 2 3 4 6]\n",
            "Columna:  53 , Enteros que la conforman:  [0 2 3 4 5 6]\n",
            "Columna:  54 , Enteros que la conforman:  [0 1 2 3 4 5 6 7 8 9]\n",
            "Columna:  55 , Enteros que la conforman:  [0 1 2 3 4 5 6]\n",
            "Columna:  56 , Enteros que la conforman:  [0 2 3]\n",
            "Columna:  57 , Enteros que la conforman:  [0 4 5 6 7]\n",
            "Columna:  58 , Enteros que la conforman:  [0 1 2 3 4 5 6 7 8]\n",
            "Columna:  59 , Enteros que la conforman:  [0 1 2 3]\n",
            "Columna:  60 , Enteros que la conforman:  [0 1 2 3 4 5 6]\n",
            "Columna:  61 , Enteros que la conforman:  [0 1]\n",
            "Columna:  62 , Enteros que la conforman:  [0 1 2 3 4 5 6]\n",
            "Columna:  63 , Enteros que la conforman:  [0 2 3 4 5]\n",
            "Columna:  64 , Enteros que la conforman:  [0 1 2]\n",
            "Columna:  65 , Enteros que la conforman:  [0 1 5]\n",
            "Columna:  66 , Enteros que la conforman:  [0 1]\n",
            "Columna:  67 , Enteros que la conforman:  [ 0  1  2  3  4  5  6  7 12]\n",
            "Columna:  68 , Enteros que la conforman:  [0 1 2 3 4 5]\n",
            "Columna:  69 , Enteros que la conforman:  [0 1 2 3 8]\n",
            "Columna:  70 , Enteros que la conforman:  [0 1 2 3 4]\n",
            "Columna:  71 , Enteros que la conforman:  [0 1 2 3]\n",
            "Columna:  72 , Enteros que la conforman:  [0 1 2 3 4 5 6]\n",
            "Columna:  73 , Enteros que la conforman:  [0 1 2 3 4 6]\n",
            "Columna:  74 , Enteros que la conforman:  [0 1 2 3]\n",
            "Columna:  75 , Enteros que la conforman:  [0 1 2 3 4 5 8]\n",
            "Columna:  76 , Enteros que la conforman:  [0 1]\n",
            "Columna:  77 , Enteros que la conforman:  [0 1]\n",
            "Columna:  78 , Enteros que la conforman:  [0 1 2]\n",
            "Columna:  79 , Enteros que la conforman:  [0 1 2 3 4 5 6 7]\n",
            "Columna:  80 , Enteros que la conforman:  [0 1]\n",
            "Columna:  81 , Enteros que la conforman:  [0 1 2]\n",
            "Columna:  82 , Enteros que la conforman:  [0 1 2 3 4]\n",
            "Columna:  83 , Enteros que la conforman:  [0 1 2]\n",
            "Columna:  84 , Enteros que la conforman:  [0 1 2]\n",
            "Columna:  85 , Enteros que la conforman:  [0 1]\n"
          ]
        }
      ]
    },
    {
      "cell_type": "markdown",
      "source": [
        "Se cuenta con un DataSet mixto. Según el diccionario, las columnas númericas son la 1, 2 y desde la 64 a la 84.\n",
        "\n",
        "Por otra parte, las demás columnas son categóricas, y están codificadas según ciertos valores.\n",
        "\n",
        "Con los valores de L0 tenemos a la columna 0.\n",
        "\n",
        "Con los valores L1 tenemos a la columna 3.\n",
        "\n",
        "Con los valores L2 tenemos a la columna 4.\n",
        "\n",
        "Con los valores L3 tenemos desde la columna  5 a la 42.\n",
        "\n",
        "Con los valores L4 tenemos desde la columna 43 a la 63.\n",
        "\n",
        "La cuestión que va a ser discutida más adelante, es si, las columnas categóricas van a ser transformadas con one-hot o se trasnformarán según otro método."
      ],
      "metadata": {
        "id": "uGyqcVX-UPWv"
      }
    },
    {
      "cell_type": "markdown",
      "source": [
        "#### <font color='blue'>1)  Analizar y describir adecuadamente el problema a resolver. Identificar los elementos $X$, $Y$ and $f$ del problema, y describirlos en detalle. 0.5 puntos. "
      ],
      "metadata": {
        "id": "Y2HSMffMUP10"
      }
    },
    {
      "cell_type": "markdown",
      "source": [
        "Tras el análisis detalaldo del DataSet hecho anteriormente, se pueden determinar fácilmente los elementos del problema que nos compete.\n",
        "\n",
        "**X** sería el conjunto de filas del dataset sin tener en cuenta la última columna, que es el objetivo. Cada fila de X consta de 85 columnas, representando información de forma numérica (con enteros) o con información categórica según el grupo de columnas, para las cuales se pensará una transformación más adelante.\n",
        "\n",
        "**Y** sería la variable objetivo. En este caso queremos clasificar si dado un caso de X, este tendrá o no tendrá poliza.\n",
        "\n",
        "**f** es la función desconocida para nosotros que asigna a cada elemento de X su correspondiente etiqueta en Y de forma correcta. Esta es la función que se pretende estimar."
      ],
      "metadata": {
        "id": "1YYJ7NzqVfn9"
      }
    },
    {
      "cell_type": "markdown",
      "source": [
        "Hay una regla principal para evitar malas prácticas como el data snooping, que es dividir el conjunto de Test antes de extraer cualquier tipo de información de los datos, y no tocarlo más hasta finalizar el entrenamiento, para usarlo únicamente para estimar el Eout, sin que influya en ningún momento (directa ni indirectamente) en nuestro entrenamiento. Así pues, vamos a dividirlo ya y a almacenarlo en una variable diferente que no se volverá a tocar hasta entonces."
      ],
      "metadata": {
        "id": "rUdeCPJ6XIu_"
      }
    },
    {
      "cell_type": "code",
      "source": [
        "from sklearn.model_selection import train_test_split\n",
        "\n",
        "pd_data = resultado.drop(resultado.columns[-1], axis=1)\n",
        "pd_labels = resultado[85]\n",
        "\n",
        "X_train, X_test, y_train, y_test = train_test_split(pd_data, pd_labels, test_size=0.20, random_state=33)\n",
        "print('Train: ', X_train.shape, y_train.shape)\n",
        "print('Test: ', X_test.shape, y_test.shape)"
      ],
      "metadata": {
        "colab": {
          "base_uri": "https://localhost:8080/"
        },
        "id": "Vvx6fAsdYYLD",
        "outputId": "488970f9-2d55-4332-fbcb-72e9b3586940"
      },
      "execution_count": 101,
      "outputs": [
        {
          "output_type": "stream",
          "name": "stdout",
          "text": [
            "Train:  (7857, 85) (7857,)\n",
            "Test:  (1965, 85) (1965,)\n"
          ]
        }
      ]
    },
    {
      "cell_type": "markdown",
      "source": [
        "Dado que tampoco se dispone de una cantidad exagerada de datos, se ha optado por un tamaño de un 20% del DataSet para Test, dado que necesitamos un valor Eout confiable en base a los 9000 datos que se tienen de partida."
      ],
      "metadata": {
        "id": "Lb-GDiXiYx8O"
      }
    },
    {
      "cell_type": "markdown",
      "source": [
        "Se va a realizar un análisis de la relación entre los diferentes atributos y la salida en busca de patrones y correlaciones. Este análisis nos ayudará a comprender cómo están relacionados entre sí y cómo se correlacionan con la variable de salida. Esta información será útil en el proceso de preprocesamiento de los datos. Además, podremos extraer estadísticas que nos permitan identificar comportamientos anómalos o consideraciones importantes.\n",
        "\n",
        "El objetivo principal de este análisis es determinar si existen patrones o comportamientos específicos en los datos que debamos tener en cuenta durante el preprocesamiento. Por ejemplo, si una variable muestra un comportamiento sinusoidal, podríamos aplicar una transformación seno-coseno. Si una variable se encuentra dentro de un rango pequeño y constante, podríamos evitar la normalización o utilizar un método de normalización adecuado. También podemos identificar variables que sean independientes de la variable de salida y que podrían eliminarse del conjunto de datos."
      ],
      "metadata": {
        "id": "2seR-dKEaNCC"
      }
    },
    {
      "cell_type": "markdown",
      "source": [
        "Lo primero será mostrar el porcentaje de 1's y 0's que hay en nuestras etiquetas, para lo cual se usará la típica gráfica coloquialmente conocida como de \"quesitos\"."
      ],
      "metadata": {
        "id": "xHQaTCHoa_tp"
      }
    },
    {
      "cell_type": "code",
      "source": [
        "\n",
        "# Vector de etiquetas\n",
        "etiquetas = [0,1]\n",
        "\n",
        "# Valores para cada etiqueta\n",
        "y = y_train.to_numpy()\n",
        "valores = [len(np.where(y==0)[0]), len(np.where(y==1)[0])]\n",
        "# Crear la gráfica de quesos\n",
        "plt.pie(valores, labels=etiquetas, autopct='%1.1f%%', startangle=90)\n",
        "\n",
        "# Añadir un título\n",
        "plt.title('Distribución de etiquetas')\n",
        "\n",
        "# Mostrar la gráfica\n",
        "plt.show()"
      ],
      "metadata": {
        "colab": {
          "base_uri": "https://localhost:8080/",
          "height": 429
        },
        "id": "Q9h-NSccbKmk",
        "outputId": "3c6fd748-1649-4e56-b19c-6c8e61ce5c6d"
      },
      "execution_count": 102,
      "outputs": [
        {
          "output_type": "display_data",
          "data": {
            "text/plain": [
              "<Figure size 640x480 with 1 Axes>"
            ],
            "image/png": "[encoded data removed]"
          },
          "metadata": {}
        }
      ]
    },
    {
      "cell_type": "markdown",
      "source": [
        "Como se puede observar, nuestros datos estan muy desbalanceados, esto es un gran problema, pues nubla mucho el verdadero buen funcionamiento de un algoritmo. Por ejemplo, un clasificador que siempre clasifique como '0', ya tendría un 94% de aciertos. Esto es, realmente, natural. No podemos esperar una partición equitativa de los datos, menos aún en un caso como este, donde es lógico que el porcentaje de clientes que tienen un cierto tipo de póliza es muy bajo. Así pues, esto nos indica simplemente que tendremos que ir con mucho ojo analizando los resultados, teniendo en cuenta esta información, evitando caer en falsas conclusiones y verificando que nuestra solución verdaderamente está intentando predecir, y no solo usando la estadística a su favor. Este apartado se abordará más detenidamente cuando se seleccionen las métricas a usar para el problema."
      ],
      "metadata": {
        "id": "2HFMFQEVdW93"
      }
    },
    {
      "cell_type": "markdown",
      "source": [
        "Lo segundo será mostrar una gráfica acerca de 5 de las columnas categóricas que hay en el dataset. Mostrarlas todas sería muy extenso y tedioso para el lector, así que se imprime una de cada tipo."
      ],
      "metadata": {
        "id": "01ZKswaaaRXP"
      }
    },
    {
      "cell_type": "code",
      "source": [
        "def display_categorico(data, labels, clase1, clase2, title='', categorias=[]):\n",
        "  atributo = data.columns[0]\n",
        "  data = np.array(data).flatten()\n",
        "  labels = np.array(labels)\n",
        "  valores = np.unique(data)\n",
        "  print('Los valores que tiene este atributo son: ', valores)\n",
        "  print()  \n",
        "\n",
        "  if len(categorias) > 0 : valores = np.array(categorias)\n",
        "\n",
        "  num_valor = np.zeros_like(valores, dtype=np.int_)\n",
        "  for i in range(len(valores)):\n",
        "    num_valor[i] = np.count_nonzero(data == valores[i])\n",
        "\n",
        "  data_clase1 = np.array([data[i] for i, xi in enumerate(data) if labels[i] == clase1])\n",
        "  data_clase2 = np.array([data[i] for i, xi in enumerate(data) if labels[i] == clase2])\n",
        "\n",
        "  num_clase1 = data_clase1.shape[0]\n",
        "  num_clase2 = data_clase2.shape[0]\n",
        "\n",
        "\n",
        "  print('Para cada atributo: la cantidad de ', clase1, ' y la cantidad de ', clase2, ', así como sus porcentajes:')\n",
        "  x_clase1 = np.zeros_like(valores, dtype=np.float64)\n",
        "  x_clase2 = np.zeros_like(valores, dtype=np.float64)\n",
        "  for i in range(len(x_clase1)):\n",
        "    x_clase1[i] = np.count_nonzero(data_clase1 == valores[i])/num_valor[i]\n",
        "    x_clase2[i] = np.count_nonzero(data_clase2 == valores[i])/num_valor[i]\n",
        "    print(valores[i], ': ', np.count_nonzero(data_clase1 == valores[i]),' (un ', x_clase1[i]*100, '%) de ', clase1, 'y ', np.count_nonzero(data_clase2 == valores[i]), ' (un ', x_clase2[i]*100, '%) de ', clase2)\n",
        "  print()\n",
        "\n",
        "\n",
        "  y = valores\n",
        "  fig,ax = plt.subplots()\n",
        "  ax.plot(x_clase1, y, 'r-', markersize=10, label = clase1)\n",
        "  ax.plot(x_clase2, y, 'b-', markersize=10, label = clase2)\n",
        "  ax.legend()\n",
        "  ax.set(title=title)\n",
        "  ax.set_xlabel('Porcentaje de la Población')\n",
        "  ax.set_ylabel(atributo);\n",
        "\n",
        "  plt.show()"
      ],
      "metadata": {
        "id": "1iNB5UazaaJg"
      },
      "execution_count": 103,
      "outputs": []
    },
    {
      "cell_type": "code",
      "source": [
        "display_categorico(X_train[[0]], y_train, 0, 1, 'Porción de personas con poliza en función del subtipo de cliente' )"
      ],
      "metadata": {
        "colab": {
          "base_uri": "https://localhost:8080/",
          "height": 1000
        },
        "id": "cg8v1u_5d2wK",
        "outputId": "ca27f3e3-7cf7-4444-c8af-651628a0cf9b"
      },
      "execution_count": 104,
      "outputs": [
        {
          "output_type": "stream",
          "name": "stdout",
          "text": [
            "Los valores que tiene este atributo son:  [ 1  2  3  4  5  6  7  8  9 10 11 12 13 15 16 17 18 19 20 21 22 23 24 25\n",
            " 26 27 28 29 30 31 32 33 34 35 36 37 38 39 40 41]\n",
            "\n",
            "Para cada atributo: la cantidad de  0  y la cantidad de  1 , así como sus porcentajes:\n",
            "1 :  154  (un  87.00564971751412 %) de  0 y  23  (un  12.994350282485875 %) de  1\n",
            "2 :  102  (un  91.8918918918919 %) de  0 y  9  (un  8.108108108108109 %) de  1\n",
            "3 :  322  (un  93.6046511627907 %) de  0 y  22  (un  6.395348837209303 %) de  1\n",
            "4 :  73  (un  97.33333333333334 %) de  0 y  2  (un  2.666666666666667 %) de  1\n",
            "5 :  56  (un  96.55172413793103 %) de  0 y  2  (un  3.4482758620689653 %) de  1\n",
            "6 :  142  (un  86.06060606060606 %) de  0 y  23  (un  13.939393939393941 %) de  1\n",
            "7 :  51  (un  92.72727272727272 %) de  0 y  4  (un  7.2727272727272725 %) de  1\n",
            "8 :  383  (un  86.45598194130926 %) de  0 y  60  (un  13.544018058690746 %) de  1\n",
            "9 :  356  (un  97.26775956284153 %) de  0 y  10  (un  2.73224043715847 %) de  1\n",
            "10 :  195  (un  91.98113207547169 %) de  0 y  17  (un  8.018867924528301 %) de  1\n",
            "11 :  208  (un  94.97716894977168 %) de  0 y  11  (un  5.0228310502283104 %) de  1\n",
            "12 :  137  (un  85.625 %) de  0 y  23  (un  14.374999999999998 %) de  1\n",
            "13 :  214  (un  92.24137931034483 %) de  0 y  18  (un  7.758620689655173 %) de  1\n",
            "15 :  6  (un  100.0 %) de  0 y  0  (un  0.0 %) de  1\n",
            "16 :  17  (un  100.0 %) de  0 y  0  (un  0.0 %) de  1\n",
            "17 :  11  (un  100.0 %) de  0 y  0  (un  0.0 %) de  1\n",
            "18 :  21  (un  100.0 %) de  0 y  0  (un  0.0 %) de  1\n",
            "19 :  5  (un  100.0 %) de  0 y  0  (un  0.0 %) de  1\n",
            "20 :  32  (un  96.96969696969697 %) de  0 y  1  (un  3.0303030303030303 %) de  1\n",
            "21 :  24  (un  100.0 %) de  0 y  0  (un  0.0 %) de  1\n",
            "22 :  142  (un  97.93103448275862 %) de  0 y  3  (un  2.0689655172413794 %) de  1\n",
            "23 :  295  (un  98.66220735785953 %) de  0 y  4  (un  1.3377926421404682 %) de  1\n",
            "24 :  257  (un  98.09160305343512 %) de  0 y  5  (un  1.9083969465648856 %) de  1\n",
            "25 :  97  (un  97.0 %) de  0 y  3  (un  3.0 %) de  1\n",
            "26 :  61  (un  96.82539682539682 %) de  0 y  2  (un  3.1746031746031744 %) de  1\n",
            "27 :  60  (un  98.36065573770492 %) de  0 y  1  (un  1.639344262295082 %) de  1\n",
            "28 :  37  (un  100.0 %) de  0 y  0  (un  0.0 %) de  1\n",
            "29 :  108  (un  95.57522123893806 %) de  0 y  5  (un  4.424778761061947 %) de  1\n",
            "30 :  146  (un  97.98657718120806 %) de  0 y  3  (un  2.013422818791946 %) de  1\n",
            "31 :  248  (un  96.12403100775194 %) de  0 y  10  (un  3.875968992248062 %) de  1\n",
            "32 :  178  (un  96.21621621621622 %) de  0 y  7  (un  3.783783783783784 %) de  1\n",
            "33 :  1070  (un  94.19014084507043 %) de  0 y  66  (un  5.809859154929577 %) de  1\n",
            "34 :  257  (un  95.8955223880597 %) de  0 y  11  (un  4.104477611940299 %) de  1\n",
            "35 :  276  (un  96.16724738675958 %) de  0 y  11  (un  3.8327526132404177 %) de  1\n",
            "36 :  270  (un  91.83673469387756 %) de  0 y  24  (un  8.16326530612245 %) de  1\n",
            "37 :  172  (un  91.97860962566845 %) de  0 y  15  (un  8.02139037433155 %) de  1\n",
            "38 :  415  (un  93.04932735426009 %) de  0 y  31  (un  6.950672645739911 %) de  1\n",
            "39 :  408  (un  93.36384439359267 %) de  0 y  29  (un  6.636155606407322 %) de  1\n",
            "40 :  112  (un  100.0 %) de  0 y  0  (un  0.0 %) de  1\n",
            "41 :  274  (un  96.47887323943662 %) de  0 y  10  (un  3.5211267605633805 %) de  1\n",
            "\n"
          ]
        },
        {
          "output_type": "display_data",
          "data": {
            "text/plain": [
              "<Figure size 640x480 with 1 Axes>"
            ],
            "image/png": "[encoded data removed]"
          },
          "metadata": {}
        }
      ]
    },
    {
      "cell_type": "code",
      "source": [
        "display_categorico(X_train[[3]], y_train, 0, 1, 'Porción de personas con poliza en función del subtipo de cliente' )"
      ],
      "metadata": {
        "colab": {
          "base_uri": "https://localhost:8080/",
          "height": 667
        },
        "id": "tsIgcra1kDSl",
        "outputId": "6c7bd0ce-0d4c-4056-a9ed-cdbfb948f093"
      },
      "execution_count": 105,
      "outputs": [
        {
          "output_type": "stream",
          "name": "stdout",
          "text": [
            "Los valores que tiene este atributo son:  [1 2 3 4 5 6]\n",
            "\n",
            "Para cada atributo: la cantidad de  0  y la cantidad de  1 , así como sus porcentajes:\n",
            "1 :  81  (un  98.78048780487805 %) de  0 y  1  (un  1.2195121951219512 %) de  1\n",
            "2 :  1777  (un  93.4279705573081 %) de  0 y  125  (un  6.572029442691902 %) de  1\n",
            "3 :  3932  (un  94.24736337488015 %) de  0 y  240  (un  5.752636625119846 %) de  1\n",
            "4 :  1319  (un  93.87900355871886 %) de  0 y  86  (un  6.120996441281139 %) de  1\n",
            "5 :  244  (un  95.3125 %) de  0 y  12  (un  4.6875 %) de  1\n",
            "6 :  39  (un  97.5 %) de  0 y  1  (un  2.5 %) de  1\n",
            "\n"
          ]
        },
        {
          "output_type": "display_data",
          "data": {
            "text/plain": [
              "<Figure size 640x480 with 1 Axes>"
            ],
            "image/png": "[encoded data removed]"
          },
          "metadata": {}
        }
      ]
    },
    {
      "cell_type": "code",
      "source": [
        "display_categorico(X_train[[4]], y_train, 0, 1, 'Porción de personas con poliza en función del subtipo de cliente' )"
      ],
      "metadata": {
        "colab": {
          "base_uri": "https://localhost:8080/",
          "height": 736
        },
        "id": "flxT73-fkIE1",
        "outputId": "13281101-7498-4cae-ed8f-9abbd3e82f60"
      },
      "execution_count": 106,
      "outputs": [
        {
          "output_type": "stream",
          "name": "stdout",
          "text": [
            "Los valores que tiene este atributo son:  [ 1  2  3  4  5  6  7  8  9 10]\n",
            "\n",
            "Para cada atributo: la cantidad de  0  y la cantidad de  1 , así como sus porcentajes:\n",
            "1 :  707  (un  92.41830065359477 %) de  0 y  58  (un  7.5816993464052285 %) de  1\n",
            "2 :  576  (un  86.87782805429865 %) de  0 y  87  (un  13.122171945701359 %) de  1\n",
            "3 :  1110  (un  93.35576114381834 %) de  0 y  79  (un  6.644238856181666 %) de  1\n",
            "4 :  60  (un  100.0 %) de  0 y  0  (un  0.0 %) de  1\n",
            "5 :  750  (un  98.2961992136304 %) de  0 y  13  (un  1.7038007863695939 %) de  1\n",
            "6 :  255  (un  97.70114942528735 %) de  0 y  6  (un  2.2988505747126435 %) de  1\n",
            "7 :  680  (un  96.45390070921985 %) de  0 y  25  (un  3.546099290780142 %) de  1\n",
            "8 :  2045  (un  94.15285451197053 %) de  0 y  127  (un  5.847145488029466 %) de  1\n",
            "9 :  823  (un  93.20498301245753 %) de  0 y  60  (un  6.795016987542468 %) de  1\n",
            "10 :  386  (un  97.47474747474747 %) de  0 y  10  (un  2.525252525252525 %) de  1\n",
            "\n"
          ]
        },
        {
          "output_type": "display_data",
          "data": {
            "text/plain": [
              "<Figure size 640x480 with 1 Axes>"
            ],
            "image/png": "[encoded data removed]"
          },
          "metadata": {}
        }
      ]
    },
    {
      "cell_type": "code",
      "source": [
        "display_categorico(X_train[[5]], y_train, 0, 1, 'Porción de personas con poliza en función del subtipo de cliente' )"
      ],
      "metadata": {
        "colab": {
          "base_uri": "https://localhost:8080/",
          "height": 736
        },
        "id": "rcPo271GkKx5",
        "outputId": "84ac0014-15ac-4535-9928-6f951f602ee5"
      },
      "execution_count": 107,
      "outputs": [
        {
          "output_type": "stream",
          "name": "stdout",
          "text": [
            "Los valores que tiene este atributo son:  [0 1 2 3 4 5 6 7 8 9]\n",
            "\n",
            "Para cada atributo: la cantidad de  0  y la cantidad de  1 , así como sus porcentajes:\n",
            "0 :  4111  (un  94.54921803127874 %) de  0 y  237  (un  5.450781968721251 %) de  1\n",
            "1 :  2036  (un  93.65225390984361 %) de  0 y  138  (un  6.347746090156393 %) de  1\n",
            "2 :  906  (un  92.54341164453524 %) de  0 y  73  (un  7.456588355464761 %) de  1\n",
            "3 :  190  (un  95.0 %) de  0 y  10  (un  5.0 %) de  1\n",
            "4 :  93  (un  96.875 %) de  0 y  3  (un  3.125 %) de  1\n",
            "5 :  24  (un  96.0 %) de  0 y  1  (un  4.0 %) de  1\n",
            "6 :  16  (un  88.88888888888889 %) de  0 y  2  (un  11.11111111111111 %) de  1\n",
            "7 :  6  (un  85.71428571428571 %) de  0 y  1  (un  14.285714285714285 %) de  1\n",
            "8 :  3  (un  100.0 %) de  0 y  0  (un  0.0 %) de  1\n",
            "9 :  7  (un  100.0 %) de  0 y  0  (un  0.0 %) de  1\n",
            "\n"
          ]
        },
        {
          "output_type": "display_data",
          "data": {
            "text/plain": [
              "<Figure size 640x480 with 1 Axes>"
            ],
            "image/png": "[encoded data removed]"
          },
          "metadata": {}
        }
      ]
    },
    {
      "cell_type": "code",
      "source": [
        "display_categorico(X_train[[43]], y_train, 0, 1, 'Porción de personas con poliza en función del subtipo de cliente' )"
      ],
      "metadata": {
        "colab": {
          "base_uri": "https://localhost:8080/",
          "height": 632
        },
        "id": "s6qyip9kkMS7",
        "outputId": "48a0be96-a111-411b-99e5-c1d41f70c17a"
      },
      "execution_count": 108,
      "outputs": [
        {
          "output_type": "stream",
          "name": "stdout",
          "text": [
            "Los valores que tiene este atributo son:  [0 1 2 3]\n",
            "\n",
            "Para cada atributo: la cantidad de  0  y la cantidad de  1 , así como sus porcentajes:\n",
            "0 :  4510  (un  95.73338993844195 %) de  0 y  201  (un  4.2666100615580556 %) de  1\n",
            "1 :  259  (un  95.5719557195572 %) de  0 y  12  (un  4.428044280442804 %) de  1\n",
            "2 :  2611  (un  91.2937062937063 %) de  0 y  249  (un  8.706293706293707 %) de  1\n",
            "3 :  12  (un  80.0 %) de  0 y  3  (un  20.0 %) de  1\n",
            "\n"
          ]
        },
        {
          "output_type": "display_data",
          "data": {
            "text/plain": [
              "<Figure size 640x480 with 1 Axes>"
            ],
            "image/png": "[encoded data removed]"
          },
          "metadata": {}
        }
      ]
    },
    {
      "cell_type": "markdown",
      "source": [
        "Como nos daremos cuenta, los datos están desbalanceados. Hay valores que tienen muchisimos más ejemplos que otros. Esto será una constante en todos los atributos que analicemos, y no es realmente un problema con el que podamos lidiar. Aun así, esto no es problema a no ser que haya un desbalanceo extremo donde, por ejemplo, el 90% de los datos sean del mismo tipo. Aún con esas, no podríamos hacer mucho más que tenerlo en cuenta a la hora del análisis de resultados."
      ],
      "metadata": {
        "id": "n90lv06akUwA"
      }
    },
    {
      "cell_type": "markdown",
      "source": [
        "No se aprecia una tendencia o relacion comentable entre los valores del atributo. Sin ninguna duda, se recomienda, a la hora del preprocesado, usar un one-hot encoding clásico. Esto hará crecer el número de columnas presentes en el DataSet, pero se usará alguna alternativa a PCA (no es bueno usarlo con DataSets mixtos) para la extracción de columnas importantes."
      ],
      "metadata": {
        "id": "cf4WEKrUkfIa"
      }
    },
    {
      "cell_type": "markdown",
      "source": [
        "Se podría pensar en dejar L1, L3 y L4 como están, al considerar un orden dentro de las categorías que representan. No obstante, esto será discutido en el apartado de transformación de los datos. También se ha descartado el hecho de observar variables numéricas para alguna transformación. Podría resultar interesante en los propios casos, pero se ha optado por transformar los atributos necesarios y dejar al algoritmo de clasificación trabajar.\n",
        "\n",
        "Finalmente, tampoco se comenta nada acerca de variables binarias, pero es que, sencillamanete, no hay. Tras leer la información del DataSet, se puede determinar y cualquier coincidencia (alguna columna donde solo aparezcan 0's y 1's), es fruto de los datos que se nos han proporcionado."
      ],
      "metadata": {
        "id": "u_tljYkFNTIZ"
      }
    },
    {
      "cell_type": "markdown",
      "source": [
        "#### <font color='blue'>2)  Identificar qué conjuntos de hipótesis se emplearán y justificar dicha elección. 0.25 puntos. "
      ],
      "metadata": {
        "id": "9Ozk6Bf-fid4"
      }
    },
    {
      "cell_type": "markdown",
      "source": [
        "Para esta práctica, tenemos la opción de elegir entre cuatro modelos lineales que hemos aprendido: Regresión Lineal, Regresión Logística, PLA y PLA+Pocket. Sin embargo, dado que estamos frente a un problema de clasificación, es recomendable descartar la Regresión Lineal, ya que existen técnicas específicamente diseñadas para la clasificación.\n",
        "\n",
        "Además, podemos descartar el algoritmo PLA, ya que solo funciona bien con datos linealmente separables y, en general, el PLA+Pocket es considerado superior, ya que busca mantener la mejor solución obtenida hasta el momento.\n",
        "\n",
        "En resumen, los dos modelos lineales que utilizaremos para abordar este problema de clasificación serán PLA+Pocket y Regresión Logística. Ambos algoritmos son eficaces en este tipo de problemas y han demostrado brindar resultados satisfactorios en prácticas anteriores."
      ],
      "metadata": {
        "id": "0GVqF5eNFGAb"
      }
    },
    {
      "cell_type": "markdown",
      "source": [
        "#### <font color='blue'>3)  Si la base de datos define conjuntos de training y test, únalos en un solo conjunto y genere sus propios conjuntos. Describa y justifique el mecanismo de partición. 0.75 puntos. "
      ],
      "metadata": {
        "id": "4LiijYn4fw_y"
      }
    },
    {
      "cell_type": "markdown",
      "source": [
        "En el proceso de preparación del conjunto de entrenamiento, se realizará una validación cruzada de 5-fold. Esto implica dividir el conjunto de ejemplos en 5 grupos de manera estratificada, asegurando que cada grupo contenga una proporción equitativa de todas las clases presentes. Luego se llevarán a cabo 5 iteraciones, en cada una de las cuales se utilizarán 4 grupos como conjunto de entrenamiento y el grupo restante como conjunto de validación.\n",
        "\n",
        "La validación cruzada se emplea para evaluar el rendimiento de los algoritmos de clasificación de forma más confiable. Aunque un algoritmo puede tener suerte y mostrar un buen desempeño en una única división de los datos de entrenamiento y validación, esto no garantiza su capacidad real para generalizar a nuevos conjuntos de datos. Al realizar múltiples divisiones y entrenar el algoritmo en diferentes configuraciones de datos, se obtienen medidas de error en cada iteración.\n",
        "\n",
        "La elección de 5 validaciones se basa en la necesidad de reducir el impacto del azar en los resultados de validación. A veces, los resultados pueden verse afectados por variaciones aleatorias en la selección de los datos de entrenamiento y validación. Al realizar 5 validaciones con diferentes particiones, se obtiene una medida más robusta del rendimiento promedio del algoritmo. La media de los resultados de validación proporciona una estimación más confiable de la capacidad del algoritmo para clasificar los datos.\n",
        "\n",
        "Un inconveniente de este enfoque es que reduce el tamaño del conjunto de entrenamiento utilizado para la validación. Sin embargo, dado que se dispone de un conjunto de datos razonablamente grande, este inconveniente se puede mitigar, ya que aún se cuenta con una cantidad suficiente de ejemplos para entrenar y evaluar el rendimiento de los algoritmos de clasificación."
      ],
      "metadata": {
        "id": "cRPuk0VIHGal"
      }
    },
    {
      "cell_type": "code",
      "source": [
        "#5-fold cross validation\n",
        "particiones = np.empty((5),list)\n",
        "\n",
        "train_data = X_train.to_numpy()\n",
        "train_labels = y_train.to_numpy()\n",
        "\n",
        "index_train = np.arange(len(train_labels))\n",
        "\n",
        "index_yes = np.array([indice for indice in index_train if train_labels[indice] == 1])\n",
        "index_no = np.array([indice for indice in index_train if train_labels[indice] == 0])\n",
        "\n",
        "\n",
        "for i in range(5):\n",
        "  particiones[i] = []\n",
        "\n",
        "#En vez de tener varios conjuntos de datos, usaremos conjuntos de índices\n",
        "for i in range(index_yes.shape[0]):\n",
        "  particiones[i%5].append(index_yes[i])\n",
        "for i in range(index_no.shape[0]):\n",
        "  particiones[i%5].append(index_no[i])\n",
        "  \n",
        "for i in range(5):\n",
        "  particiones[i] = np.asarray(particiones[i])\n",
        "  np.random.shuffle(particiones[i])\n",
        "\n",
        "training1 = np.concatenate((particiones[0],particiones[1],particiones[2],particiones[3]))\n",
        "test1 = particiones[4]\n",
        "\n",
        "training2 = np.concatenate((particiones[4],particiones[0],particiones[1],particiones[2]))\n",
        "test2 = particiones[3]\n",
        "\n",
        "training3 = np.concatenate((particiones[3],particiones[4],particiones[0],particiones[1]))\n",
        "test3 = particiones[2]\n",
        "\n",
        "training4 = np.concatenate((particiones[2],particiones[3],particiones[4],particiones[0]))\n",
        "test4 = particiones[1]\n",
        "\n",
        "training5 = np.concatenate((particiones[1],particiones[2],particiones[3],particiones[4]))\n",
        "test5 = particiones[0]\n",
        "\n",
        "cv_trains = [training1,training2,training3,training4,training5]\n",
        "cv_tests = [test1,test2,test3,test4,test5]\n"
      ],
      "metadata": {
        "id": "Lm9cT0xof1-D"
      },
      "execution_count": 109,
      "outputs": []
    },
    {
      "cell_type": "markdown",
      "source": [
        "#### <font color='blue'>4)  Justifique todos los detalles del preprocesado de los datos (codificación, transformación, normalización, etc). Es decir, todas las manipulaciones sobre los datos iniciales que nos permitan fijar el conjunto de vectores de características que se usarán en el entrenamiento. 1 punto.  \n",
        "\n",
        "<font color='blue'>Nota: Las transformaciones no-lineales de las variables pueden definirse a partir de las potencias y\n",
        "productos de potencias de las variables originales, conjuntos de polinomios ortogonales, etc. Si se\n",
        "usan transformaciones no polinómicas de las variable como $log$, $\\sqrt{()}$, $sin$, etc, debe justificar el\n",
        "interés de las mismas. "
      ],
      "metadata": {
        "id": "qJykJiQxf30a"
      }
    },
    {
      "cell_type": "markdown",
      "source": [
        "Aunque sería más adecuado realizar el preprocesado antes de dividir el conjunto de entrenamiento con la validación cruzada (para evitar tener que repetirlo varias veces), he optado por hacerlo a continuación para seguir el formato establecido en la práctica. Además, al elegir particionar por índices en lugar de crear conjuntos de ejemplos separados para cada partición, puedo modificar directamente el conjunto de entrenamiento sin afectar las particiones correspondientes."
      ],
      "metadata": {
        "id": "PYXJXJo6Eczx"
      }
    },
    {
      "cell_type": "code",
      "source": [
        "from sklearn.compose import ColumnTransformer\n",
        "from sklearn.preprocessing import OneHotEncoder"
      ],
      "metadata": {
        "id": "XUXvx9_5gMlM"
      },
      "execution_count": 110,
      "outputs": []
    },
    {
      "cell_type": "markdown",
      "source": [
        "La siguiente función hace one_hot_encoding de la columna que se le pase como parámetro y según las categorías que se pasen como parámetro. Se hace esto porque la versión de sklearn para OneHot, crea columnas extras para las categorías que están en la columna, y obvia las que no están. Como se pensó, que si alguna categoría no aparece en train, pero si en test, se estaría omitiendo información al eliminarla, se ha optado por crear columnas de 0's si esto ocurre. No obstante, se podría probar a hacer ambas cosas y ver cuales da mejores resulados, pero por razones de tiempo, me veo obligado a continuar con esta idea."
      ],
      "metadata": {
        "id": "Pw4jdiwJEgFi"
      }
    },
    {
      "cell_type": "code",
      "source": [
        "from pandas.core.indexes.category import contains\n",
        "def aplicar_one_hot_encoding(data, columna, categorias):\n",
        "    # Realiza el one-hot encoding en la columna especificada usando las categorías proporcionadas\n",
        "    columna_encoded = pd.get_dummies(data[columna], prefix=columna, columns=categorias)\n",
        "    # Encuentra las categorías faltantes en la lista de categorías\n",
        "    aniade = columna + '_'\n",
        "    for i,st in enumerate(categorias):\n",
        "      categorias[i] = aniade + str(st)\n",
        "\n",
        "    categorias_faltantes = set(categorias) - set(columna_encoded.columns)\n",
        "\n",
        "    # Crea columnas adicionales para las categorías faltantes y se rellenan con 0\n",
        "    for categoria_faltante in categorias_faltantes:\n",
        "        columna_nueva = columna + '_' + str(categoria_faltante)\n",
        "        columna_encoded[columna_nueva] = 0\n",
        "\n",
        "    # Concatena la columna codificada al conjunto de datos original\n",
        "    data_encoded = pd.concat([data, columna_encoded], axis=1)\n",
        "\n",
        "    #Elimina la columna original\n",
        "    data_encoded = data_encoded.drop(columna, axis=1)\n",
        "\n",
        "    return data_encoded"
      ],
      "metadata": {
        "id": "jM6k51X_dh-D"
      },
      "execution_count": 111,
      "outputs": []
    },
    {
      "cell_type": "markdown",
      "source": [
        "Por comodidad, se cambian todos los índices a string, vendrá mejor para tratamientos posteriores que se harán."
      ],
      "metadata": {
        "id": "-njC-BsdQIOv"
      }
    },
    {
      "cell_type": "code",
      "source": [
        "X_train.columns = X_train.columns.astype(str)\n"
      ],
      "metadata": {
        "id": "ptSuwfNBQZb5"
      },
      "execution_count": 112,
      "outputs": []
    },
    {
      "cell_type": "markdown",
      "source": [
        "Tras realizar one-hot encoding, se pasará a normalizar las columnas numéricas (1,2 y de la 64 a la 84). Hay que tener en cuenta que cuentan con diferentes rangos. Para normalizar, se optará por un min max scaler para dejar las columnas entre 0 y 1. Aquí tampoco se ha optado por la función predefinida en sklearn, puesto que normaliza en base al minimo y al máximo presente en la columna.\n",
        "\n",
        "Dado que si se echa un vistazo al diccionario del DataSet, tenemos rangos de valores posibles para las columnas numéricas, la normalización se hará en base al máximo y al mínimo de ese rango."
      ],
      "metadata": {
        "id": "FA-iG4aGmJCU"
      }
    },
    {
      "cell_type": "code",
      "source": [
        "from sklearn.preprocessing import MinMaxScaler\n",
        "def aplicar_min_max_scaler(data, columnas, max, min):\n",
        "    for i in columnas:\n",
        "      data[i] = (data[i]-min)/(max - min)\n",
        "      data[i] = data[i] * (1-0)+0\n",
        "\n",
        "    # scaler = MinMaxScaler(feature_range=(0, 1))\n",
        "    # data[columnas] = scaler.fit_transform(data[columnas])\n",
        "    return data\n",
        "\n",
        "columnas3 = [str(i) for i in range(64,85,1)]\n",
        "columnas1 = ['1']\n",
        "columnas2 = ['2']\n",
        "\n",
        "#Se normaliza tomando como máximo y mínimo los que se nos dan en la información del dataset\n",
        "X_train = aplicar_min_max_scaler(X_train, columnas1, 6, 1)\n",
        "X_train = aplicar_min_max_scaler(X_train, columnas2, 10, 1)\n",
        "X_train = aplicar_min_max_scaler(X_train, columnas3, 12, 1)\n",
        "X_train"
      ],
      "metadata": {
        "colab": {
          "base_uri": "https://localhost:8080/",
          "height": 488
        },
        "id": "NGU6dbAVoIZ2",
        "outputId": "0bc1022f-a9be-4086-e9f1-8e34a1f1b79f"
      },
      "execution_count": 113,
      "outputs": [
        {
          "output_type": "execute_result",
          "data": {
            "text/plain": [
              "       0    1         2  3  4  5  6  7  8  9  ...        75        76  \\\n",
              "559   26  0.4  0.111111  4  6  0  3  0  6  5  ... -0.090909 -0.090909   \n",
              "771   37  0.0  0.222222  3  8  9  0  0  0  6  ... -0.090909 -0.090909   \n",
              "4701   9  0.0  0.333333  2  3  2  3  1  5  7  ... -0.090909 -0.090909   \n",
              "3315  33  0.0  0.222222  3  8  0  4  1  5  6  ... -0.090909 -0.090909   \n",
              "5133  10  0.0  0.222222  2  3  0  6  2  1  7  ... -0.090909 -0.090909   \n",
              "...   ..  ...       ... .. .. .. .. .. .. ..  ...       ...       ...   \n",
              "57    12  0.0  0.222222  2  3  0  6  0  3  7  ... -0.090909 -0.090909   \n",
              "578   33  0.0  0.111111  3  8  0  7  2  0  9  ... -0.090909 -0.090909   \n",
              "26    12  0.0  0.333333  2  3  0  7  2  0  9  ... -0.090909 -0.090909   \n",
              "2439  38  0.0  0.222222  3  9  1  6  2  2  7  ... -0.090909 -0.090909   \n",
              "1366   8  0.0  0.222222  3  2  0  4  1  4  6  ... -0.090909 -0.090909   \n",
              "\n",
              "            77        78        79        80        81        82        83  \\\n",
              "559  -0.090909 -0.090909  0.000000 -0.090909 -0.090909 -0.090909 -0.090909   \n",
              "771  -0.090909 -0.090909 -0.090909 -0.090909 -0.090909 -0.090909 -0.090909   \n",
              "4701 -0.090909 -0.090909 -0.090909 -0.090909 -0.090909 -0.090909 -0.090909   \n",
              "3315 -0.090909 -0.090909  0.000000 -0.090909 -0.090909 -0.090909 -0.090909   \n",
              "5133 -0.090909 -0.090909 -0.090909 -0.090909 -0.090909 -0.090909 -0.090909   \n",
              "...        ...       ...       ...       ...       ...       ...       ...   \n",
              "57   -0.090909  0.000000  0.000000 -0.090909 -0.090909 -0.090909 -0.090909   \n",
              "578  -0.090909 -0.090909 -0.090909 -0.090909 -0.090909 -0.090909 -0.090909   \n",
              "26   -0.090909 -0.090909 -0.090909 -0.090909 -0.090909 -0.090909 -0.090909   \n",
              "2439 -0.090909 -0.090909 -0.090909 -0.090909 -0.090909 -0.090909 -0.090909   \n",
              "1366 -0.090909 -0.090909 -0.090909 -0.090909 -0.090909 -0.090909 -0.090909   \n",
              "\n",
              "            84  \n",
              "559  -0.090909  \n",
              "771  -0.090909  \n",
              "4701 -0.090909  \n",
              "3315 -0.090909  \n",
              "5133 -0.090909  \n",
              "...        ...  \n",
              "57   -0.090909  \n",
              "578  -0.090909  \n",
              "26   -0.090909  \n",
              "2439 -0.090909  \n",
              "1366 -0.090909  \n",
              "\n",
              "[7857 rows x 85 columns]"
            ],
            "text/html": [
              "\n",
              "  <div id=\"df-403cd042-01df-4a16-8e3e-d06851737b2b\">\n",
              "    <div class=\"colab-df-container\">\n",
              "      <div>\n",
              "<style scoped>\n",
              "    .dataframe tbody tr th:only-of-type {\n",
              "        vertical-align: middle;\n",
              "    }\n",
              "\n",
              "    .dataframe tbody tr th {\n",
              "        vertical-align: top;\n",
              "    }\n",
              "\n",
              "    .dataframe thead th {\n",
              "        text-align: right;\n",
              "    }\n",
              "</style>\n",
              "<table border=\"1\" class=\"dataframe\">\n",
              "  <thead>\n",
              "    <tr style=\"text-align: right;\">\n",
              "      <th></th>\n",
              "      <th>0</th>\n",
              "      <th>1</th>\n",
              "      <th>2</th>\n",
              "      <th>3</th>\n",
              "      <th>4</th>\n",
              "      <th>5</th>\n",
              "      <th>6</th>\n",
              "      <th>7</th>\n",
              "      <th>8</th>\n",
              "      <th>9</th>\n",
              "      <th>...</th>\n",
              "      <th>75</th>\n",
              "      <th>76</th>\n",
              "      <th>77</th>\n",
              "      <th>78</th>\n",
              "      <th>79</th>\n",
              "      <th>80</th>\n",
              "      <th>81</th>\n",
              "      <th>82</th>\n",
              "      <th>83</th>\n",
              "      <th>84</th>\n",
              "    </tr>\n",
              "  </thead>\n",
              "  <tbody>\n",
              "    <tr>\n",
              "      <th>559</th>\n",
              "      <td>26</td>\n",
              "      <td>0.4</td>\n",
              "      <td>0.111111</td>\n",
              "      <td>4</td>\n",
              "      <td>6</td>\n",
              "      <td>0</td>\n",
              "      <td>3</td>\n",
              "      <td>0</td>\n",
              "      <td>6</td>\n",
              "      <td>5</td>\n",
              "      <td>...</td>\n",
              "      <td>-0.090909</td>\n",
              "      <td>-0.090909</td>\n",
              "      <td>-0.090909</td>\n",
              "      <td>-0.090909</td>\n",
              "      <td>0.000000</td>\n",
              "      <td>-0.090909</td>\n",
              "      <td>-0.090909</td>\n",
              "      <td>-0.090909</td>\n",
              "      <td>-0.090909</td>\n",
              "      <td>-0.090909</td>\n",
              "    </tr>\n",
              "    <tr>\n",
              "      <th>771</th>\n",
              "      <td>37</td>\n",
              "      <td>0.0</td>\n",
              "      <td>0.222222</td>\n",
              "      <td>3</td>\n",
              "      <td>8</td>\n",
              "      <td>9</td>\n",
              "      <td>0</td>\n",
              "      <td>0</td>\n",
              "      <td>0</td>\n",
              "      <td>6</td>\n",
              "      <td>...</td>\n",
              "      <td>-0.090909</td>\n",
              "      <td>-0.090909</td>\n",
              "      <td>-0.090909</td>\n",
              "      <td>-0.090909</td>\n",
              "      <td>-0.090909</td>\n",
              "      <td>-0.090909</td>\n",
              "      <td>-0.090909</td>\n",
              "      <td>-0.090909</td>\n",
              "      <td>-0.090909</td>\n",
              "      <td>-0.090909</td>\n",
              "    </tr>\n",
              "    <tr>\n",
              "      <th>4701</th>\n",
              "      <td>9</td>\n",
              "      <td>0.0</td>\n",
              "      <td>0.333333</td>\n",
              "      <td>2</td>\n",
              "      <td>3</td>\n",
              "      <td>2</td>\n",
              "      <td>3</td>\n",
              "      <td>1</td>\n",
              "      <td>5</td>\n",
              "      <td>7</td>\n",
              "      <td>...</td>\n",
              "      <td>-0.090909</td>\n",
              "      <td>-0.090909</td>\n",
              "      <td>-0.090909</td>\n",
              "      <td>-0.090909</td>\n",
              "      <td>-0.090909</td>\n",
              "      <td>-0.090909</td>\n",
              "      <td>-0.090909</td>\n",
              "      <td>-0.090909</td>\n",
              "      <td>-0.090909</td>\n",
              "      <td>-0.090909</td>\n",
              "    </tr>\n",
              "    <tr>\n",
              "      <th>3315</th>\n",
              "      <td>33</td>\n",
              "      <td>0.0</td>\n",
              "      <td>0.222222</td>\n",
              "      <td>3</td>\n",
              "      <td>8</td>\n",
              "      <td>0</td>\n",
              "      <td>4</td>\n",
              "      <td>1</td>\n",
              "      <td>5</td>\n",
              "      <td>6</td>\n",
              "      <td>...</td>\n",
              "      <td>-0.090909</td>\n",
              "      <td>-0.090909</td>\n",
              "      <td>-0.090909</td>\n",
              "      <td>-0.090909</td>\n",
              "      <td>0.000000</td>\n",
              "      <td>-0.090909</td>\n",
              "      <td>-0.090909</td>\n",
              "      <td>-0.090909</td>\n",
              "      <td>-0.090909</td>\n",
              "      <td>-0.090909</td>\n",
              "    </tr>\n",
              "    <tr>\n",
              "      <th>5133</th>\n",
              "      <td>10</td>\n",
              "      <td>0.0</td>\n",
              "      <td>0.222222</td>\n",
              "      <td>2</td>\n",
              "      <td>3</td>\n",
              "      <td>0</td>\n",
              "      <td>6</td>\n",
              "      <td>2</td>\n",
              "      <td>1</td>\n",
              "      <td>7</td>\n",
              "      <td>...</td>\n",
              "      <td>-0.090909</td>\n",
              "      <td>-0.090909</td>\n",
              "      <td>-0.090909</td>\n",
              "      <td>-0.090909</td>\n",
              "      <td>-0.090909</td>\n",
              "      <td>-0.090909</td>\n",
              "      <td>-0.090909</td>\n",
              "      <td>-0.090909</td>\n",
              "      <td>-0.090909</td>\n",
              "      <td>-0.090909</td>\n",
              "    </tr>\n",
              "    <tr>\n",
              "      <th>...</th>\n",
              "      <td>...</td>\n",
              "      <td>...</td>\n",
              "      <td>...</td>\n",
              "      <td>...</td>\n",
              "      <td>...</td>\n",
              "      <td>...</td>\n",
              "      <td>...</td>\n",
              "      <td>...</td>\n",
              "      <td>...</td>\n",
              "      <td>...</td>\n",
              "      <td>...</td>\n",
              "      <td>...</td>\n",
              "      <td>...</td>\n",
              "      <td>...</td>\n",
              "      <td>...</td>\n",
              "      <td>...</td>\n",
              "      <td>...</td>\n",
              "      <td>...</td>\n",
              "      <td>...</td>\n",
              "      <td>...</td>\n",
              "      <td>...</td>\n",
              "    </tr>\n",
              "    <tr>\n",
              "      <th>57</th>\n",
              "      <td>12</td>\n",
              "      <td>0.0</td>\n",
              "      <td>0.222222</td>\n",
              "      <td>2</td>\n",
              "      <td>3</td>\n",
              "      <td>0</td>\n",
              "      <td>6</td>\n",
              "      <td>0</td>\n",
              "      <td>3</td>\n",
              "      <td>7</td>\n",
              "      <td>...</td>\n",
              "      <td>-0.090909</td>\n",
              "      <td>-0.090909</td>\n",
              "      <td>-0.090909</td>\n",
              "      <td>0.000000</td>\n",
              "      <td>0.000000</td>\n",
              "      <td>-0.090909</td>\n",
              "      <td>-0.090909</td>\n",
              "      <td>-0.090909</td>\n",
              "      <td>-0.090909</td>\n",
              "      <td>-0.090909</td>\n",
              "    </tr>\n",
              "    <tr>\n",
              "      <th>578</th>\n",
              "      <td>33</td>\n",
              "      <td>0.0</td>\n",
              "      <td>0.111111</td>\n",
              "      <td>3</td>\n",
              "      <td>8</td>\n",
              "      <td>0</td>\n",
              "      <td>7</td>\n",
              "      <td>2</td>\n",
              "      <td>0</td>\n",
              "      <td>9</td>\n",
              "      <td>...</td>\n",
              "      <td>-0.090909</td>\n",
              "      <td>-0.090909</td>\n",
              "      <td>-0.090909</td>\n",
              "      <td>-0.090909</td>\n",
              "      <td>-0.090909</td>\n",
              "      <td>-0.090909</td>\n",
              "      <td>-0.090909</td>\n",
              "      <td>-0.090909</td>\n",
              "      <td>-0.090909</td>\n",
              "      <td>-0.090909</td>\n",
              "    </tr>\n",
              "    <tr>\n",
              "      <th>26</th>\n",
              "      <td>12</td>\n",
              "      <td>0.0</td>\n",
              "      <td>0.333333</td>\n",
              "      <td>2</td>\n",
              "      <td>3</td>\n",
              "      <td>0</td>\n",
              "      <td>7</td>\n",
              "      <td>2</td>\n",
              "      <td>0</td>\n",
              "      <td>9</td>\n",
              "      <td>...</td>\n",
              "      <td>-0.090909</td>\n",
              "      <td>-0.090909</td>\n",
              "      <td>-0.090909</td>\n",
              "      <td>-0.090909</td>\n",
              "      <td>-0.090909</td>\n",
              "      <td>-0.090909</td>\n",
              "      <td>-0.090909</td>\n",
              "      <td>-0.090909</td>\n",
              "      <td>-0.090909</td>\n",
              "      <td>-0.090909</td>\n",
              "    </tr>\n",
              "    <tr>\n",
              "      <th>2439</th>\n",
              "      <td>38</td>\n",
              "      <td>0.0</td>\n",
              "      <td>0.222222</td>\n",
              "      <td>3</td>\n",
              "      <td>9</td>\n",
              "      <td>1</td>\n",
              "      <td>6</td>\n",
              "      <td>2</td>\n",
              "      <td>2</td>\n",
              "      <td>7</td>\n",
              "      <td>...</td>\n",
              "      <td>-0.090909</td>\n",
              "      <td>-0.090909</td>\n",
              "      <td>-0.090909</td>\n",
              "      <td>-0.090909</td>\n",
              "      <td>-0.090909</td>\n",
              "      <td>-0.090909</td>\n",
              "      <td>-0.090909</td>\n",
              "      <td>-0.090909</td>\n",
              "      <td>-0.090909</td>\n",
              "      <td>-0.090909</td>\n",
              "    </tr>\n",
              "    <tr>\n",
              "      <th>1366</th>\n",
              "      <td>8</td>\n",
              "      <td>0.0</td>\n",
              "      <td>0.222222</td>\n",
              "      <td>3</td>\n",
              "      <td>2</td>\n",
              "      <td>0</td>\n",
              "      <td>4</td>\n",
              "      <td>1</td>\n",
              "      <td>4</td>\n",
              "      <td>6</td>\n",
              "      <td>...</td>\n",
              "      <td>-0.090909</td>\n",
              "      <td>-0.090909</td>\n",
              "      <td>-0.090909</td>\n",
              "      <td>-0.090909</td>\n",
              "      <td>-0.090909</td>\n",
              "      <td>-0.090909</td>\n",
              "      <td>-0.090909</td>\n",
              "      <td>-0.090909</td>\n",
              "      <td>-0.090909</td>\n",
              "      <td>-0.090909</td>\n",
              "    </tr>\n",
              "  </tbody>\n",
              "</table>\n",
              "<p>7857 rows × 85 columns</p>\n",
              "</div>\n",
              "      <button class=\"colab-df-convert\" onclick=\"convertToInteractive('df-403cd042-01df-4a16-8e3e-d06851737b2b')\"\n",
              "              title=\"Convert this dataframe to an interactive table.\"\n",
              "              style=\"display:none;\">\n",
              "        \n",
              "  <svg xmlns=\"http://www.w3.org/2000/svg\" height=\"24px\"viewBox=\"0 0 24 24\"\n",
              "       width=\"24px\">\n",
              "    <path d=\"M0 0h24v24H0V0z\" fill=\"none\"/>\n",
              "    <path d=\"M18.56 5.44l.94 2.06.94-2.06 2.06-.94-2.06-.94-.94-2.06-.94 2.06-2.06.94zm-11 1L8.5 8.5l.94-2.06 2.06-.94-2.06-.94L8.5 2.5l-.94 2.06-2.06.94zm10 10l.94 2.06.94-2.06 2.06-.94-2.06-.94-.94-2.06-.94 2.06-2.06.94z\"/><path d=\"M17.41 7.96l-1.37-1.37c-.4-.4-.92-.59-1.43-.59-.52 0-1.04.2-1.43.59L10.3 9.45l-7.72 7.72c-.78.78-.78 2.05 0 2.83L4 21.41c.39.39.9.59 1.41.59.51 0 1.02-.2 1.41-.59l7.78-7.78 2.81-2.81c.8-.78.8-2.07 0-2.86zM5.41 20L4 18.59l7.72-7.72 1.47 1.35L5.41 20z\"/>\n",
              "  </svg>\n",
              "      </button>\n",
              "      \n",
              "  <style>\n",
              "    .colab-df-container {\n",
              "      display:flex;\n",
              "      flex-wrap:wrap;\n",
              "      gap: 12px;\n",
              "    }\n",
              "\n",
              "    .colab-df-convert {\n",
              "      background-color: #E8F0FE;\n",
              "      border: none;\n",
              "      border-radius: 50%;\n",
              "      cursor: pointer;\n",
              "      display: none;\n",
              "      fill: #1967D2;\n",
              "      height: 32px;\n",
              "      padding: 0 0 0 0;\n",
              "      width: 32px;\n",
              "    }\n",
              "\n",
              "    .colab-df-convert:hover {\n",
              "      background-color: #E2EBFA;\n",
              "      box-shadow: 0px 1px 2px rgba(60, 64, 67, 0.3), 0px 1px 3px 1px rgba(60, 64, 67, 0.15);\n",
              "      fill: #174EA6;\n",
              "    }\n",
              "\n",
              "    [theme=dark] .colab-df-convert {\n",
              "      background-color: #3B4455;\n",
              "      fill: #D2E3FC;\n",
              "    }\n",
              "\n",
              "    [theme=dark] .colab-df-convert:hover {\n",
              "      background-color: #434B5C;\n",
              "      box-shadow: 0px 1px 3px 1px rgba(0, 0, 0, 0.15);\n",
              "      filter: drop-shadow(0px 1px 2px rgba(0, 0, 0, 0.3));\n",
              "      fill: #FFFFFF;\n",
              "    }\n",
              "  </style>\n",
              "\n",
              "      <script>\n",
              "        const buttonEl =\n",
              "          document.querySelector('#df-403cd042-01df-4a16-8e3e-d06851737b2b button.colab-df-convert');\n",
              "        buttonEl.style.display =\n",
              "          google.colab.kernel.accessAllowed ? 'block' : 'none';\n",
              "\n",
              "        async function convertToInteractive(key) {\n",
              "          const element = document.querySelector('#df-403cd042-01df-4a16-8e3e-d06851737b2b');\n",
              "          const dataTable =\n",
              "            await google.colab.kernel.invokeFunction('convertToInteractive',\n",
              "                                                     [key], {});\n",
              "          if (!dataTable) return;\n",
              "\n",
              "          const docLinkHtml = 'Like what you see? Visit the ' +\n",
              "            '<a target=\"_blank\" href=https://colab.research.google.com/notebooks/data_table.ipynb>data table notebook</a>'\n",
              "            + ' to learn more about interactive tables.';\n",
              "          element.innerHTML = '';\n",
              "          dataTable['output_type'] = 'display_data';\n",
              "          await google.colab.output.renderOutput(dataTable, element);\n",
              "          const docLink = document.createElement('div');\n",
              "          docLink.innerHTML = docLinkHtml;\n",
              "          element.appendChild(docLink);\n",
              "        }\n",
              "      </script>\n",
              "    </div>\n",
              "  </div>\n",
              "  "
            ]
          },
          "metadata": {},
          "execution_count": 113
        }
      ]
    },
    {
      "cell_type": "markdown",
      "source": [
        "Las columnas numéricas que acaban de ser normalizadas se extraen a un dataset complementario para poder aplicarle la técnica PCA."
      ],
      "metadata": {
        "id": "k0Iu9lUHFs4j"
      }
    },
    {
      "cell_type": "code",
      "source": [
        "numericos = X_train.iloc[:, [1, 2] + [i for i in range(64,85,1)]]\n"
      ],
      "metadata": {
        "id": "7OhYmtrEV4iJ"
      },
      "execution_count": 114,
      "outputs": []
    },
    {
      "cell_type": "markdown",
      "source": [
        "Se aplica PCA a los numéricos. \n",
        "\n",
        "\n",
        "\n",
        "PCA (Principal Component Analysis) es un algoritmo estadístico ampliamente utilizado para reducir la dimensionalidad de un conjunto de datos mientras se conserva la mayor cantidad posible de información. Su objetivo es encontrar nuevas variables, llamadas componentes principales, que sean combinaciones lineales de las variables originales.\n",
        "\n",
        "En la implementación de PCA en la biblioteca scikit-learn (sklearn), se considera como un algoritmo de aprendizaje, pero en realidad no realiza un aprendizaje en el sentido tradicional. En su lugar, se utiliza el conjunto de datos de entrenamiento para calcular los componentes principales, y luego se puede aplicar la misma transformación a otros conjuntos de datos, como los conjuntos de datos de prueba.\n",
        "\n",
        "Al aplicar PCA, obtenemos un nuevo conjunto de datos que tiene menos dimensiones que el conjunto de datos original. Esto se logra al eliminar las dimensiones que tienen menos variabilidad o contribuyen menos a la estructura global de los datos. Sin embargo, es importante destacar que PCA no garantiza que no se pierda información en el proceso de reducción de dimensionalidad, pero intenta minimizar dicha pérdida.\n",
        "\n",
        "Si deseamos especificar cuántas dimensiones queremos en el conjunto de datos transformado, podemos indicar el número deseado al aplicar PCA. De lo contrario, PCA calculará automáticamente el número de dimensiones necesarias para mantener la mayor cantidad de información posible.\n",
        "\n",
        "Además, PCA también permite realizar una transformación inversa, lo que significa que podemos recuperar los datos originales (o al menos una aproximación cercana) a partir del conjunto de datos transformado. Esto es útil si queremos interpretar o visualizar los datos en su forma original después de reducir la dimensionalidad.\n",
        "\n",
        "En resumen, PCA es un algoritmo que reduce la dimensionalidad de un conjunto de datos al encontrar combinaciones lineales de las variables originales. Aunque intenta minimizar la pérdida de información, es importante tener en cuenta que existe una pérdida inherente al reducir las dimensiones. Sin embargo, PCA proporciona una herramienta útil para explorar y analizar conjuntos de datos complejos.\n",
        "\n",
        "\n",
        "\n",
        "Al entrenar el modelo PCA, aseguramos que se conserve la mayor cantidad posible de información del conjunto de datos original. Luego, podemos examinar los componentes resultantes y clasificarlos según su contribución al total de la información contenida en los datos. Esta contribución se representa mediante el concepto de \"porcentaje de varianza explicada acumulada\".\n",
        "\n",
        "El porcentaje de varianza explicada acumulada es una medida que indica el porcentaje de información que se conserva si utilizamos los 'n' componentes más importantes en lugar de todas las variables originales. En otras palabras, representa qué proporción de la variabilidad de los datos se captura al considerar solo los 'n' componentes más significativos.\n",
        "\n",
        "Al observar la curva de porcentaje de varianza explicada acumulada, podemos evaluar cómo se reduce la pérdida de información a medida que aumentamos el número de componentes considerados. Si seleccionamos un número suficiente de componentes con alta varianza explicada, podemos mantener una gran cantidad de información mientras reducimos la dimensionalidad del conjunto de datos.\n"
      ],
      "metadata": {
        "id": "q18_ZEcRWMS3"
      }
    },
    {
      "cell_type": "code",
      "source": [
        "from sklearn.decomposition import PCA\n",
        "\n",
        "modelo_pca = PCA().fit(numericos)\n",
        "datos = numericos\n",
        "\n",
        "prop_varianza_acum = modelo_pca.explained_variance_ratio_.cumsum()\n",
        "\n",
        "fig, ax = plt.subplots()\n",
        "ax.plot(np.arange(len(datos.columns)),prop_varianza_acum,'-o')\n",
        "\n",
        "fig.set_figwidth(20)  \n",
        "ax.set_yticks([0,0.1,0.2,0.3,0.4,0.5,0.6,0.7,0.8,0.9,1])\n",
        "ax.set_title('Porcentaje de varianza explicada acumulada')\n",
        "ax.set_xlabel('Componente principal')\n",
        "ax.set_ylabel('Por. varianza acumulada')\n",
        "\n",
        "percentil90 = np.where(prop_varianza_acum >= 0.90)[0][0]\n",
        "print('90% de la información mantenida con ', percentil90, ' componentes')\n",
        "percentil95 = np.where(prop_varianza_acum >= 0.95)[0][0]\n",
        "print('95% de la información mantenida con ', percentil95, ' componentes')\n",
        "percentil99 = np.where(prop_varianza_acum >= 0.99)[0][0]\n",
        "print('99% de la información mantenida con ', percentil99, ' componentes')"
      ],
      "metadata": {
        "colab": {
          "base_uri": "https://localhost:8080/",
          "height": 250
        },
        "id": "d4w4WG8pWOvm",
        "outputId": "a7473aea-329f-4458-9fee-204a910641a8"
      },
      "execution_count": 115,
      "outputs": [
        {
          "output_type": "stream",
          "name": "stdout",
          "text": [
            "90% de la información mantenida con  6  componentes\n",
            "95% de la información mantenida con  8  componentes\n",
            "99% de la información mantenida con  16  componentes\n"
          ]
        },
        {
          "output_type": "display_data",
          "data": {
            "text/plain": [
              "<Figure size 2000x480 with 1 Axes>"
            ],
            "image/png": "[encoded data removed]"
          },
          "metadata": {}
        }
      ]
    },
    {
      "cell_type": "markdown",
      "source": [
        "Se opta por coger la opción que mantiene un 95% de información, ya que elimina una buena parte de las columnas."
      ],
      "metadata": {
        "id": "JZrhGKUaGD75"
      }
    },
    {
      "cell_type": "code",
      "source": [
        "modelo_pca = PCA(n_components=percentil95).fit(numericos)\n",
        "numericos = pd.DataFrame(modelo_pca.transform(numericos))\n",
        "numericos"
      ],
      "metadata": {
        "colab": {
          "base_uri": "https://localhost:8080/",
          "height": 488
        },
        "id": "qvyTRTY0WsY5",
        "outputId": "9f45b044-f249-43a7-a9f7-b52e3ab2ca30"
      },
      "execution_count": 116,
      "outputs": [
        {
          "output_type": "execute_result",
          "data": {
            "text/plain": [
              "             0         1         2         3         4         5         6  \\\n",
              "0    -0.072166  0.379183  0.068896  0.029114 -0.004484 -0.017830  0.003112   \n",
              "1     0.035084 -0.022970  0.013141  0.048225  0.052215 -0.048207  0.005358   \n",
              "2     0.143608 -0.021087 -0.022895 -0.039265  0.058480 -0.053434  0.005990   \n",
              "3     0.033178 -0.021729  0.074926  0.010799  0.005100 -0.023178 -0.000815   \n",
              "4     0.034968 -0.022240 -0.077205 -0.020551  0.006991 -0.004363 -0.009689   \n",
              "...        ...       ...       ...       ...       ...       ...       ...   \n",
              "7852  0.031392 -0.018923  0.038463 -0.071178  0.013041 -0.024029  0.000616   \n",
              "7853 -0.072164 -0.026681 -0.005693  0.147012 -0.011240  0.001725 -0.008492   \n",
              "7854  0.147889 -0.026529 -0.038883  0.058155 -0.001106 -0.005166 -0.011066   \n",
              "7855  0.034968 -0.022240 -0.077205 -0.020551  0.006991 -0.004363 -0.009689   \n",
              "7856  0.036898 -0.025150 -0.040594  0.061539 -0.001785 -0.002601 -0.009749   \n",
              "\n",
              "             7  \n",
              "0    -0.001593  \n",
              "1     0.023151  \n",
              "2     0.025135  \n",
              "3    -0.002052  \n",
              "4     0.012107  \n",
              "...        ...  \n",
              "7852  0.008865  \n",
              "7853 -0.005409  \n",
              "7854  0.002304  \n",
              "7855  0.012107  \n",
              "7856  0.003001  \n",
              "\n",
              "[7857 rows x 8 columns]"
            ],
            "text/html": [
              "\n",
              "  <div id=\"df-4ba12800-dfa6-440d-bf97-e15c2516d995\">\n",
              "    <div class=\"colab-df-container\">\n",
              "      <div>\n",
              "<style scoped>\n",
              "    .dataframe tbody tr th:only-of-type {\n",
              "        vertical-align: middle;\n",
              "    }\n",
              "\n",
              "    .dataframe tbody tr th {\n",
              "        vertical-align: top;\n",
              "    }\n",
              "\n",
              "    .dataframe thead th {\n",
              "        text-align: right;\n",
              "    }\n",
              "</style>\n",
              "<table border=\"1\" class=\"dataframe\">\n",
              "  <thead>\n",
              "    <tr style=\"text-align: right;\">\n",
              "      <th></th>\n",
              "      <th>0</th>\n",
              "      <th>1</th>\n",
              "      <th>2</th>\n",
              "      <th>3</th>\n",
              "      <th>4</th>\n",
              "      <th>5</th>\n",
              "      <th>6</th>\n",
              "      <th>7</th>\n",
              "    </tr>\n",
              "  </thead>\n",
              "  <tbody>\n",
              "    <tr>\n",
              "      <th>0</th>\n",
              "      <td>-0.072166</td>\n",
              "      <td>0.379183</td>\n",
              "      <td>0.068896</td>\n",
              "      <td>0.029114</td>\n",
              "      <td>-0.004484</td>\n",
              "      <td>-0.017830</td>\n",
              "      <td>0.003112</td>\n",
              "      <td>-0.001593</td>\n",
              "    </tr>\n",
              "    <tr>\n",
              "      <th>1</th>\n",
              "      <td>0.035084</td>\n",
              "      <td>-0.022970</td>\n",
              "      <td>0.013141</td>\n",
              "      <td>0.048225</td>\n",
              "      <td>0.052215</td>\n",
              "      <td>-0.048207</td>\n",
              "      <td>0.005358</td>\n",
              "      <td>0.023151</td>\n",
              "    </tr>\n",
              "    <tr>\n",
              "      <th>2</th>\n",
              "      <td>0.143608</td>\n",
              "      <td>-0.021087</td>\n",
              "      <td>-0.022895</td>\n",
              "      <td>-0.039265</td>\n",
              "      <td>0.058480</td>\n",
              "      <td>-0.053434</td>\n",
              "      <td>0.005990</td>\n",
              "      <td>0.025135</td>\n",
              "    </tr>\n",
              "    <tr>\n",
              "      <th>3</th>\n",
              "      <td>0.033178</td>\n",
              "      <td>-0.021729</td>\n",
              "      <td>0.074926</td>\n",
              "      <td>0.010799</td>\n",
              "      <td>0.005100</td>\n",
              "      <td>-0.023178</td>\n",
              "      <td>-0.000815</td>\n",
              "      <td>-0.002052</td>\n",
              "    </tr>\n",
              "    <tr>\n",
              "      <th>4</th>\n",
              "      <td>0.034968</td>\n",
              "      <td>-0.022240</td>\n",
              "      <td>-0.077205</td>\n",
              "      <td>-0.020551</td>\n",
              "      <td>0.006991</td>\n",
              "      <td>-0.004363</td>\n",
              "      <td>-0.009689</td>\n",
              "      <td>0.012107</td>\n",
              "    </tr>\n",
              "    <tr>\n",
              "      <th>...</th>\n",
              "      <td>...</td>\n",
              "      <td>...</td>\n",
              "      <td>...</td>\n",
              "      <td>...</td>\n",
              "      <td>...</td>\n",
              "      <td>...</td>\n",
              "      <td>...</td>\n",
              "      <td>...</td>\n",
              "    </tr>\n",
              "    <tr>\n",
              "      <th>7852</th>\n",
              "      <td>0.031392</td>\n",
              "      <td>-0.018923</td>\n",
              "      <td>0.038463</td>\n",
              "      <td>-0.071178</td>\n",
              "      <td>0.013041</td>\n",
              "      <td>-0.024029</td>\n",
              "      <td>0.000616</td>\n",
              "      <td>0.008865</td>\n",
              "    </tr>\n",
              "    <tr>\n",
              "      <th>7853</th>\n",
              "      <td>-0.072164</td>\n",
              "      <td>-0.026681</td>\n",
              "      <td>-0.005693</td>\n",
              "      <td>0.147012</td>\n",
              "      <td>-0.011240</td>\n",
              "      <td>0.001725</td>\n",
              "      <td>-0.008492</td>\n",
              "      <td>-0.005409</td>\n",
              "    </tr>\n",
              "    <tr>\n",
              "      <th>7854</th>\n",
              "      <td>0.147889</td>\n",
              "      <td>-0.026529</td>\n",
              "      <td>-0.038883</td>\n",
              "      <td>0.058155</td>\n",
              "      <td>-0.001106</td>\n",
              "      <td>-0.005166</td>\n",
              "      <td>-0.011066</td>\n",
              "      <td>0.002304</td>\n",
              "    </tr>\n",
              "    <tr>\n",
              "      <th>7855</th>\n",
              "      <td>0.034968</td>\n",
              "      <td>-0.022240</td>\n",
              "      <td>-0.077205</td>\n",
              "      <td>-0.020551</td>\n",
              "      <td>0.006991</td>\n",
              "      <td>-0.004363</td>\n",
              "      <td>-0.009689</td>\n",
              "      <td>0.012107</td>\n",
              "    </tr>\n",
              "    <tr>\n",
              "      <th>7856</th>\n",
              "      <td>0.036898</td>\n",
              "      <td>-0.025150</td>\n",
              "      <td>-0.040594</td>\n",
              "      <td>0.061539</td>\n",
              "      <td>-0.001785</td>\n",
              "      <td>-0.002601</td>\n",
              "      <td>-0.009749</td>\n",
              "      <td>0.003001</td>\n",
              "    </tr>\n",
              "  </tbody>\n",
              "</table>\n",
              "<p>7857 rows × 8 columns</p>\n",
              "</div>\n",
              "      <button class=\"colab-df-convert\" onclick=\"convertToInteractive('df-4ba12800-dfa6-440d-bf97-e15c2516d995')\"\n",
              "              title=\"Convert this dataframe to an interactive table.\"\n",
              "              style=\"display:none;\">\n",
              "        \n",
              "  <svg xmlns=\"http://www.w3.org/2000/svg\" height=\"24px\"viewBox=\"0 0 24 24\"\n",
              "       width=\"24px\">\n",
              "    <path d=\"M0 0h24v24H0V0z\" fill=\"none\"/>\n",
              "    <path d=\"M18.56 5.44l.94 2.06.94-2.06 2.06-.94-2.06-.94-.94-2.06-.94 2.06-2.06.94zm-11 1L8.5 8.5l.94-2.06 2.06-.94-2.06-.94L8.5 2.5l-.94 2.06-2.06.94zm10 10l.94 2.06.94-2.06 2.06-.94-2.06-.94-.94-2.06-.94 2.06-2.06.94z\"/><path d=\"M17.41 7.96l-1.37-1.37c-.4-.4-.92-.59-1.43-.59-.52 0-1.04.2-1.43.59L10.3 9.45l-7.72 7.72c-.78.78-.78 2.05 0 2.83L4 21.41c.39.39.9.59 1.41.59.51 0 1.02-.2 1.41-.59l7.78-7.78 2.81-2.81c.8-.78.8-2.07 0-2.86zM5.41 20L4 18.59l7.72-7.72 1.47 1.35L5.41 20z\"/>\n",
              "  </svg>\n",
              "      </button>\n",
              "      \n",
              "  <style>\n",
              "    .colab-df-container {\n",
              "      display:flex;\n",
              "      flex-wrap:wrap;\n",
              "      gap: 12px;\n",
              "    }\n",
              "\n",
              "    .colab-df-convert {\n",
              "      background-color: #E8F0FE;\n",
              "      border: none;\n",
              "      border-radius: 50%;\n",
              "      cursor: pointer;\n",
              "      display: none;\n",
              "      fill: #1967D2;\n",
              "      height: 32px;\n",
              "      padding: 0 0 0 0;\n",
              "      width: 32px;\n",
              "    }\n",
              "\n",
              "    .colab-df-convert:hover {\n",
              "      background-color: #E2EBFA;\n",
              "      box-shadow: 0px 1px 2px rgba(60, 64, 67, 0.3), 0px 1px 3px 1px rgba(60, 64, 67, 0.15);\n",
              "      fill: #174EA6;\n",
              "    }\n",
              "\n",
              "    [theme=dark] .colab-df-convert {\n",
              "      background-color: #3B4455;\n",
              "      fill: #D2E3FC;\n",
              "    }\n",
              "\n",
              "    [theme=dark] .colab-df-convert:hover {\n",
              "      background-color: #434B5C;\n",
              "      box-shadow: 0px 1px 3px 1px rgba(0, 0, 0, 0.15);\n",
              "      filter: drop-shadow(0px 1px 2px rgba(0, 0, 0, 0.3));\n",
              "      fill: #FFFFFF;\n",
              "    }\n",
              "  </style>\n",
              "\n",
              "      <script>\n",
              "        const buttonEl =\n",
              "          document.querySelector('#df-4ba12800-dfa6-440d-bf97-e15c2516d995 button.colab-df-convert');\n",
              "        buttonEl.style.display =\n",
              "          google.colab.kernel.accessAllowed ? 'block' : 'none';\n",
              "\n",
              "        async function convertToInteractive(key) {\n",
              "          const element = document.querySelector('#df-4ba12800-dfa6-440d-bf97-e15c2516d995');\n",
              "          const dataTable =\n",
              "            await google.colab.kernel.invokeFunction('convertToInteractive',\n",
              "                                                     [key], {});\n",
              "          if (!dataTable) return;\n",
              "\n",
              "          const docLinkHtml = 'Like what you see? Visit the ' +\n",
              "            '<a target=\"_blank\" href=https://colab.research.google.com/notebooks/data_table.ipynb>data table notebook</a>'\n",
              "            + ' to learn more about interactive tables.';\n",
              "          element.innerHTML = '';\n",
              "          dataTable['output_type'] = 'display_data';\n",
              "          await google.colab.output.renderOutput(dataTable, element);\n",
              "          const docLink = document.createElement('div');\n",
              "          docLink.innerHTML = docLinkHtml;\n",
              "          element.appendChild(docLink);\n",
              "        }\n",
              "      </script>\n",
              "    </div>\n",
              "  </div>\n",
              "  "
            ]
          },
          "metadata": {},
          "execution_count": 116
        }
      ]
    },
    {
      "cell_type": "markdown",
      "source": [
        "A partir de ahora, se realizará el tratamiento de las columnas categóricas directamente en train. Posteriormente se borraran las numércias que ya han sido tratadas a parte y se añadirán las columnas del DataSet **numericos** al final de train."
      ],
      "metadata": {
        "id": "CQvFE1tVX9Az"
      }
    },
    {
      "cell_type": "markdown",
      "source": [
        "A L0 y L2 se le aplica one hot, no hay orden posible."
      ],
      "metadata": {
        "id": "4E-C1SMpYKDT"
      }
    },
    {
      "cell_type": "code",
      "source": [
        "L0 = [i for i in range(1,42)]\n",
        "# L1 = np.arange(1,7)\n",
        "L2 = [i for i in range(1,11)]\n",
        "# L3 = np.arange(1,10)\n",
        "# L4 = L3.copy()\n",
        "\n",
        "# columnas_L3 = [str(i) for i in range(5,43,1)]\n",
        "# columnas_L4 = [str(i) for i in range(43,64,1)]\n",
        "\n",
        "X_train = aplicar_one_hot_encoding(X_train, '0', L0)\n",
        "# X_train = aplicar_one_hot_encoding(X_train, '3', L1)\n",
        "X_train = aplicar_one_hot_encoding(X_train, '4', L2)\n",
        "# for col in columnas_L3:\n",
        "#   X_train = aplicar_one_hot_encoding(X_train, col , L3)\n",
        "\n",
        "# for col in columnas_L4:\n",
        "#   X_train = aplicar_one_hot_encoding(X_train, col , L4)\n",
        "# X_train\n",
        "X_train"
      ],
      "metadata": {
        "colab": {
          "base_uri": "https://localhost:8080/",
          "height": 488
        },
        "id": "WuNqxHssX--G",
        "outputId": "1e6d62b1-7be1-4181-b329-a50c847f4159"
      },
      "execution_count": 117,
      "outputs": [
        {
          "output_type": "execute_result",
          "data": {
            "text/plain": [
              "        1         2  3  5  6  7  8  9  10  11  ...  4_1  4_2  4_3  4_4  4_5  \\\n",
              "559   0.4  0.111111  4  0  3  0  6  5   0   4  ...    0    0    0    0    0   \n",
              "771   0.0  0.222222  3  9  0  0  0  6   2   2  ...    0    0    0    0    0   \n",
              "4701  0.0  0.333333  2  2  3  1  5  7   0   2  ...    0    0    1    0    0   \n",
              "3315  0.0  0.222222  3  0  4  1  5  6   2   2  ...    0    0    0    0    0   \n",
              "5133  0.0  0.222222  2  0  6  2  1  7   0   2  ...    0    0    1    0    0   \n",
              "...   ...       ... .. .. .. .. .. ..  ..  ..  ...  ...  ...  ...  ...  ...   \n",
              "57    0.0  0.222222  2  0  6  0  3  7   2   0  ...    0    0    1    0    0   \n",
              "578   0.0  0.111111  3  0  7  2  0  9   0   0  ...    0    0    0    0    0   \n",
              "26    0.0  0.333333  2  0  7  2  0  9   0   0  ...    0    0    1    0    0   \n",
              "2439  0.0  0.222222  3  1  6  2  2  7   1   2  ...    0    0    0    0    0   \n",
              "1366  0.0  0.222222  3  0  4  1  4  6   1   3  ...    0    1    0    0    0   \n",
              "\n",
              "      4_6  4_7  4_8  4_9  4_10  \n",
              "559     1    0    0    0     0  \n",
              "771     0    0    1    0     0  \n",
              "4701    0    0    0    0     0  \n",
              "3315    0    0    1    0     0  \n",
              "5133    0    0    0    0     0  \n",
              "...   ...  ...  ...  ...   ...  \n",
              "57      0    0    0    0     0  \n",
              "578     0    0    1    0     0  \n",
              "26      0    0    0    0     0  \n",
              "2439    0    0    0    1     0  \n",
              "1366    0    0    0    0     0  \n",
              "\n",
              "[7857 rows x 134 columns]"
            ],
            "text/html": [
              "\n",
              "  <div id=\"df-6bf4f163-596f-40a2-a933-1b34c2667b1b\">\n",
              "    <div class=\"colab-df-container\">\n",
              "      <div>\n",
              "<style scoped>\n",
              "    .dataframe tbody tr th:only-of-type {\n",
              "        vertical-align: middle;\n",
              "    }\n",
              "\n",
              "    .dataframe tbody tr th {\n",
              "        vertical-align: top;\n",
              "    }\n",
              "\n",
              "    .dataframe thead th {\n",
              "        text-align: right;\n",
              "    }\n",
              "</style>\n",
              "<table border=\"1\" class=\"dataframe\">\n",
              "  <thead>\n",
              "    <tr style=\"text-align: right;\">\n",
              "      <th></th>\n",
              "      <th>1</th>\n",
              "      <th>2</th>\n",
              "      <th>3</th>\n",
              "      <th>5</th>\n",
              "      <th>6</th>\n",
              "      <th>7</th>\n",
              "      <th>8</th>\n",
              "      <th>9</th>\n",
              "      <th>10</th>\n",
              "      <th>11</th>\n",
              "      <th>...</th>\n",
              "      <th>4_1</th>\n",
              "      <th>4_2</th>\n",
              "      <th>4_3</th>\n",
              "      <th>4_4</th>\n",
              "      <th>4_5</th>\n",
              "      <th>4_6</th>\n",
              "      <th>4_7</th>\n",
              "      <th>4_8</th>\n",
              "      <th>4_9</th>\n",
              "      <th>4_10</th>\n",
              "    </tr>\n",
              "  </thead>\n",
              "  <tbody>\n",
              "    <tr>\n",
              "      <th>559</th>\n",
              "      <td>0.4</td>\n",
              "      <td>0.111111</td>\n",
              "      <td>4</td>\n",
              "      <td>0</td>\n",
              "      <td>3</td>\n",
              "      <td>0</td>\n",
              "      <td>6</td>\n",
              "      <td>5</td>\n",
              "      <td>0</td>\n",
              "      <td>4</td>\n",
              "      <td>...</td>\n",
              "      <td>0</td>\n",
              "      <td>0</td>\n",
              "      <td>0</td>\n",
              "      <td>0</td>\n",
              "      <td>0</td>\n",
              "      <td>1</td>\n",
              "      <td>0</td>\n",
              "      <td>0</td>\n",
              "      <td>0</td>\n",
              "      <td>0</td>\n",
              "    </tr>\n",
              "    <tr>\n",
              "      <th>771</th>\n",
              "      <td>0.0</td>\n",
              "      <td>0.222222</td>\n",
              "      <td>3</td>\n",
              "      <td>9</td>\n",
              "      <td>0</td>\n",
              "      <td>0</td>\n",
              "      <td>0</td>\n",
              "      <td>6</td>\n",
              "      <td>2</td>\n",
              "      <td>2</td>\n",
              "      <td>...</td>\n",
              "      <td>0</td>\n",
              "      <td>0</td>\n",
              "      <td>0</td>\n",
              "      <td>0</td>\n",
              "      <td>0</td>\n",
              "      <td>0</td>\n",
              "      <td>0</td>\n",
              "      <td>1</td>\n",
              "      <td>0</td>\n",
              "      <td>0</td>\n",
              "    </tr>\n",
              "    <tr>\n",
              "      <th>4701</th>\n",
              "      <td>0.0</td>\n",
              "      <td>0.333333</td>\n",
              "      <td>2</td>\n",
              "      <td>2</td>\n",
              "      <td>3</td>\n",
              "      <td>1</td>\n",
              "      <td>5</td>\n",
              "      <td>7</td>\n",
              "      <td>0</td>\n",
              "      <td>2</td>\n",
              "      <td>...</td>\n",
              "      <td>0</td>\n",
              "      <td>0</td>\n",
              "      <td>1</td>\n",
              "      <td>0</td>\n",
              "      <td>0</td>\n",
              "      <td>0</td>\n",
              "      <td>0</td>\n",
              "      <td>0</td>\n",
              "      <td>0</td>\n",
              "      <td>0</td>\n",
              "    </tr>\n",
              "    <tr>\n",
              "      <th>3315</th>\n",
              "      <td>0.0</td>\n",
              "      <td>0.222222</td>\n",
              "      <td>3</td>\n",
              "      <td>0</td>\n",
              "      <td>4</td>\n",
              "      <td>1</td>\n",
              "      <td>5</td>\n",
              "      <td>6</td>\n",
              "      <td>2</td>\n",
              "      <td>2</td>\n",
              "      <td>...</td>\n",
              "      <td>0</td>\n",
              "      <td>0</td>\n",
              "      <td>0</td>\n",
              "      <td>0</td>\n",
              "      <td>0</td>\n",
              "      <td>0</td>\n",
              "      <td>0</td>\n",
              "      <td>1</td>\n",
              "      <td>0</td>\n",
              "      <td>0</td>\n",
              "    </tr>\n",
              "    <tr>\n",
              "      <th>5133</th>\n",
              "      <td>0.0</td>\n",
              "      <td>0.222222</td>\n",
              "      <td>2</td>\n",
              "      <td>0</td>\n",
              "      <td>6</td>\n",
              "      <td>2</td>\n",
              "      <td>1</td>\n",
              "      <td>7</td>\n",
              "      <td>0</td>\n",
              "      <td>2</td>\n",
              "      <td>...</td>\n",
              "      <td>0</td>\n",
              "      <td>0</td>\n",
              "      <td>1</td>\n",
              "      <td>0</td>\n",
              "      <td>0</td>\n",
              "      <td>0</td>\n",
              "      <td>0</td>\n",
              "      <td>0</td>\n",
              "      <td>0</td>\n",
              "      <td>0</td>\n",
              "    </tr>\n",
              "    <tr>\n",
              "      <th>...</th>\n",
              "      <td>...</td>\n",
              "      <td>...</td>\n",
              "      <td>...</td>\n",
              "      <td>...</td>\n",
              "      <td>...</td>\n",
              "      <td>...</td>\n",
              "      <td>...</td>\n",
              "      <td>...</td>\n",
              "      <td>...</td>\n",
              "      <td>...</td>\n",
              "      <td>...</td>\n",
              "      <td>...</td>\n",
              "      <td>...</td>\n",
              "      <td>...</td>\n",
              "      <td>...</td>\n",
              "      <td>...</td>\n",
              "      <td>...</td>\n",
              "      <td>...</td>\n",
              "      <td>...</td>\n",
              "      <td>...</td>\n",
              "      <td>...</td>\n",
              "    </tr>\n",
              "    <tr>\n",
              "      <th>57</th>\n",
              "      <td>0.0</td>\n",
              "      <td>0.222222</td>\n",
              "      <td>2</td>\n",
              "      <td>0</td>\n",
              "      <td>6</td>\n",
              "      <td>0</td>\n",
              "      <td>3</td>\n",
              "      <td>7</td>\n",
              "      <td>2</td>\n",
              "      <td>0</td>\n",
              "      <td>...</td>\n",
              "      <td>0</td>\n",
              "      <td>0</td>\n",
              "      <td>1</td>\n",
              "      <td>0</td>\n",
              "      <td>0</td>\n",
              "      <td>0</td>\n",
              "      <td>0</td>\n",
              "      <td>0</td>\n",
              "      <td>0</td>\n",
              "      <td>0</td>\n",
              "    </tr>\n",
              "    <tr>\n",
              "      <th>578</th>\n",
              "      <td>0.0</td>\n",
              "      <td>0.111111</td>\n",
              "      <td>3</td>\n",
              "      <td>0</td>\n",
              "      <td>7</td>\n",
              "      <td>2</td>\n",
              "      <td>0</td>\n",
              "      <td>9</td>\n",
              "      <td>0</td>\n",
              "      <td>0</td>\n",
              "      <td>...</td>\n",
              "      <td>0</td>\n",
              "      <td>0</td>\n",
              "      <td>0</td>\n",
              "      <td>0</td>\n",
              "      <td>0</td>\n",
              "      <td>0</td>\n",
              "      <td>0</td>\n",
              "      <td>1</td>\n",
              "      <td>0</td>\n",
              "      <td>0</td>\n",
              "    </tr>\n",
              "    <tr>\n",
              "      <th>26</th>\n",
              "      <td>0.0</td>\n",
              "      <td>0.333333</td>\n",
              "      <td>2</td>\n",
              "      <td>0</td>\n",
              "      <td>7</td>\n",
              "      <td>2</td>\n",
              "      <td>0</td>\n",
              "      <td>9</td>\n",
              "      <td>0</td>\n",
              "      <td>0</td>\n",
              "      <td>...</td>\n",
              "      <td>0</td>\n",
              "      <td>0</td>\n",
              "      <td>1</td>\n",
              "      <td>0</td>\n",
              "      <td>0</td>\n",
              "      <td>0</td>\n",
              "      <td>0</td>\n",
              "      <td>0</td>\n",
              "      <td>0</td>\n",
              "      <td>0</td>\n",
              "    </tr>\n",
              "    <tr>\n",
              "      <th>2439</th>\n",
              "      <td>0.0</td>\n",
              "      <td>0.222222</td>\n",
              "      <td>3</td>\n",
              "      <td>1</td>\n",
              "      <td>6</td>\n",
              "      <td>2</td>\n",
              "      <td>2</td>\n",
              "      <td>7</td>\n",
              "      <td>1</td>\n",
              "      <td>2</td>\n",
              "      <td>...</td>\n",
              "      <td>0</td>\n",
              "      <td>0</td>\n",
              "      <td>0</td>\n",
              "      <td>0</td>\n",
              "      <td>0</td>\n",
              "      <td>0</td>\n",
              "      <td>0</td>\n",
              "      <td>0</td>\n",
              "      <td>1</td>\n",
              "      <td>0</td>\n",
              "    </tr>\n",
              "    <tr>\n",
              "      <th>1366</th>\n",
              "      <td>0.0</td>\n",
              "      <td>0.222222</td>\n",
              "      <td>3</td>\n",
              "      <td>0</td>\n",
              "      <td>4</td>\n",
              "      <td>1</td>\n",
              "      <td>4</td>\n",
              "      <td>6</td>\n",
              "      <td>1</td>\n",
              "      <td>3</td>\n",
              "      <td>...</td>\n",
              "      <td>0</td>\n",
              "      <td>1</td>\n",
              "      <td>0</td>\n",
              "      <td>0</td>\n",
              "      <td>0</td>\n",
              "      <td>0</td>\n",
              "      <td>0</td>\n",
              "      <td>0</td>\n",
              "      <td>0</td>\n",
              "      <td>0</td>\n",
              "    </tr>\n",
              "  </tbody>\n",
              "</table>\n",
              "<p>7857 rows × 134 columns</p>\n",
              "</div>\n",
              "      <button class=\"colab-df-convert\" onclick=\"convertToInteractive('df-6bf4f163-596f-40a2-a933-1b34c2667b1b')\"\n",
              "              title=\"Convert this dataframe to an interactive table.\"\n",
              "              style=\"display:none;\">\n",
              "        \n",
              "  <svg xmlns=\"http://www.w3.org/2000/svg\" height=\"24px\"viewBox=\"0 0 24 24\"\n",
              "       width=\"24px\">\n",
              "    <path d=\"M0 0h24v24H0V0z\" fill=\"none\"/>\n",
              "    <path d=\"M18.56 5.44l.94 2.06.94-2.06 2.06-.94-2.06-.94-.94-2.06-.94 2.06-2.06.94zm-11 1L8.5 8.5l.94-2.06 2.06-.94-2.06-.94L8.5 2.5l-.94 2.06-2.06.94zm10 10l.94 2.06.94-2.06 2.06-.94-2.06-.94-.94-2.06-.94 2.06-2.06.94z\"/><path d=\"M17.41 7.96l-1.37-1.37c-.4-.4-.92-.59-1.43-.59-.52 0-1.04.2-1.43.59L10.3 9.45l-7.72 7.72c-.78.78-.78 2.05 0 2.83L4 21.41c.39.39.9.59 1.41.59.51 0 1.02-.2 1.41-.59l7.78-7.78 2.81-2.81c.8-.78.8-2.07 0-2.86zM5.41 20L4 18.59l7.72-7.72 1.47 1.35L5.41 20z\"/>\n",
              "  </svg>\n",
              "      </button>\n",
              "      \n",
              "  <style>\n",
              "    .colab-df-container {\n",
              "      display:flex;\n",
              "      flex-wrap:wrap;\n",
              "      gap: 12px;\n",
              "    }\n",
              "\n",
              "    .colab-df-convert {\n",
              "      background-color: #E8F0FE;\n",
              "      border: none;\n",
              "      border-radius: 50%;\n",
              "      cursor: pointer;\n",
              "      display: none;\n",
              "      fill: #1967D2;\n",
              "      height: 32px;\n",
              "      padding: 0 0 0 0;\n",
              "      width: 32px;\n",
              "    }\n",
              "\n",
              "    .colab-df-convert:hover {\n",
              "      background-color: #E2EBFA;\n",
              "      box-shadow: 0px 1px 2px rgba(60, 64, 67, 0.3), 0px 1px 3px 1px rgba(60, 64, 67, 0.15);\n",
              "      fill: #174EA6;\n",
              "    }\n",
              "\n",
              "    [theme=dark] .colab-df-convert {\n",
              "      background-color: #3B4455;\n",
              "      fill: #D2E3FC;\n",
              "    }\n",
              "\n",
              "    [theme=dark] .colab-df-convert:hover {\n",
              "      background-color: #434B5C;\n",
              "      box-shadow: 0px 1px 3px 1px rgba(0, 0, 0, 0.15);\n",
              "      filter: drop-shadow(0px 1px 2px rgba(0, 0, 0, 0.3));\n",
              "      fill: #FFFFFF;\n",
              "    }\n",
              "  </style>\n",
              "\n",
              "      <script>\n",
              "        const buttonEl =\n",
              "          document.querySelector('#df-6bf4f163-596f-40a2-a933-1b34c2667b1b button.colab-df-convert');\n",
              "        buttonEl.style.display =\n",
              "          google.colab.kernel.accessAllowed ? 'block' : 'none';\n",
              "\n",
              "        async function convertToInteractive(key) {\n",
              "          const element = document.querySelector('#df-6bf4f163-596f-40a2-a933-1b34c2667b1b');\n",
              "          const dataTable =\n",
              "            await google.colab.kernel.invokeFunction('convertToInteractive',\n",
              "                                                     [key], {});\n",
              "          if (!dataTable) return;\n",
              "\n",
              "          const docLinkHtml = 'Like what you see? Visit the ' +\n",
              "            '<a target=\"_blank\" href=https://colab.research.google.com/notebooks/data_table.ipynb>data table notebook</a>'\n",
              "            + ' to learn more about interactive tables.';\n",
              "          element.innerHTML = '';\n",
              "          dataTable['output_type'] = 'display_data';\n",
              "          await google.colab.output.renderOutput(dataTable, element);\n",
              "          const docLink = document.createElement('div');\n",
              "          docLink.innerHTML = docLinkHtml;\n",
              "          element.appendChild(docLink);\n",
              "        }\n",
              "      </script>\n",
              "    </div>\n",
              "  </div>\n",
              "  "
            ]
          },
          "metadata": {},
          "execution_count": 117
        }
      ]
    },
    {
      "cell_type": "markdown",
      "source": [
        "L1:\n",
        "\n",
        "    1 20-30 years\n",
        "    2 30-40 years\n",
        "    3 40-50 years\n",
        "    4 50-60 years\n",
        "    5 60-70 years\n",
        "    6 70-80 years\n",
        "\n",
        "L3:\n",
        "\n",
        "    0 0%\n",
        "    1 1 - 10%\n",
        "    2 11 - 23%\n",
        "    3 24 - 36%\n",
        "    4 37 - 49%\n",
        "    5 50 - 62%\n",
        "    6 63 - 75%\n",
        "    7 76 - 88%\n",
        "    8 89 - 99%\n",
        "    9 100%\n",
        "\n",
        "L4:\n",
        "\n",
        "    0 f 0\n",
        "    1 f 1 – 49\n",
        "    2 f 50 – 99\n",
        "    3 f 100 – 199\n",
        "    4 f 200 – 499\n",
        "    5 f 500 – 999\n",
        "    6 f 1000 – 4999\n",
        "    7 f 5000 – 9999\n",
        "    8 f 10.000 - 19.999\n",
        "    9 f 20.000 - ?\n"
      ],
      "metadata": {
        "id": "LYcgcT2MY3aH"
      }
    },
    {
      "cell_type": "markdown",
      "source": [
        "Estas tienen más interés, dado que parece que la variable categórica esta representando información en orden, siendo el más claro L1. En las demás, si bien se indica un cierto orden, es cierto que entre un valor y otro no se mantiene la proporcion (en los casos extremos). No obstante, se va a optar por tratarlas de la misma manera que L1.\n",
        "\n",
        "Estas columnas se dejarán tal cual dado que son categóricas ordinales y serán normalizadas según min max. Se podría hacer otra implementación de prueba apliando one hot a L3 y L4 pero por razones de tiempo se seguirá con esta idea.\n",
        "\n",
        "A continuación se hará una transformación min max para observar si dejando así la columna y normalizando, se sigue guardando la proporción."
      ],
      "metadata": {
        "id": "anCioOAiY7rs"
      }
    },
    {
      "cell_type": "code",
      "source": [
        "####Pruebas para L1\n",
        "\n",
        "p1 = np.array([1.0,2.0,3.0,4.0,5.0])\n",
        "\n",
        "for index, i in enumerate(p1):\n",
        "    p1[index] = (i-1)/(6 - 1)\n",
        "    p1[index] = p1[index] * (1 - 0) + 0\n",
        "\n",
        "print(p1)"
      ],
      "metadata": {
        "colab": {
          "base_uri": "https://localhost:8080/"
        },
        "id": "RaOK82ccZhuQ",
        "outputId": "f35b7feb-3ec2-411f-dc5d-d3d2ab412747"
      },
      "execution_count": 118,
      "outputs": [
        {
          "output_type": "stream",
          "name": "stdout",
          "text": [
            "[0.  0.2 0.4 0.6 0.8]\n"
          ]
        }
      ]
    },
    {
      "cell_type": "markdown",
      "source": [
        "Parece que no hay problema en normalizar ya que la proporcion se mantiene. Por tanto, se normalizan los grupos de columnas pertinentes."
      ],
      "metadata": {
        "id": "6Y9k90rSeCdd"
      }
    },
    {
      "cell_type": "code",
      "source": [
        "columnasL1 = ['3']\n",
        "columnasL3 = [str(i) for i in range(5,47,1)]\n",
        "columnasL4 = [str(i) for i in range(43,68,1)]\n",
        "\n",
        "X_train = aplicar_min_max_scaler(X_train, columnasL1, 6, 1)\n",
        "X_train = aplicar_min_max_scaler(X_train, columnasL3, 9, 0)\n",
        "X_train = aplicar_min_max_scaler(X_train, columnasL1, 9, 0)\n",
        "\n",
        "\n",
        "X_train\n"
      ],
      "metadata": {
        "colab": {
          "base_uri": "https://localhost:8080/",
          "height": 488
        },
        "id": "jPwQxtG7eKhN",
        "outputId": "f9f7d69c-a963-45ad-891e-31d2f731477b"
      },
      "execution_count": 119,
      "outputs": [
        {
          "output_type": "execute_result",
          "data": {
            "text/plain": [
              "        1         2         3         5         6         7         8  \\\n",
              "559   0.4  0.111111  0.066667  0.000000  0.333333  0.000000  0.666667   \n",
              "771   0.0  0.222222  0.044444  1.000000  0.000000  0.000000  0.000000   \n",
              "4701  0.0  0.333333  0.022222  0.222222  0.333333  0.111111  0.555556   \n",
              "3315  0.0  0.222222  0.044444  0.000000  0.444444  0.111111  0.555556   \n",
              "5133  0.0  0.222222  0.022222  0.000000  0.666667  0.222222  0.111111   \n",
              "...   ...       ...       ...       ...       ...       ...       ...   \n",
              "57    0.0  0.222222  0.022222  0.000000  0.666667  0.000000  0.333333   \n",
              "578   0.0  0.111111  0.044444  0.000000  0.777778  0.222222  0.000000   \n",
              "26    0.0  0.333333  0.022222  0.000000  0.777778  0.222222  0.000000   \n",
              "2439  0.0  0.222222  0.044444  0.111111  0.666667  0.222222  0.222222   \n",
              "1366  0.0  0.222222  0.044444  0.000000  0.444444  0.111111  0.444444   \n",
              "\n",
              "             9        10        11  ...  4_1  4_2  4_3  4_4  4_5  4_6  4_7  \\\n",
              "559   0.555556  0.000000  0.444444  ...    0    0    0    0    0    1    0   \n",
              "771   0.666667  0.222222  0.222222  ...    0    0    0    0    0    0    0   \n",
              "4701  0.777778  0.000000  0.222222  ...    0    0    1    0    0    0    0   \n",
              "3315  0.666667  0.222222  0.222222  ...    0    0    0    0    0    0    0   \n",
              "5133  0.777778  0.000000  0.222222  ...    0    0    1    0    0    0    0   \n",
              "...        ...       ...       ...  ...  ...  ...  ...  ...  ...  ...  ...   \n",
              "57    0.777778  0.222222  0.000000  ...    0    0    1    0    0    0    0   \n",
              "578   1.000000  0.000000  0.000000  ...    0    0    0    0    0    0    0   \n",
              "26    1.000000  0.000000  0.000000  ...    0    0    1    0    0    0    0   \n",
              "2439  0.777778  0.111111  0.222222  ...    0    0    0    0    0    0    0   \n",
              "1366  0.666667  0.111111  0.333333  ...    0    1    0    0    0    0    0   \n",
              "\n",
              "      4_8  4_9  4_10  \n",
              "559     0    0     0  \n",
              "771     1    0     0  \n",
              "4701    0    0     0  \n",
              "3315    1    0     0  \n",
              "5133    0    0     0  \n",
              "...   ...  ...   ...  \n",
              "57      0    0     0  \n",
              "578     1    0     0  \n",
              "26      0    0     0  \n",
              "2439    0    1     0  \n",
              "1366    0    0     0  \n",
              "\n",
              "[7857 rows x 134 columns]"
            ],
            "text/html": [
              "\n",
              "  <div id=\"df-0fdb16a6-0ac7-4c29-b6b9-29a455e240c7\">\n",
              "    <div class=\"colab-df-container\">\n",
              "      <div>\n",
              "<style scoped>\n",
              "    .dataframe tbody tr th:only-of-type {\n",
              "        vertical-align: middle;\n",
              "    }\n",
              "\n",
              "    .dataframe tbody tr th {\n",
              "        vertical-align: top;\n",
              "    }\n",
              "\n",
              "    .dataframe thead th {\n",
              "        text-align: right;\n",
              "    }\n",
              "</style>\n",
              "<table border=\"1\" class=\"dataframe\">\n",
              "  <thead>\n",
              "    <tr style=\"text-align: right;\">\n",
              "      <th></th>\n",
              "      <th>1</th>\n",
              "      <th>2</th>\n",
              "      <th>3</th>\n",
              "      <th>5</th>\n",
              "      <th>6</th>\n",
              "      <th>7</th>\n",
              "      <th>8</th>\n",
              "      <th>9</th>\n",
              "      <th>10</th>\n",
              "      <th>11</th>\n",
              "      <th>...</th>\n",
              "      <th>4_1</th>\n",
              "      <th>4_2</th>\n",
              "      <th>4_3</th>\n",
              "      <th>4_4</th>\n",
              "      <th>4_5</th>\n",
              "      <th>4_6</th>\n",
              "      <th>4_7</th>\n",
              "      <th>4_8</th>\n",
              "      <th>4_9</th>\n",
              "      <th>4_10</th>\n",
              "    </tr>\n",
              "  </thead>\n",
              "  <tbody>\n",
              "    <tr>\n",
              "      <th>559</th>\n",
              "      <td>0.4</td>\n",
              "      <td>0.111111</td>\n",
              "      <td>0.066667</td>\n",
              "      <td>0.000000</td>\n",
              "      <td>0.333333</td>\n",
              "      <td>0.000000</td>\n",
              "      <td>0.666667</td>\n",
              "      <td>0.555556</td>\n",
              "      <td>0.000000</td>\n",
              "      <td>0.444444</td>\n",
              "      <td>...</td>\n",
              "      <td>0</td>\n",
              "      <td>0</td>\n",
              "      <td>0</td>\n",
              "      <td>0</td>\n",
              "      <td>0</td>\n",
              "      <td>1</td>\n",
              "      <td>0</td>\n",
              "      <td>0</td>\n",
              "      <td>0</td>\n",
              "      <td>0</td>\n",
              "    </tr>\n",
              "    <tr>\n",
              "      <th>771</th>\n",
              "      <td>0.0</td>\n",
              "      <td>0.222222</td>\n",
              "      <td>0.044444</td>\n",
              "      <td>1.000000</td>\n",
              "      <td>0.000000</td>\n",
              "      <td>0.000000</td>\n",
              "      <td>0.000000</td>\n",
              "      <td>0.666667</td>\n",
              "      <td>0.222222</td>\n",
              "      <td>0.222222</td>\n",
              "      <td>...</td>\n",
              "      <td>0</td>\n",
              "      <td>0</td>\n",
              "      <td>0</td>\n",
              "      <td>0</td>\n",
              "      <td>0</td>\n",
              "      <td>0</td>\n",
              "      <td>0</td>\n",
              "      <td>1</td>\n",
              "      <td>0</td>\n",
              "      <td>0</td>\n",
              "    </tr>\n",
              "    <tr>\n",
              "      <th>4701</th>\n",
              "      <td>0.0</td>\n",
              "      <td>0.333333</td>\n",
              "      <td>0.022222</td>\n",
              "      <td>0.222222</td>\n",
              "      <td>0.333333</td>\n",
              "      <td>0.111111</td>\n",
              "      <td>0.555556</td>\n",
              "      <td>0.777778</td>\n",
              "      <td>0.000000</td>\n",
              "      <td>0.222222</td>\n",
              "      <td>...</td>\n",
              "      <td>0</td>\n",
              "      <td>0</td>\n",
              "      <td>1</td>\n",
              "      <td>0</td>\n",
              "      <td>0</td>\n",
              "      <td>0</td>\n",
              "      <td>0</td>\n",
              "      <td>0</td>\n",
              "      <td>0</td>\n",
              "      <td>0</td>\n",
              "    </tr>\n",
              "    <tr>\n",
              "      <th>3315</th>\n",
              "      <td>0.0</td>\n",
              "      <td>0.222222</td>\n",
              "      <td>0.044444</td>\n",
              "      <td>0.000000</td>\n",
              "      <td>0.444444</td>\n",
              "      <td>0.111111</td>\n",
              "      <td>0.555556</td>\n",
              "      <td>0.666667</td>\n",
              "      <td>0.222222</td>\n",
              "      <td>0.222222</td>\n",
              "      <td>...</td>\n",
              "      <td>0</td>\n",
              "      <td>0</td>\n",
              "      <td>0</td>\n",
              "      <td>0</td>\n",
              "      <td>0</td>\n",
              "      <td>0</td>\n",
              "      <td>0</td>\n",
              "      <td>1</td>\n",
              "      <td>0</td>\n",
              "      <td>0</td>\n",
              "    </tr>\n",
              "    <tr>\n",
              "      <th>5133</th>\n",
              "      <td>0.0</td>\n",
              "      <td>0.222222</td>\n",
              "      <td>0.022222</td>\n",
              "      <td>0.000000</td>\n",
              "      <td>0.666667</td>\n",
              "      <td>0.222222</td>\n",
              "      <td>0.111111</td>\n",
              "      <td>0.777778</td>\n",
              "      <td>0.000000</td>\n",
              "      <td>0.222222</td>\n",
              "      <td>...</td>\n",
              "      <td>0</td>\n",
              "      <td>0</td>\n",
              "      <td>1</td>\n",
              "      <td>0</td>\n",
              "      <td>0</td>\n",
              "      <td>0</td>\n",
              "      <td>0</td>\n",
              "      <td>0</td>\n",
              "      <td>0</td>\n",
              "      <td>0</td>\n",
              "    </tr>\n",
              "    <tr>\n",
              "      <th>...</th>\n",
              "      <td>...</td>\n",
              "      <td>...</td>\n",
              "      <td>...</td>\n",
              "      <td>...</td>\n",
              "      <td>...</td>\n",
              "      <td>...</td>\n",
              "      <td>...</td>\n",
              "      <td>...</td>\n",
              "      <td>...</td>\n",
              "      <td>...</td>\n",
              "      <td>...</td>\n",
              "      <td>...</td>\n",
              "      <td>...</td>\n",
              "      <td>...</td>\n",
              "      <td>...</td>\n",
              "      <td>...</td>\n",
              "      <td>...</td>\n",
              "      <td>...</td>\n",
              "      <td>...</td>\n",
              "      <td>...</td>\n",
              "      <td>...</td>\n",
              "    </tr>\n",
              "    <tr>\n",
              "      <th>57</th>\n",
              "      <td>0.0</td>\n",
              "      <td>0.222222</td>\n",
              "      <td>0.022222</td>\n",
              "      <td>0.000000</td>\n",
              "      <td>0.666667</td>\n",
              "      <td>0.000000</td>\n",
              "      <td>0.333333</td>\n",
              "      <td>0.777778</td>\n",
              "      <td>0.222222</td>\n",
              "      <td>0.000000</td>\n",
              "      <td>...</td>\n",
              "      <td>0</td>\n",
              "      <td>0</td>\n",
              "      <td>1</td>\n",
              "      <td>0</td>\n",
              "      <td>0</td>\n",
              "      <td>0</td>\n",
              "      <td>0</td>\n",
              "      <td>0</td>\n",
              "      <td>0</td>\n",
              "      <td>0</td>\n",
              "    </tr>\n",
              "    <tr>\n",
              "      <th>578</th>\n",
              "      <td>0.0</td>\n",
              "      <td>0.111111</td>\n",
              "      <td>0.044444</td>\n",
              "      <td>0.000000</td>\n",
              "      <td>0.777778</td>\n",
              "      <td>0.222222</td>\n",
              "      <td>0.000000</td>\n",
              "      <td>1.000000</td>\n",
              "      <td>0.000000</td>\n",
              "      <td>0.000000</td>\n",
              "      <td>...</td>\n",
              "      <td>0</td>\n",
              "      <td>0</td>\n",
              "      <td>0</td>\n",
              "      <td>0</td>\n",
              "      <td>0</td>\n",
              "      <td>0</td>\n",
              "      <td>0</td>\n",
              "      <td>1</td>\n",
              "      <td>0</td>\n",
              "      <td>0</td>\n",
              "    </tr>\n",
              "    <tr>\n",
              "      <th>26</th>\n",
              "      <td>0.0</td>\n",
              "      <td>0.333333</td>\n",
              "      <td>0.022222</td>\n",
              "      <td>0.000000</td>\n",
              "      <td>0.777778</td>\n",
              "      <td>0.222222</td>\n",
              "      <td>0.000000</td>\n",
              "      <td>1.000000</td>\n",
              "      <td>0.000000</td>\n",
              "      <td>0.000000</td>\n",
              "      <td>...</td>\n",
              "      <td>0</td>\n",
              "      <td>0</td>\n",
              "      <td>1</td>\n",
              "      <td>0</td>\n",
              "      <td>0</td>\n",
              "      <td>0</td>\n",
              "      <td>0</td>\n",
              "      <td>0</td>\n",
              "      <td>0</td>\n",
              "      <td>0</td>\n",
              "    </tr>\n",
              "    <tr>\n",
              "      <th>2439</th>\n",
              "      <td>0.0</td>\n",
              "      <td>0.222222</td>\n",
              "      <td>0.044444</td>\n",
              "      <td>0.111111</td>\n",
              "      <td>0.666667</td>\n",
              "      <td>0.222222</td>\n",
              "      <td>0.222222</td>\n",
              "      <td>0.777778</td>\n",
              "      <td>0.111111</td>\n",
              "      <td>0.222222</td>\n",
              "      <td>...</td>\n",
              "      <td>0</td>\n",
              "      <td>0</td>\n",
              "      <td>0</td>\n",
              "      <td>0</td>\n",
              "      <td>0</td>\n",
              "      <td>0</td>\n",
              "      <td>0</td>\n",
              "      <td>0</td>\n",
              "      <td>1</td>\n",
              "      <td>0</td>\n",
              "    </tr>\n",
              "    <tr>\n",
              "      <th>1366</th>\n",
              "      <td>0.0</td>\n",
              "      <td>0.222222</td>\n",
              "      <td>0.044444</td>\n",
              "      <td>0.000000</td>\n",
              "      <td>0.444444</td>\n",
              "      <td>0.111111</td>\n",
              "      <td>0.444444</td>\n",
              "      <td>0.666667</td>\n",
              "      <td>0.111111</td>\n",
              "      <td>0.333333</td>\n",
              "      <td>...</td>\n",
              "      <td>0</td>\n",
              "      <td>1</td>\n",
              "      <td>0</td>\n",
              "      <td>0</td>\n",
              "      <td>0</td>\n",
              "      <td>0</td>\n",
              "      <td>0</td>\n",
              "      <td>0</td>\n",
              "      <td>0</td>\n",
              "      <td>0</td>\n",
              "    </tr>\n",
              "  </tbody>\n",
              "</table>\n",
              "<p>7857 rows × 134 columns</p>\n",
              "</div>\n",
              "      <button class=\"colab-df-convert\" onclick=\"convertToInteractive('df-0fdb16a6-0ac7-4c29-b6b9-29a455e240c7')\"\n",
              "              title=\"Convert this dataframe to an interactive table.\"\n",
              "              style=\"display:none;\">\n",
              "        \n",
              "  <svg xmlns=\"http://www.w3.org/2000/svg\" height=\"24px\"viewBox=\"0 0 24 24\"\n",
              "       width=\"24px\">\n",
              "    <path d=\"M0 0h24v24H0V0z\" fill=\"none\"/>\n",
              "    <path d=\"M18.56 5.44l.94 2.06.94-2.06 2.06-.94-2.06-.94-.94-2.06-.94 2.06-2.06.94zm-11 1L8.5 8.5l.94-2.06 2.06-.94-2.06-.94L8.5 2.5l-.94 2.06-2.06.94zm10 10l.94 2.06.94-2.06 2.06-.94-2.06-.94-.94-2.06-.94 2.06-2.06.94z\"/><path d=\"M17.41 7.96l-1.37-1.37c-.4-.4-.92-.59-1.43-.59-.52 0-1.04.2-1.43.59L10.3 9.45l-7.72 7.72c-.78.78-.78 2.05 0 2.83L4 21.41c.39.39.9.59 1.41.59.51 0 1.02-.2 1.41-.59l7.78-7.78 2.81-2.81c.8-.78.8-2.07 0-2.86zM5.41 20L4 18.59l7.72-7.72 1.47 1.35L5.41 20z\"/>\n",
              "  </svg>\n",
              "      </button>\n",
              "      \n",
              "  <style>\n",
              "    .colab-df-container {\n",
              "      display:flex;\n",
              "      flex-wrap:wrap;\n",
              "      gap: 12px;\n",
              "    }\n",
              "\n",
              "    .colab-df-convert {\n",
              "      background-color: #E8F0FE;\n",
              "      border: none;\n",
              "      border-radius: 50%;\n",
              "      cursor: pointer;\n",
              "      display: none;\n",
              "      fill: #1967D2;\n",
              "      height: 32px;\n",
              "      padding: 0 0 0 0;\n",
              "      width: 32px;\n",
              "    }\n",
              "\n",
              "    .colab-df-convert:hover {\n",
              "      background-color: #E2EBFA;\n",
              "      box-shadow: 0px 1px 2px rgba(60, 64, 67, 0.3), 0px 1px 3px 1px rgba(60, 64, 67, 0.15);\n",
              "      fill: #174EA6;\n",
              "    }\n",
              "\n",
              "    [theme=dark] .colab-df-convert {\n",
              "      background-color: #3B4455;\n",
              "      fill: #D2E3FC;\n",
              "    }\n",
              "\n",
              "    [theme=dark] .colab-df-convert:hover {\n",
              "      background-color: #434B5C;\n",
              "      box-shadow: 0px 1px 3px 1px rgba(0, 0, 0, 0.15);\n",
              "      filter: drop-shadow(0px 1px 2px rgba(0, 0, 0, 0.3));\n",
              "      fill: #FFFFFF;\n",
              "    }\n",
              "  </style>\n",
              "\n",
              "      <script>\n",
              "        const buttonEl =\n",
              "          document.querySelector('#df-0fdb16a6-0ac7-4c29-b6b9-29a455e240c7 button.colab-df-convert');\n",
              "        buttonEl.style.display =\n",
              "          google.colab.kernel.accessAllowed ? 'block' : 'none';\n",
              "\n",
              "        async function convertToInteractive(key) {\n",
              "          const element = document.querySelector('#df-0fdb16a6-0ac7-4c29-b6b9-29a455e240c7');\n",
              "          const dataTable =\n",
              "            await google.colab.kernel.invokeFunction('convertToInteractive',\n",
              "                                                     [key], {});\n",
              "          if (!dataTable) return;\n",
              "\n",
              "          const docLinkHtml = 'Like what you see? Visit the ' +\n",
              "            '<a target=\"_blank\" href=https://colab.research.google.com/notebooks/data_table.ipynb>data table notebook</a>'\n",
              "            + ' to learn more about interactive tables.';\n",
              "          element.innerHTML = '';\n",
              "          dataTable['output_type'] = 'display_data';\n",
              "          await google.colab.output.renderOutput(dataTable, element);\n",
              "          const docLink = document.createElement('div');\n",
              "          docLink.innerHTML = docLinkHtml;\n",
              "          element.appendChild(docLink);\n",
              "        }\n",
              "      </script>\n",
              "    </div>\n",
              "  </div>\n",
              "  "
            ]
          },
          "metadata": {},
          "execution_count": 119
        }
      ]
    },
    {
      "cell_type": "markdown",
      "source": [
        "A continuación, se une X_train con numericos tras eliminar las columnas numéricas originales de X_train."
      ],
      "metadata": {
        "id": "1HLROJ7Ce6cO"
      }
    },
    {
      "cell_type": "code",
      "source": [
        "# Lista de nombres de columnas a eliminar\n",
        "columnas_a_eliminar = ['1', '2']\n",
        "columnas_a_eliminar.extend([str(i) for i in range(64,85,1)])\n",
        "\n",
        "# Eliminar las columnas por su nombre\n",
        "X_train = X_train.drop(columns=columnas_a_eliminar)\n",
        "print(X_train.shape)\n",
        "\n",
        "X_train = X_train.to_numpy()\n",
        "numericos = numericos.to_numpy()\n",
        "X_train = pd.DataFrame(X_train)\n",
        "numericos = pd.DataFrame(numericos)\n",
        "\n",
        "X_train = pd.concat([X_train, numericos], axis=1)\n",
        "X_train = X_train.to_numpy()\n",
        "X_train = pd.DataFrame(X_train)\n",
        "X_train\n",
        "print(X_train.shape)\n",
        "\n",
        "\n"
      ],
      "metadata": {
        "colab": {
          "base_uri": "https://localhost:8080/"
        },
        "id": "e-A5FLOgfFJm",
        "outputId": "71625d05-bde9-4669-df02-91a1550b16c7"
      },
      "execution_count": 120,
      "outputs": [
        {
          "output_type": "stream",
          "name": "stdout",
          "text": [
            "(7857, 111)\n",
            "(7857, 119)\n"
          ]
        }
      ]
    },
    {
      "cell_type": "markdown",
      "source": [
        "Ahora sería el momento de los outliers y de recalcular los indices de validación. LocalOutlierFactor (LOF) es un algoritmo de detección de anomalías utilizado en aprendizaje automático. Su objetivo principal es identificar puntos de datos atípicos o \"anómalos\" en un conjunto de datos. LOF se basa en la suposición de que los puntos anómalos tienen una densidad de vecinos significativamente menor en comparación con los puntos normales en su vecindario local."
      ],
      "metadata": {
        "id": "KCRjOYBTqYHk"
      }
    },
    {
      "cell_type": "code",
      "source": [
        "# ###OUTLIERS\n",
        "from sklearn.neighbors import LocalOutlierFactor\n",
        "# # identify outliers in the training dataset\n",
        "datos_antes = X_train.shape[0]\n",
        "\n",
        "X_train_p = X_train.to_numpy()\n",
        "y_train_p = y_train.to_numpy()\n",
        "lof = LocalOutlierFactor(n_neighbors=20, contamination=0.1)\n",
        "yhat = lof.fit_predict(X_train_p)\n",
        "mask = yhat != -1\n",
        "X_train_p, y_train_p = X_train_p[mask, :], y_train_p[mask]\n",
        "\n",
        "X_train_p = pd.DataFrame(X_train_p)\n",
        "y_train_p = pd.DataFrame(y_train_p)\n",
        "\n",
        "datos_despues = X_train_p.shape[0]\n",
        "print(X_train.shape)\n",
        "print(\"Datos eliminados por LOF: \", (datos_antes-datos_despues)/datos_antes*100, \"%\")\n",
        "# ##Se repite CV-5\n",
        "#5-fold cross validation\n",
        "# particiones = np.empty((5),list)\n",
        "\n",
        "# train_data = X_train.to_numpy()\n",
        "# train_labels = y_train.to_numpy()\n",
        "\n",
        "# index_train = np.arange(len(train_labels))\n",
        "\n",
        "# for i in range(5):\n",
        "#   particiones[i] = []\n",
        "\n",
        "# #En vez de tener varios conjuntos de datos, usaremos conjuntos de índices, que son mucho más cómodos de manejar\n",
        "# for i in range(index_train.shape[0]):\n",
        "#   particiones[i%5].append(index_train[i])\n",
        "  \n",
        "# for i in range(5):\n",
        "#   particiones[i] = np.asarray(particiones[i])\n",
        "#   np.random.shuffle(particiones[i])\n",
        "\n",
        "# training1 = np.concatenate((particiones[0],particiones[1],particiones[2],particiones[3]))\n",
        "# test1 = particiones[4]\n",
        "\n",
        "# training2 = np.concatenate((particiones[4],particiones[0],particiones[1],particiones[2]))\n",
        "# test2 = particiones[3]\n",
        "\n",
        "# training3 = np.concatenate((particiones[3],particiones[4],particiones[0],particiones[1]))\n",
        "# test3 = particiones[2]\n",
        "\n",
        "# training4 = np.concatenate((particiones[2],particiones[3],particiones[4],particiones[0]))\n",
        "# test4 = particiones[1]\n",
        "\n",
        "# training5 = np.concatenate((particiones[1],particiones[2],particiones[3],particiones[4]))\n",
        "# test5 = particiones[0]\n",
        "\n",
        "# cv_trains = [training1,training2,training3,training4,training5]\n",
        "# cv_tests = [test1,test2,test3,test4,test5]"
      ],
      "metadata": {
        "colab": {
          "base_uri": "https://localhost:8080/"
        },
        "id": "nqaKIeAzM3hI",
        "outputId": "801c66bd-f987-4e5a-aebe-eadfe9f14bf2"
      },
      "execution_count": 121,
      "outputs": [
        {
          "output_type": "stream",
          "name": "stdout",
          "text": [
            "(7857, 119)\n",
            "Datos eliminados por LOF:  10.003818251240931 %\n"
          ]
        }
      ]
    },
    {
      "cell_type": "markdown",
      "source": [
        "Como se puede observar, la técnica LOF elimina demasiados datos del dataset (en torno al 10%), lo cual es drástico partiendo de que el DataSet no tiene una exageración de entradas. Dada la diemensionalidad de este, sería crítico observar una a una las diferentes entradas para detectar algún dato anómalo u erróneo, así que se dejará como está."
      ],
      "metadata": {
        "id": "ppQ6jOxaHv7Y"
      }
    },
    {
      "cell_type": "markdown",
      "source": [
        "Este apartado final es a modo de explicación. Al principio, en vez de hacer PCA a las numéricas y unir después con las categóricas transformadas, se pensaba hacer FAMD, una técnica parecida a PCA (en cuanto a lo que pretende conseguir), pero pensada para DataSets mixtos (con información numérica y categórica). No obstante, dadas las pocas referencias teóricas que se tenían sobre este método y a la dificultad para entender los parámetros de la biblioteca prince, se optó por lo que se ha hecho, aunque sería una buena idea rehacerlo todo aplicando esta técnica y ver que tal los resultados."
      ],
      "metadata": {
        "id": "dWB6OF95qbuy"
      }
    },
    {
      "cell_type": "code",
      "source": [
        "# # !pip install pprint\n",
        "# import prince\n",
        "# import pprint\n",
        "\n",
        "\n",
        "# # (1,2 y de la 64 a la 84).\n",
        "# for col in X_train.columns:\n",
        "#   if(col == 1 or col == 2 or col in np.arange(64,85)):\n",
        "#     pass\n",
        "#   else:\n",
        "#     X_train[col] = X_train[col].astype(\"category\")\n",
        "\n",
        "# # X_train2 = X_train.select_dtypes(np.number).columns\n",
        "# # X_train2\n",
        "# # Crea un diccionario para mapear los títulos de columna actuales\n",
        "# # a cadenas de texto (str)\n",
        "# nuevos_titulos = {col: str(col) for col in X_train.columns}\n",
        "# print(nuevos_titulos)\n",
        "# # Utiliza la función \"rename()\" para cambiar los títulos de columna\n",
        "# X_train = X_train.rename(columns=nuevos_titulos)\n",
        "# # Instantiate FAMD object\n",
        "# famd = prince.FAMD(\n",
        "#      n_components=25,\n",
        "#      n_iter=10,\n",
        "#      copy=True,\n",
        "#      check_input=True,\n",
        "#      engine='sklearn',       ## Can be \"auto\", 'sklearn', 'fbpca'\n",
        "#      random_state=33)\n",
        "\n",
        "# ## Fit FAMD object to data \n",
        "# famd = famd.fit(X_train) \n",
        "\n",
        "# ## Inspect principal dimensions\n",
        "# pp = pprint.PrettyPrinter()\n",
        "# pp.pprint(famd) \n",
        "# X_train"
      ],
      "metadata": {
        "id": "xyxBUCiiueNY"
      },
      "execution_count": 122,
      "outputs": []
    },
    {
      "cell_type": "markdown",
      "source": [
        "#### <font color='blue'>5)  Justifique las métricas de error y la función de pérdida a usar. Discutir su idoneidad para el problema. 0.5 puntos. "
      ],
      "metadata": {
        "id": "3QXdZX5DgM0c"
      }
    },
    {
      "cell_type": "markdown",
      "source": [
        "Dado que estamos abordando un problema de clasificación binaria y nuestro objetivo es maximizar la proporción de datos clasificados correctamente, utilizaremos la métrica de precisión (Accuracy) como medida de evaluación. Accuracy se define como la proporción de predicciones correctas sobre el total de predicciones realizadas.\n",
        "\n",
        "En lugar de implementar nuestra propia métrica de precisión, podemos aprovechar la comodidad que nos brinda la biblioteca scikit-learn (sklearn) en Python. Sklearn proporciona una implementación precisa y fácil de usar de varias métricas de evaluación, incluida la métrica Accuracy."
      ],
      "metadata": {
        "id": "lyG7EATwW-la"
      }
    },
    {
      "cell_type": "markdown",
      "source": [
        "## Matriz de confusión\n",
        "\n",
        "Es cierto que en problemas de clasificación desbalanceados, donde una clase tiene una representación mucho mayor que la otra, el uso exclusivo de la métrica Accuracy puede ser engañoso. Como se mencionó, un clasificador que siempre predice la clase mayoritaria podría tener una alta precisión simplemente por \"adivinar\" la clase mayoritaria en la mayoría de los casos.\n",
        "\n",
        "Para abordar esta situación, una buena práctica es utilizar la matriz de confusión (confusion matrix) al evaluar nuestro clasificador. La matriz de confusión es una herramienta que resume las clasificaciones realizadas por un modelo, mostrando la cantidad de ejemplos que fueron clasificados correctamente y los que fueron clasificados incorrectamente para cada clase.\n",
        "\n",
        "La matriz de confusión nos permite identificar rápidamente los resultados anómalos o indeseables en términos de clasificaciones incorrectas. A partir de esta matriz, podemos extraer diversas métricas que nos brindan información más detallada sobre el rendimiento del clasificador."
      ],
      "metadata": {
        "id": "tOJmIGiJXJEl"
      }
    },
    {
      "cell_type": "markdown",
      "source": [
        "En este caso, al enfrentarnos a un desbalanceo de clases, nos interesará evaluar dos medidas específicas: Sensitivity (sensibilidad) y Specificity (especificidad). Estas medidas nos ayudarán a comprender cómo nuestro modelo está clasificando correctamente los positivos ('1') y los negativos ('0') respectivamente.\n",
        "\n",
        "+ La Sensitivity se refiere al porcentaje de ejemplos positivos ('1') que han sido correctamente clasificados por nuestro modelo. Es decir, representa la capacidad del modelo para identificar correctamente los verdaderos positivos. \n",
        "\n",
        "+ La Specificity representa el porcentaje de ejemplos negativos ('0') que han sido correctamente clasificados, lo que refleja la capacidad del modelo para identificar los verdaderos negativos.\n",
        "\n",
        "La matriz de confusión, que podemos obtener fácilmente utilizando la función proporcionada por sklearn, es una herramienta valiosa para calcular estas medidas. La matriz de confusión resume las clasificaciones realizadas por el modelo en cuatro categorías: verdaderos positivos (TP), falsos positivos (FP), verdaderos negativos (TN) y falsos negativos (FN)."
      ],
      "metadata": {
        "id": "KiouCDwAX1wC"
      }
    },
    {
      "cell_type": "markdown",
      "source": [
        "Todo esto tiene como fin, usar el balanced accuracy para comparar modelos. Justamente la fórmula para calcularlo es la siguiente:\n",
        "\n",
        "$Balanced\\ Accuracy = \\frac{Sensitivity + Specificity}{2}$\n",
        "\n",
        "Es una métrica que nos viene muy bien para nuestro DataSet desbalanceado, ya que otorga la misma importancia a acertar positivos o negativos.\n",
        "\n",
        "Además de todo esto, en los distintos algoritmos se explorará el parámetro class_weight. muy útil también para clases desbalanceadas."
      ],
      "metadata": {
        "id": "KjtVo2amYbE7"
      }
    },
    {
      "cell_type": "markdown",
      "source": [
        "## Función de pérdida\n",
        "\n",
        "En cuanto a la función de pérdida, Regresión Logística hace uso de la Entropía Cruzada y Perceptron realmente no tiene una función de pérdida como tal si no que en cada iteración intenta clasificar bien un punto mal clasificado en base a su distancia a la recta actual."
      ],
      "metadata": {
        "id": "EnzUUuFuP9mX"
      }
    },
    {
      "cell_type": "code",
      "source": [
        "from sklearn import metrics\n",
        "def puntuar(sensitivity, specificity):\n",
        "  return (sensitivity+specificity)/2"
      ],
      "metadata": {
        "id": "lJOzrzg9g56_"
      },
      "execution_count": 123,
      "outputs": []
    },
    {
      "cell_type": "markdown",
      "source": [
        "## <font color='blue'>6)  Discuta todos los parámetros y el tipo de regularización usada en el ajuste de los modelos seleccionados. Justificar la idoneidad de la regularización elegida. 1 punto. "
      ],
      "metadata": {
        "id": "S4Lo3fC0g6Cv"
      }
    },
    {
      "cell_type": "markdown",
      "source": [
        "Usaré dos modelos de aprendizaje: PLA+Pocket y Regresión Logística. Para PLA+Pocket, a pesar de que sklearn no tiene una implementación directa de Pocket, podemos lograr algo similar utilizando PLA con Early Stopping. Para Regresión Logística, utilizaré tanto la implementación directa de sklearn 'LogisticRegression', como 'SGDClassifier' con el parámetro loss='log_loss' para poder usar el algoritmo SGD. Compararé ambos modelos y seleccionaré el que me dé mejores resultados.\n",
        "\n",
        "Para seleccionar los hiperparámetros, los elegiré mediante teoría o mediante Gridsearch. Sin embargo, realizar Gridsearch con todos los posibles hiperparámetros es computacionalmente inviable debido al crecimiento exponencial del número de modelos que se deben entrenar. Por lo tanto, consideraré otras opciones, como elegir algunos parámetros antes del Gridsearch basándome en una pequeña batería experimental, o seleccionar parámetros después del Gridsearch para maximizar los resultados o cuando haya demasiadas opciones para probar.\n",
        "\n",
        "Es importante tener en cuenta que los resultados pueden variar ligeramente entre ejecuciones debido a la aleatoriedad y a la proximidad de los resultados entre sí. A continuación, enumeraré los hiperparámetros relevantes, los valores seleccionados y las justificaciones para cada modelo de aprendizaje."
      ],
      "metadata": {
        "id": "xnzqZSUBajlE"
      }
    },
    {
      "cell_type": "markdown",
      "source": [
        "REGRESIÓN LOGÍSTICA"
      ],
      "metadata": {
        "id": "hINB1BG3bEES"
      }
    },
    {
      "cell_type": "markdown",
      "source": [
        "Antes de realizar cualquier ejecución, hay ciertos hiperparámetros que prefijaré. \n",
        "\n",
        "+ En primer lugar, elijo el algoritmo de optimización 'solver' para los modelos de Regresión Logística. Basándome en la documentación oficial de sklearn (https://scikit-learn.org/dev/modules/linear_model.html#logistic-regression), elijo 'Saga' o 'Sas' debido al tamaño grande de nuestro conjunto de datos. Saga es preferido, ya que es similar a Sas pero soporta todos los tipos de regularización. \n",
        "\n",
        "*The “sag” solver uses Stochastic Average Gradient descent. It is faster than other solvers for large datasets, when both the number of samples and the number of features are large.*\n",
        "\n",
        "*The “saga” solver is a variant of “sag” that also supports the non-smooth penalty=\"l1\". This is therefore the solver of choice for sparse multinomial logistic regression. It is also the only solver that supports penalty=\"elasticnet\".*\n",
        "\n",
        "+ El parámetro 'warm_start' no tendrá un impacto significativo en nuestro caso, ya que solo entrenamos el modelo una vez, por lo que lo dejaremos en su valor predeterminado (False).\n",
        "\n",
        "+ Dado que tenemos una clasificación binaria, la estrategia de clasificación 'multi_class' será seleccionada automáticamente como 'ovr' (One-vs-Rest) por defecto, lo cual es apropiado en este escenario.\n",
        "\n",
        "+ En cuanto al parámetro 'n_jobs', estableceré su valor en -1 para aprovechar todos los núcleos de la CPU disponibles, aunque en una clasificación binaria no proporcionará una mejora significativa en el rendimiento.\n",
        "\n",
        "+ El parámetro 'dual' se mantendrá en su valor predeterminado (False) porque no se recomienda utilizar la formulación dual cuando el número de muestras es mayor que el número de atributos, como es nuestro caso.\n",
        "\n",
        "+ Los hiperparámetros 'random_state', 'intercept_scaling' y 'verbose' se dejarán en sus valores predeterminados debido a que no son relevantes en nuestro contexto.\n",
        "\n",
        "+ El hiperparámetro 'l1_ratio' no será utilizado, ya que no estamos interesados en utilizar la regularización 'Elastic-Net', y su valor se establecerá en su valor predeterminado (None).\n",
        "\n",
        "+ Por último, mantendremos el valor predeterminado de 'fit_intercept' en True, ya que agregar una constante a la función de decisión suele ser una buena práctica.\n",
        "\n",
        "Para algunos hiperparámetros, realizaré una exploración experimental antes de utilizar Gridsearch. \n",
        "\n",
        "+ Estos incluyen 'tol' (tolerancia del criterio de parada) y 'max_iter' (número máximo de iteraciones permitidas para converger).\n",
        "\n",
        "Luego, utilizaré Gridsearch para explorar diferentes valores de los hiperparámetros:\n",
        "+ 'penalty' (tipo de regularización) \n",
        "+ 'C' (inversa del factor de regularización). \n",
        "\n",
        "Para el tipo de regularización, solo consideraré 'l1' y 'l2', ya que 'elasticnet' es más complejo y escapa al alcance de esta práctica.\n",
        "\n",
        "Después de Gridsearch, exploraré el hiperparámetro 'class_weight' para abordar el desequilibrio de clases en nuestro conjunto de datos. Al asignar diferentes pesos a las clases, intentaré maximizar la precisión para ambas clases, especialmente para la clase '1' que está desbalanceada."
      ],
      "metadata": {
        "id": "7srEBN0RbFq6"
      }
    },
    {
      "cell_type": "code",
      "source": [
        "from sklearn.linear_model import LogisticRegression"
      ],
      "metadata": {
        "id": "UMFXvWkO1Ivf"
      },
      "execution_count": 124,
      "outputs": []
    },
    {
      "cell_type": "markdown",
      "source": [
        "SGD CLASIFFIER"
      ],
      "metadata": {
        "id": "Ciu3EgtnPXzG"
      }
    },
    {
      "cell_type": "markdown",
      "source": [
        "Antes de ejecutar el algoritmo SGD, se establecen ciertos parámetros que afectan su funcionamiento:\n",
        "\n",
        "+ Función de pérdida (loss): Es la función utilizada para medir la discrepancia entre las predicciones y los valores reales. En este caso, se utiliza la función logarítmica para clasificación logística.\n",
        "\n",
        "+ Warm_start: Es una técnica que consiste en reutilizar la solución anterior como punto de partida para el entrenamiento actual. En este caso, como solo se entrena el modelo una vez, no es relevante.\n",
        "\n",
        "+ n_jobs: Indica el número de núcleos de CPU utilizados para ejecutar en paralelo. Un valor de -1 significa utilizar todos los núcleos disponibles, aunque en problemas de clasificación binaria puede tener un impacto limitado en el rendimiento.\n",
        "\n",
        "+ shuffle: Determina si se deben reordenar los datos después de cada iteración. En general, es recomendable reordenarlos, y por defecto se establece en True.\n",
        "\n",
        "+ random_state: Se utiliza cuando shuffle es True para establecer la semilla aleatoria para el reordenamiento de los datos. En este caso, se utiliza el valor predeterminado (None) para generar aleatoriamente la semilla.\n",
        "\n",
        "+ verbose: Controla la cantidad de información que se muestra durante la ejecución. El valor predeterminado de 0 indica que se muestra la mínima información necesaria.\n",
        "\n",
        "+ epsilon: Se utiliza en funciones de pérdida epsilon-insensibles, pero no es relevante para este caso.\n",
        "\n",
        "+ l1_ratio: Se aplica cuando se utiliza la regularización \"Elastic-Net\" y determina cómo se mezclan las penalizaciones L1 y L2. No se utiliza en este caso, por lo que se mantiene el valor predeterminado.\n",
        "\n",
        "+ fit_intercept: Indica si se debe agregar una constante a la función de decisión. Es una práctica común y se establece en True por defecto.\n",
        "\n",
        "+ early_stopping: Se utiliza para detener el entrenamiento antes de tiempo si no se observa una mejora en la solución basada en un conjunto de validación. No se utiliza en este caso.\n",
        "\n",
        "+ validation_fraction: Determina el porcentaje de datos que se utilizará para la validación cuando se utiliza early_stopping. No es relevante en este caso.\n",
        "\n",
        "+ average: Indica si se debe calcular y almacenar el promedio de los pesos de todas las actualizaciones. No se utiliza en este estudio.\n",
        "\n",
        "Además, se establecerán experimentalmente los siguientes hiperparámetros antes de Gridsearch:\n",
        "\n",
        "+ tol: Es la tolerancia que determina cuándo se considera que la solución no ha empeorado lo suficiente.\n",
        "\n",
        "+ n_iter_no_change: Es el número de iteraciones consecutivas en las que la solución no mejora antes de detener el entrenamiento.\n",
        "\n",
        "+ max_iter: Es el número máximo de épocas (iteraciones) permitidas.\n",
        "\n",
        "Después de establecer los parámetros mencionados anteriormente, se realizará una búsqueda en la cuadrícula (Gridsearch) para encontrar los mejores hiperparámetros. Los hiperparámetros que se explorarán son los siguientes:\n",
        "\n",
        "+ Penalty: Es el tipo de regularización que se aplicará. Se considerarán dos opciones: 'l1' y 'l2'. No se utilizará 'elasticnet' en este estudio.\n",
        "\n",
        "+ alpha: Es el factor de regularización que controla la intensidad de la regularización. Se probarán tres valores: 1 (valor predeterminado), 1000 (regularización alta) y 0.001 (regularización baja). Estos valores permitirán evaluar el impacto de diferentes niveles de regularización en el modelo.\n",
        "\n",
        "+ Learning Rate: Se explorará utilizando dos enfoques diferentes:\n",
        "\n",
        "    a) Constante (constant): Se utilizará un valor constante de Learning Rate para el entrenamiento. Se probarán diferentes valores de eta0 (0.0001, 1 y 1000) para evaluar su impacto en el rendimiento del modelo. Si se observa una mejora significativa con algún valor, se puede realizar una exploración más detallada dentro de ese rango.\n",
        "\n",
        "    b) Óptimo (optimal): Se utilizará el Learning Rate óptimo, que es adaptativo y varía durante el entrenamiento para lograr una convergencia más rápida. Se explorarán diferentes combinaciones de tipos y valores de Learning Rate para buscar el mejor resultado posible.\n",
        "\n",
        "+ eta0: Se aplica solo cuando se utiliza el enfoque de Learning Rate constante. Representa el valor constante del Learning Rate. Se probarán valores de eta0 de 0.0001, 1 y 1000 para evaluar su impacto en el rendimiento.\n",
        "\n",
        "Después de Gridsearch, se realizarán experimentos con los siguientes hiperparámetros:\n",
        "\n",
        "+ class_weight - Pesos asociados a las clases de nuestro modelo. Como en nuestro caso tenemos muchísimo desbalance, es muy probable que el algoritmo prácticamente desprecie la clase 'yes', por lo que intentaré darle diferentes pesos a las clases, en busca de maximizar el acierto sobre esa clase también.\n",
        "\n",
        "+ Learning Rate, así como sus parámetros asociados (eta0 y power_t)"
      ],
      "metadata": {
        "id": "ZXIVcvLcPcKB"
      }
    },
    {
      "cell_type": "code",
      "source": [
        "from sklearn.linear_model import SGDClassifier"
      ],
      "metadata": {
        "id": "TWz5jPyHg77H"
      },
      "execution_count": 125,
      "outputs": []
    },
    {
      "cell_type": "markdown",
      "source": [
        "PERCEPTRON POCKET"
      ],
      "metadata": {
        "id": "3FOVI-ldRDAM"
      }
    },
    {
      "cell_type": "markdown",
      "source": [
        "Es cierto que el algoritmo Perceptron (PLA) está diseñado para iterar hasta que pueda separar perfectamente el conjunto de datos. Sin embargo, cuando el conjunto de datos no es linealmente separable, el PLA puede continuar iterando indefinidamente sin lograr una separación adecuada.\n",
        "\n",
        "Una solución sencilla para este problema sería limitar el número de iteraciones. Sin embargo, esto plantea dos problemas importantes. En primer lugar, no garantiza detenerse después de converger, lo que significa que podría terminar antes de encontrar una solución óptima. En segundo lugar, no garantiza devolver la mejor solución encontrada, ya que podría detenerse antes de alcanzar una solución óptima.\n",
        "\n",
        "Para abordar estos problemas, se puede utilizar una técnica llamada Early Stopping (detención temprana). En lugar de detenerse después de un número fijo de iteraciones, el algoritmo se detiene cuando no logra mejorar los resultados. Esto se logra reservando una fracción de los datos para validación y monitoreando el rendimiento del modelo en estos datos de validación.\n",
        "\n",
        "Al utilizar Early Stopping, podemos simular algo similar al Pocket-PLA. En lugar de detenerse después de un número fijo de ejecuciones, el algoritmo se detendrá cuando se determine que no puede mejorar los resultados utilizando los datos de validación. Esto nos permite obtener una solución que no solo convergio, sino que también es la mejor posible en términos de los datos de validación."
      ],
      "metadata": {
        "id": "Be2iYt1uSHDn"
      }
    },
    {
      "cell_type": "markdown",
      "source": [
        "Vamos a repasar los parámetros que vamos a establecer antes de ejecutar cualquier proceso:\n",
        "\n",
        "+ Warm_start: Esta técnica consiste en reutilizar la solución del entrenamiento anterior como inicialización para el siguiente entrenamiento. En nuestro caso, como solo entrenamos una vez por modelo, su valor predeterminado (False) es indiferente.\n",
        "\n",
        "+ n_jobs: Determina el número de núcleos de la CPU que se utilizarán para paralelizar la ejecución. Establecerlo en -1 permite utilizar todos los núcleos disponibles. Aunque en un problema de clasificación binaria no mejora significativamente el rendimiento, no tiene efectos negativos.\n",
        "\n",
        "+ shuffle: Indica si los datos deben ser reordenados después de cada época. Es una buena práctica realizar esta reordenación, por lo que se mantiene el valor predeterminado (True).\n",
        "\n",
        "+ random_state: Si shuffle es True, este parámetro determina la semilla utilizada para la reordenación. Se puede especificar un entero, una instancia de 'randomState' o dejarlo en None para generar una semilla aleatoria. En nuestro caso, la semilla no es relevante, por lo que se mantiene el valor predeterminado (None).\n",
        "\n",
        "+ verbose: Controla la cantidad de información del registro que se muestra por pantalla. Al ser una variable informativa, se mantiene en su valor predeterminado (0).\n",
        "\n",
        "+ l1_ratio: Este parámetro se utiliza en la regularización 'Elastic-Net' para mezclar las penalizaciones L1 y L2. No vamos a utilizar esta regularización en nuestra práctica, por lo que se mantiene en su valor predeterminado (0.15).\n",
        "\n",
        "+ fit_intercept: Indica si se permite añadir una constante a la función de decisión. En la mayoría de los casos, es una buena práctica incluir esta constante, ya que proporciona más flexibilidad al algoritmo. Por lo tanto, se mantiene en su valor predeterminado (True).\n",
        "\n",
        "+ early_stopping: Si se activa, se reservará una fracción de los datos para validación y el algoritmo se detendrá cuando no se observe mejora en los resultados de validación. En el caso del Perceptron, esto nos permite simular una versión similar al Pocket-PLA. Por lo tanto, se establece en True.\n",
        "\n",
        "+ validation_fraction: Determina el porcentaje de datos que se utilizarán para validación si se utiliza early_stopping. Como no vamos a utilizarlo, su valor predeterminado no es relevante.\n",
        "\n",
        "A continuación, detallamos los parámetros que vamos a ajustar experimentalmente antes de realizar la búsqueda en cuadrícula (Gridsearch):\n",
        "\n",
        "+ tol: Tolerancia que indica cuándo se considera que la solución no ha mejorado.\n",
        "\n",
        "+ n_iter_no_change: Número de iteraciones consecutivas en las que la solución no mejora antes de detener el entrenamiento.\n",
        "\n",
        "+ max_iter: Número máximo de épocas permitidas.\n",
        "\n",
        "Estos tres parámetros son fundamentales para el criterio de parada. Buscaremos valores que sean consistentes en todos los modelos y permitan la convergencia.\n",
        "\n",
        "Ahora, pasamos a los parámetros que ajustaremos experimentalmente mediante Gridsearch:\n",
        "\n",
        "+ Penalty: Este parámetro determina el tipo de regularización. Existen varios tipos, pero en nuestra práctica nos limitaremos a 'l1' y 'l2'. Explorar diferentes valores de 'l1_ratio', incluyendo 0 para 'l2' y 1 para 'l1', sería una opción interesante, pero se escapa del alcance de nuestros conocimientos teóricos actuales.\n",
        "\n",
        "+ alpha: Es el factor de regularización, que determina la fuerza de la regularización. Valores más altos indican una regularización más fuerte. Vamos a probar tres valores: 1 (valor predeterminado), 1000 (regularización muy alta) y 0.001 (regularización muy baja). Si observamos diferencias significativas con alguno de estos valores, podremos explorar valores intermedios después de la búsqueda en cuadrícula.\n",
        "\n",
        "+ eta0: Learning Rate (tasa de aprendizaje) en el Perceptron. En nuestro caso, solo puede ser constante. Vamos a probar tres valores: 0.0001, 1 y 1000. Si encontramos una mejora sustancial con alguno de ellos, podemos investigar más a fondo ese rango de valores.\n",
        "\n",
        "Por último, mencionamos los parámetros que ajustaremos experimentalmente después de la búsqueda en cuadrícula:\n",
        "\n",
        "+ class_weight: Estos pesos se asocian a las clases del modelo. Dado que tenemos un gran desequilibrio de clases, es probable que el algoritmo ignore prácticamente la clase 'yes'. Intentaremos asignar diferentes pesos a las clases para maximizar la precisión en ambas."
      ],
      "metadata": {
        "id": "kUYOygbGRfAJ"
      }
    },
    {
      "cell_type": "code",
      "source": [
        "from sklearn.linear_model import Perceptron"
      ],
      "metadata": {
        "id": "FNl08aDQOX3v"
      },
      "execution_count": 126,
      "outputs": []
    },
    {
      "cell_type": "code",
      "source": [
        "aux_train_data = X_train[:int(X_train.shape[0]*0.1)]\n",
        "aux_train_labels = y_train[:int(X_train.shape[0]*0.1)]\n",
        "aux_test_data = X_train[-int(X_train.shape[0]*0.1):-1]\n",
        "aux_test_labels = y_train[-int(X_train.shape[0]*0.1):-1]"
      ],
      "metadata": {
        "id": "6vD-FF-LxL3T"
      },
      "execution_count": 127,
      "outputs": []
    },
    {
      "cell_type": "markdown",
      "source": [
        "## LOGISTIC REGRESSION"
      ],
      "metadata": {
        "id": "wC6iiJGZLE_y"
      }
    },
    {
      "cell_type": "markdown",
      "source": [
        "### MAX ITER"
      ],
      "metadata": {
        "id": "wU7M7eieLRvG"
      }
    },
    {
      "cell_type": "code",
      "source": [
        "w = LogisticRegression(max_iter=10000, solver='saga', n_jobs=-1).fit(aux_train_data,aux_train_labels)\n",
        "print(w.n_iter_)\n"
      ],
      "metadata": {
        "colab": {
          "base_uri": "https://localhost:8080/"
        },
        "id": "vYAxWcJQLTKS",
        "outputId": "bb927cd7-ba21-4312-f73a-13f4ef846364"
      },
      "execution_count": 128,
      "outputs": [
        {
          "output_type": "stream",
          "name": "stdout",
          "text": [
            "[741]\n"
          ]
        }
      ]
    },
    {
      "cell_type": "code",
      "source": [
        "max_iter1 = 100\n",
        "# Obtener el máximo y mínimo de cada columna\n",
        "for columna in X_train.columns:\n",
        "    valor_maximo = X_train[columna].max()\n",
        "    valor_minimo = X_train[columna].min()\n",
        "    print(f'Máximo de {columna}: {valor_maximo}')\n",
        "    print(f'Mínimo de {columna}: {valor_minimo}')"
      ],
      "metadata": {
        "colab": {
          "base_uri": "https://localhost:8080/"
        },
        "id": "1c80tiFsdCKO",
        "outputId": "264cbc01-a05a-484d-b62b-3773b6dd1a78"
      },
      "execution_count": 129,
      "outputs": [
        {
          "output_type": "stream",
          "name": "stdout",
          "text": [
            "Máximo de 0: 0.1111111111111111\n",
            "Mínimo de 0: 0.0\n",
            "Máximo de 1: 1.0\n",
            "Mínimo de 1: 0.0\n",
            "Máximo de 2: 1.0\n",
            "Mínimo de 2: 0.0\n",
            "Máximo de 3: 0.5555555555555556\n",
            "Mínimo de 3: 0.0\n",
            "Máximo de 4: 1.0\n",
            "Mínimo de 4: 0.0\n",
            "Máximo de 5: 1.0\n",
            "Mínimo de 5: 0.0\n",
            "Máximo de 6: 0.7777777777777778\n",
            "Mínimo de 6: 0.0\n",
            "Máximo de 7: 1.0\n",
            "Mínimo de 7: 0.0\n",
            "Máximo de 8: 1.0\n",
            "Mínimo de 8: 0.0\n",
            "Máximo de 9: 1.0\n",
            "Mínimo de 9: 0.0\n",
            "Máximo de 10: 1.0\n",
            "Mínimo de 10: 0.0\n",
            "Máximo de 11: 1.0\n",
            "Mínimo de 11: 0.0\n",
            "Máximo de 12: 1.0\n",
            "Mínimo de 12: 0.0\n",
            "Máximo de 13: 1.0\n",
            "Mínimo de 13: 0.0\n",
            "Máximo de 14: 1.0\n",
            "Mínimo de 14: 0.0\n",
            "Máximo de 15: 0.5555555555555556\n",
            "Mínimo de 15: 0.0\n",
            "Máximo de 16: 1.0\n",
            "Mínimo de 16: 0.0\n",
            "Máximo de 17: 1.0\n",
            "Mínimo de 17: 0.0\n",
            "Máximo de 18: 1.0\n",
            "Mínimo de 18: 0.0\n",
            "Máximo de 19: 1.0\n",
            "Mínimo de 19: 0.0\n",
            "Máximo de 20: 1.0\n",
            "Mínimo de 20: 0.0\n",
            "Máximo de 21: 1.0\n",
            "Mínimo de 21: 0.0\n",
            "Máximo de 22: 1.0\n",
            "Mínimo de 22: 0.0\n",
            "Máximo de 23: 1.0\n",
            "Mínimo de 23: 0.0\n",
            "Máximo de 24: 1.0\n",
            "Mínimo de 24: 0.0\n",
            "Máximo de 25: 1.0\n",
            "Mínimo de 25: 0.0\n",
            "Máximo de 26: 1.0\n",
            "Mínimo de 26: 0.0\n",
            "Máximo de 27: 1.0\n",
            "Mínimo de 27: 0.0\n",
            "Máximo de 28: 1.0\n",
            "Mínimo de 28: 0.0\n",
            "Máximo de 29: 1.0\n",
            "Mínimo de 29: 0.0\n",
            "Máximo de 30: 1.0\n",
            "Mínimo de 30: 0.0\n",
            "Máximo de 31: 1.0\n",
            "Mínimo de 31: 0.0\n",
            "Máximo de 32: 1.0\n",
            "Mínimo de 32: 0.0\n",
            "Máximo de 33: 1.0\n",
            "Mínimo de 33: 0.0\n",
            "Máximo de 34: 1.0\n",
            "Mínimo de 34: 0.0\n",
            "Máximo de 35: 1.0\n",
            "Mínimo de 35: 0.0\n",
            "Máximo de 36: 0.7777777777777778\n",
            "Mínimo de 36: 0.0\n",
            "Máximo de 37: 1.0\n",
            "Mínimo de 37: 0.0\n",
            "Máximo de 38: 0.8888888888888888\n",
            "Mínimo de 38: 0.1111111111111111\n",
            "Máximo de 39: 0.3333333333333333\n",
            "Mínimo de 39: 0.0\n",
            "Máximo de 40: 0.6666666666666666\n",
            "Mínimo de 40: 0.0\n",
            "Máximo de 41: 0.4444444444444444\n",
            "Mínimo de 41: 0.0\n",
            "Máximo de 42: 1.0\n",
            "Mínimo de 42: 0.0\n",
            "Máximo de 43: 7.0\n",
            "Mínimo de 43: 0.0\n",
            "Máximo de 44: 7.0\n",
            "Mínimo de 44: 0.0\n",
            "Máximo de 45: 9.0\n",
            "Mínimo de 45: 0.0\n",
            "Máximo de 46: 5.0\n",
            "Mínimo de 46: 0.0\n",
            "Máximo de 47: 7.0\n",
            "Mínimo de 47: 0.0\n",
            "Máximo de 48: 6.0\n",
            "Mínimo de 48: 0.0\n",
            "Máximo de 49: 6.0\n",
            "Mínimo de 49: 0.0\n",
            "Máximo de 50: 8.0\n",
            "Mínimo de 50: 0.0\n",
            "Máximo de 51: 6.0\n",
            "Mínimo de 51: 0.0\n",
            "Máximo de 52: 3.0\n",
            "Mínimo de 52: 0.0\n",
            "Máximo de 53: 7.0\n",
            "Mínimo de 53: 0.0\n",
            "Máximo de 54: 8.0\n",
            "Mínimo de 54: 0.0\n",
            "Máximo de 55: 3.0\n",
            "Mínimo de 55: 0.0\n",
            "Máximo de 56: 6.0\n",
            "Mínimo de 56: 0.0\n",
            "Máximo de 57: 1.0\n",
            "Mínimo de 57: 0.0\n",
            "Máximo de 58: 6.0\n",
            "Mínimo de 58: 0.0\n",
            "Máximo de 59: 5.0\n",
            "Mínimo de 59: 0.0\n",
            "Máximo de 60: 1.0\n",
            "Mínimo de 60: 0.0\n",
            "Máximo de 61: 1.0\n",
            "Mínimo de 61: 0.0\n",
            "Máximo de 62: 1.0\n",
            "Mínimo de 62: 0.0\n",
            "Máximo de 63: 1.0\n",
            "Mínimo de 63: 0.0\n",
            "Máximo de 64: 1.0\n",
            "Mínimo de 64: 0.0\n",
            "Máximo de 65: 1.0\n",
            "Mínimo de 65: 0.0\n",
            "Máximo de 66: 1.0\n",
            "Mínimo de 66: 0.0\n",
            "Máximo de 67: 1.0\n",
            "Mínimo de 67: 0.0\n",
            "Máximo de 68: 1.0\n",
            "Mínimo de 68: 0.0\n",
            "Máximo de 69: 1.0\n",
            "Mínimo de 69: 0.0\n",
            "Máximo de 70: 1.0\n",
            "Mínimo de 70: 0.0\n",
            "Máximo de 71: 1.0\n",
            "Mínimo de 71: 0.0\n",
            "Máximo de 72: 1.0\n",
            "Mínimo de 72: 0.0\n",
            "Máximo de 73: 1.0\n",
            "Mínimo de 73: 0.0\n",
            "Máximo de 74: 1.0\n",
            "Mínimo de 74: 0.0\n",
            "Máximo de 75: 1.0\n",
            "Mínimo de 75: 0.0\n",
            "Máximo de 76: 1.0\n",
            "Mínimo de 76: 0.0\n",
            "Máximo de 77: 1.0\n",
            "Mínimo de 77: 0.0\n",
            "Máximo de 78: 1.0\n",
            "Mínimo de 78: 0.0\n",
            "Máximo de 79: 1.0\n",
            "Mínimo de 79: 0.0\n",
            "Máximo de 80: 1.0\n",
            "Mínimo de 80: 0.0\n",
            "Máximo de 81: 1.0\n",
            "Mínimo de 81: 0.0\n",
            "Máximo de 82: 1.0\n",
            "Mínimo de 82: 0.0\n",
            "Máximo de 83: 1.0\n",
            "Mínimo de 83: 0.0\n",
            "Máximo de 84: 1.0\n",
            "Mínimo de 84: 0.0\n",
            "Máximo de 85: 1.0\n",
            "Mínimo de 85: 0.0\n",
            "Máximo de 86: 1.0\n",
            "Mínimo de 86: 0.0\n",
            "Máximo de 87: 1.0\n",
            "Mínimo de 87: 0.0\n",
            "Máximo de 88: 1.0\n",
            "Mínimo de 88: 0.0\n",
            "Máximo de 89: 1.0\n",
            "Mínimo de 89: 0.0\n",
            "Máximo de 90: 1.0\n",
            "Mínimo de 90: 0.0\n",
            "Máximo de 91: 1.0\n",
            "Mínimo de 91: 0.0\n",
            "Máximo de 92: 1.0\n",
            "Mínimo de 92: 0.0\n",
            "Máximo de 93: 1.0\n",
            "Mínimo de 93: 0.0\n",
            "Máximo de 94: 1.0\n",
            "Mínimo de 94: 0.0\n",
            "Máximo de 95: 1.0\n",
            "Mínimo de 95: 0.0\n",
            "Máximo de 96: 1.0\n",
            "Mínimo de 96: 0.0\n",
            "Máximo de 97: 1.0\n",
            "Mínimo de 97: 0.0\n",
            "Máximo de 98: 1.0\n",
            "Mínimo de 98: 0.0\n",
            "Máximo de 99: 1.0\n",
            "Mínimo de 99: 0.0\n",
            "Máximo de 100: 0.0\n",
            "Mínimo de 100: 0.0\n",
            "Máximo de 101: 1.0\n",
            "Mínimo de 101: 0.0\n",
            "Máximo de 102: 1.0\n",
            "Mínimo de 102: 0.0\n",
            "Máximo de 103: 1.0\n",
            "Mínimo de 103: 0.0\n",
            "Máximo de 104: 1.0\n",
            "Mínimo de 104: 0.0\n",
            "Máximo de 105: 1.0\n",
            "Mínimo de 105: 0.0\n",
            "Máximo de 106: 1.0\n",
            "Mínimo de 106: 0.0\n",
            "Máximo de 107: 1.0\n",
            "Mínimo de 107: 0.0\n",
            "Máximo de 108: 1.0\n",
            "Mínimo de 108: 0.0\n",
            "Máximo de 109: 1.0\n",
            "Mínimo de 109: 0.0\n",
            "Máximo de 110: 1.0\n",
            "Mínimo de 110: 0.0\n",
            "Máximo de 111: 0.36828599299829995\n",
            "Mínimo de 111: -0.19385776419649156\n",
            "Máximo de 112: 1.7795683589655225\n",
            "Mínimo de 112: -0.05854178907067193\n",
            "Máximo de 113: 0.3638401559951901\n",
            "Mínimo de 113: -0.10813635561343378\n",
            "Máximo de 114: 0.9611431436242899\n",
            "Mínimo de 114: -0.22992064225139075\n",
            "Máximo de 115: 0.2851052745077941\n",
            "Mínimo de 115: -0.2597540272895311\n",
            "Máximo de 116: 0.352043123123087\n",
            "Mínimo de 116: -0.0996090156002731\n",
            "Máximo de 117: 0.3709081489381011\n",
            "Mínimo de 117: -0.055746591747833626\n",
            "Máximo de 118: 0.3345205582775414\n",
            "Mínimo de 118: -0.18337161369288857\n"
          ]
        }
      ]
    },
    {
      "cell_type": "markdown",
      "source": [
        "Esta impresión se realizó por que parece extraño que el modelo converja tan lento. Al leer la documentación oficial de sklearn, se llegó a la conclusión de que podía deberse a que el solver 'saga' necesita las columnas en los mismos rangos para garantizar la convergencia rápida. No obstante, dado que se ha normalizado teniendo en cuenta la naturaleza del dataset, todas las columnas no guardan los mismos rangos, si bien son cercanos. No obstante, se debería rehacer la implementación y probar aplicar normalización clásica en vez de tener en cuenta el máximo y el mínimo que nos proporciona el dataset.\n",
        "\n",
        "Para evitar un tiempo muy alto en gridsearch, se limitará a 100 el max_iter, a pesar de no poder garantizar la convergencia en la mayoría de los casos."
      ],
      "metadata": {
        "id": "LoPm9cuSSE6z"
      }
    },
    {
      "cell_type": "markdown",
      "source": [
        "### TOLERANCIA"
      ],
      "metadata": {
        "id": "Vf36T9b-c2fY"
      }
    },
    {
      "cell_type": "code",
      "source": [
        "w = LogisticRegression(max_iter=max_iter1, solver='saga', n_jobs=-1, tol=0.0001).fit(aux_train_data,aux_train_labels)\n",
        "\n",
        "y_predicted = w.predict(aux_test_data)\n",
        "\n",
        "matriz_de_confusion = metrics.confusion_matrix(aux_test_labels, y_predicted)\n",
        "accuracy = metrics.accuracy_score(aux_test_labels, y_predicted)\n",
        "\n",
        "##Están cambiados, mirar bien\n",
        "specificity = matriz_de_confusion[0,0]/matriz_de_confusion[0].sum()\n",
        "sensitivity = matriz_de_confusion[1,1]/matriz_de_confusion[1].sum()\n",
        "\n",
        "print(matriz_de_confusion)\n",
        "print('Accuracy: ', accuracy)\n",
        "print('Sensitivity: ', sensitivity)\n",
        "print('Specificity: ', specificity)\n",
        "print('Puntuación: ', puntuar(sensitivity, specificity))"
      ],
      "metadata": {
        "colab": {
          "base_uri": "https://localhost:8080/"
        },
        "id": "jnDW02tbc3cl",
        "outputId": "b63521e8-3a92-4d06-c92f-d19de551ea1e"
      },
      "execution_count": 130,
      "outputs": [
        {
          "output_type": "stream",
          "name": "stdout",
          "text": [
            "[[729   2]\n",
            " [ 53   0]]\n",
            "Accuracy:  0.9298469387755102\n",
            "Sensitivity:  0.0\n",
            "Specificity:  0.9972640218878249\n",
            "Puntuación:  0.49863201094391246\n"
          ]
        },
        {
          "output_type": "stream",
          "name": "stderr",
          "text": [
            "/usr/local/lib/python3.10/dist-packages/sklearn/linear_model/_sag.py:350: ConvergenceWarning: The max_iter was reached which means the coef_ did not converge\n",
            "  warnings.warn(\n"
          ]
        }
      ]
    },
    {
      "cell_type": "markdown",
      "source": [
        "La solución anterior representa la solución para la tolerancia predeterminada."
      ],
      "metadata": {
        "id": "ETV6hekaSrpP"
      }
    },
    {
      "cell_type": "code",
      "source": [
        "w = LogisticRegression(max_iter=max_iter1, solver='saga', n_jobs=-1, tol=10000).fit(aux_train_data,aux_train_labels)\n",
        "\n",
        "y_predicted = w.predict(aux_test_data)\n",
        "\n",
        "matriz_de_confusion = metrics.confusion_matrix(aux_test_labels, y_predicted)\n",
        "accuracy = metrics.accuracy_score(aux_test_labels, y_predicted)\n",
        "\n",
        "##Están cambiados, mirar bien\n",
        "specificity = matriz_de_confusion[0,0]/matriz_de_confusion[0].sum()\n",
        "sensitivity = matriz_de_confusion[1,1]/matriz_de_confusion[1].sum()\n",
        "\n",
        "print(matriz_de_confusion)\n",
        "print('Accuracy: ', accuracy)\n",
        "print('Sensitivity: ', sensitivity)\n",
        "print('Specificity: ', specificity)\n",
        "print('Puntuación: ', puntuar(sensitivity, specificity))"
      ],
      "metadata": {
        "colab": {
          "base_uri": "https://localhost:8080/"
        },
        "id": "WbP4UnG_dVdM",
        "outputId": "b2ba7cc7-d14f-4dc5-c4cf-18bd24095f10"
      },
      "execution_count": 131,
      "outputs": [
        {
          "output_type": "stream",
          "name": "stdout",
          "text": [
            "[[730   1]\n",
            " [ 53   0]]\n",
            "Accuracy:  0.9311224489795918\n",
            "Sensitivity:  0.0\n",
            "Specificity:  0.9986320109439124\n",
            "Puntuación:  0.4993160054719562\n"
          ]
        }
      ]
    },
    {
      "cell_type": "code",
      "source": [
        "w = LogisticRegression(max_iter=max_iter1, solver='saga', n_jobs=-1, tol=0.00001).fit(aux_train_data,aux_train_labels)\n",
        "\n",
        "y_predicted = w.predict(aux_test_data)\n",
        "\n",
        "matriz_de_confusion = metrics.confusion_matrix(aux_test_labels, y_predicted)\n",
        "accuracy = metrics.accuracy_score(aux_test_labels, y_predicted)\n",
        "\n",
        "##Están cambiados, mirar bien\n",
        "specificity = matriz_de_confusion[0,0]/matriz_de_confusion[0].sum()\n",
        "sensitivity = matriz_de_confusion[1,1]/matriz_de_confusion[1].sum()\n",
        "\n",
        "print(matriz_de_confusion)\n",
        "print('Accuracy: ', accuracy)\n",
        "print('Sensitivity: ', sensitivity)\n",
        "print('Specificity: ', specificity)\n",
        "print('Puntuación: ', puntuar(sensitivity, specificity))"
      ],
      "metadata": {
        "colab": {
          "base_uri": "https://localhost:8080/"
        },
        "id": "KqFh-H-xdg5M",
        "outputId": "ae945881-21c1-4a63-9b46-61aa6c8ffd57"
      },
      "execution_count": 132,
      "outputs": [
        {
          "output_type": "stream",
          "name": "stderr",
          "text": [
            "/usr/local/lib/python3.10/dist-packages/sklearn/linear_model/_sag.py:350: ConvergenceWarning: The max_iter was reached which means the coef_ did not converge\n",
            "  warnings.warn(\n"
          ]
        },
        {
          "output_type": "stream",
          "name": "stdout",
          "text": [
            "[[729   2]\n",
            " [ 53   0]]\n",
            "Accuracy:  0.9298469387755102\n",
            "Sensitivity:  0.0\n",
            "Specificity:  0.9972640218878249\n",
            "Puntuación:  0.49863201094391246\n"
          ]
        }
      ]
    },
    {
      "cell_type": "markdown",
      "source": [
        "Como se puede observar, ni aumentar la tolerancia o bajarla drásticamente produce mejores resultados, así que se optará por tomar la predeterminada."
      ],
      "metadata": {
        "id": "5u1l6pnxSxLz"
      }
    },
    {
      "cell_type": "markdown",
      "source": [
        "## LOG REG WITH SGD"
      ],
      "metadata": {
        "id": "t-YBRn7qMwzR"
      }
    },
    {
      "cell_type": "markdown",
      "source": [
        "### MAX ITER"
      ],
      "metadata": {
        "id": "vbXFwkuEMyg-"
      }
    },
    {
      "cell_type": "code",
      "source": [
        "w = SGDClassifier(max_iter=10000, loss='log_loss', n_jobs=-1).fit(aux_train_data,aux_train_labels)\n",
        "print(w.n_iter_)\n"
      ],
      "metadata": {
        "colab": {
          "base_uri": "https://localhost:8080/"
        },
        "id": "CSZ-AoLXM1qN",
        "outputId": "cd6ffd06-9824-491a-b96d-29723b91ccbc"
      },
      "execution_count": 133,
      "outputs": [
        {
          "output_type": "stream",
          "name": "stdout",
          "text": [
            "44\n"
          ]
        }
      ]
    },
    {
      "cell_type": "code",
      "source": [
        "max_iter2 = 100"
      ],
      "metadata": {
        "id": "TZt7KioDdpv-"
      },
      "execution_count": 134,
      "outputs": []
    },
    {
      "cell_type": "markdown",
      "source": [
        "En este caso parece que 100 será suficiente para garantizar la convergencia de los distintos modelos con SGD."
      ],
      "metadata": {
        "id": "5M-dO80_Tg-n"
      }
    },
    {
      "cell_type": "markdown",
      "source": [
        "### TOL"
      ],
      "metadata": {
        "id": "RW-oHVRudwMw"
      }
    },
    {
      "cell_type": "code",
      "source": [
        "w = SGDClassifier(max_iter=max_iter2, loss='log_loss', n_jobs=-1, tol=0.001).fit(aux_train_data,aux_train_labels)\n",
        "\n",
        "y_predicted = w.predict(aux_test_data)\n",
        "\n",
        "matriz_de_confusion = metrics.confusion_matrix(aux_test_labels, y_predicted)\n",
        "accuracy = metrics.accuracy_score(aux_test_labels, y_predicted)\n",
        "\n",
        "##Están cambiados, mirar bien\n",
        "specificity = matriz_de_confusion[0,0]/matriz_de_confusion[0].sum()\n",
        "sensitivity = matriz_de_confusion[1,1]/matriz_de_confusion[1].sum()\n",
        "\n",
        "print(matriz_de_confusion)\n",
        "print('Accuracy: ', accuracy)\n",
        "print('Sensitivity: ', sensitivity)\n",
        "print('Specificity: ', specificity)\n",
        "print('Puntuación: ', puntuar(sensitivity, specificity))"
      ],
      "metadata": {
        "colab": {
          "base_uri": "https://localhost:8080/"
        },
        "id": "ags4FmGUdxEt",
        "outputId": "e1e24fbd-c7ea-4917-851d-c0d7d4e93390"
      },
      "execution_count": 135,
      "outputs": [
        {
          "output_type": "stream",
          "name": "stdout",
          "text": [
            "[[727   4]\n",
            " [ 53   0]]\n",
            "Accuracy:  0.9272959183673469\n",
            "Sensitivity:  0.0\n",
            "Specificity:  0.9945280437756497\n",
            "Puntuación:  0.49726402188782487\n"
          ]
        }
      ]
    },
    {
      "cell_type": "markdown",
      "source": [
        "La anterior es la tolerancia predeterminada por sklearn."
      ],
      "metadata": {
        "id": "3VvZU9dbTtld"
      }
    },
    {
      "cell_type": "code",
      "source": [
        "w = SGDClassifier(max_iter=max_iter2, loss='log_loss', n_jobs=-1, tol=10000).fit(aux_train_data,aux_train_labels)\n",
        "\n",
        "y_predicted = w.predict(aux_test_data)\n",
        "\n",
        "matriz_de_confusion = metrics.confusion_matrix(aux_test_labels, y_predicted)\n",
        "accuracy = metrics.accuracy_score(aux_test_labels, y_predicted)\n",
        "\n",
        "##Están cambiados, mirar bien\n",
        "specificity = matriz_de_confusion[0,0]/matriz_de_confusion[0].sum()\n",
        "sensitivity = matriz_de_confusion[1,1]/matriz_de_confusion[1].sum()\n",
        "\n",
        "print(matriz_de_confusion)\n",
        "print('Accuracy: ', accuracy)\n",
        "print('Sensitivity: ', sensitivity)\n",
        "print('Specificity: ', specificity)\n",
        "print('Puntuación: ', puntuar(sensitivity, specificity))"
      ],
      "metadata": {
        "colab": {
          "base_uri": "https://localhost:8080/"
        },
        "id": "WpdVMAqqeDkS",
        "outputId": "acdd3401-db42-4846-e566-9906a26058ce"
      },
      "execution_count": 136,
      "outputs": [
        {
          "output_type": "stream",
          "name": "stdout",
          "text": [
            "[[729   2]\n",
            " [ 53   0]]\n",
            "Accuracy:  0.9298469387755102\n",
            "Sensitivity:  0.0\n",
            "Specificity:  0.9972640218878249\n",
            "Puntuación:  0.49863201094391246\n"
          ]
        }
      ]
    },
    {
      "cell_type": "code",
      "source": [
        "w = SGDClassifier(max_iter=max_iter2, loss='log_loss', n_jobs=-1, tol=0.0001).fit(aux_train_data,aux_train_labels)\n",
        "\n",
        "y_predicted = w.predict(aux_test_data)\n",
        "\n",
        "matriz_de_confusion = metrics.confusion_matrix(aux_test_labels, y_predicted)\n",
        "accuracy = metrics.accuracy_score(aux_test_labels, y_predicted)\n",
        "\n",
        "##Están cambiados, mirar bien\n",
        "specificity = matriz_de_confusion[0,0]/matriz_de_confusion[0].sum()\n",
        "sensitivity = matriz_de_confusion[1,1]/matriz_de_confusion[1].sum()\n",
        "\n",
        "print(matriz_de_confusion)\n",
        "print('Accuracy: ', accuracy)\n",
        "print('Sensitivity: ', sensitivity)\n",
        "print('Specificity: ', specificity)\n",
        "print('Puntuación: ', puntuar(sensitivity, specificity))"
      ],
      "metadata": {
        "colab": {
          "base_uri": "https://localhost:8080/"
        },
        "id": "xS33jdLieFVd",
        "outputId": "644d7c9e-4b00-4832-90fe-3715489f6e46"
      },
      "execution_count": 137,
      "outputs": [
        {
          "output_type": "stream",
          "name": "stdout",
          "text": [
            "[[703  28]\n",
            " [ 50   3]]\n",
            "Accuracy:  0.9005102040816326\n",
            "Sensitivity:  0.05660377358490566\n",
            "Specificity:  0.9616963064295485\n",
            "Puntuación:  0.5091500400072271\n"
          ]
        }
      ]
    },
    {
      "cell_type": "markdown",
      "source": [
        "Y como se puede observar, al igual que en el caso anterior, aumentarla o bajarla no produce ningún efecto, así que se deja predeterminada."
      ],
      "metadata": {
        "id": "4lqAbKK_TyCj"
      }
    },
    {
      "cell_type": "markdown",
      "source": [
        "### N_ITER_NO_CHANGE"
      ],
      "metadata": {
        "id": "XcQeP974eNrE"
      }
    },
    {
      "cell_type": "code",
      "source": [
        "w = SGDClassifier(max_iter=max_iter2, loss='log_loss', n_jobs=-1, tol=0.001, n_iter_no_change=5).fit(aux_train_data,aux_train_labels)\n",
        "\n",
        "y_predicted = w.predict(aux_test_data)\n",
        "\n",
        "matriz_de_confusion = metrics.confusion_matrix(aux_test_labels, y_predicted)\n",
        "accuracy = metrics.accuracy_score(aux_test_labels, y_predicted)\n",
        "\n",
        "##Están cambiados, mirar bien\n",
        "specificity = matriz_de_confusion[0,0]/matriz_de_confusion[0].sum()\n",
        "sensitivity = matriz_de_confusion[1,1]/matriz_de_confusion[1].sum()\n",
        "\n",
        "print(matriz_de_confusion)\n",
        "print('Accuracy: ', accuracy)\n",
        "print('Sensitivity: ', sensitivity)\n",
        "print('Specificity: ', specificity)\n",
        "print('Puntuación: ', puntuar(sensitivity, specificity))"
      ],
      "metadata": {
        "colab": {
          "base_uri": "https://localhost:8080/"
        },
        "id": "PmpjiHdkePKP",
        "outputId": "cd9b6e74-4998-4379-d1b1-672e8e348664"
      },
      "execution_count": 138,
      "outputs": [
        {
          "output_type": "stream",
          "name": "stdout",
          "text": [
            "[[731   0]\n",
            " [ 53   0]]\n",
            "Accuracy:  0.9323979591836735\n",
            "Sensitivity:  0.0\n",
            "Specificity:  1.0\n",
            "Puntuación:  0.5\n"
          ]
        }
      ]
    },
    {
      "cell_type": "markdown",
      "source": [
        "Un valor de 5 es el predeterminado."
      ],
      "metadata": {
        "id": "o5isx7eMUCjT"
      }
    },
    {
      "cell_type": "code",
      "source": [
        "w = SGDClassifier(max_iter=max_iter2, loss='log_loss', n_jobs=-1, tol=0.001, n_iter_no_change=1).fit(aux_train_data,aux_train_labels)\n",
        "\n",
        "y_predicted = w.predict(aux_test_data)\n",
        "\n",
        "matriz_de_confusion = metrics.confusion_matrix(aux_test_labels, y_predicted)\n",
        "accuracy = metrics.accuracy_score(aux_test_labels, y_predicted)\n",
        "\n",
        "##Están cambiados, mirar bien\n",
        "specificity = matriz_de_confusion[0,0]/matriz_de_confusion[0].sum()\n",
        "sensitivity = matriz_de_confusion[1,1]/matriz_de_confusion[1].sum()\n",
        "\n",
        "print(matriz_de_confusion)\n",
        "print('Accuracy: ', accuracy)\n",
        "print('Sensitivity: ', sensitivity)\n",
        "print('Specificity: ', specificity)\n",
        "print('Puntuación: ', puntuar(sensitivity, specificity))"
      ],
      "metadata": {
        "colab": {
          "base_uri": "https://localhost:8080/"
        },
        "id": "YNUHV-rDePVg",
        "outputId": "d8f39d60-d24a-414a-b0fe-888aee4ff317"
      },
      "execution_count": 139,
      "outputs": [
        {
          "output_type": "stream",
          "name": "stdout",
          "text": [
            "[[730   1]\n",
            " [ 52   1]]\n",
            "Accuracy:  0.9323979591836735\n",
            "Sensitivity:  0.018867924528301886\n",
            "Specificity:  0.9986320109439124\n",
            "Puntuación:  0.5087499677361071\n"
          ]
        }
      ]
    },
    {
      "cell_type": "code",
      "source": [
        "w = SGDClassifier(max_iter=max_iter2, loss='log_loss', n_jobs=-1, tol=0.001, n_iter_no_change=100).fit(aux_train_data,aux_train_labels)\n",
        "\n",
        "y_predicted = w.predict(aux_test_data)\n",
        "\n",
        "matriz_de_confusion = metrics.confusion_matrix(aux_test_labels, y_predicted)\n",
        "accuracy = metrics.accuracy_score(aux_test_labels, y_predicted)\n",
        "\n",
        "##Están cambiados, mirar bien\n",
        "specificity = matriz_de_confusion[0,0]/matriz_de_confusion[0].sum()\n",
        "sensitivity = matriz_de_confusion[1,1]/matriz_de_confusion[1].sum()\n",
        "\n",
        "print(matriz_de_confusion)\n",
        "print('Accuracy: ', accuracy)\n",
        "print('Sensitivity: ', sensitivity)\n",
        "print('Specificity: ', specificity)\n",
        "print('Puntuación: ', puntuar(sensitivity, specificity))"
      ],
      "metadata": {
        "colab": {
          "base_uri": "https://localhost:8080/"
        },
        "id": "hbDB1_8uePgL",
        "outputId": "b07ea67a-fb1d-48e4-a648-fa56c1efe3cd"
      },
      "execution_count": 140,
      "outputs": [
        {
          "output_type": "stream",
          "name": "stdout",
          "text": [
            "[[712  19]\n",
            " [ 53   0]]\n",
            "Accuracy:  0.9081632653061225\n",
            "Sensitivity:  0.0\n",
            "Specificity:  0.9740082079343365\n",
            "Puntuación:  0.48700410396716826\n"
          ]
        },
        {
          "output_type": "stream",
          "name": "stderr",
          "text": [
            "/usr/local/lib/python3.10/dist-packages/sklearn/linear_model/_stochastic_gradient.py:702: ConvergenceWarning: Maximum number of iteration reached before convergence. Consider increasing max_iter to improve the fit.\n",
            "  warnings.warn(\n"
          ]
        }
      ]
    },
    {
      "cell_type": "markdown",
      "source": [
        "Al disminuir o aumentar tampoco se obtienen mejores puntuaciones, así que se deja predeterminado."
      ],
      "metadata": {
        "id": "TmgTtfw5UFZt"
      }
    },
    {
      "cell_type": "markdown",
      "source": [
        "## PERCEPTRON"
      ],
      "metadata": {
        "id": "mZKvOqE5LCoP"
      }
    },
    {
      "cell_type": "markdown",
      "source": [
        "### MAX ITER"
      ],
      "metadata": {
        "id": "HRa70WFRUTd0"
      }
    },
    {
      "cell_type": "code",
      "source": [
        "w = Perceptron(n_jobs=-1, early_stopping=True, max_iter=10000).fit(aux_train_data,aux_train_labels)\n",
        "print(w.n_iter_)"
      ],
      "metadata": {
        "colab": {
          "base_uri": "https://localhost:8080/"
        },
        "id": "i5vkhGGOxUxd",
        "outputId": "3de65605-a5a4-4869-d2bb-a9284656ea7e"
      },
      "execution_count": 141,
      "outputs": [
        {
          "output_type": "stream",
          "name": "stdout",
          "text": [
            "6\n"
          ]
        }
      ]
    },
    {
      "cell_type": "code",
      "source": [
        "max_iter3 = max_iter2"
      ],
      "metadata": {
        "id": "L2y7BHBeyiIG"
      },
      "execution_count": 142,
      "outputs": []
    },
    {
      "cell_type": "markdown",
      "source": [
        "Ya que los dos primeros métodos tienen 100 como número de iteraciones máximo, se dejará también el mismo a perceptron."
      ],
      "metadata": {
        "id": "oxNTxbyrUWCI"
      }
    },
    {
      "cell_type": "markdown",
      "source": [
        "### TOL"
      ],
      "metadata": {
        "id": "Sghxy45rUiBh"
      }
    },
    {
      "cell_type": "code",
      "source": [
        "w = Perceptron(n_jobs=-1, early_stopping=True, max_iter=max_iter3, tol=0.001).fit(aux_train_data,aux_train_labels)\n",
        "y_predicted = w.predict(aux_test_data)\n",
        "\n",
        "matriz_de_confusion = metrics.confusion_matrix(aux_test_labels, y_predicted)\n",
        "accuracy = metrics.accuracy_score(aux_test_labels, y_predicted)\n",
        "\n",
        "##Están cambiados, mirar bien\n",
        "specificity = matriz_de_confusion[0,0]/matriz_de_confusion[0].sum()\n",
        "sensitivity = matriz_de_confusion[1,1]/matriz_de_confusion[1].sum()\n",
        "\n",
        "print(matriz_de_confusion)\n",
        "print('Accuracy: ', accuracy)\n",
        "print('Sensitivity: ', sensitivity)\n",
        "print('Specificity: ', specificity)\n",
        "print('Puntuación: ', puntuar(sensitivity, specificity))"
      ],
      "metadata": {
        "colab": {
          "base_uri": "https://localhost:8080/"
        },
        "id": "wAgpERb6zMYm",
        "outputId": "5c6df8a5-9631-4f57-fb40-d15489c464d8"
      },
      "execution_count": 143,
      "outputs": [
        {
          "output_type": "stream",
          "name": "stdout",
          "text": [
            "[[710  21]\n",
            " [ 51   2]]\n",
            "Accuracy:  0.9081632653061225\n",
            "Sensitivity:  0.03773584905660377\n",
            "Specificity:  0.9712722298221614\n",
            "Puntuación:  0.5045040394393826\n"
          ]
        }
      ]
    },
    {
      "cell_type": "markdown",
      "source": [
        "La anterior es la tolerancia predeterminada para Perceptron."
      ],
      "metadata": {
        "id": "YMi5Wi0KUlMI"
      }
    },
    {
      "cell_type": "code",
      "source": [
        "w = Perceptron(n_jobs=-1, early_stopping=True, max_iter=max_iter3, tol=10000).fit(aux_train_data,aux_train_labels)\n",
        "y_predicted = w.predict(aux_test_data)\n",
        "\n",
        "matriz_de_confusion = metrics.confusion_matrix(aux_test_labels, y_predicted)\n",
        "accuracy = metrics.accuracy_score(aux_test_labels, y_predicted)\n",
        "specificity = matriz_de_confusion[0,0]/matriz_de_confusion[0].sum()\n",
        "sensitivity = matriz_de_confusion[1,1]/matriz_de_confusion[1].sum()\n",
        "\n",
        "print(matriz_de_confusion)\n",
        "print('Accuracy: ', accuracy)\n",
        "print('Sensitivity: ', sensitivity)\n",
        "print('Specificity: ', specificity)\n",
        "print('Puntuación: ', puntuar(sensitivity, specificity))"
      ],
      "metadata": {
        "colab": {
          "base_uri": "https://localhost:8080/"
        },
        "id": "yBMY5FaCzbUy",
        "outputId": "4a0e222c-83cd-43e1-c349-a7c21ea04928"
      },
      "execution_count": 144,
      "outputs": [
        {
          "output_type": "stream",
          "name": "stdout",
          "text": [
            "[[710  21]\n",
            " [ 51   2]]\n",
            "Accuracy:  0.9081632653061225\n",
            "Sensitivity:  0.03773584905660377\n",
            "Specificity:  0.9712722298221614\n",
            "Puntuación:  0.5045040394393826\n"
          ]
        }
      ]
    },
    {
      "cell_type": "code",
      "source": [
        "w = Perceptron(n_jobs=-1, early_stopping=True, max_iter=max_iter3, tol=0.00001).fit(aux_train_data,aux_train_labels)\n",
        "y_predicted = w.predict(aux_test_data)\n",
        "\n",
        "matriz_de_confusion = metrics.confusion_matrix(aux_test_labels, y_predicted)\n",
        "accuracy = metrics.accuracy_score(aux_test_labels, y_predicted)\n",
        "specificity = matriz_de_confusion[0,0]/matriz_de_confusion[0].sum()\n",
        "sensitivity = matriz_de_confusion[1,1]/matriz_de_confusion[1].sum()\n",
        "\n",
        "print(matriz_de_confusion)\n",
        "print('Accuracy: ', accuracy)\n",
        "print('Sensitivity: ', sensitivity)\n",
        "print('Specificity: ', specificity)\n",
        "print('Puntuación: ', puntuar(sensitivity, specificity))"
      ],
      "metadata": {
        "colab": {
          "base_uri": "https://localhost:8080/"
        },
        "id": "jV4Ol0iWzjvN",
        "outputId": "8e94e8c9-d173-4685-fb6a-fc029f19d055"
      },
      "execution_count": 145,
      "outputs": [
        {
          "output_type": "stream",
          "name": "stdout",
          "text": [
            "[[710  21]\n",
            " [ 51   2]]\n",
            "Accuracy:  0.9081632653061225\n",
            "Sensitivity:  0.03773584905660377\n",
            "Specificity:  0.9712722298221614\n",
            "Puntuación:  0.5045040394393826\n"
          ]
        }
      ]
    },
    {
      "cell_type": "markdown",
      "source": [
        "Como ha ocurrido en los casos anteriores, ni aumentándola ni bajándola se consiguen mejores resultados, así que simplemente se toma la predeterminada."
      ],
      "metadata": {
        "id": "KvOWH21YUple"
      }
    },
    {
      "cell_type": "markdown",
      "source": [
        "### N_ITER_NO_CHANGE"
      ],
      "metadata": {
        "id": "Bb_IQWalUwoI"
      }
    },
    {
      "cell_type": "code",
      "source": [
        "w = Perceptron(n_jobs=-1, early_stopping=True, max_iter=max_iter3, n_iter_no_change=5).fit(aux_train_data,aux_train_labels)\n",
        "y_predicted = w.predict(aux_test_data)\n",
        "\n",
        "matriz_de_confusion = metrics.confusion_matrix(aux_test_labels, y_predicted)\n",
        "accuracy = metrics.accuracy_score(aux_test_labels, y_predicted)\n",
        "specificity = matriz_de_confusion[0,0]/matriz_de_confusion[0].sum()\n",
        "sensitivity = matriz_de_confusion[1,1]/matriz_de_confusion[1].sum()\n",
        "\n",
        "print(matriz_de_confusion)\n",
        "print('Accuracy: ', accuracy)\n",
        "print('Sensitivity: ', sensitivity)\n",
        "print('Specificity: ', specificity)\n",
        "print('Puntuación: ', puntuar(sensitivity, specificity))"
      ],
      "metadata": {
        "id": "Ttp-p5eOKy7b",
        "colab": {
          "base_uri": "https://localhost:8080/"
        },
        "outputId": "84b9ffe0-0c91-435a-ab95-8927f16b83f0"
      },
      "execution_count": 146,
      "outputs": [
        {
          "output_type": "stream",
          "name": "stdout",
          "text": [
            "[[710  21]\n",
            " [ 51   2]]\n",
            "Accuracy:  0.9081632653061225\n",
            "Sensitivity:  0.03773584905660377\n",
            "Specificity:  0.9712722298221614\n",
            "Puntuación:  0.5045040394393826\n"
          ]
        }
      ]
    },
    {
      "cell_type": "markdown",
      "source": [
        "La anterior ejecución correspondería al valor predeterminado."
      ],
      "metadata": {
        "id": "s0F6Ivi3VIfF"
      }
    },
    {
      "cell_type": "code",
      "source": [
        "w = Perceptron(n_jobs=-1, early_stopping=True, max_iter=max_iter3, n_iter_no_change=1).fit(aux_train_data,aux_train_labels)\n",
        "y_predicted = w.predict(aux_test_data)\n",
        "\n",
        "matriz_de_confusion = metrics.confusion_matrix(aux_test_labels, y_predicted)\n",
        "accuracy = metrics.accuracy_score(aux_test_labels, y_predicted)\n",
        "specificity = matriz_de_confusion[0,0]/matriz_de_confusion[0].sum()\n",
        "sensitivity = matriz_de_confusion[1,1]/matriz_de_confusion[1].sum()\n",
        "\n",
        "print(matriz_de_confusion)\n",
        "print('Accuracy: ', accuracy)\n",
        "print('Sensitivity: ', sensitivity)\n",
        "print('Specificity: ', specificity)\n",
        "print('Puntuación: ', puntuar(sensitivity, specificity))"
      ],
      "metadata": {
        "id": "EGAKIQZvK4RD",
        "colab": {
          "base_uri": "https://localhost:8080/"
        },
        "outputId": "93c36519-3e9b-4707-a820-f8f68f0e8045"
      },
      "execution_count": 147,
      "outputs": [
        {
          "output_type": "stream",
          "name": "stdout",
          "text": [
            "[[713  18]\n",
            " [ 52   1]]\n",
            "Accuracy:  0.9107142857142857\n",
            "Sensitivity:  0.018867924528301886\n",
            "Specificity:  0.9753761969904241\n",
            "Puntuación:  0.497122060759363\n"
          ]
        }
      ]
    },
    {
      "cell_type": "code",
      "source": [
        "w = Perceptron(n_jobs=-1, early_stopping=True, max_iter=max_iter3, n_iter_no_change=100).fit(aux_train_data,aux_train_labels)\n",
        "y_predicted = w.predict(aux_test_data)\n",
        "\n",
        "matriz_de_confusion = metrics.confusion_matrix(aux_test_labels, y_predicted)\n",
        "accuracy = metrics.accuracy_score(aux_test_labels, y_predicted)\n",
        "specificity = matriz_de_confusion[0,0]/matriz_de_confusion[0].sum()\n",
        "sensitivity = matriz_de_confusion[1,1]/matriz_de_confusion[1].sum()\n",
        "\n",
        "print(matriz_de_confusion)\n",
        "print('Accuracy: ', accuracy)\n",
        "print('Sensitivity: ', sensitivity)\n",
        "print('Specificity: ', specificity)\n",
        "print('Puntuación: ', puntuar(sensitivity, specificity))"
      ],
      "metadata": {
        "id": "NPE5WpIBK6Ux",
        "colab": {
          "base_uri": "https://localhost:8080/"
        },
        "outputId": "11eff23e-31a7-45d1-cd12-2ebdbe0841e7"
      },
      "execution_count": 148,
      "outputs": [
        {
          "output_type": "stream",
          "name": "stdout",
          "text": [
            "[[658  73]\n",
            " [ 44   9]]\n",
            "Accuracy:  0.8507653061224489\n",
            "Sensitivity:  0.16981132075471697\n",
            "Specificity:  0.9001367989056087\n",
            "Puntuación:  0.5349740598301629\n"
          ]
        },
        {
          "output_type": "stream",
          "name": "stderr",
          "text": [
            "/usr/local/lib/python3.10/dist-packages/sklearn/linear_model/_stochastic_gradient.py:702: ConvergenceWarning: Maximum number of iteration reached before convergence. Consider increasing max_iter to improve the fit.\n",
            "  warnings.warn(\n"
          ]
        }
      ]
    },
    {
      "cell_type": "markdown",
      "source": [
        "Como se puede ovservar aumentar este parámetro drásticamente a aumentado un poco la puntuación, así que para Perceptron, se usará 100 como valor."
      ],
      "metadata": {
        "id": "cHQr9gv3VOqU"
      }
    },
    {
      "cell_type": "markdown",
      "source": [
        "## GRID SEARCH"
      ],
      "metadata": {
        "id": "lZFVH8pjKxsi"
      }
    },
    {
      "cell_type": "markdown",
      "source": [
        "Se va a ejecutar el 5-fold cross-validation para todas las posibles combinaciones de algoritmos que hemos considerado. Debido a limitaciones de tiempo y capacidad de cómputo, solo se pudo probar con tres valores diferentes para la tasa de aprendizaje y un par de valores para el factor de regularización. Sin embargo, me habría gustado probar con más opciones para obtener una mayor variedad.\n",
        "\n",
        "Para seleccionar automáticamente el mejor algoritmo, utilizaré el criterio de puntuación. Esto significa que compararé los resultados de cada algoritmo utilizando el promedio entre los 0 bien clasificados y los 1 bien clasificados, y seleccionaré el algoritmo que obtenga la puntuación más alta según esa métrica como el mejor. "
      ],
      "metadata": {
        "id": "4oN55i7yXj1-"
      }
    },
    {
      "cell_type": "code",
      "source": [
        "best_puntuacion = -np.inf\n",
        "best_algoritmo = 'ERROR'\n",
        "\n",
        "for num_algoritmo in range(24):\n",
        "  mean_accuracy = 0\n",
        "  mean_sensitivity = 0\n",
        "  mean_specificity = 0\n",
        "  mean_matrix = np.zeros((2,2))\n",
        "  for i in range(5):\n",
        "    train_x = X_train.iloc[cv_trains[i]].to_numpy()\n",
        "    train_y = y_train.iloc[cv_trains[i]].to_numpy().flatten()\n",
        "    test_x = X_train.iloc[cv_tests[i]].to_numpy()\n",
        "    test_y = y_train.iloc[cv_tests[i]].to_numpy().flatten()\n",
        "\n",
        "    if(num_algoritmo == 0): \n",
        "      w = LogisticRegression(max_iter=max_iter1, solver='saga', n_jobs=-1, penalty='l1', C=100)\n",
        "      algoritmo = \"LogisticRegression con penalty=l1, C=100\"\n",
        "    if(num_algoritmo == 1): \n",
        "      w = LogisticRegression(max_iter=max_iter1, solver='saga', n_jobs=-1, penalty='l1', C=0.01)\n",
        "      algoritmo = \"LogisticRegression con penalty=l1, C=0.01\"\n",
        "    if(num_algoritmo == 2): \n",
        "      w = LogisticRegression(max_iter=max_iter1, solver='saga', n_jobs=-1, penalty='l2', C=100)\n",
        "      algoritmo = \"LogisticRegression con penalty=l2, C=100\"\n",
        "    if(num_algoritmo == 3): \n",
        "      w = LogisticRegression(max_iter=max_iter1, solver='saga', n_jobs=-1, penalty='l2', C=0.01)\n",
        "      algoritmo = \"LogisticRegression con penalty=l2, C=0.01\"\n",
        "\n",
        "    if(num_algoritmo == 4): \n",
        "      w = Perceptron(max_iter=max_iter3, early_stopping=True, n_jobs=-1, penalty='l1', alpha=0.01, eta0=0.001, n_iter_no_change=100)\n",
        "      algoritmo = \"Perceptron con penalty='l1', alpha=0.01, eta0=0.001\"\n",
        "    if(num_algoritmo == 5): \n",
        "      w = Perceptron(max_iter=max_iter3, early_stopping=True, n_jobs=-1, penalty='l1', alpha=0.01, eta0=1, n_iter_no_change=100)\n",
        "      algoritmo = \"Perceptron con penalty='l1', alpha=0.01, eta0=1\"\n",
        "    if(num_algoritmo == 6): \n",
        "      w = Perceptron(max_iter=max_iter3, early_stopping=True, n_jobs=-1, penalty='l1', alpha=10, eta0=0.001, n_iter_no_change=100)\n",
        "      algoritmo = \"Perceptron con penalty='l1', alpha=10, eta0=0.001\"\n",
        "    if(num_algoritmo == 7): \n",
        "      w = Perceptron(max_iter=max_iter3, early_stopping=True, n_jobs=-1, penalty='l1', alpha=10, eta0=1, n_iter_no_change=100)\n",
        "      algoritmo = \"Perceptron con penalty='l1', alpha=10, eta0=1\"\n",
        "    if(num_algoritmo == 8): \n",
        "      w = Perceptron(max_iter=max_iter3, early_stopping=True, n_jobs=-1, penalty='l2', alpha=0.01, eta0=0.001, n_iter_no_change=100)\n",
        "      algoritmo = \"Perceptron con penalty='l2', alpha=0.01, eta0=0.001\"\n",
        "    if(num_algoritmo == 9): \n",
        "      w = Perceptron(max_iter=max_iter3, early_stopping=True, n_jobs=-1, penalty='l2', alpha=0.01, eta0=1, n_iter_no_change=100)\n",
        "      algoritmo = \"Perceptron con penalty='l2', alpha=0.01, eta0=1\"\n",
        "    if(num_algoritmo == 10): \n",
        "      w = Perceptron(max_iter=max_iter3, early_stopping=True, n_jobs=-1, penalty='l2', alpha=10, eta0=0.001, n_iter_no_change=100)\n",
        "      algoritmo = \"Perceptron con penalty='l2', alpha=10, eta0=0.001\"\n",
        "    if(num_algoritmo == 11): \n",
        "      w = Perceptron(max_iter=max_iter3, early_stopping=True, n_jobs=-1, penalty='l2', alpha=10, eta0=1, n_iter_no_change=100)\n",
        "      algoritmo = \"Perceptron con penalty='l2', alpha=10, eta0=1\"\n",
        "\n",
        "    if(num_algoritmo == 12): \n",
        "      w = SGDClassifier(max_iter=max_iter2, loss='log_loss', n_jobs=-1, penalty='l1', alpha=0.01, eta0=0.001, learning_rate='constant')\n",
        "      algoritmo = \"SGDClassifier con penalty='l1', alpha=0.01, eta0=0.001\"\n",
        "    if(num_algoritmo == 13): \n",
        "      w = SGDClassifier(max_iter=max_iter2, loss='log_loss', n_jobs=-1, penalty='l1', alpha=0.01, eta0=1, learning_rate='constant')\n",
        "      algoritmo = \"SGDClassifier con penalty='l1', alpha=0.01, eta0=1\"\n",
        "    if(num_algoritmo == 14): \n",
        "      w = SGDClassifier(max_iter=max_iter2, loss='log_loss', n_jobs=-1, penalty='l1', alpha=0.01, learning_rate='optimal')\n",
        "      algoritmo = \"SGDClassifier con penalty='l1', alpha=0.01, learning_rate='optimal'\"\n",
        "    if(num_algoritmo == 15): \n",
        "      w = SGDClassifier(max_iter=max_iter2, loss='log_loss', n_jobs=-1, penalty='l1', alpha=10, eta0=0.001, learning_rate='constant')\n",
        "      algoritmo = \"SGDClassifier con penalty='l1', alpha=10, eta0=0.001\"\n",
        "    if(num_algoritmo == 16): \n",
        "      w = SGDClassifier(max_iter=max_iter2, loss='log_loss', n_jobs=-1, penalty='l1', alpha=10, eta0=1, learning_rate='constant')\n",
        "      algoritmo = \"SGDClassifier con penalty='l1', alpha=10, eta0=1\"\n",
        "    if(num_algoritmo == 17): \n",
        "      w = SGDClassifier(max_iter=max_iter2, loss='log_loss', n_jobs=-1, penalty='l1', alpha=10, learning_rate='optimal')\n",
        "      algoritmo = \"SGDClassifier con penalty='l1', alpha=0.01, learning_rate='optimal'\"\n",
        "    if(num_algoritmo == 18): \n",
        "      w = SGDClassifier(max_iter=max_iter2, loss='log_loss', n_jobs=-1, penalty='l2', alpha=0.01, eta0=0.001, learning_rate='constant')\n",
        "      algoritmo = \"SGDClassifier con penalty='l2', alpha=0.01, eta0=0.001\"\n",
        "    if(num_algoritmo == 19): \n",
        "      w = SGDClassifier(max_iter=max_iter2, loss='log_loss', n_jobs=-1, penalty='l2', alpha=0.01, eta0=1, learning_rate='constant')\n",
        "      algoritmo = \"SGDClassifier con penalty='l2', alpha=0.01, eta0=1\"\n",
        "    if(num_algoritmo == 20): \n",
        "      w = SGDClassifier(max_iter=max_iter2, loss='log_loss', n_jobs=-1, penalty='l2', alpha=0.01, learning_rate='optimal')\n",
        "      algoritmo = \"SGDClassifier con penalty='l1', alpha=0.01, learning_rate='optimal'\"\n",
        "    if(num_algoritmo == 21): \n",
        "      w = SGDClassifier(max_iter=max_iter2, loss='log_loss', n_jobs=-1, penalty='l2', alpha=10, eta0=0.001, learning_rate='constant')\n",
        "      algoritmo = \"SGDClassifier con penalty='l2', alpha=10, eta0=0.001\"\n",
        "    if(num_algoritmo == 22): \n",
        "      w = SGDClassifier(max_iter=max_iter2, loss='log_loss', n_jobs=-1, penalty='l2', alpha=10, eta0=1, learning_rate='constant')\n",
        "      algoritmo = \"SGDClassifier con penalty='l2', alpha=10, eta0=1\"\n",
        "    if(num_algoritmo == 23): \n",
        "      w = SGDClassifier(max_iter=max_iter2, loss='log_loss', n_jobs=-1, penalty='l2', alpha=10, learning_rate='optimal')\n",
        "      algoritmo = \"SGDClassifier con penalty='l1', alpha=0.01, learning_rate='optimal'\"\n",
        "\n",
        "    w = w.fit(train_x, train_y)\n",
        "    y_predicted = w.predict(test_x)\n",
        "\n",
        "    accuracy = metrics.accuracy_score(test_y, y_predicted)\n",
        "    matriz_de_confusion = metrics.confusion_matrix(test_y, y_predicted)\n",
        "    specificity = matriz_de_confusion[0,0]/matriz_de_confusion[0].sum()\n",
        "    sensitivity = matriz_de_confusion[1,1]/matriz_de_confusion[1].sum()\n",
        "\n",
        "    mean_accuracy += accuracy\n",
        "    mean_matrix += matriz_de_confusion\n",
        "    mean_sensitivity += sensitivity\n",
        "    mean_specificity += specificity\n",
        "\n",
        "  puntuacion = puntuar(mean_sensitivity/5, mean_specificity/5)\n",
        "\n",
        "  print('Algoritmo ', num_algoritmo, ' : ', algoritmo, '----------------')\n",
        "  print('Accuracy: ', mean_accuracy/5)\n",
        "  print('Sensitivity: ', mean_sensitivity/5)\n",
        "  print('Specificity: ', mean_specificity/5)\n",
        "  print('Puntuación: ', puntuacion)\n",
        "  print()\n",
        "\n",
        "  if(puntuacion > best_puntuacion):\n",
        "    best_puntuacion = puntuacion\n",
        "    best_algoritmo = algoritmo\n",
        "\n",
        "print('El algoritmo que mejores resultados nos ha dado es el ', best_algoritmo, ', con una puntuación de ', best_puntuacion)"
      ],
      "metadata": {
        "colab": {
          "base_uri": "https://localhost:8080/"
        },
        "id": "J4zOkzb105n9",
        "outputId": "e8b220ff-8444-4d18-e2ce-6877ae98493b"
      },
      "execution_count": 149,
      "outputs": [
        {
          "output_type": "stream",
          "name": "stderr",
          "text": [
            "/usr/local/lib/python3.10/dist-packages/sklearn/linear_model/_sag.py:350: ConvergenceWarning: The max_iter was reached which means the coef_ did not converge\n",
            "  warnings.warn(\n",
            "/usr/local/lib/python3.10/dist-packages/sklearn/linear_model/_sag.py:350: ConvergenceWarning: The max_iter was reached which means the coef_ did not converge\n",
            "  warnings.warn(\n",
            "/usr/local/lib/python3.10/dist-packages/sklearn/linear_model/_sag.py:350: ConvergenceWarning: The max_iter was reached which means the coef_ did not converge\n",
            "  warnings.warn(\n",
            "/usr/local/lib/python3.10/dist-packages/sklearn/linear_model/_sag.py:350: ConvergenceWarning: The max_iter was reached which means the coef_ did not converge\n",
            "  warnings.warn(\n",
            "/usr/local/lib/python3.10/dist-packages/sklearn/linear_model/_sag.py:350: ConvergenceWarning: The max_iter was reached which means the coef_ did not converge\n",
            "  warnings.warn(\n"
          ]
        },
        {
          "output_type": "stream",
          "name": "stdout",
          "text": [
            "Algoritmo  0  :  LogisticRegression con penalty=l1, C=100 ----------------\n",
            "Accuracy:  0.9401808867141883\n",
            "Sensitivity:  0.008602150537634409\n",
            "Specificity:  0.9987826869817498\n",
            "Puntuación:  0.5036924187596921\n",
            "\n",
            "Algoritmo  1  :  LogisticRegression con penalty=l1, C=0.01 ----------------\n",
            "Accuracy:  0.9408171000140912\n",
            "Sensitivity:  0.0\n",
            "Specificity:  1.0\n",
            "Puntuación:  0.5\n",
            "\n"
          ]
        },
        {
          "output_type": "stream",
          "name": "stderr",
          "text": [
            "/usr/local/lib/python3.10/dist-packages/sklearn/linear_model/_sag.py:350: ConvergenceWarning: The max_iter was reached which means the coef_ did not converge\n",
            "  warnings.warn(\n",
            "/usr/local/lib/python3.10/dist-packages/sklearn/linear_model/_sag.py:350: ConvergenceWarning: The max_iter was reached which means the coef_ did not converge\n",
            "  warnings.warn(\n",
            "/usr/local/lib/python3.10/dist-packages/sklearn/linear_model/_sag.py:350: ConvergenceWarning: The max_iter was reached which means the coef_ did not converge\n",
            "  warnings.warn(\n",
            "/usr/local/lib/python3.10/dist-packages/sklearn/linear_model/_sag.py:350: ConvergenceWarning: The max_iter was reached which means the coef_ did not converge\n",
            "  warnings.warn(\n",
            "/usr/local/lib/python3.10/dist-packages/sklearn/linear_model/_sag.py:350: ConvergenceWarning: The max_iter was reached which means the coef_ did not converge\n",
            "  warnings.warn(\n"
          ]
        },
        {
          "output_type": "stream",
          "name": "stdout",
          "text": [
            "Algoritmo  2  :  LogisticRegression con penalty=l2, C=100 ----------------\n",
            "Accuracy:  0.9401808867141883\n",
            "Sensitivity:  0.008602150537634409\n",
            "Specificity:  0.9987826869817498\n",
            "Puntuación:  0.5036924187596921\n",
            "\n",
            "Algoritmo  3  :  LogisticRegression con penalty=l2, C=0.01 ----------------\n",
            "Accuracy:  0.9408171000140912\n",
            "Sensitivity:  0.0\n",
            "Specificity:  1.0\n",
            "Puntuación:  0.5\n",
            "\n"
          ]
        },
        {
          "output_type": "stream",
          "name": "stderr",
          "text": [
            "/usr/local/lib/python3.10/dist-packages/sklearn/linear_model/_stochastic_gradient.py:702: ConvergenceWarning: Maximum number of iteration reached before convergence. Consider increasing max_iter to improve the fit.\n",
            "  warnings.warn(\n",
            "/usr/local/lib/python3.10/dist-packages/sklearn/linear_model/_stochastic_gradient.py:702: ConvergenceWarning: Maximum number of iteration reached before convergence. Consider increasing max_iter to improve the fit.\n",
            "  warnings.warn(\n",
            "/usr/local/lib/python3.10/dist-packages/sklearn/linear_model/_stochastic_gradient.py:702: ConvergenceWarning: Maximum number of iteration reached before convergence. Consider increasing max_iter to improve the fit.\n",
            "  warnings.warn(\n",
            "/usr/local/lib/python3.10/dist-packages/sklearn/linear_model/_stochastic_gradient.py:702: ConvergenceWarning: Maximum number of iteration reached before convergence. Consider increasing max_iter to improve the fit.\n",
            "  warnings.warn(\n",
            "/usr/local/lib/python3.10/dist-packages/sklearn/linear_model/_stochastic_gradient.py:702: ConvergenceWarning: Maximum number of iteration reached before convergence. Consider increasing max_iter to improve the fit.\n",
            "  warnings.warn(\n"
          ]
        },
        {
          "output_type": "stream",
          "name": "stdout",
          "text": [
            "Algoritmo  4  :  Perceptron con penalty='l1', alpha=0.01, eta0=0.001 ----------------\n",
            "Accuracy:  0.9408171000140912\n",
            "Sensitivity:  0.0\n",
            "Specificity:  1.0\n",
            "Puntuación:  0.5\n",
            "\n"
          ]
        },
        {
          "output_type": "stream",
          "name": "stderr",
          "text": [
            "/usr/local/lib/python3.10/dist-packages/sklearn/linear_model/_stochastic_gradient.py:702: ConvergenceWarning: Maximum number of iteration reached before convergence. Consider increasing max_iter to improve the fit.\n",
            "  warnings.warn(\n",
            "/usr/local/lib/python3.10/dist-packages/sklearn/linear_model/_stochastic_gradient.py:702: ConvergenceWarning: Maximum number of iteration reached before convergence. Consider increasing max_iter to improve the fit.\n",
            "  warnings.warn(\n",
            "/usr/local/lib/python3.10/dist-packages/sklearn/linear_model/_stochastic_gradient.py:702: ConvergenceWarning: Maximum number of iteration reached before convergence. Consider increasing max_iter to improve the fit.\n",
            "  warnings.warn(\n",
            "/usr/local/lib/python3.10/dist-packages/sklearn/linear_model/_stochastic_gradient.py:702: ConvergenceWarning: Maximum number of iteration reached before convergence. Consider increasing max_iter to improve the fit.\n",
            "  warnings.warn(\n",
            "/usr/local/lib/python3.10/dist-packages/sklearn/linear_model/_stochastic_gradient.py:702: ConvergenceWarning: Maximum number of iteration reached before convergence. Consider increasing max_iter to improve the fit.\n",
            "  warnings.warn(\n"
          ]
        },
        {
          "output_type": "stream",
          "name": "stdout",
          "text": [
            "Algoritmo  5  :  Perceptron con penalty='l1', alpha=0.01, eta0=1 ----------------\n",
            "Accuracy:  0.9408171000140912\n",
            "Sensitivity:  0.0\n",
            "Specificity:  1.0\n",
            "Puntuación:  0.5\n",
            "\n"
          ]
        },
        {
          "output_type": "stream",
          "name": "stderr",
          "text": [
            "/usr/local/lib/python3.10/dist-packages/sklearn/linear_model/_stochastic_gradient.py:702: ConvergenceWarning: Maximum number of iteration reached before convergence. Consider increasing max_iter to improve the fit.\n",
            "  warnings.warn(\n",
            "/usr/local/lib/python3.10/dist-packages/sklearn/linear_model/_stochastic_gradient.py:702: ConvergenceWarning: Maximum number of iteration reached before convergence. Consider increasing max_iter to improve the fit.\n",
            "  warnings.warn(\n",
            "/usr/local/lib/python3.10/dist-packages/sklearn/linear_model/_stochastic_gradient.py:702: ConvergenceWarning: Maximum number of iteration reached before convergence. Consider increasing max_iter to improve the fit.\n",
            "  warnings.warn(\n",
            "/usr/local/lib/python3.10/dist-packages/sklearn/linear_model/_stochastic_gradient.py:702: ConvergenceWarning: Maximum number of iteration reached before convergence. Consider increasing max_iter to improve the fit.\n",
            "  warnings.warn(\n",
            "/usr/local/lib/python3.10/dist-packages/sklearn/linear_model/_stochastic_gradient.py:702: ConvergenceWarning: Maximum number of iteration reached before convergence. Consider increasing max_iter to improve the fit.\n",
            "  warnings.warn(\n"
          ]
        },
        {
          "output_type": "stream",
          "name": "stdout",
          "text": [
            "Algoritmo  6  :  Perceptron con penalty='l1', alpha=10, eta0=0.001 ----------------\n",
            "Accuracy:  0.9408171000140912\n",
            "Sensitivity:  0.0\n",
            "Specificity:  1.0\n",
            "Puntuación:  0.5\n",
            "\n"
          ]
        },
        {
          "output_type": "stream",
          "name": "stderr",
          "text": [
            "/usr/local/lib/python3.10/dist-packages/sklearn/linear_model/_stochastic_gradient.py:702: ConvergenceWarning: Maximum number of iteration reached before convergence. Consider increasing max_iter to improve the fit.\n",
            "  warnings.warn(\n",
            "/usr/local/lib/python3.10/dist-packages/sklearn/linear_model/_stochastic_gradient.py:702: ConvergenceWarning: Maximum number of iteration reached before convergence. Consider increasing max_iter to improve the fit.\n",
            "  warnings.warn(\n",
            "/usr/local/lib/python3.10/dist-packages/sklearn/linear_model/_stochastic_gradient.py:702: ConvergenceWarning: Maximum number of iteration reached before convergence. Consider increasing max_iter to improve the fit.\n",
            "  warnings.warn(\n",
            "/usr/local/lib/python3.10/dist-packages/sklearn/linear_model/_stochastic_gradient.py:702: ConvergenceWarning: Maximum number of iteration reached before convergence. Consider increasing max_iter to improve the fit.\n",
            "  warnings.warn(\n",
            "/usr/local/lib/python3.10/dist-packages/sklearn/linear_model/_stochastic_gradient.py:702: ConvergenceWarning: Maximum number of iteration reached before convergence. Consider increasing max_iter to improve the fit.\n",
            "  warnings.warn(\n"
          ]
        },
        {
          "output_type": "stream",
          "name": "stdout",
          "text": [
            "Algoritmo  7  :  Perceptron con penalty='l1', alpha=10, eta0=1 ----------------\n",
            "Accuracy:  0.9408171000140912\n",
            "Sensitivity:  0.0\n",
            "Specificity:  1.0\n",
            "Puntuación:  0.5\n",
            "\n"
          ]
        },
        {
          "output_type": "stream",
          "name": "stderr",
          "text": [
            "/usr/local/lib/python3.10/dist-packages/sklearn/linear_model/_stochastic_gradient.py:702: ConvergenceWarning: Maximum number of iteration reached before convergence. Consider increasing max_iter to improve the fit.\n",
            "  warnings.warn(\n",
            "/usr/local/lib/python3.10/dist-packages/sklearn/linear_model/_stochastic_gradient.py:702: ConvergenceWarning: Maximum number of iteration reached before convergence. Consider increasing max_iter to improve the fit.\n",
            "  warnings.warn(\n",
            "/usr/local/lib/python3.10/dist-packages/sklearn/linear_model/_stochastic_gradient.py:702: ConvergenceWarning: Maximum number of iteration reached before convergence. Consider increasing max_iter to improve the fit.\n",
            "  warnings.warn(\n",
            "/usr/local/lib/python3.10/dist-packages/sklearn/linear_model/_stochastic_gradient.py:702: ConvergenceWarning: Maximum number of iteration reached before convergence. Consider increasing max_iter to improve the fit.\n",
            "  warnings.warn(\n",
            "/usr/local/lib/python3.10/dist-packages/sklearn/linear_model/_stochastic_gradient.py:702: ConvergenceWarning: Maximum number of iteration reached before convergence. Consider increasing max_iter to improve the fit.\n",
            "  warnings.warn(\n"
          ]
        },
        {
          "output_type": "stream",
          "name": "stdout",
          "text": [
            "Algoritmo  8  :  Perceptron con penalty='l2', alpha=0.01, eta0=0.001 ----------------\n",
            "Accuracy:  0.9065886463136719\n",
            "Sensitivity:  0.05806451612903226\n",
            "Specificity:  0.9599675566180931\n",
            "Puntuación:  0.5090160363735626\n",
            "\n"
          ]
        },
        {
          "output_type": "stream",
          "name": "stderr",
          "text": [
            "/usr/local/lib/python3.10/dist-packages/sklearn/linear_model/_stochastic_gradient.py:702: ConvergenceWarning: Maximum number of iteration reached before convergence. Consider increasing max_iter to improve the fit.\n",
            "  warnings.warn(\n",
            "/usr/local/lib/python3.10/dist-packages/sklearn/linear_model/_stochastic_gradient.py:702: ConvergenceWarning: Maximum number of iteration reached before convergence. Consider increasing max_iter to improve the fit.\n",
            "  warnings.warn(\n",
            "/usr/local/lib/python3.10/dist-packages/sklearn/linear_model/_stochastic_gradient.py:702: ConvergenceWarning: Maximum number of iteration reached before convergence. Consider increasing max_iter to improve the fit.\n",
            "  warnings.warn(\n",
            "/usr/local/lib/python3.10/dist-packages/sklearn/linear_model/_stochastic_gradient.py:702: ConvergenceWarning: Maximum number of iteration reached before convergence. Consider increasing max_iter to improve the fit.\n",
            "  warnings.warn(\n",
            "/usr/local/lib/python3.10/dist-packages/sklearn/linear_model/_stochastic_gradient.py:702: ConvergenceWarning: Maximum number of iteration reached before convergence. Consider increasing max_iter to improve the fit.\n",
            "  warnings.warn(\n"
          ]
        },
        {
          "output_type": "stream",
          "name": "stdout",
          "text": [
            "Algoritmo  9  :  Perceptron con penalty='l2', alpha=0.01, eta0=1 ----------------\n",
            "Accuracy:  0.92427352960708\n",
            "Sensitivity:  0.015053763440860216\n",
            "Specificity:  0.9814693027600663\n",
            "Puntuación:  0.4982615331004632\n",
            "\n"
          ]
        },
        {
          "output_type": "stream",
          "name": "stderr",
          "text": [
            "/usr/local/lib/python3.10/dist-packages/sklearn/linear_model/_stochastic_gradient.py:702: ConvergenceWarning: Maximum number of iteration reached before convergence. Consider increasing max_iter to improve the fit.\n",
            "  warnings.warn(\n",
            "/usr/local/lib/python3.10/dist-packages/sklearn/linear_model/_stochastic_gradient.py:702: ConvergenceWarning: Maximum number of iteration reached before convergence. Consider increasing max_iter to improve the fit.\n",
            "  warnings.warn(\n",
            "/usr/local/lib/python3.10/dist-packages/sklearn/linear_model/_stochastic_gradient.py:702: ConvergenceWarning: Maximum number of iteration reached before convergence. Consider increasing max_iter to improve the fit.\n",
            "  warnings.warn(\n",
            "/usr/local/lib/python3.10/dist-packages/sklearn/linear_model/_stochastic_gradient.py:702: ConvergenceWarning: Maximum number of iteration reached before convergence. Consider increasing max_iter to improve the fit.\n",
            "  warnings.warn(\n",
            "/usr/local/lib/python3.10/dist-packages/sklearn/linear_model/_stochastic_gradient.py:702: ConvergenceWarning: Maximum number of iteration reached before convergence. Consider increasing max_iter to improve the fit.\n",
            "  warnings.warn(\n"
          ]
        },
        {
          "output_type": "stream",
          "name": "stdout",
          "text": [
            "Algoritmo  10  :  Perceptron con penalty='l2', alpha=10, eta0=0.001 ----------------\n",
            "Accuracy:  0.92427352960708\n",
            "Sensitivity:  0.015053763440860216\n",
            "Specificity:  0.9814693027600663\n",
            "Puntuación:  0.4982615331004632\n",
            "\n"
          ]
        },
        {
          "output_type": "stream",
          "name": "stderr",
          "text": [
            "/usr/local/lib/python3.10/dist-packages/sklearn/linear_model/_stochastic_gradient.py:702: ConvergenceWarning: Maximum number of iteration reached before convergence. Consider increasing max_iter to improve the fit.\n",
            "  warnings.warn(\n",
            "/usr/local/lib/python3.10/dist-packages/sklearn/linear_model/_stochastic_gradient.py:702: ConvergenceWarning: Maximum number of iteration reached before convergence. Consider increasing max_iter to improve the fit.\n",
            "  warnings.warn(\n",
            "/usr/local/lib/python3.10/dist-packages/sklearn/linear_model/_stochastic_gradient.py:702: ConvergenceWarning: Maximum number of iteration reached before convergence. Consider increasing max_iter to improve the fit.\n",
            "  warnings.warn(\n",
            "/usr/local/lib/python3.10/dist-packages/sklearn/linear_model/_stochastic_gradient.py:702: ConvergenceWarning: Maximum number of iteration reached before convergence. Consider increasing max_iter to improve the fit.\n",
            "  warnings.warn(\n",
            "/usr/local/lib/python3.10/dist-packages/sklearn/linear_model/_stochastic_gradient.py:702: ConvergenceWarning: Maximum number of iteration reached before convergence. Consider increasing max_iter to improve the fit.\n",
            "  warnings.warn(\n"
          ]
        },
        {
          "output_type": "stream",
          "name": "stdout",
          "text": [
            "Algoritmo  11  :  Perceptron con penalty='l2', alpha=10, eta0=1 ----------------\n",
            "Accuracy:  0.9408171000140912\n",
            "Sensitivity:  0.0\n",
            "Specificity:  1.0\n",
            "Puntuación:  0.5\n",
            "\n",
            "Algoritmo  12  :  SGDClassifier con penalty='l1', alpha=0.01, eta0=0.001 ----------------\n",
            "Accuracy:  0.9408171000140912\n",
            "Sensitivity:  0.0\n",
            "Specificity:  1.0\n",
            "Puntuación:  0.5\n",
            "\n",
            "Algoritmo  13  :  SGDClassifier con penalty='l1', alpha=0.01, eta0=1 ----------------\n",
            "Accuracy:  0.9408171000140912\n",
            "Sensitivity:  0.0\n",
            "Specificity:  1.0\n",
            "Puntuación:  0.5\n",
            "\n",
            "Algoritmo  14  :  SGDClassifier con penalty='l1', alpha=0.01, learning_rate='optimal' ----------------\n",
            "Accuracy:  0.9408171000140912\n",
            "Sensitivity:  0.0\n",
            "Specificity:  1.0\n",
            "Puntuación:  0.5\n",
            "\n",
            "Algoritmo  15  :  SGDClassifier con penalty='l1', alpha=10, eta0=0.001 ----------------\n",
            "Accuracy:  0.9408171000140912\n",
            "Sensitivity:  0.0\n",
            "Specificity:  1.0\n",
            "Puntuación:  0.5\n",
            "\n",
            "Algoritmo  16  :  SGDClassifier con penalty='l1', alpha=10, eta0=1 ----------------\n",
            "Accuracy:  0.9408171000140912\n",
            "Sensitivity:  0.0\n",
            "Specificity:  1.0\n",
            "Puntuación:  0.5\n",
            "\n",
            "Algoritmo  17  :  SGDClassifier con penalty='l1', alpha=0.01, learning_rate='optimal' ----------------\n",
            "Accuracy:  0.9408171000140912\n",
            "Sensitivity:  0.0\n",
            "Specificity:  1.0\n",
            "Puntuación:  0.5\n",
            "\n",
            "Algoritmo  18  :  SGDClassifier con penalty='l2', alpha=0.01, eta0=0.001 ----------------\n",
            "Accuracy:  0.9408171000140912\n",
            "Sensitivity:  0.0\n",
            "Specificity:  1.0\n",
            "Puntuación:  0.5\n",
            "\n",
            "Algoritmo  19  :  SGDClassifier con penalty='l2', alpha=0.01, eta0=1 ----------------\n",
            "Accuracy:  0.8301891957117149\n",
            "Sensitivity:  0.15913978494623654\n",
            "Specificity:  0.8723979648319595\n",
            "Puntuación:  0.5157688748890981\n",
            "\n",
            "Algoritmo  20  :  SGDClassifier con penalty='l1', alpha=0.01, learning_rate='optimal' ----------------\n",
            "Accuracy:  0.9406897925666055\n",
            "Sensitivity:  0.0\n",
            "Specificity:  0.9998646820027064\n",
            "Puntuación:  0.4999323410013532\n",
            "\n",
            "Algoritmo  21  :  SGDClassifier con penalty='l2', alpha=10, eta0=0.001 ----------------\n",
            "Accuracy:  0.9408171000140912\n",
            "Sensitivity:  0.0\n",
            "Specificity:  1.0\n",
            "Puntuación:  0.5\n",
            "\n",
            "Algoritmo  22  :  SGDClassifier con penalty='l2', alpha=10, eta0=1 ----------------\n",
            "Accuracy:  0.9408171000140912\n",
            "Sensitivity:  0.0\n",
            "Specificity:  1.0\n",
            "Puntuación:  0.5\n",
            "\n",
            "Algoritmo  23  :  SGDClassifier con penalty='l1', alpha=0.01, learning_rate='optimal' ----------------\n",
            "Accuracy:  0.9408171000140912\n",
            "Sensitivity:  0.0\n",
            "Specificity:  1.0\n",
            "Puntuación:  0.5\n",
            "\n",
            "El algoritmo que mejores resultados nos ha dado es el  SGDClassifier con penalty='l2', alpha=0.01, eta0=1 , con una puntuación de  0.5157688748890981\n"
          ]
        }
      ]
    },
    {
      "cell_type": "markdown",
      "source": [
        "Es sorprendente que el algoritmo Perceptrón haya resultado ser el que ofrece los mejores resultados en este caso. Aunque el Perceptrón no es conocido por ser especialmente eficaz en la clasificación de conjuntos de datos no linealmente separables y no tiene un mecanismo implementado para minimizar la función de pérdida, puede ser precisamente esta falta de complejidad lo que ha contribuido a obtener mejores resultados en nuestro caso específico.\n",
        "\n",
        "Es importante recordar que el criterio de selección utilizado no es la precisión (Accuracy), sino una \"puntuación\" que también tiene en cuenta la especificidad (Specificity). Dado el desbalance de los datos, los algoritmos de regresión lineal tienden a darle menos importancia a la correcta clasificación de la clase minoritaria. Esto podría haberse intentado abordar mediante la asignación de pesos a las clases.\n",
        "\n",
        "En cualquier caso, aunque existe la posibilidad de mejorar lo suficiente un clasificador logístico como para superar al Perceptrón, los resultados empíricos actuales muestran que el Perceptrón ha brindado mejores resultados. Por lo tanto, continuaremos utilizando este algoritmo para el resto de la práctica. Sin embargo, sería interesante explorar las otras opciones en un futuro con más tiempo disponible, para determinar si se pueden obtener mejores resultados."
      ],
      "metadata": {
        "id": "wZy1oebOYMCU"
      }
    },
    {
      "cell_type": "markdown",
      "source": [
        "## Procesado tras GridSearch"
      ],
      "metadata": {
        "id": "WEzWSEOnYNeN"
      }
    },
    {
      "cell_type": "markdown",
      "source": [
        "### alpha"
      ],
      "metadata": {
        "id": "6c20mNt1gA1B"
      }
    },
    {
      "cell_type": "markdown",
      "source": [
        "Para 'alpha' ha resultado ser mejor un valor pequeño, y para 'eta0', también, por lo que vamos a explorar configuraciones cercanas para quedarnos con la opción que mejores resultados consiga.\n",
        "\n",
        "Después, probaremos a añadirle pesos a las clases y estudiar qué pesos pueden darnos mejores resultados."
      ],
      "metadata": {
        "id": "gYAVVB29oACC"
      }
    },
    {
      "cell_type": "code",
      "source": [
        "w = Perceptron(max_iter=max_iter3, early_stopping=True, n_jobs=-1, penalty='l2', alpha=0.01, eta0=0.001, n_iter_no_change=100).fit(aux_train_data, aux_train_labels)\n",
        "y_predicted = w.predict(aux_test_data)\n",
        "\n",
        "matriz_de_confusion = metrics.confusion_matrix(aux_test_labels, y_predicted)\n",
        "accuracy = metrics.accuracy_score(aux_test_labels, y_predicted)\n",
        "specificity = matriz_de_confusion[0,0]/matriz_de_confusion[0].sum()\n",
        "sensitivity = matriz_de_confusion[1,1]/matriz_de_confusion[1].sum()\n",
        "\n",
        "print(matriz_de_confusion)\n",
        "print('Accuracy: ', accuracy)\n",
        "print('Sensitivity: ', sensitivity)\n",
        "print('Specificity: ', specificity)\n",
        "print('Puntuación: ', puntuar(sensitivity, specificity))"
      ],
      "metadata": {
        "colab": {
          "base_uri": "https://localhost:8080/"
        },
        "id": "QesTVP93oEi7",
        "outputId": "f5eb30bf-651c-4202-dba4-1a93f4448a69"
      },
      "execution_count": 150,
      "outputs": [
        {
          "output_type": "stream",
          "name": "stdout",
          "text": [
            "[[649  82]\n",
            " [ 42  11]]\n",
            "Accuracy:  0.8418367346938775\n",
            "Sensitivity:  0.20754716981132076\n",
            "Specificity:  0.8878248974008208\n",
            "Puntuación:  0.5476860336060708\n"
          ]
        },
        {
          "output_type": "stream",
          "name": "stderr",
          "text": [
            "/usr/local/lib/python3.10/dist-packages/sklearn/linear_model/_stochastic_gradient.py:702: ConvergenceWarning: Maximum number of iteration reached before convergence. Consider increasing max_iter to improve the fit.\n",
            "  warnings.warn(\n"
          ]
        }
      ]
    },
    {
      "cell_type": "markdown",
      "source": [
        "Este es el valor de puntuación de referencia, con el alpha que nos ha proporcionado GridSearch."
      ],
      "metadata": {
        "id": "-iW8uCocYUSh"
      }
    },
    {
      "cell_type": "code",
      "source": [
        "w = Perceptron(max_iter=max_iter3, early_stopping=True, n_jobs=-1, penalty='l2', alpha=0.001, eta0=0.001, n_iter_no_change=100).fit(aux_train_data, aux_train_labels)\n",
        "y_predicted = w.predict(aux_test_data)\n",
        "\n",
        "matriz_de_confusion = metrics.confusion_matrix(aux_test_labels, y_predicted)\n",
        "accuracy = metrics.accuracy_score(aux_test_labels, y_predicted)\n",
        "specificity = matriz_de_confusion[0,0]/matriz_de_confusion[0].sum()\n",
        "sensitivity = matriz_de_confusion[1,1]/matriz_de_confusion[1].sum()\n",
        "\n",
        "print(matriz_de_confusion)\n",
        "print('Accuracy: ', accuracy)\n",
        "print('Sensitivity: ', sensitivity)\n",
        "print('Specificity: ', specificity)\n",
        "print('Puntuación: ', puntuar(sensitivity, specificity))"
      ],
      "metadata": {
        "colab": {
          "base_uri": "https://localhost:8080/"
        },
        "id": "UDJT8KaModf5",
        "outputId": "cff2e2d3-f3bd-4f60-9602-f4708f12c27b"
      },
      "execution_count": 151,
      "outputs": [
        {
          "output_type": "stream",
          "name": "stdout",
          "text": [
            "[[534 197]\n",
            " [ 34  19]]\n",
            "Accuracy:  0.7053571428571429\n",
            "Sensitivity:  0.3584905660377358\n",
            "Specificity:  0.7305061559507524\n",
            "Puntuación:  0.5444983609942441\n"
          ]
        },
        {
          "output_type": "stream",
          "name": "stderr",
          "text": [
            "/usr/local/lib/python3.10/dist-packages/sklearn/linear_model/_stochastic_gradient.py:702: ConvergenceWarning: Maximum number of iteration reached before convergence. Consider increasing max_iter to improve the fit.\n",
            "  warnings.warn(\n"
          ]
        }
      ]
    },
    {
      "cell_type": "code",
      "source": [
        "w = Perceptron(max_iter=max_iter3, early_stopping=True, n_jobs=-1, penalty='l2', alpha=0.1, eta0=0.001, n_iter_no_change=100).fit(aux_train_data, aux_train_labels)\n",
        "y_predicted = w.predict(aux_test_data)\n",
        "\n",
        "matriz_de_confusion = metrics.confusion_matrix(aux_test_labels, y_predicted)\n",
        "accuracy = metrics.accuracy_score(aux_test_labels, y_predicted)\n",
        "specificity = matriz_de_confusion[0,0]/matriz_de_confusion[0].sum()\n",
        "sensitivity = matriz_de_confusion[1,1]/matriz_de_confusion[1].sum()\n",
        "\n",
        "print(matriz_de_confusion)\n",
        "print('Accuracy: ', accuracy)\n",
        "print('Sensitivity: ', sensitivity)\n",
        "print('Specificity: ', specificity)\n",
        "print('Puntuación: ', puntuar(sensitivity, specificity))"
      ],
      "metadata": {
        "colab": {
          "base_uri": "https://localhost:8080/"
        },
        "id": "qNnXxKEno5kx",
        "outputId": "431e38f3-2edc-440d-f867-6eb6ae404436"
      },
      "execution_count": 152,
      "outputs": [
        {
          "output_type": "stream",
          "name": "stdout",
          "text": [
            "[[616 115]\n",
            " [ 41  12]]\n",
            "Accuracy:  0.8010204081632653\n",
            "Sensitivity:  0.22641509433962265\n",
            "Specificity:  0.8426812585499316\n",
            "Puntuación:  0.5345481764447771\n"
          ]
        },
        {
          "output_type": "stream",
          "name": "stderr",
          "text": [
            "/usr/local/lib/python3.10/dist-packages/sklearn/linear_model/_stochastic_gradient.py:702: ConvergenceWarning: Maximum number of iteration reached before convergence. Consider increasing max_iter to improve the fit.\n",
            "  warnings.warn(\n"
          ]
        }
      ]
    },
    {
      "cell_type": "code",
      "source": [
        "w = Perceptron(max_iter=max_iter3, early_stopping=True, n_jobs=-1, penalty='l2', alpha=0.0001, eta0=0.001, n_iter_no_change=100).fit(aux_train_data, aux_train_labels)\n",
        "y_predicted = w.predict(aux_test_data)\n",
        "\n",
        "matriz_de_confusion = metrics.confusion_matrix(aux_test_labels, y_predicted)\n",
        "accuracy = metrics.accuracy_score(aux_test_labels, y_predicted)\n",
        "specificity = matriz_de_confusion[0,0]/matriz_de_confusion[0].sum()\n",
        "sensitivity = matriz_de_confusion[1,1]/matriz_de_confusion[1].sum()\n",
        "\n",
        "print(matriz_de_confusion)\n",
        "print('Accuracy: ', accuracy)\n",
        "print('Sensitivity: ', sensitivity)\n",
        "print('Specificity: ', specificity)\n",
        "print('Puntuación: ', puntuar(sensitivity, specificity))"
      ],
      "metadata": {
        "colab": {
          "base_uri": "https://localhost:8080/"
        },
        "id": "DRBHyh67ooLd",
        "outputId": "96e0ca4d-7937-43da-8a6b-8f8f8f081b3a"
      },
      "execution_count": 153,
      "outputs": [
        {
          "output_type": "stream",
          "name": "stdout",
          "text": [
            "[[692  39]\n",
            " [ 47   6]]\n",
            "Accuracy:  0.8903061224489796\n",
            "Sensitivity:  0.11320754716981132\n",
            "Specificity:  0.9466484268125855\n",
            "Puntuación:  0.5299279869911985\n"
          ]
        },
        {
          "output_type": "stream",
          "name": "stderr",
          "text": [
            "/usr/local/lib/python3.10/dist-packages/sklearn/linear_model/_stochastic_gradient.py:702: ConvergenceWarning: Maximum number of iteration reached before convergence. Consider increasing max_iter to improve the fit.\n",
            "  warnings.warn(\n"
          ]
        }
      ]
    },
    {
      "cell_type": "code",
      "source": [
        "w = Perceptron(max_iter=max_iter3, early_stopping=True, n_jobs=-1, penalty='l2', alpha=0.00001, eta0=0.001,n_iter_no_change=100).fit(aux_train_data, aux_train_labels)\n",
        "y_predicted = w.predict(aux_test_data)\n",
        "\n",
        "matriz_de_confusion = metrics.confusion_matrix(aux_test_labels, y_predicted)\n",
        "accuracy = metrics.accuracy_score(aux_test_labels, y_predicted)\n",
        "specificity = matriz_de_confusion[0,0]/matriz_de_confusion[0].sum()\n",
        "sensitivity = matriz_de_confusion[1,1]/matriz_de_confusion[1].sum()\n",
        "\n",
        "print(matriz_de_confusion)\n",
        "print('Accuracy: ', accuracy)\n",
        "print('Sensitivity: ', sensitivity)\n",
        "print('Specificity: ', specificity)\n",
        "print('Puntuación: ', puntuar(sensitivity, specificity))"
      ],
      "metadata": {
        "colab": {
          "base_uri": "https://localhost:8080/"
        },
        "id": "qsIL4OZ2orvn",
        "outputId": "461b9e1b-9390-4497-d024-64a8e53c3151"
      },
      "execution_count": 154,
      "outputs": [
        {
          "output_type": "stream",
          "name": "stdout",
          "text": [
            "[[658  73]\n",
            " [ 44   9]]\n",
            "Accuracy:  0.8507653061224489\n",
            "Sensitivity:  0.16981132075471697\n",
            "Specificity:  0.9001367989056087\n",
            "Puntuación:  0.5349740598301629\n"
          ]
        },
        {
          "output_type": "stream",
          "name": "stderr",
          "text": [
            "/usr/local/lib/python3.10/dist-packages/sklearn/linear_model/_stochastic_gradient.py:702: ConvergenceWarning: Maximum number of iteration reached before convergence. Consider increasing max_iter to improve the fit.\n",
            "  warnings.warn(\n"
          ]
        }
      ]
    },
    {
      "cell_type": "markdown",
      "source": [
        "Como se puede observar, ni bajar ni subir el parámetro alpha ha conseguido mostrar mejores resultados de forma consistente en la puntuación, así que se deja alpha tal y como se ha obtenido a partir de Grid Search."
      ],
      "metadata": {
        "id": "AZpGUH29Y2-U"
      }
    },
    {
      "cell_type": "code",
      "source": [
        "alpha = 0.01"
      ],
      "metadata": {
        "id": "hjZ_pPx6ou_k"
      },
      "execution_count": 155,
      "outputs": []
    },
    {
      "cell_type": "markdown",
      "source": [
        "### eta0"
      ],
      "metadata": {
        "id": "NtLn1ZzkpFGg"
      }
    },
    {
      "cell_type": "code",
      "source": [
        "w = Perceptron(max_iter=max_iter3, early_stopping=True, n_jobs=-1, penalty='l2', alpha=alpha, eta0=0.001, n_iter_no_change=100).fit(aux_train_data, aux_train_labels)\n",
        "y_predicted = w.predict(aux_test_data)\n",
        "\n",
        "matriz_de_confusion = metrics.confusion_matrix(aux_test_labels, y_predicted)\n",
        "accuracy = metrics.accuracy_score(aux_test_labels, y_predicted)\n",
        "specificity = matriz_de_confusion[0,0]/matriz_de_confusion[0].sum()\n",
        "sensitivity = matriz_de_confusion[1,1]/matriz_de_confusion[1].sum()\n",
        "\n",
        "print(matriz_de_confusion)\n",
        "print('Accuracy: ', accuracy)\n",
        "print('Sensitivity: ', sensitivity)\n",
        "print('Specificity: ', specificity)\n",
        "print('Puntuación: ', puntuar(sensitivity, specificity))"
      ],
      "metadata": {
        "colab": {
          "base_uri": "https://localhost:8080/"
        },
        "id": "IHoVXbHjpHHI",
        "outputId": "21bfa44d-1e3d-46c6-a09f-d6ed15dce157"
      },
      "execution_count": 156,
      "outputs": [
        {
          "output_type": "stream",
          "name": "stdout",
          "text": [
            "[[649  82]\n",
            " [ 42  11]]\n",
            "Accuracy:  0.8418367346938775\n",
            "Sensitivity:  0.20754716981132076\n",
            "Specificity:  0.8878248974008208\n",
            "Puntuación:  0.5476860336060708\n"
          ]
        },
        {
          "output_type": "stream",
          "name": "stderr",
          "text": [
            "/usr/local/lib/python3.10/dist-packages/sklearn/linear_model/_stochastic_gradient.py:702: ConvergenceWarning: Maximum number of iteration reached before convergence. Consider increasing max_iter to improve the fit.\n",
            "  warnings.warn(\n"
          ]
        }
      ]
    },
    {
      "cell_type": "markdown",
      "source": [
        "Este es el valor que se toma como referencia."
      ],
      "metadata": {
        "id": "hbv74JLBZGHj"
      }
    },
    {
      "cell_type": "code",
      "source": [
        "w = Perceptron(max_iter=max_iter3, early_stopping=True, n_jobs=-1, penalty='l2', alpha=alpha, eta0=0.01, n_iter_no_change=100).fit(aux_train_data, aux_train_labels)\n",
        "y_predicted = w.predict(aux_test_data)\n",
        "\n",
        "matriz_de_confusion = metrics.confusion_matrix(aux_test_labels, y_predicted)\n",
        "accuracy = metrics.accuracy_score(aux_test_labels, y_predicted)\n",
        "specificity = matriz_de_confusion[0,0]/matriz_de_confusion[0].sum()\n",
        "sensitivity = matriz_de_confusion[1,1]/matriz_de_confusion[1].sum()\n",
        "\n",
        "print(matriz_de_confusion)\n",
        "print('Accuracy: ', accuracy)\n",
        "print('Sensitivity: ', sensitivity)\n",
        "print('Specificity: ', specificity)\n",
        "print('Puntuación: ', puntuar(sensitivity, specificity))"
      ],
      "metadata": {
        "colab": {
          "base_uri": "https://localhost:8080/"
        },
        "id": "HYaEolDDpaGl",
        "outputId": "7be9c494-e50f-4e4a-a1ba-cde48136dbdb"
      },
      "execution_count": 157,
      "outputs": [
        {
          "output_type": "stream",
          "name": "stdout",
          "text": [
            "[[616 115]\n",
            " [ 41  12]]\n",
            "Accuracy:  0.8010204081632653\n",
            "Sensitivity:  0.22641509433962265\n",
            "Specificity:  0.8426812585499316\n",
            "Puntuación:  0.5345481764447771\n"
          ]
        },
        {
          "output_type": "stream",
          "name": "stderr",
          "text": [
            "/usr/local/lib/python3.10/dist-packages/sklearn/linear_model/_stochastic_gradient.py:702: ConvergenceWarning: Maximum number of iteration reached before convergence. Consider increasing max_iter to improve the fit.\n",
            "  warnings.warn(\n"
          ]
        }
      ]
    },
    {
      "cell_type": "code",
      "source": [
        "w = Perceptron(max_iter=max_iter3, early_stopping=True, n_jobs=-1, penalty='l2', alpha=alpha, eta0=0.0001).fit(aux_train_data, aux_train_labels)\n",
        "y_predicted = w.predict(aux_test_data)\n",
        "\n",
        "matriz_de_confusion = metrics.confusion_matrix(aux_test_labels, y_predicted)\n",
        "accuracy = metrics.accuracy_score(aux_test_labels, y_predicted)\n",
        "specificity = matriz_de_confusion[0,0]/matriz_de_confusion[0].sum()\n",
        "sensitivity = matriz_de_confusion[1,1]/matriz_de_confusion[1].sum()\n",
        "\n",
        "print(matriz_de_confusion)\n",
        "print('Accuracy: ', accuracy)\n",
        "print('Sensitivity: ', sensitivity)\n",
        "print('Specificity: ', specificity)\n",
        "print('Puntuación: ', puntuar(sensitivity, specificity))"
      ],
      "metadata": {
        "colab": {
          "base_uri": "https://localhost:8080/"
        },
        "id": "at4zKUjNpd8L",
        "outputId": "f8e7f643-9f62-40aa-b0fe-e471140bec34"
      },
      "execution_count": 158,
      "outputs": [
        {
          "output_type": "stream",
          "name": "stdout",
          "text": [
            "[[687  44]\n",
            " [ 46   7]]\n",
            "Accuracy:  0.8852040816326531\n",
            "Sensitivity:  0.1320754716981132\n",
            "Specificity:  0.9398084815321477\n",
            "Puntuación:  0.5359419766151304\n"
          ]
        }
      ]
    },
    {
      "cell_type": "code",
      "source": [
        "w = Perceptron(max_iter=max_iter3, early_stopping=True, n_jobs=-1, penalty='l2', alpha=alpha, eta0=0.1).fit(aux_train_data, aux_train_labels)\n",
        "y_predicted = w.predict(aux_test_data)\n",
        "\n",
        "matriz_de_confusion = metrics.confusion_matrix(aux_test_labels, y_predicted)\n",
        "accuracy = metrics.accuracy_score(aux_test_labels, y_predicted)\n",
        "specificity = matriz_de_confusion[0,0]/matriz_de_confusion[0].sum()\n",
        "sensitivity = matriz_de_confusion[1,1]/matriz_de_confusion[1].sum()\n",
        "\n",
        "print(matriz_de_confusion)\n",
        "print('Accuracy: ', accuracy)\n",
        "print('Sensitivity: ', sensitivity)\n",
        "print('Specificity: ', specificity)\n",
        "print('Puntuación: ', puntuar(sensitivity, specificity))"
      ],
      "metadata": {
        "colab": {
          "base_uri": "https://localhost:8080/"
        },
        "id": "3P1kYSwypn2G",
        "outputId": "365a5b2d-257a-4a98-fb0f-4e97f9325087"
      },
      "execution_count": 159,
      "outputs": [
        {
          "output_type": "stream",
          "name": "stdout",
          "text": [
            "[[676  55]\n",
            " [ 46   7]]\n",
            "Accuracy:  0.8711734693877551\n",
            "Sensitivity:  0.1320754716981132\n",
            "Specificity:  0.9247606019151847\n",
            "Puntuación:  0.528418036806649\n"
          ]
        }
      ]
    },
    {
      "cell_type": "code",
      "source": [
        "w = Perceptron(max_iter=max_iter3, early_stopping=True, n_jobs=-1, penalty='l2', alpha=alpha, eta0=0.00001).fit(aux_train_data, aux_train_labels)\n",
        "y_predicted = w.predict(aux_test_data)\n",
        "\n",
        "matriz_de_confusion = metrics.confusion_matrix(aux_test_labels, y_predicted)\n",
        "accuracy = metrics.accuracy_score(aux_test_labels, y_predicted)\n",
        "specificity = matriz_de_confusion[0,0]/matriz_de_confusion[0].sum()\n",
        "sensitivity = matriz_de_confusion[1,1]/matriz_de_confusion[1].sum()\n",
        "\n",
        "print(matriz_de_confusion)\n",
        "print('Accuracy: ', accuracy)\n",
        "print('Sensitivity: ', sensitivity)\n",
        "print('Specificity: ', specificity)\n",
        "print('Puntuación: ', puntuar(sensitivity, specificity))"
      ],
      "metadata": {
        "colab": {
          "base_uri": "https://localhost:8080/"
        },
        "id": "DSSdO751pqqi",
        "outputId": "ef109e1b-dcff-4707-a657-c1af1b2848ab"
      },
      "execution_count": 160,
      "outputs": [
        {
          "output_type": "stream",
          "name": "stdout",
          "text": [
            "[[710  21]\n",
            " [ 51   2]]\n",
            "Accuracy:  0.9081632653061225\n",
            "Sensitivity:  0.03773584905660377\n",
            "Specificity:  0.9712722298221614\n",
            "Puntuación:  0.5045040394393826\n"
          ]
        }
      ]
    },
    {
      "cell_type": "markdown",
      "source": [
        "Como tampoco se ha logrado mejorar lo que ya había, se toma el que ha resultado tras Grid Search."
      ],
      "metadata": {
        "id": "zfr8zDJbZXMY"
      }
    },
    {
      "cell_type": "code",
      "source": [
        "eta0 = 0.001"
      ],
      "metadata": {
        "id": "XiTtX55Gpue1"
      },
      "execution_count": 161,
      "outputs": []
    },
    {
      "cell_type": "markdown",
      "source": [
        "### class_weigth"
      ],
      "metadata": {
        "id": "oyCS3t8vp2G9"
      }
    },
    {
      "cell_type": "code",
      "source": [
        "w = Perceptron(max_iter=max_iter3, early_stopping=True, n_jobs=-1, penalty='l2', alpha=alpha, eta0=eta0, class_weight=None, n_iter_no_change=100).fit(aux_train_data, aux_train_labels)\n",
        "y_predicted = w.predict(aux_test_data)\n",
        "\n",
        "matriz_de_confusion = metrics.confusion_matrix(aux_test_labels, y_predicted)\n",
        "accuracy = metrics.accuracy_score(aux_test_labels, y_predicted)\n",
        "specificity = matriz_de_confusion[0,0]/matriz_de_confusion[0].sum()\n",
        "sensitivity = matriz_de_confusion[1,1]/matriz_de_confusion[1].sum()\n",
        "\n",
        "print(matriz_de_confusion)\n",
        "print('Accuracy: ', accuracy)\n",
        "print('Sensitivity: ', sensitivity)\n",
        "print('Specificity: ', specificity)\n",
        "print('Puntuación: ', puntuar(sensitivity, specificity))"
      ],
      "metadata": {
        "colab": {
          "base_uri": "https://localhost:8080/"
        },
        "id": "u3QKHEjop3vS",
        "outputId": "b0f25183-6c7f-4c38-ad66-87b4e428f647"
      },
      "execution_count": 162,
      "outputs": [
        {
          "output_type": "stream",
          "name": "stdout",
          "text": [
            "[[649  82]\n",
            " [ 42  11]]\n",
            "Accuracy:  0.8418367346938775\n",
            "Sensitivity:  0.20754716981132076\n",
            "Specificity:  0.8878248974008208\n",
            "Puntuación:  0.5476860336060708\n"
          ]
        },
        {
          "output_type": "stream",
          "name": "stderr",
          "text": [
            "/usr/local/lib/python3.10/dist-packages/sklearn/linear_model/_stochastic_gradient.py:702: ConvergenceWarning: Maximum number of iteration reached before convergence. Consider increasing max_iter to improve the fit.\n",
            "  warnings.warn(\n"
          ]
        }
      ]
    },
    {
      "cell_type": "code",
      "source": [
        "w = Perceptron(max_iter=max_iter3, early_stopping=True, n_jobs=-1, penalty='l2', alpha=alpha, eta0=eta0, class_weight='balanced', n_iter_no_change=100).fit(aux_train_data, aux_train_labels)\n",
        "y_predicted = w.predict(aux_test_data)\n",
        "\n",
        "matriz_de_confusion = metrics.confusion_matrix(aux_test_labels, y_predicted)\n",
        "accuracy = metrics.accuracy_score(aux_test_labels, y_predicted)\n",
        "specificity = matriz_de_confusion[0,0]/matriz_de_confusion[0].sum()\n",
        "sensitivity = matriz_de_confusion[1,1]/matriz_de_confusion[1].sum()\n",
        "\n",
        "print(matriz_de_confusion)\n",
        "print('Accuracy: ', accuracy)\n",
        "print('Sensitivity: ', sensitivity)\n",
        "print('Specificity: ', specificity)\n",
        "print('Puntuación: ', puntuar(sensitivity, specificity))"
      ],
      "metadata": {
        "colab": {
          "base_uri": "https://localhost:8080/"
        },
        "id": "xmNN2U2tp3yq",
        "outputId": "d899a457-83ea-46f7-955b-f1403c366b3a"
      },
      "execution_count": 163,
      "outputs": [
        {
          "output_type": "stream",
          "name": "stdout",
          "text": [
            "[[588 143]\n",
            " [ 35  18]]\n",
            "Accuracy:  0.7729591836734694\n",
            "Sensitivity:  0.33962264150943394\n",
            "Specificity:  0.8043775649794802\n",
            "Puntuación:  0.572000103244457\n"
          ]
        },
        {
          "output_type": "stream",
          "name": "stderr",
          "text": [
            "/usr/local/lib/python3.10/dist-packages/sklearn/linear_model/_stochastic_gradient.py:702: ConvergenceWarning: Maximum number of iteration reached before convergence. Consider increasing max_iter to improve the fit.\n",
            "  warnings.warn(\n"
          ]
        }
      ]
    },
    {
      "cell_type": "code",
      "source": [
        "w = Perceptron(max_iter=max_iter3, early_stopping=True, n_jobs=-1, penalty='l2', alpha=alpha, eta0=eta0, class_weight={0:0.3, 1:0.7}, n_iter_no_change=100).fit(aux_train_data, aux_train_labels)\n",
        "y_predicted = w.predict(aux_test_data)\n",
        "\n",
        "matriz_de_confusion = metrics.confusion_matrix(aux_test_labels, y_predicted)\n",
        "accuracy = metrics.accuracy_score(aux_test_labels, y_predicted)\n",
        "specificity = matriz_de_confusion[0,0]/matriz_de_confusion[0].sum()\n",
        "sensitivity = matriz_de_confusion[1,1]/matriz_de_confusion[1].sum()\n",
        "\n",
        "print(matriz_de_confusion)\n",
        "print('Accuracy: ', accuracy)\n",
        "print('Sensitivity: ', sensitivity)\n",
        "print('Specificity: ', specificity)\n",
        "print('Puntuación: ', puntuar(sensitivity, specificity))"
      ],
      "metadata": {
        "colab": {
          "base_uri": "https://localhost:8080/"
        },
        "id": "6_Vp_xuwqNff",
        "outputId": "6cfe363b-417b-4ea6-bbea-439f1adaa593"
      },
      "execution_count": 164,
      "outputs": [
        {
          "output_type": "stream",
          "name": "stdout",
          "text": [
            "[[654  77]\n",
            " [ 40  13]]\n",
            "Accuracy:  0.8507653061224489\n",
            "Sensitivity:  0.24528301886792453\n",
            "Specificity:  0.8946648426812586\n",
            "Puntuación:  0.5699739307745916\n"
          ]
        },
        {
          "output_type": "stream",
          "name": "stderr",
          "text": [
            "/usr/local/lib/python3.10/dist-packages/sklearn/linear_model/_stochastic_gradient.py:702: ConvergenceWarning: Maximum number of iteration reached before convergence. Consider increasing max_iter to improve the fit.\n",
            "  warnings.warn(\n"
          ]
        }
      ]
    },
    {
      "cell_type": "code",
      "source": [
        "w = Perceptron(max_iter=max_iter3, early_stopping=True, n_jobs=-1, penalty='l2', alpha=alpha, eta0=eta0, class_weight={0:0.2, 1:0.8}, n_iter_no_change=100).fit(aux_train_data, aux_train_labels)\n",
        "y_predicted = w.predict(aux_test_data)\n",
        "\n",
        "matriz_de_confusion = metrics.confusion_matrix(aux_test_labels, y_predicted)\n",
        "accuracy = metrics.accuracy_score(aux_test_labels, y_predicted)\n",
        "specificity = matriz_de_confusion[0,0]/matriz_de_confusion[0].sum()\n",
        "sensitivity = matriz_de_confusion[1,1]/matriz_de_confusion[1].sum()\n",
        "\n",
        "print(matriz_de_confusion)\n",
        "print('Accuracy: ', accuracy)\n",
        "print('Sensitivity: ', sensitivity)\n",
        "print('Specificity: ', specificity)\n",
        "print('Puntuación: ', puntuar(sensitivity, specificity))"
      ],
      "metadata": {
        "colab": {
          "base_uri": "https://localhost:8080/"
        },
        "id": "dtvRyE7Fqc00",
        "outputId": "edb8834d-0312-40ba-9e8f-f5d08ff07824"
      },
      "execution_count": 165,
      "outputs": [
        {
          "output_type": "stream",
          "name": "stdout",
          "text": [
            "[[691  40]\n",
            " [ 48   5]]\n",
            "Accuracy:  0.8877551020408163\n",
            "Sensitivity:  0.09433962264150944\n",
            "Specificity:  0.945280437756498\n",
            "Puntuación:  0.5198100301990037\n"
          ]
        },
        {
          "output_type": "stream",
          "name": "stderr",
          "text": [
            "/usr/local/lib/python3.10/dist-packages/sklearn/linear_model/_stochastic_gradient.py:702: ConvergenceWarning: Maximum number of iteration reached before convergence. Consider increasing max_iter to improve the fit.\n",
            "  warnings.warn(\n"
          ]
        }
      ]
    },
    {
      "cell_type": "code",
      "source": [
        "w = Perceptron(max_iter=max_iter3, early_stopping=True, n_jobs=-1, penalty='l2', alpha=alpha, eta0=eta0, class_weight={0:0.05, 1:0.95},n_iter_no_change=100).fit(aux_train_data, aux_train_labels)\n",
        "y_predicted = w.predict(aux_test_data)\n",
        "\n",
        "matriz_de_confusion = metrics.confusion_matrix(aux_test_labels, y_predicted)\n",
        "accuracy = metrics.accuracy_score(aux_test_labels, y_predicted)\n",
        "specificity = matriz_de_confusion[0,0]/matriz_de_confusion[0].sum()\n",
        "sensitivity = matriz_de_confusion[1,1]/matriz_de_confusion[1].sum()\n",
        "\n",
        "print(matriz_de_confusion)\n",
        "print('Accuracy: ', accuracy)\n",
        "print('Sensitivity: ', sensitivity)\n",
        "print('Specificity: ', specificity)\n",
        "print('Puntuación: ', puntuar(sensitivity, specificity))"
      ],
      "metadata": {
        "colab": {
          "base_uri": "https://localhost:8080/"
        },
        "id": "k6Y7qOneqjFj",
        "outputId": "6f45c513-2ff0-4823-e37d-ef1bf4c9e6e3"
      },
      "execution_count": 166,
      "outputs": [
        {
          "output_type": "stream",
          "name": "stdout",
          "text": [
            "[[569 162]\n",
            " [ 35  18]]\n",
            "Accuracy:  0.7487244897959183\n",
            "Sensitivity:  0.33962264150943394\n",
            "Specificity:  0.7783857729138167\n",
            "Puntuación:  0.5590042072116254\n"
          ]
        },
        {
          "output_type": "stream",
          "name": "stderr",
          "text": [
            "/usr/local/lib/python3.10/dist-packages/sklearn/linear_model/_stochastic_gradient.py:702: ConvergenceWarning: Maximum number of iteration reached before convergence. Consider increasing max_iter to improve the fit.\n",
            "  warnings.warn(\n"
          ]
        }
      ]
    },
    {
      "cell_type": "markdown",
      "source": [
        "Con balance como class_weight, se ha logrado mejorar bastante la puntuación, así que se toma esta como referencia.\n",
        "\n",
        "*The “balanced” mode uses the values of y to automatically adjust weights inversely proportional to class frequencies in the input data as n_samples / (n_classes * np.bincount(y)).* Extraído de la documentación oficial de sklearn.\n"
      ],
      "metadata": {
        "id": "zuih9LWkrbfa"
      }
    },
    {
      "cell_type": "markdown",
      "source": [
        "## <font color='blue'>7)  Selección de la mejor hipótesis para el problema. Discuta el enfoque seguido y el criterio de selección usado. ¿Cúal es su error $E_{out}$? 1 punto."
      ],
      "metadata": {
        "id": "wUknqHBtg8DP"
      }
    },
    {
      "cell_type": "markdown",
      "source": [
        "Para seleccionar la mejor hipótesis entre todas las obtenidas, normalmente se tiende a utilizar la métrica de precisión (Accuracy). Sin embargo, en este caso, es importante considerar aspectos más profundos, como la especificidad (Specificity) y la sensibilidad (Sensitivity).\n",
        "\n",
        "Se ha utilizado una métrica llamada 'puntuación', que es la media aritmética entre la sensitividad y la especificidad. Utilizando esta puntuación, hemos seleccionado la mejor solución entre las hipótesis generadas.\n",
        "\n",
        "Finalmente, ha resultado el algoritmo que se ha comentado en Grid Search."
      ],
      "metadata": {
        "id": "e31eUApDbFQl"
      }
    },
    {
      "cell_type": "code",
      "source": [
        "g = Perceptron(max_iter=max_iter3, early_stopping=True, n_jobs=-1, penalty='l2', alpha=alpha, eta0=eta0, class_weight='balanced', n_iter_no_change=100)\n",
        "g = g.fit(X_train, y_train)\n",
        "# X_train_prueba = X_train.loc[:, (X_train != '0').any()]\n",
        "# X_train_prueba"
      ],
      "metadata": {
        "id": "qN7qVN3Eg9R_",
        "colab": {
          "base_uri": "https://localhost:8080/"
        },
        "outputId": "be221a61-517a-4631-a942-1a6a2a30e85a"
      },
      "execution_count": 167,
      "outputs": [
        {
          "output_type": "stream",
          "name": "stderr",
          "text": [
            "/usr/local/lib/python3.10/dist-packages/sklearn/linear_model/_stochastic_gradient.py:702: ConvergenceWarning: Maximum number of iteration reached before convergence. Consider increasing max_iter to improve the fit.\n",
            "  warnings.warn(\n"
          ]
        }
      ]
    },
    {
      "cell_type": "markdown",
      "source": [
        "Se hacen las transformaciones hechas a train a test, exactamente en el mismo orden y con los mismos resultados."
      ],
      "metadata": {
        "id": "VwsFUx4fsAeD"
      }
    },
    {
      "cell_type": "code",
      "source": [
        "X_test_final = X_test\n",
        "X_test_final.columns = X_test_final.columns.astype(str)\n",
        "\n",
        "columnas3 = [str(i) for i in range(64,85,1)]\n",
        "columnas1 = ['1']\n",
        "columnas2 = ['2']\n",
        "\n",
        "#Se normaliza tomando como máximo y mínimo los que se nos dan en la información del dataset\n",
        "X_test_final = aplicar_min_max_scaler(X_test_final, columnas1, 6, 1)\n",
        "X_test_final = aplicar_min_max_scaler(X_test_final, columnas2, 10, 1)\n",
        "X_test_final = aplicar_min_max_scaler(X_test_final, columnas3, 12, 1)\n",
        "\n",
        "numericos = X_test_final.iloc[:, [1, 2] + [i for i in range(64,85,1)]]\n",
        "\n",
        "numericos = pd.DataFrame(modelo_pca.transform(numericos))\n",
        "\n",
        "L0 = [i for i in range(1,42)]\n",
        "L2 = [i for i in range(1,11)]\n",
        "\n",
        "X_test_final = aplicar_one_hot_encoding(X_test_final, '0', L0)\n",
        "print(X_test_final.shape)\n",
        "\n",
        "X_test_final = aplicar_one_hot_encoding(X_test_final, '4', L2)\n",
        "print(X_test_final.shape)\n",
        "\n",
        "columnasL1 = ['3']\n",
        "columnasL3 = [str(i) for i in range(5,47,1)]\n",
        "columnasL4 = [str(i) for i in range(43,68,1)]\n",
        "\n",
        "X_test_final = aplicar_min_max_scaler(X_test_final, columnasL1, 6, 1)\n",
        "X_test_final = aplicar_min_max_scaler(X_test_final, columnasL3, 9, 0)\n",
        "X_test_final = aplicar_min_max_scaler(X_test_final, columnasL1, 9, 0)\n",
        "\n",
        "columnas_a_eliminar = ['1', '2']\n",
        "columnas_a_eliminar.extend([str(i) for i in range(64,85,1)])\n",
        "\n",
        "# Eliminar las columnas por su nombre\n",
        "X_test_final = X_test_final.drop(columns=columnas_a_eliminar)\n",
        "print(X_test_final.shape)\n",
        "\n",
        "X_test_final = X_test_final.to_numpy()\n",
        "numericos = numericos.to_numpy()\n",
        "X_test_final = pd.DataFrame(X_test_final)\n",
        "numericos = pd.DataFrame(numericos)\n",
        "\n",
        "X_test_final = pd.concat([X_test_final, numericos], axis=1)\n",
        "X_test_final = X_test_final.to_numpy()\n",
        "X_test_final = pd.DataFrame(X_test_final)\n",
        "\n",
        "X_test_final\n"
      ],
      "metadata": {
        "id": "1SLtJKneOgYW",
        "colab": {
          "base_uri": "https://localhost:8080/",
          "height": 540
        },
        "outputId": "6fa68f03-b6c7-426c-d82b-2f2934251c8e"
      },
      "execution_count": 168,
      "outputs": [
        {
          "output_type": "stream",
          "name": "stdout",
          "text": [
            "(1965, 125)\n",
            "(1965, 134)\n",
            "(1965, 111)\n"
          ]
        },
        {
          "output_type": "execute_result",
          "data": {
            "text/plain": [
              "           0         1         2         3         4         5         6    \\\n",
              "0     0.044444  0.111111  0.666667  0.222222  0.222222  0.777778  0.111111   \n",
              "1     0.022222  0.000000  0.555556  0.222222  0.222222  0.111111  0.444444   \n",
              "2     0.044444  0.111111  0.555556  0.111111  0.333333  0.555556  0.111111   \n",
              "3     0.066667  0.000000  0.444444  0.000000  0.555556  0.555556  0.000000   \n",
              "4     0.044444  0.000000  0.333333  0.000000  0.666667  0.333333  0.222222   \n",
              "...        ...       ...       ...       ...       ...       ...       ...   \n",
              "1960  0.022222  0.111111  0.444444  0.222222  0.333333  0.444444  0.111111   \n",
              "1961  0.044444  0.222222  0.333333  0.111111  0.555556  0.555556  0.222222   \n",
              "1962  0.022222  0.000000  0.666667  0.111111  0.222222  0.111111  0.222222   \n",
              "1963  0.066667  0.000000  0.555556  0.222222  0.333333  0.555556  0.111111   \n",
              "1964  0.044444  0.222222  0.444444  0.111111  0.333333  0.333333  0.222222   \n",
              "\n",
              "           7         8         9    ...  109  110       111       112  \\\n",
              "0     0.222222  0.000000  0.333333  ...  1.0  0.0  0.034968 -0.022240   \n",
              "1     0.555556  0.555556  0.444444  ...  0.0  0.0 -0.186471 -0.017338   \n",
              "2     0.444444  0.333333  0.333333  ...  0.0  0.0 -0.076024 -0.020861   \n",
              "3     0.444444  0.333333  0.222222  ...  0.0  0.0  0.034968 -0.022240   \n",
              "4     0.444444  0.333333  0.222222  ...  0.0  0.0 -0.077813 -0.020350   \n",
              "...        ...       ...       ...  ...  ...  ...       ...       ...   \n",
              "1960  0.444444  0.444444  0.444444  ...  0.0  0.0 -0.079743 -0.017439   \n",
              "1961  0.222222  0.222222  0.444444  ...  0.0  0.0 -0.076024 -0.020861   \n",
              "1962  0.666667  0.555556  0.333333  ...  0.0  0.0 -0.185933 -0.017690   \n",
              "1963  0.444444  0.333333  0.444444  ...  0.0  0.0 -0.073689 -0.019228   \n",
              "1964  0.555556  0.555556  0.333333  ...  0.0  0.0 -0.077813 -0.020350   \n",
              "\n",
              "           113       114       115       116       117       118  \n",
              "0    -0.077205 -0.020551  0.006991 -0.004363 -0.009689  0.012107  \n",
              "1     0.089887  0.017650  0.114716  0.124514  0.005495 -0.004096  \n",
              "2    -0.078915 -0.017168  0.006312 -0.001798 -0.008372  0.012804  \n",
              "3    -0.077205 -0.020551  0.006991 -0.004363 -0.009689  0.012107  \n",
              "4     0.073216  0.014183  0.004421 -0.020613  0.000502 -0.001355  \n",
              "...        ...       ...       ...       ...       ...       ...  \n",
              "1960  0.036605 -0.067907  0.013197 -0.022374  0.000563  0.007752  \n",
              "1961 -0.078915 -0.017168  0.006312 -0.001798 -0.008372  0.012804  \n",
              "1962  0.091023  0.019667  0.117906  0.125416  0.003607  0.002328  \n",
              "1963 -0.060533 -0.017084  0.117286  0.140765 -0.004696  0.009365  \n",
              "1964  0.073216  0.014183  0.004421 -0.020613  0.000502 -0.001355  \n",
              "\n",
              "[1965 rows x 119 columns]"
            ],
            "text/html": [
              "\n",
              "  <div id=\"df-32868ed7-68ad-4121-b27d-6a754cb60e6f\">\n",
              "    <div class=\"colab-df-container\">\n",
              "      <div>\n",
              "<style scoped>\n",
              "    .dataframe tbody tr th:only-of-type {\n",
              "        vertical-align: middle;\n",
              "    }\n",
              "\n",
              "    .dataframe tbody tr th {\n",
              "        vertical-align: top;\n",
              "    }\n",
              "\n",
              "    .dataframe thead th {\n",
              "        text-align: right;\n",
              "    }\n",
              "</style>\n",
              "<table border=\"1\" class=\"dataframe\">\n",
              "  <thead>\n",
              "    <tr style=\"text-align: right;\">\n",
              "      <th></th>\n",
              "      <th>0</th>\n",
              "      <th>1</th>\n",
              "      <th>2</th>\n",
              "      <th>3</th>\n",
              "      <th>4</th>\n",
              "      <th>5</th>\n",
              "      <th>6</th>\n",
              "      <th>7</th>\n",
              "      <th>8</th>\n",
              "      <th>9</th>\n",
              "      <th>...</th>\n",
              "      <th>109</th>\n",
              "      <th>110</th>\n",
              "      <th>111</th>\n",
              "      <th>112</th>\n",
              "      <th>113</th>\n",
              "      <th>114</th>\n",
              "      <th>115</th>\n",
              "      <th>116</th>\n",
              "      <th>117</th>\n",
              "      <th>118</th>\n",
              "    </tr>\n",
              "  </thead>\n",
              "  <tbody>\n",
              "    <tr>\n",
              "      <th>0</th>\n",
              "      <td>0.044444</td>\n",
              "      <td>0.111111</td>\n",
              "      <td>0.666667</td>\n",
              "      <td>0.222222</td>\n",
              "      <td>0.222222</td>\n",
              "      <td>0.777778</td>\n",
              "      <td>0.111111</td>\n",
              "      <td>0.222222</td>\n",
              "      <td>0.000000</td>\n",
              "      <td>0.333333</td>\n",
              "      <td>...</td>\n",
              "      <td>1.0</td>\n",
              "      <td>0.0</td>\n",
              "      <td>0.034968</td>\n",
              "      <td>-0.022240</td>\n",
              "      <td>-0.077205</td>\n",
              "      <td>-0.020551</td>\n",
              "      <td>0.006991</td>\n",
              "      <td>-0.004363</td>\n",
              "      <td>-0.009689</td>\n",
              "      <td>0.012107</td>\n",
              "    </tr>\n",
              "    <tr>\n",
              "      <th>1</th>\n",
              "      <td>0.022222</td>\n",
              "      <td>0.000000</td>\n",
              "      <td>0.555556</td>\n",
              "      <td>0.222222</td>\n",
              "      <td>0.222222</td>\n",
              "      <td>0.111111</td>\n",
              "      <td>0.444444</td>\n",
              "      <td>0.555556</td>\n",
              "      <td>0.555556</td>\n",
              "      <td>0.444444</td>\n",
              "      <td>...</td>\n",
              "      <td>0.0</td>\n",
              "      <td>0.0</td>\n",
              "      <td>-0.186471</td>\n",
              "      <td>-0.017338</td>\n",
              "      <td>0.089887</td>\n",
              "      <td>0.017650</td>\n",
              "      <td>0.114716</td>\n",
              "      <td>0.124514</td>\n",
              "      <td>0.005495</td>\n",
              "      <td>-0.004096</td>\n",
              "    </tr>\n",
              "    <tr>\n",
              "      <th>2</th>\n",
              "      <td>0.044444</td>\n",
              "      <td>0.111111</td>\n",
              "      <td>0.555556</td>\n",
              "      <td>0.111111</td>\n",
              "      <td>0.333333</td>\n",
              "      <td>0.555556</td>\n",
              "      <td>0.111111</td>\n",
              "      <td>0.444444</td>\n",
              "      <td>0.333333</td>\n",
              "      <td>0.333333</td>\n",
              "      <td>...</td>\n",
              "      <td>0.0</td>\n",
              "      <td>0.0</td>\n",
              "      <td>-0.076024</td>\n",
              "      <td>-0.020861</td>\n",
              "      <td>-0.078915</td>\n",
              "      <td>-0.017168</td>\n",
              "      <td>0.006312</td>\n",
              "      <td>-0.001798</td>\n",
              "      <td>-0.008372</td>\n",
              "      <td>0.012804</td>\n",
              "    </tr>\n",
              "    <tr>\n",
              "      <th>3</th>\n",
              "      <td>0.066667</td>\n",
              "      <td>0.000000</td>\n",
              "      <td>0.444444</td>\n",
              "      <td>0.000000</td>\n",
              "      <td>0.555556</td>\n",
              "      <td>0.555556</td>\n",
              "      <td>0.000000</td>\n",
              "      <td>0.444444</td>\n",
              "      <td>0.333333</td>\n",
              "      <td>0.222222</td>\n",
              "      <td>...</td>\n",
              "      <td>0.0</td>\n",
              "      <td>0.0</td>\n",
              "      <td>0.034968</td>\n",
              "      <td>-0.022240</td>\n",
              "      <td>-0.077205</td>\n",
              "      <td>-0.020551</td>\n",
              "      <td>0.006991</td>\n",
              "      <td>-0.004363</td>\n",
              "      <td>-0.009689</td>\n",
              "      <td>0.012107</td>\n",
              "    </tr>\n",
              "    <tr>\n",
              "      <th>4</th>\n",
              "      <td>0.044444</td>\n",
              "      <td>0.000000</td>\n",
              "      <td>0.333333</td>\n",
              "      <td>0.000000</td>\n",
              "      <td>0.666667</td>\n",
              "      <td>0.333333</td>\n",
              "      <td>0.222222</td>\n",
              "      <td>0.444444</td>\n",
              "      <td>0.333333</td>\n",
              "      <td>0.222222</td>\n",
              "      <td>...</td>\n",
              "      <td>0.0</td>\n",
              "      <td>0.0</td>\n",
              "      <td>-0.077813</td>\n",
              "      <td>-0.020350</td>\n",
              "      <td>0.073216</td>\n",
              "      <td>0.014183</td>\n",
              "      <td>0.004421</td>\n",
              "      <td>-0.020613</td>\n",
              "      <td>0.000502</td>\n",
              "      <td>-0.001355</td>\n",
              "    </tr>\n",
              "    <tr>\n",
              "      <th>...</th>\n",
              "      <td>...</td>\n",
              "      <td>...</td>\n",
              "      <td>...</td>\n",
              "      <td>...</td>\n",
              "      <td>...</td>\n",
              "      <td>...</td>\n",
              "      <td>...</td>\n",
              "      <td>...</td>\n",
              "      <td>...</td>\n",
              "      <td>...</td>\n",
              "      <td>...</td>\n",
              "      <td>...</td>\n",
              "      <td>...</td>\n",
              "      <td>...</td>\n",
              "      <td>...</td>\n",
              "      <td>...</td>\n",
              "      <td>...</td>\n",
              "      <td>...</td>\n",
              "      <td>...</td>\n",
              "      <td>...</td>\n",
              "      <td>...</td>\n",
              "    </tr>\n",
              "    <tr>\n",
              "      <th>1960</th>\n",
              "      <td>0.022222</td>\n",
              "      <td>0.111111</td>\n",
              "      <td>0.444444</td>\n",
              "      <td>0.222222</td>\n",
              "      <td>0.333333</td>\n",
              "      <td>0.444444</td>\n",
              "      <td>0.111111</td>\n",
              "      <td>0.444444</td>\n",
              "      <td>0.444444</td>\n",
              "      <td>0.444444</td>\n",
              "      <td>...</td>\n",
              "      <td>0.0</td>\n",
              "      <td>0.0</td>\n",
              "      <td>-0.079743</td>\n",
              "      <td>-0.017439</td>\n",
              "      <td>0.036605</td>\n",
              "      <td>-0.067907</td>\n",
              "      <td>0.013197</td>\n",
              "      <td>-0.022374</td>\n",
              "      <td>0.000563</td>\n",
              "      <td>0.007752</td>\n",
              "    </tr>\n",
              "    <tr>\n",
              "      <th>1961</th>\n",
              "      <td>0.044444</td>\n",
              "      <td>0.222222</td>\n",
              "      <td>0.333333</td>\n",
              "      <td>0.111111</td>\n",
              "      <td>0.555556</td>\n",
              "      <td>0.555556</td>\n",
              "      <td>0.222222</td>\n",
              "      <td>0.222222</td>\n",
              "      <td>0.222222</td>\n",
              "      <td>0.444444</td>\n",
              "      <td>...</td>\n",
              "      <td>0.0</td>\n",
              "      <td>0.0</td>\n",
              "      <td>-0.076024</td>\n",
              "      <td>-0.020861</td>\n",
              "      <td>-0.078915</td>\n",
              "      <td>-0.017168</td>\n",
              "      <td>0.006312</td>\n",
              "      <td>-0.001798</td>\n",
              "      <td>-0.008372</td>\n",
              "      <td>0.012804</td>\n",
              "    </tr>\n",
              "    <tr>\n",
              "      <th>1962</th>\n",
              "      <td>0.022222</td>\n",
              "      <td>0.000000</td>\n",
              "      <td>0.666667</td>\n",
              "      <td>0.111111</td>\n",
              "      <td>0.222222</td>\n",
              "      <td>0.111111</td>\n",
              "      <td>0.222222</td>\n",
              "      <td>0.666667</td>\n",
              "      <td>0.555556</td>\n",
              "      <td>0.333333</td>\n",
              "      <td>...</td>\n",
              "      <td>0.0</td>\n",
              "      <td>0.0</td>\n",
              "      <td>-0.185933</td>\n",
              "      <td>-0.017690</td>\n",
              "      <td>0.091023</td>\n",
              "      <td>0.019667</td>\n",
              "      <td>0.117906</td>\n",
              "      <td>0.125416</td>\n",
              "      <td>0.003607</td>\n",
              "      <td>0.002328</td>\n",
              "    </tr>\n",
              "    <tr>\n",
              "      <th>1963</th>\n",
              "      <td>0.066667</td>\n",
              "      <td>0.000000</td>\n",
              "      <td>0.555556</td>\n",
              "      <td>0.222222</td>\n",
              "      <td>0.333333</td>\n",
              "      <td>0.555556</td>\n",
              "      <td>0.111111</td>\n",
              "      <td>0.444444</td>\n",
              "      <td>0.333333</td>\n",
              "      <td>0.444444</td>\n",
              "      <td>...</td>\n",
              "      <td>0.0</td>\n",
              "      <td>0.0</td>\n",
              "      <td>-0.073689</td>\n",
              "      <td>-0.019228</td>\n",
              "      <td>-0.060533</td>\n",
              "      <td>-0.017084</td>\n",
              "      <td>0.117286</td>\n",
              "      <td>0.140765</td>\n",
              "      <td>-0.004696</td>\n",
              "      <td>0.009365</td>\n",
              "    </tr>\n",
              "    <tr>\n",
              "      <th>1964</th>\n",
              "      <td>0.044444</td>\n",
              "      <td>0.222222</td>\n",
              "      <td>0.444444</td>\n",
              "      <td>0.111111</td>\n",
              "      <td>0.333333</td>\n",
              "      <td>0.333333</td>\n",
              "      <td>0.222222</td>\n",
              "      <td>0.555556</td>\n",
              "      <td>0.555556</td>\n",
              "      <td>0.333333</td>\n",
              "      <td>...</td>\n",
              "      <td>0.0</td>\n",
              "      <td>0.0</td>\n",
              "      <td>-0.077813</td>\n",
              "      <td>-0.020350</td>\n",
              "      <td>0.073216</td>\n",
              "      <td>0.014183</td>\n",
              "      <td>0.004421</td>\n",
              "      <td>-0.020613</td>\n",
              "      <td>0.000502</td>\n",
              "      <td>-0.001355</td>\n",
              "    </tr>\n",
              "  </tbody>\n",
              "</table>\n",
              "<p>1965 rows × 119 columns</p>\n",
              "</div>\n",
              "      <button class=\"colab-df-convert\" onclick=\"convertToInteractive('df-32868ed7-68ad-4121-b27d-6a754cb60e6f')\"\n",
              "              title=\"Convert this dataframe to an interactive table.\"\n",
              "              style=\"display:none;\">\n",
              "        \n",
              "  <svg xmlns=\"http://www.w3.org/2000/svg\" height=\"24px\"viewBox=\"0 0 24 24\"\n",
              "       width=\"24px\">\n",
              "    <path d=\"M0 0h24v24H0V0z\" fill=\"none\"/>\n",
              "    <path d=\"M18.56 5.44l.94 2.06.94-2.06 2.06-.94-2.06-.94-.94-2.06-.94 2.06-2.06.94zm-11 1L8.5 8.5l.94-2.06 2.06-.94-2.06-.94L8.5 2.5l-.94 2.06-2.06.94zm10 10l.94 2.06.94-2.06 2.06-.94-2.06-.94-.94-2.06-.94 2.06-2.06.94z\"/><path d=\"M17.41 7.96l-1.37-1.37c-.4-.4-.92-.59-1.43-.59-.52 0-1.04.2-1.43.59L10.3 9.45l-7.72 7.72c-.78.78-.78 2.05 0 2.83L4 21.41c.39.39.9.59 1.41.59.51 0 1.02-.2 1.41-.59l7.78-7.78 2.81-2.81c.8-.78.8-2.07 0-2.86zM5.41 20L4 18.59l7.72-7.72 1.47 1.35L5.41 20z\"/>\n",
              "  </svg>\n",
              "      </button>\n",
              "      \n",
              "  <style>\n",
              "    .colab-df-container {\n",
              "      display:flex;\n",
              "      flex-wrap:wrap;\n",
              "      gap: 12px;\n",
              "    }\n",
              "\n",
              "    .colab-df-convert {\n",
              "      background-color: #E8F0FE;\n",
              "      border: none;\n",
              "      border-radius: 50%;\n",
              "      cursor: pointer;\n",
              "      display: none;\n",
              "      fill: #1967D2;\n",
              "      height: 32px;\n",
              "      padding: 0 0 0 0;\n",
              "      width: 32px;\n",
              "    }\n",
              "\n",
              "    .colab-df-convert:hover {\n",
              "      background-color: #E2EBFA;\n",
              "      box-shadow: 0px 1px 2px rgba(60, 64, 67, 0.3), 0px 1px 3px 1px rgba(60, 64, 67, 0.15);\n",
              "      fill: #174EA6;\n",
              "    }\n",
              "\n",
              "    [theme=dark] .colab-df-convert {\n",
              "      background-color: #3B4455;\n",
              "      fill: #D2E3FC;\n",
              "    }\n",
              "\n",
              "    [theme=dark] .colab-df-convert:hover {\n",
              "      background-color: #434B5C;\n",
              "      box-shadow: 0px 1px 3px 1px rgba(0, 0, 0, 0.15);\n",
              "      filter: drop-shadow(0px 1px 2px rgba(0, 0, 0, 0.3));\n",
              "      fill: #FFFFFF;\n",
              "    }\n",
              "  </style>\n",
              "\n",
              "      <script>\n",
              "        const buttonEl =\n",
              "          document.querySelector('#df-32868ed7-68ad-4121-b27d-6a754cb60e6f button.colab-df-convert');\n",
              "        buttonEl.style.display =\n",
              "          google.colab.kernel.accessAllowed ? 'block' : 'none';\n",
              "\n",
              "        async function convertToInteractive(key) {\n",
              "          const element = document.querySelector('#df-32868ed7-68ad-4121-b27d-6a754cb60e6f');\n",
              "          const dataTable =\n",
              "            await google.colab.kernel.invokeFunction('convertToInteractive',\n",
              "                                                     [key], {});\n",
              "          if (!dataTable) return;\n",
              "\n",
              "          const docLinkHtml = 'Like what you see? Visit the ' +\n",
              "            '<a target=\"_blank\" href=https://colab.research.google.com/notebooks/data_table.ipynb>data table notebook</a>'\n",
              "            + ' to learn more about interactive tables.';\n",
              "          element.innerHTML = '';\n",
              "          dataTable['output_type'] = 'display_data';\n",
              "          await google.colab.output.renderOutput(dataTable, element);\n",
              "          const docLink = document.createElement('div');\n",
              "          docLink.innerHTML = docLinkHtml;\n",
              "          element.appendChild(docLink);\n",
              "        }\n",
              "      </script>\n",
              "    </div>\n",
              "  </div>\n",
              "  "
            ]
          },
          "metadata": {},
          "execution_count": 168
        }
      ]
    },
    {
      "cell_type": "code",
      "source": [
        "labels_predicted = g.predict(X_test_final)\n",
        "\n",
        "matriz_de_confusion = metrics.confusion_matrix(y_test, labels_predicted)\n",
        "accuracy = metrics.accuracy_score(y_test, labels_predicted)\n",
        "specificity = matriz_de_confusion[0,0]/matriz_de_confusion[0].sum()\n",
        "sensitivity = matriz_de_confusion[1,1]/matriz_de_confusion[1].sum()\n",
        "\n",
        "print(\"-------------Resultados obtenidos:----------------\")\n",
        "print('Matriz de confusión : (Filas: 0/1 reales. Columnas: 0/1 predecidos)')\n",
        "print(matriz_de_confusion)\n",
        "print()\n",
        "print('Accuracy: ', accuracy*100, '%')\n",
        "print('Sensitivity: ', sensitivity*100, '%')\n",
        "print('Specificity: ', specificity*100, '%')\n",
        "print('Puntuación: ', puntuar(sensitivity, specificity)*100, '%')"
      ],
      "metadata": {
        "colab": {
          "base_uri": "https://localhost:8080/"
        },
        "id": "sY92hQDZwTeQ",
        "outputId": "1adc503e-7a2f-4c02-a563-8e7952421373"
      },
      "execution_count": 169,
      "outputs": [
        {
          "output_type": "stream",
          "name": "stdout",
          "text": [
            "-------------Resultados obtenidos:----------------\n",
            "Matriz de confusión : (Filas: 0/1 reales. Columnas: 0/1 predecidos)\n",
            "[[1350  494]\n",
            " [  66   55]]\n",
            "\n",
            "Accuracy:  71.50127226463104 %\n",
            "Sensitivity:  45.45454545454545 %\n",
            "Specificity:  73.21041214750542 %\n",
            "Puntuación:  59.33247880102543 %\n"
          ]
        }
      ]
    },
    {
      "cell_type": "markdown",
      "source": [
        "Para evaluar la calidad de nuestros resultados, es importante compararlos con baselines. Estos baselines son estimadores que utilizan heurísticas simples para determinar cómo podríamos clasificar los datos sin entrenar un modelo complejo. Dado que solo necesitamos una referencia básica, optaremos por estimadores ingenuos que utilizan enfoques muy sencillos.\n",
        "\n",
        "En este caso, utilizaremos dos estimadores ingenuos. Uno de ellos siempre predice la clase negativa ('0'), mientras que el otro siempre predice la clase positiva ('1'). Luego compararemos las métricas de precisión (Accuracy) y puntuación (Puntuación) de estos estimadores con nuestros resultados.\n",
        "\n",
        "Este enfoque nos dará una idea de cómo se desempeñan nuestros modelos en comparación con las predicciones basadas en heurísticas básicas."
      ],
      "metadata": {
        "id": "OmPU_NGbcr5v"
      }
    },
    {
      "cell_type": "code",
      "source": [
        "print(\"-------------Resultados obtenidos por nuestro clasificador:----------------\")\n",
        "print('Matriz de confusión : (Filas: 0/1 reales. Columnas: 0/1 predecidos)')\n",
        "print(matriz_de_confusion)\n",
        "print()\n",
        "print('Accuracy: ', accuracy*100, '%')\n",
        "print('Sensitivity: ', sensitivity*100, '%')\n",
        "print('Specificity: ', specificity*100, '%')\n",
        "print('Puntuación: ', puntuar(sensitivity, specificity)*100, '%')\n",
        "\n",
        "labels_predicted = np.full(X_test_final.shape[0],1)\n",
        "\n",
        "matriz_de_confusion = metrics.confusion_matrix(y_test, labels_predicted)\n",
        "accuracy = metrics.accuracy_score(y_test, labels_predicted)\n",
        "specificity = matriz_de_confusion[0,0]/matriz_de_confusion[0].sum()\n",
        "sensitivity = matriz_de_confusion[1,1]/matriz_de_confusion[1].sum()\n",
        "\n",
        "print(\"-------------Resultados obtenidos por el clasificador 'todo si':----------------\")\n",
        "print('Matriz de confusión : (Filas: 0/1 reales. Columnas: 0/1 predecidos)')\n",
        "print(matriz_de_confusion)\n",
        "print()\n",
        "print('Accuracy: ', accuracy*100, '%')\n",
        "print('Sensitivity: ', sensitivity*100, '%')\n",
        "print('Specificity: ', specificity*100, '%')\n",
        "print('Puntuación: ', puntuar(sensitivity, specificity)*100, '%')\n",
        "\n",
        "\n",
        "labels_predicted = np.full(X_test_final.shape[0],0)\n",
        "\n",
        "matriz_de_confusion = metrics.confusion_matrix(y_test, labels_predicted)\n",
        "accuracy = metrics.accuracy_score(y_test, labels_predicted)\n",
        "specificity = matriz_de_confusion[0,0]/matriz_de_confusion[0].sum()\n",
        "sensitivity = matriz_de_confusion[1,1]/matriz_de_confusion[1].sum()\n",
        "\n",
        "print(\"-------------Resultados obtenidos por el clasificador 'todo no':----------------\")\n",
        "print('Matriz de confusión : (Filas: 0/1 reales. Columnas: 0/1 predecidos)')\n",
        "print(matriz_de_confusion)\n",
        "print()\n",
        "print('Accuracy: ', accuracy*100, '%')\n",
        "print('Sensitivity: ', sensitivity*100, '%')\n",
        "print('Specificity: ', specificity*100, '%')\n",
        "print('Puntuación: ', puntuar(sensitivity, specificity)*100, '%')"
      ],
      "metadata": {
        "colab": {
          "base_uri": "https://localhost:8080/"
        },
        "id": "Jl8GyhcFczIb",
        "outputId": "0594c2f0-cccc-4188-8754-31e0930f21b1"
      },
      "execution_count": 170,
      "outputs": [
        {
          "output_type": "stream",
          "name": "stdout",
          "text": [
            "-------------Resultados obtenidos por nuestro clasificador:----------------\n",
            "Matriz de confusión : (Filas: 0/1 reales. Columnas: 0/1 predecidos)\n",
            "[[1350  494]\n",
            " [  66   55]]\n",
            "\n",
            "Accuracy:  71.50127226463104 %\n",
            "Sensitivity:  45.45454545454545 %\n",
            "Specificity:  73.21041214750542 %\n",
            "Puntuación:  59.33247880102543 %\n",
            "-------------Resultados obtenidos por el clasificador 'todo si':----------------\n",
            "Matriz de confusión : (Filas: 0/1 reales. Columnas: 0/1 predecidos)\n",
            "[[   0 1844]\n",
            " [   0  121]]\n",
            "\n",
            "Accuracy:  6.1577608142493645 %\n",
            "Sensitivity:  100.0 %\n",
            "Specificity:  0.0 %\n",
            "Puntuación:  50.0 %\n",
            "-------------Resultados obtenidos por el clasificador 'todo no':----------------\n",
            "Matriz de confusión : (Filas: 0/1 reales. Columnas: 0/1 predecidos)\n",
            "[[1844    0]\n",
            " [ 121    0]]\n",
            "\n",
            "Accuracy:  93.84223918575063 %\n",
            "Sensitivity:  0.0 %\n",
            "Specificity:  100.0 %\n",
            "Puntuación:  50.0 %\n"
          ]
        }
      ]
    },
    {
      "cell_type": "markdown",
      "source": [
        "Como era de esperar, todo 0 y todo 1 han obtenido respectivamente accuracys mejores y peores que la de nuestro clasificador, fruto de el desbalanceo de los datos. No obstante, lo que es claro, es que nuestro clasificador ha logrado mejor puntuación, es decir, ha logrado aumentar el promedio entre casos negativos acertados y casos positivos.\n",
        "\n",
        "Finalmente, Eout = 100 - 74.87% = 25.13%, lo cual sería el porcentaje de puntos mal clasificados. Algunos baselines consiguen menos, pero los resultados de nuestro modelo están mucho menos sesgados y puede predecir ciertas clases positivas (sensitivity).\n",
        "\n",
        "PD.: hay que tener en cuenta que este valor puede variar de unas ejecuciones a otras."
      ],
      "metadata": {
        "id": "7b-qKVASdicT"
      }
    },
    {
      "cell_type": "markdown",
      "source": [
        "## <font color='blue'>8)  Construya las curvas de aprendizaje del modelo, y discuta la calidad del ajuste obtenido a la vista de la conducta de dichas curvas. 0.5 puntos. "
      ],
      "metadata": {
        "id": "3R044TTvg9Zf"
      }
    },
    {
      "cell_type": "markdown",
      "source": [
        "La curva se hará en base al accuracy, lo más correcto teóricamente."
      ],
      "metadata": {
        "id": "nnh1hUcgd4OX"
      }
    },
    {
      "cell_type": "code",
      "source": [
        "train_data = X_train.to_numpy()\n",
        "train_labels = y_train.to_numpy().flatten()\n",
        "indices = np.arange(train_data.shape[0])\n",
        "index_yes = np.array([indice for indice in indices if train_labels[indice] == 1])\n",
        "index_no = np.array([indice for indice in indices if train_labels[indice] == 0])\n",
        "np.random.shuffle(index_yes)\n",
        "np.random.shuffle(index_no)\n",
        "\n",
        "index_yes_train = index_yes[int(len(index_yes)*0.1):]\n",
        "index_yes_test = index_yes[:int(len(index_yes)*0.1)]\n",
        "index_no_train = index_no[int(len(index_no)*0.1):]\n",
        "index_no_test = index_no[:int(len(index_no)*0.1)]\n",
        "\n",
        "index_train = np.append( index_yes_train, index_no_train )\n",
        "index_test = np.append( index_yes_test, index_no_test )\n",
        "\n",
        "porcion_yes_train = index_yes_train.shape[0] / index_train.shape[0]\n",
        "porcion_no_train = index_no_train.shape[0] / index_train.shape[0]\n",
        "\n",
        "curva_validacion_data = train_data[index_test]\n",
        "curva_validacion_labels = train_labels[index_test]\n",
        "curva_data = train_data[index_train]\n",
        "curva_labels = train_labels[index_train]\n",
        "\n",
        "indices = np.arange(curva_data.shape[0])\n",
        "index_yes = np.array([indice for indice in indices if curva_labels[indice] == 1])\n",
        "index_no = np.array([indice for indice in indices if curva_labels[indice] == 0])\n",
        "\n",
        "eins = []\n",
        "eouts = []\n",
        "x = np.linspace(100, curva_data.shape[0],100)\n",
        "\n",
        "for num_datos in x:\n",
        "  num_it = int(curva_data.shape[0] / num_datos)\n",
        "  ein = 0\n",
        "  eout = 0\n",
        "  for i in range(num_it):\n",
        "    np.random.shuffle(index_yes)\n",
        "    np.random.shuffle(index_no)\n",
        "    index_yes_train = index_yes[:int(num_datos*porcion_yes_train)]\n",
        "    index_no_train = index_no[:int(num_datos*porcion_no_train)]\n",
        "\n",
        "    index_train = np.append( index_yes_train, index_no_train )\n",
        "    train_x = curva_data[index_train]\n",
        "    train_y = curva_labels[index_train]\n",
        "\n",
        "    w = Perceptron(max_iter=max_iter3, early_stopping=True, n_jobs=-1, penalty='l2', alpha=alpha, eta0=eta0, class_weight=None).fit(train_x,train_y)\n",
        "    ein += metrics.accuracy_score(train_y, w.predict(train_x))\n",
        "    eout += metrics.accuracy_score(curva_validacion_labels, w.predict(curva_validacion_data))\n",
        "\n",
        "  eins.append(ein/num_it)\n",
        "  eouts.append(eout/num_it)\n",
        "\n",
        "fig, ax = plt.subplots()\n",
        "\n",
        "ax.plot(x, eins, 'b-', label='Ein')\n",
        "ax.plot(x, eouts, 'r-', label='Eout')\n",
        "ax.set_title('Curvas de Aprendizaje')\n",
        "ax.set_xlabel('Número de datos')\n",
        "ax.set_ylabel('Error (Accuracy)');\n",
        "\n",
        "fig.legend()\n",
        "fig.show()"
      ],
      "metadata": {
        "id": "tch9k4mFg_KH",
        "colab": {
          "base_uri": "https://localhost:8080/",
          "height": 500
        },
        "outputId": "1159427f-926b-4560-83ec-7f258bfb98d1"
      },
      "execution_count": 171,
      "outputs": [
        {
          "output_type": "display_data",
          "data": {
            "text/plain": [
              "<Figure size 640x480 with 1 Axes>"
            ],
            "image/png": "[encoded data removed]"
          },
          "metadata": {}
        }
      ]
    },
    {
      "cell_type": "markdown",
      "source": [
        "Las curvas de aprendizaje que estamos observando parecen indicar la presencia de inconsistencia y aleatoriedad en el algoritmo del perceptrón. Es evidente que este algoritmo no garantiza un aumento en la calidad de los resultados a medida que se incrementa el número de datos. De hecho, como podemos ver en la gráfica, es posible afirmar que la calidad de nuestros resultados está influenciada en cierta medida por la aleatoriedad.\n",
        "\n",
        "Es importante destacar que el perceptrón es un algoritmo simple y lineal que no tiene en cuenta la complejidad de los datos o la presencia de relaciones no lineales. Por lo tanto, su rendimiento puede ser limitado en situaciones donde la naturaleza de los datos es más compleja.\n",
        "\n",
        "Es posible que para obtener resultados más consistentes y de mayor calidad, sea necesario utilizar algoritmos más avanzados que tengan en cuenta la complejidad y la variabilidad de los datos."
      ],
      "metadata": {
        "id": "rzzmUIFWeBOj"
      }
    },
    {
      "cell_type": "markdown",
      "source": [
        "## <font color='blue'>9)  Suponga ahora que Ud. debe realizar este ajuste para una empresa que le ha proporcionado los datos, sin distinción entre training y test. ¿Cúal sería el mejor modelo que les propondría, y qué error  $E_{out}$ les diría que tiene? Justifique todas las decisiones. 0.5 puntos. "
      ],
      "metadata": {
        "id": "E_x9IPmEg_RX"
      }
    },
    {
      "cell_type": "markdown",
      "source": [
        "Basándonos en el enfoque seguido en esta práctica, se ha realizado la selección del modelo considerado más apropiado. Para evaluar la capacidad de generalización de dicho modelo, se ha empleado la aproximación de Eout utilizando Etest, lo cual brinda una medida confiable. A pesar de que esta aproximación implica una reducción en el tamaño del conjunto de entrenamiento, no ha supuesto un problema debido a la abundancia de ejemplos disponibles.\n",
        "\n",
        "Asimismo, se han considerado otras alternativas para obtener Eout, como emplear el conjunto de datos de entrenamiento (Ein) o calcular un promedio de los errores de validación (Ecv). Sin embargo, estas opciones no se acercan tanto a la obtención de Eout a partir de un conjunto de prueba lo suficientemente amplio. Estas prácticas suelen emplearse cuando los datos son escasos o valiosos, y no es factible destinar una parte del conjunto de entrenamiento para pruebas. En nuestro caso, esto no ha sido necesario.\n",
        "\n",
        "Por otro lado, la validación cruzada nos permite probar y evaluar la calidad del modelo seleccionado, lo que resulta conveniente en la mayoría de los casos. Solo se puede obviar en situaciones en las que los tiempos de ejecución sean extremadamente largos, como horas o días, especialmente si los conjuntos de datos son lo suficientemente grandes como para obtener resultados confiables. A esto se le conoce como \"hold-out\".\n",
        "\n",
        "La elección de cómo realizar la validación generalmente se reduce a seleccionar el número de particiones a utilizar. En general, la validación cruzada de 5 particiones (5-CV) es comúnmente utilizada debido a su fiabilidad demostrada a lo largo del tiempo y la experiencia acumulada. No obstante, siempre depende del conjunto de datos en cuestión, por lo que es necesario tener en cuenta algunos aspectos:\n",
        "\n",
        "+ Menos particiones implican una menor seguridad obtenida y validaciones con conjuntos más pequeños. Por lo tanto, en conjuntos de datos relativamente grandes y costosos en términos de tiempo, a veces se opta por utilizar un 3-CV o incluso un 1-CV.\n",
        "\n",
        "+ Por otro lado, utilizar más particiones aumenta la seguridad de que la calidad del modelo sea real y no simplemente producto de la aleatoriedad. Sin embargo, también se incrementa el tiempo de ejecución debido al mayor número de validaciones requeridas. Este enfoque suele emplearse cuando los conjuntos de datos son pequeños o cuando no se va a utilizar un conjunto de prueba, por lo que el cálculo de Eout se basará en Ecv. En casos extremos, se puede utilizar la técnica de \"leave-one-out\", donde se realizan tantas particiones como datos disponibles, entrenando en cada iteración con casi todos los datos y validando con un solo dato. Esta técnica se utiliza cuando hay muy pocos datos y no se puede destinar una partición para el conjunto de prueba, y se requiere la máxima precisión posible.\n",
        "\n",
        "Dado que no tenemos restricciones de tiempo y disponemos de una cantidad generosa de ejemplos, no es necesario disminuir ni aumentar el número de particiones. La validación cruzada de 5 particiones será una elección adecuada en nuestro caso.\n",
        "\n",
        "Después de seguir el proceso en esta práctica, se ha obtenido una solución con un Eout de 25.13% en términos de Misclassification rate. Sin embargo, es importante mencionar que también se debe tener en cuenta la puntuación, sobre todo la sensitivity, que son los 1's bien clasificados.\n",
        "\n",
        "Dado que nuestro modelo usa una base de datos bastante desbalanceada, la clave sería ajustar el modelo de forma que se ajustara a las necesidades de la empresa. A lo mejor, es más catastrófico predecir los 1's mal que los 0's, o hay una cierta tregua en este aspecto."
      ],
      "metadata": {
        "id": "wmVxwmN0ihzJ"
      }
    },
    {
      "cell_type": "markdown",
      "source": [
        "## REFLEXIONES FINALES"
      ],
      "metadata": {
        "id": "qkH8HPSFgdaC"
      }
    },
    {
      "cell_type": "markdown",
      "source": [
        "A modo de reflexión, se puede observar que el proceso de selección, ajuste y entrenamiento de un modelo no es en absoluto sencillo. Es un proceso complejo y extenso que, además, no garantiza resultados favorables.\n",
        "\n",
        "Existen numerosos aspectos a considerar y decisiones que tomar, lo cual hace prácticamente imposible elegir las mejores opciones. No es factible probar todas las opciones disponibles (por ejemplo, las infinitas transformaciones de datos posibles) y, aunque tengamos conocimientos, muchas decisiones no pueden basarse en evidencia empírica. Por lo tanto, debemos esforzarnos en obtener los mejores resultados posible, teniendo en cuenta el tiempo, las pruebas, el conocimiento, las heurísticas y, a veces, incluso la intuición.\n",
        "\n",
        "Si tuviera más tiempo, sería recomendable realizar más mejoras y pruebas, como:\n",
        "+ Tratar los valores atípicos (outliers).\n",
        "\n",
        "+ Experimentar con las transformaciones hechas (normalizar de otra manera, hacer one-hot a todas las categóricas, etc).\n",
        "\n",
        "+ Probar con diferentes parámetros o implementaciones para la regresión logística, especialmente variando los pesos de las clases.\n",
        "\n",
        "+ Intentar crear un conjunto de datos sin desequilibrio de clases y entrenar el modelo con ese conjunto.\n",
        "\n",
        "+ Por último, también se debería haber explorado la modificación del parámetro \"Average\" en SGDRegressor, ya que este valor se relaciona con el tamaño del mini-lote. Se recomienda encarecidamente probar diferentes valores de este parámetro en GridSearch o posteriormente.\n",
        "\n",
        "+ Subir el número máximo de iteraciones, ya que han saltado numerosos warnings con respecto a esto.\n",
        "\n",
        "En última instancia, este problema se caracteriza por su complejidad infinita y la ausencia de una única forma correcta de abordarlo."
      ],
      "metadata": {
        "id": "r27csU0AkClu"
      }
    }
  ]
}